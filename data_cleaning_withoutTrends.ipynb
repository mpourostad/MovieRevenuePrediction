{
 "cells": [
  {
   "cell_type": "code",
   "execution_count": 96,
   "id": "345dcd4b-627a-48f7-a557-1b323e4b77e2",
   "metadata": {},
   "outputs": [],
   "source": [
    "import pandas as pd\n",
    "import numpy as np\n",
    "imdb_df = pd.read_csv(\"./MovieData/movie_metadata 2.csv\")\n",
    "# imdb_df = pd.read_csv(\"./imdb_dataset_with_google_trends.csv\")"
   ]
  },
  {
   "cell_type": "code",
   "execution_count": 97,
   "id": "d9ea5841-8ef7-40e2-8dba-792043f33044",
   "metadata": {},
   "outputs": [
    {
     "data": {
      "text/html": [
       "<div>\n",
       "<style scoped>\n",
       "    .dataframe tbody tr th:only-of-type {\n",
       "        vertical-align: middle;\n",
       "    }\n",
       "\n",
       "    .dataframe tbody tr th {\n",
       "        vertical-align: top;\n",
       "    }\n",
       "\n",
       "    .dataframe thead th {\n",
       "        text-align: right;\n",
       "    }\n",
       "</style>\n",
       "<table border=\"1\" class=\"dataframe\">\n",
       "  <thead>\n",
       "    <tr style=\"text-align: right;\">\n",
       "      <th></th>\n",
       "      <th>color</th>\n",
       "      <th>director_name</th>\n",
       "      <th>num_critic_for_reviews</th>\n",
       "      <th>duration</th>\n",
       "      <th>director_facebook_likes</th>\n",
       "      <th>actor_3_facebook_likes</th>\n",
       "      <th>actor_2_name</th>\n",
       "      <th>actor_1_facebook_likes</th>\n",
       "      <th>gross</th>\n",
       "      <th>genres</th>\n",
       "      <th>...</th>\n",
       "      <th>num_user_for_reviews</th>\n",
       "      <th>language</th>\n",
       "      <th>country</th>\n",
       "      <th>content_rating</th>\n",
       "      <th>budget</th>\n",
       "      <th>title_year</th>\n",
       "      <th>actor_2_facebook_likes</th>\n",
       "      <th>imdb_score</th>\n",
       "      <th>aspect_ratio</th>\n",
       "      <th>movie_facebook_likes</th>\n",
       "    </tr>\n",
       "  </thead>\n",
       "  <tbody>\n",
       "    <tr>\n",
       "      <th>0</th>\n",
       "      <td>Color</td>\n",
       "      <td>James Cameron</td>\n",
       "      <td>723.0</td>\n",
       "      <td>178.0</td>\n",
       "      <td>0.0</td>\n",
       "      <td>855.0</td>\n",
       "      <td>Joel David Moore</td>\n",
       "      <td>1000.0</td>\n",
       "      <td>760505847.0</td>\n",
       "      <td>Action|Adventure|Fantasy|Sci-Fi</td>\n",
       "      <td>...</td>\n",
       "      <td>3054.0</td>\n",
       "      <td>English</td>\n",
       "      <td>USA</td>\n",
       "      <td>PG-13</td>\n",
       "      <td>237000000.0</td>\n",
       "      <td>2009.0</td>\n",
       "      <td>936.0</td>\n",
       "      <td>7.9</td>\n",
       "      <td>1.78</td>\n",
       "      <td>33000</td>\n",
       "    </tr>\n",
       "    <tr>\n",
       "      <th>1</th>\n",
       "      <td>Color</td>\n",
       "      <td>Gore Verbinski</td>\n",
       "      <td>302.0</td>\n",
       "      <td>169.0</td>\n",
       "      <td>563.0</td>\n",
       "      <td>1000.0</td>\n",
       "      <td>Orlando Bloom</td>\n",
       "      <td>40000.0</td>\n",
       "      <td>309404152.0</td>\n",
       "      <td>Action|Adventure|Fantasy</td>\n",
       "      <td>...</td>\n",
       "      <td>1238.0</td>\n",
       "      <td>English</td>\n",
       "      <td>USA</td>\n",
       "      <td>PG-13</td>\n",
       "      <td>300000000.0</td>\n",
       "      <td>2007.0</td>\n",
       "      <td>5000.0</td>\n",
       "      <td>7.1</td>\n",
       "      <td>2.35</td>\n",
       "      <td>0</td>\n",
       "    </tr>\n",
       "    <tr>\n",
       "      <th>2</th>\n",
       "      <td>Color</td>\n",
       "      <td>Sam Mendes</td>\n",
       "      <td>602.0</td>\n",
       "      <td>148.0</td>\n",
       "      <td>0.0</td>\n",
       "      <td>161.0</td>\n",
       "      <td>Rory Kinnear</td>\n",
       "      <td>11000.0</td>\n",
       "      <td>200074175.0</td>\n",
       "      <td>Action|Adventure|Thriller</td>\n",
       "      <td>...</td>\n",
       "      <td>994.0</td>\n",
       "      <td>English</td>\n",
       "      <td>UK</td>\n",
       "      <td>PG-13</td>\n",
       "      <td>245000000.0</td>\n",
       "      <td>2015.0</td>\n",
       "      <td>393.0</td>\n",
       "      <td>6.8</td>\n",
       "      <td>2.35</td>\n",
       "      <td>85000</td>\n",
       "    </tr>\n",
       "    <tr>\n",
       "      <th>3</th>\n",
       "      <td>Color</td>\n",
       "      <td>Christopher Nolan</td>\n",
       "      <td>813.0</td>\n",
       "      <td>164.0</td>\n",
       "      <td>22000.0</td>\n",
       "      <td>23000.0</td>\n",
       "      <td>Christian Bale</td>\n",
       "      <td>27000.0</td>\n",
       "      <td>448130642.0</td>\n",
       "      <td>Action|Thriller</td>\n",
       "      <td>...</td>\n",
       "      <td>2701.0</td>\n",
       "      <td>English</td>\n",
       "      <td>USA</td>\n",
       "      <td>PG-13</td>\n",
       "      <td>250000000.0</td>\n",
       "      <td>2012.0</td>\n",
       "      <td>23000.0</td>\n",
       "      <td>8.5</td>\n",
       "      <td>2.35</td>\n",
       "      <td>164000</td>\n",
       "    </tr>\n",
       "    <tr>\n",
       "      <th>4</th>\n",
       "      <td>NaN</td>\n",
       "      <td>Doug Walker</td>\n",
       "      <td>NaN</td>\n",
       "      <td>NaN</td>\n",
       "      <td>131.0</td>\n",
       "      <td>NaN</td>\n",
       "      <td>Rob Walker</td>\n",
       "      <td>131.0</td>\n",
       "      <td>NaN</td>\n",
       "      <td>Documentary</td>\n",
       "      <td>...</td>\n",
       "      <td>NaN</td>\n",
       "      <td>NaN</td>\n",
       "      <td>NaN</td>\n",
       "      <td>NaN</td>\n",
       "      <td>NaN</td>\n",
       "      <td>NaN</td>\n",
       "      <td>12.0</td>\n",
       "      <td>7.1</td>\n",
       "      <td>NaN</td>\n",
       "      <td>0</td>\n",
       "    </tr>\n",
       "  </tbody>\n",
       "</table>\n",
       "<p>5 rows × 28 columns</p>\n",
       "</div>"
      ],
      "text/plain": [
       "   color      director_name  num_critic_for_reviews  duration  \\\n",
       "0  Color      James Cameron                   723.0     178.0   \n",
       "1  Color     Gore Verbinski                   302.0     169.0   \n",
       "2  Color         Sam Mendes                   602.0     148.0   \n",
       "3  Color  Christopher Nolan                   813.0     164.0   \n",
       "4    NaN        Doug Walker                     NaN       NaN   \n",
       "\n",
       "   director_facebook_likes  actor_3_facebook_likes      actor_2_name  \\\n",
       "0                      0.0                   855.0  Joel David Moore   \n",
       "1                    563.0                  1000.0     Orlando Bloom   \n",
       "2                      0.0                   161.0      Rory Kinnear   \n",
       "3                  22000.0                 23000.0    Christian Bale   \n",
       "4                    131.0                     NaN        Rob Walker   \n",
       "\n",
       "   actor_1_facebook_likes        gross                           genres  ...  \\\n",
       "0                  1000.0  760505847.0  Action|Adventure|Fantasy|Sci-Fi  ...   \n",
       "1                 40000.0  309404152.0         Action|Adventure|Fantasy  ...   \n",
       "2                 11000.0  200074175.0        Action|Adventure|Thriller  ...   \n",
       "3                 27000.0  448130642.0                  Action|Thriller  ...   \n",
       "4                   131.0          NaN                      Documentary  ...   \n",
       "\n",
       "  num_user_for_reviews language  country  content_rating       budget  \\\n",
       "0               3054.0  English      USA           PG-13  237000000.0   \n",
       "1               1238.0  English      USA           PG-13  300000000.0   \n",
       "2                994.0  English       UK           PG-13  245000000.0   \n",
       "3               2701.0  English      USA           PG-13  250000000.0   \n",
       "4                  NaN      NaN      NaN             NaN          NaN   \n",
       "\n",
       "   title_year actor_2_facebook_likes imdb_score  aspect_ratio  \\\n",
       "0      2009.0                  936.0        7.9          1.78   \n",
       "1      2007.0                 5000.0        7.1          2.35   \n",
       "2      2015.0                  393.0        6.8          2.35   \n",
       "3      2012.0                23000.0        8.5          2.35   \n",
       "4         NaN                   12.0        7.1           NaN   \n",
       "\n",
       "  movie_facebook_likes  \n",
       "0                33000  \n",
       "1                    0  \n",
       "2                85000  \n",
       "3               164000  \n",
       "4                    0  \n",
       "\n",
       "[5 rows x 28 columns]"
      ]
     },
     "execution_count": 97,
     "metadata": {},
     "output_type": "execute_result"
    }
   ],
   "source": [
    "imdb_df.head()"
   ]
  },
  {
   "cell_type": "code",
   "execution_count": 98,
   "id": "9fe2e896-1557-437a-9da4-e2a74f45681c",
   "metadata": {},
   "outputs": [
    {
     "data": {
      "text/plain": [
       "Index(['color', 'director_name', 'num_critic_for_reviews', 'duration',\n",
       "       'director_facebook_likes', 'actor_3_facebook_likes', 'actor_2_name',\n",
       "       'actor_1_facebook_likes', 'gross', 'genres', 'actor_1_name',\n",
       "       'movie_title', 'num_voted_users', 'cast_total_facebook_likes',\n",
       "       'actor_3_name', 'facenumber_in_poster', 'plot_keywords',\n",
       "       'movie_imdb_link', 'num_user_for_reviews', 'language', 'country',\n",
       "       'content_rating', 'budget', 'title_year', 'actor_2_facebook_likes',\n",
       "       'imdb_score', 'aspect_ratio', 'movie_facebook_likes'],\n",
       "      dtype='object')"
      ]
     },
     "execution_count": 98,
     "metadata": {},
     "output_type": "execute_result"
    }
   ],
   "source": [
    "imdb_df.keys()"
   ]
  },
  {
   "cell_type": "code",
   "execution_count": 99,
   "id": "17af3f3e-3370-4729-ad43-e00e6f5f98d5",
   "metadata": {},
   "outputs": [
    {
     "data": {
      "text/plain": [
       "2016.0"
      ]
     },
     "execution_count": 99,
     "metadata": {},
     "output_type": "execute_result"
    }
   ],
   "source": [
    "imdb_df['title_year'].max()"
   ]
  },
  {
   "cell_type": "code",
   "execution_count": 100,
   "id": "860ada49-6ae0-4760-949a-71f5867047ce",
   "metadata": {},
   "outputs": [],
   "source": [
    "df_movie_imdb_link = imdb_df['movie_imdb_link']"
   ]
  },
  {
   "cell_type": "code",
   "execution_count": 101,
   "id": "b62f5580-5e30-4613-9fba-f6b259c7961a",
   "metadata": {},
   "outputs": [],
   "source": [
    "movi_list = df_movie_imdb_link.to_list()"
   ]
  },
  {
   "cell_type": "code",
   "execution_count": 102,
   "id": "d383f583-a961-4b08-8d41-a6f91977a1c9",
   "metadata": {
    "tags": []
   },
   "outputs": [
    {
     "data": {
      "text/plain": [
       "0       http://www.imdb.com/title/tt0499549/?ref_=fn_t...\n",
       "1       http://www.imdb.com/title/tt0449088/?ref_=fn_t...\n",
       "2       http://www.imdb.com/title/tt2379713/?ref_=fn_t...\n",
       "3       http://www.imdb.com/title/tt1345836/?ref_=fn_t...\n",
       "4       http://www.imdb.com/title/tt5289954/?ref_=fn_t...\n",
       "                              ...                        \n",
       "5038    http://www.imdb.com/title/tt3000844/?ref_=fn_t...\n",
       "5039    http://www.imdb.com/title/tt2071645/?ref_=fn_t...\n",
       "5040    http://www.imdb.com/title/tt2107644/?ref_=fn_t...\n",
       "5041    http://www.imdb.com/title/tt2070597/?ref_=fn_t...\n",
       "5042    http://www.imdb.com/title/tt0378407/?ref_=fn_t...\n",
       "Name: movie_imdb_link, Length: 5043, dtype: object"
      ]
     },
     "execution_count": 102,
     "metadata": {},
     "output_type": "execute_result"
    }
   ],
   "source": [
    "df_movie_imdb_link"
   ]
  },
  {
   "cell_type": "code",
   "execution_count": 103,
   "id": "ee08b82b-0f27-4015-afd3-30ce7993aa57",
   "metadata": {
    "tags": []
   },
   "outputs": [],
   "source": [
    "box_office = pd.read_csv(\"./MovieData/boxofficemojo_dataset/Mojo_budget_data.csv\")"
   ]
  },
  {
   "cell_type": "code",
   "execution_count": 104,
   "id": "030dc2f9-519a-4553-9af7-1123b9ee27e6",
   "metadata": {},
   "outputs": [
    {
     "data": {
      "text/plain": [
       "Index(['movie_id', 'movie_title', 'movie_year', 'director', 'writer',\n",
       "       'producer', 'composer', 'cinematographer', 'main_actor_1',\n",
       "       'main_actor_2', 'main_actor_3', 'main_actor_4', 'budget', 'domestic',\n",
       "       'international', 'worldwide', 'mpaa', 'run_time', 'genre_1', 'genre_2',\n",
       "       'genre_3', 'genre_4', 'link'],\n",
       "      dtype='object')"
      ]
     },
     "execution_count": 104,
     "metadata": {},
     "output_type": "execute_result"
    }
   ],
   "source": [
    "box_office.keys()"
   ]
  },
  {
   "cell_type": "code",
   "execution_count": 105,
   "id": "0995e9c5-4bef-4ddc-9890-8ca2962b84df",
   "metadata": {},
   "outputs": [],
   "source": [
    "imdb_df[\"movie_id\"] = imdb_df.movie_imdb_link.str[26:35]\n"
   ]
  },
  {
   "cell_type": "code",
   "execution_count": 106,
   "id": "499371a2-5c9c-4bd9-99a9-4363a5321c2f",
   "metadata": {},
   "outputs": [
    {
     "data": {
      "text/plain": [
       "0    tt0499549\n",
       "1    tt0449088\n",
       "2    tt2379713\n",
       "3    tt1345836\n",
       "4    tt5289954\n",
       "Name: movie_id, dtype: object"
      ]
     },
     "execution_count": 106,
     "metadata": {},
     "output_type": "execute_result"
    }
   ],
   "source": [
    "imdb_df[\"movie_id\"].head()        "
   ]
  },
  {
   "cell_type": "code",
   "execution_count": 107,
   "id": "c1cc3368-e6fb-46b3-a999-3d9a5db83923",
   "metadata": {
    "tags": []
   },
   "outputs": [],
   "source": [
    "merged_df = pd.merge(imdb_df, box_office, on='movie_id')\n",
    "\n",
    "mask = merged_df.country.str.contains('USA')\n",
    "merged_df = merged_df.drop(index=merged_df[~mask].index)\n",
    "\n",
    "merged_df = merged_df.drop(['movie_id', 'movie_title_x', 'num_user_for_reviews', 'plot_keywords'], axis=1)\n",
    "merged_df = merged_df.drop(['domestic', 'international'], axis=1)\n",
    "merged_df = merged_df.drop(['gross', 'language'], axis=1)\n",
    "merged_df = merged_df.drop(['imdb_score', 'color'], axis=1)\n",
    "merged_df = merged_df.drop(['main_actor_2', 'main_actor_3', 'main_actor_1', 'facenumber_in_poster'], axis=1)\n",
    "# removing duplicates and urelated attributes\n",
    "merged_df = merged_df.drop(['run_time', 'budget_y', 'director_name', 'title_year', 'link', 'movie_imdb_link', 'genres', 'num_voted_users', 'movie_title_y', 'num_critic_for_reviews', 'content_rating', 'country', 'aspect_ratio'], axis=1)\n",
    "# merged_df.sort_values('movie_year')\n",
    "# merged_df = merged_df.drop(['genre_4', 'genre_3'], axis=1)"
   ]
  },
  {
   "cell_type": "code",
   "execution_count": 135,
   "id": "0aa56bcc-6ec0-4915-88ed-8d7aece96bac",
   "metadata": {},
   "outputs": [
    {
     "data": {
      "text/plain": [
       "1648"
      ]
     },
     "execution_count": 135,
     "metadata": {},
     "output_type": "execute_result"
    }
   ],
   "source": [
    "# merged_df.keys()\n",
    "len(merged_df)"
   ]
  },
  {
   "cell_type": "code",
   "execution_count": 109,
   "id": "d1a0d368-d998-484b-a287-dfccd004e9bb",
   "metadata": {
    "tags": []
   },
   "outputs": [],
   "source": [
    "inflation = 1.021\n",
    "for index, row in merged_df.iterrows():\n",
    "    power = 2016 - row['movie_year']\n",
    "    merged_df.at[index, 'budget_x'] = row['budget_x'] * (inflation ** power)\n",
    "    merged_df.at[index, 'worldwide'] = row['worldwide'] * (inflation ** power)\n",
    "merged_df = merged_df.drop('movie_year', axis=1)"
   ]
  },
  {
   "cell_type": "code",
   "execution_count": 110,
   "id": "3b013ffa-77ee-4f99-9ae8-ed6b845a6a4a",
   "metadata": {},
   "outputs": [],
   "source": [
    "# merged_df[['budget_x', 'movie_year']].head()"
   ]
  },
  {
   "cell_type": "code",
   "execution_count": 111,
   "id": "8b6748ec-50f2-4e92-8eb5-9507fa02ac13",
   "metadata": {},
   "outputs": [],
   "source": [
    "genre_1 = merged_df['genre_1'].unique()\n",
    "genre_2 = merged_df['genre_2'].unique()\n",
    "genre_3 = merged_df['genre_3'].unique()\n",
    "genre_4 = merged_df['genre_4'].unique()\n",
    "\n",
    "\n",
    "genres = np.concatenate((genre_1, genre_2, genre_3, genre_4), axis=0)\n",
    "\n",
    "genres = genres[~pd.isna(genres)]\n",
    "genres = np.unique(genres)\n",
    "\n",
    "for g in genres:\n",
    "    merged_df.insert(len(merged_df.columns), g, 0)\n",
    "\n",
    "for item, row in merged_df.iterrows():\n",
    "    for genre in genres:\n",
    "        if genre == row['genre_1']:\n",
    "            merged_df.at[item, genre] = 1\n",
    "        if genre == row['genre_2']:\n",
    "            merged_df.at[item, genre] = 1\n",
    "        if genre == row['genre_3']:\n",
    "            merged_df.at[item, genre] = 1\n",
    "        if genre == row['genre_4']:\n",
    "            merged_df.at[item, genre] = 1\n",
    "merged_df = merged_df.drop(['genre_2', 'genre_1', 'genre_3', 'genre_4'], axis=1)"
   ]
  },
  {
   "cell_type": "code",
   "execution_count": 112,
   "id": "c1b7c8fc-768a-440a-bf3a-dd1f1640a982",
   "metadata": {
    "tags": []
   },
   "outputs": [],
   "source": [
    "# actor_1 = merged_df['actor_1_name'].unique()\n",
    "# actor_2 = merged_df['actor_2_name'].unique()\n",
    "# actor_3 = merged_df['actor_3_name'].unique()\n",
    "# actor_4 = merged_df['main_actor_4'].unique()\n",
    "\n",
    "\n",
    "# actors = np.concatenate((actor_1, actor_2, actor_3, actor_4), axis=0)\n",
    "\n",
    "# actors = actors[~pd.isna(actors)]\n",
    "# actors = np.unique(actors)\n",
    "\n",
    "# for a in actors:\n",
    "#     merged_df.insert(len(merged_df.columns), a, 0)\n",
    "\n",
    "# for item, row in merged_df.iterrows():\n",
    "#     for actor in actors:\n",
    "#         if actor == row['actor_1']:\n",
    "#             merged_df.at[item, genre] = 1\n",
    "#         if actor == row['actor_2']:\n",
    "#             merged_df.at[item, genre] = 1\n",
    "#         if actor == row['actor_3']:\n",
    "#             merged_df.at[item, genre] = 1\n",
    "#         if actor == row['actor_4']:\n",
    "#             merged_df.at[item, genre] = 1\n",
    "# merged_df = merged_df.drop(['actor_1_name', 'actor_2_name', 'actor_3_name', 'main_actor_4'], axis=1)"
   ]
  },
  {
   "cell_type": "code",
   "execution_count": 113,
   "id": "f8b364f7-914a-447a-b2e0-d9fc0bf905b6",
   "metadata": {},
   "outputs": [
    {
     "data": {
      "text/html": [
       "<div>\n",
       "<style scoped>\n",
       "    .dataframe tbody tr th:only-of-type {\n",
       "        vertical-align: middle;\n",
       "    }\n",
       "\n",
       "    .dataframe tbody tr th {\n",
       "        vertical-align: top;\n",
       "    }\n",
       "\n",
       "    .dataframe thead th {\n",
       "        text-align: right;\n",
       "    }\n",
       "</style>\n",
       "<table border=\"1\" class=\"dataframe\">\n",
       "  <thead>\n",
       "    <tr style=\"text-align: right;\">\n",
       "      <th></th>\n",
       "      <th>duration</th>\n",
       "      <th>director_facebook_likes</th>\n",
       "      <th>actor_3_facebook_likes</th>\n",
       "      <th>actor_2_name</th>\n",
       "      <th>actor_1_facebook_likes</th>\n",
       "      <th>actor_1_name</th>\n",
       "      <th>cast_total_facebook_likes</th>\n",
       "      <th>actor_3_name</th>\n",
       "      <th>budget_x</th>\n",
       "      <th>actor_2_facebook_likes</th>\n",
       "      <th>...</th>\n",
       "      <th>Music</th>\n",
       "      <th>Musical</th>\n",
       "      <th>Mystery</th>\n",
       "      <th>News</th>\n",
       "      <th>Romance</th>\n",
       "      <th>Sci-Fi</th>\n",
       "      <th>Sport</th>\n",
       "      <th>Thriller</th>\n",
       "      <th>War</th>\n",
       "      <th>Western</th>\n",
       "    </tr>\n",
       "  </thead>\n",
       "  <tbody>\n",
       "    <tr>\n",
       "      <th>0</th>\n",
       "      <td>178.0</td>\n",
       "      <td>0.0</td>\n",
       "      <td>855.0</td>\n",
       "      <td>Joel David Moore</td>\n",
       "      <td>1000.0</td>\n",
       "      <td>CCH Pounder</td>\n",
       "      <td>4834</td>\n",
       "      <td>Wes Studi</td>\n",
       "      <td>2.741123e+08</td>\n",
       "      <td>936.0</td>\n",
       "      <td>...</td>\n",
       "      <td>0</td>\n",
       "      <td>0</td>\n",
       "      <td>0</td>\n",
       "      <td>0</td>\n",
       "      <td>0</td>\n",
       "      <td>1</td>\n",
       "      <td>0</td>\n",
       "      <td>0</td>\n",
       "      <td>0</td>\n",
       "      <td>0</td>\n",
       "    </tr>\n",
       "    <tr>\n",
       "      <th>1</th>\n",
       "      <td>169.0</td>\n",
       "      <td>563.0</td>\n",
       "      <td>1000.0</td>\n",
       "      <td>Orlando Bloom</td>\n",
       "      <td>40000.0</td>\n",
       "      <td>Johnny Depp</td>\n",
       "      <td>48350</td>\n",
       "      <td>Jack Davenport</td>\n",
       "      <td>3.617037e+08</td>\n",
       "      <td>5000.0</td>\n",
       "      <td>...</td>\n",
       "      <td>0</td>\n",
       "      <td>0</td>\n",
       "      <td>0</td>\n",
       "      <td>0</td>\n",
       "      <td>0</td>\n",
       "      <td>0</td>\n",
       "      <td>0</td>\n",
       "      <td>0</td>\n",
       "      <td>0</td>\n",
       "      <td>0</td>\n",
       "    </tr>\n",
       "    <tr>\n",
       "      <th>3</th>\n",
       "      <td>164.0</td>\n",
       "      <td>22000.0</td>\n",
       "      <td>23000.0</td>\n",
       "      <td>Christian Bale</td>\n",
       "      <td>27000.0</td>\n",
       "      <td>Tom Hardy</td>\n",
       "      <td>106759</td>\n",
       "      <td>Joseph Gordon-Levitt</td>\n",
       "      <td>2.716708e+08</td>\n",
       "      <td>23000.0</td>\n",
       "      <td>...</td>\n",
       "      <td>0</td>\n",
       "      <td>0</td>\n",
       "      <td>0</td>\n",
       "      <td>0</td>\n",
       "      <td>0</td>\n",
       "      <td>0</td>\n",
       "      <td>0</td>\n",
       "      <td>0</td>\n",
       "      <td>0</td>\n",
       "      <td>0</td>\n",
       "    </tr>\n",
       "    <tr>\n",
       "      <th>4</th>\n",
       "      <td>132.0</td>\n",
       "      <td>475.0</td>\n",
       "      <td>530.0</td>\n",
       "      <td>Samantha Morton</td>\n",
       "      <td>640.0</td>\n",
       "      <td>Daryl Sabara</td>\n",
       "      <td>1873</td>\n",
       "      <td>Polly Walker</td>\n",
       "      <td>2.865584e+08</td>\n",
       "      <td>632.0</td>\n",
       "      <td>...</td>\n",
       "      <td>0</td>\n",
       "      <td>0</td>\n",
       "      <td>0</td>\n",
       "      <td>0</td>\n",
       "      <td>0</td>\n",
       "      <td>1</td>\n",
       "      <td>0</td>\n",
       "      <td>0</td>\n",
       "      <td>0</td>\n",
       "      <td>0</td>\n",
       "    </tr>\n",
       "    <tr>\n",
       "      <th>5</th>\n",
       "      <td>156.0</td>\n",
       "      <td>0.0</td>\n",
       "      <td>4000.0</td>\n",
       "      <td>James Franco</td>\n",
       "      <td>24000.0</td>\n",
       "      <td>J.K. Simmons</td>\n",
       "      <td>46055</td>\n",
       "      <td>Kirsten Dunst</td>\n",
       "      <td>3.110652e+08</td>\n",
       "      <td>11000.0</td>\n",
       "      <td>...</td>\n",
       "      <td>0</td>\n",
       "      <td>0</td>\n",
       "      <td>0</td>\n",
       "      <td>0</td>\n",
       "      <td>0</td>\n",
       "      <td>1</td>\n",
       "      <td>0</td>\n",
       "      <td>0</td>\n",
       "      <td>0</td>\n",
       "      <td>0</td>\n",
       "    </tr>\n",
       "  </tbody>\n",
       "</table>\n",
       "<p>5 rows × 41 columns</p>\n",
       "</div>"
      ],
      "text/plain": [
       "   duration  director_facebook_likes  actor_3_facebook_likes  \\\n",
       "0     178.0                      0.0                   855.0   \n",
       "1     169.0                    563.0                  1000.0   \n",
       "3     164.0                  22000.0                 23000.0   \n",
       "4     132.0                    475.0                   530.0   \n",
       "5     156.0                      0.0                  4000.0   \n",
       "\n",
       "       actor_2_name  actor_1_facebook_likes  actor_1_name  \\\n",
       "0  Joel David Moore                  1000.0   CCH Pounder   \n",
       "1     Orlando Bloom                 40000.0   Johnny Depp   \n",
       "3    Christian Bale                 27000.0     Tom Hardy   \n",
       "4   Samantha Morton                   640.0  Daryl Sabara   \n",
       "5      James Franco                 24000.0  J.K. Simmons   \n",
       "\n",
       "   cast_total_facebook_likes          actor_3_name      budget_x  \\\n",
       "0                       4834             Wes Studi  2.741123e+08   \n",
       "1                      48350        Jack Davenport  3.617037e+08   \n",
       "3                     106759  Joseph Gordon-Levitt  2.716708e+08   \n",
       "4                       1873          Polly Walker  2.865584e+08   \n",
       "5                      46055         Kirsten Dunst  3.110652e+08   \n",
       "\n",
       "   actor_2_facebook_likes  ...  Music Musical Mystery News Romance Sci-Fi  \\\n",
       "0                   936.0  ...      0       0       0    0       0      1   \n",
       "1                  5000.0  ...      0       0       0    0       0      0   \n",
       "3                 23000.0  ...      0       0       0    0       0      0   \n",
       "4                   632.0  ...      0       0       0    0       0      1   \n",
       "5                 11000.0  ...      0       0       0    0       0      1   \n",
       "\n",
       "  Sport  Thriller War  Western  \n",
       "0     0         0   0        0  \n",
       "1     0         0   0        0  \n",
       "3     0         0   0        0  \n",
       "4     0         0   0        0  \n",
       "5     0         0   0        0  \n",
       "\n",
       "[5 rows x 41 columns]"
      ]
     },
     "execution_count": 113,
     "metadata": {},
     "output_type": "execute_result"
    }
   ],
   "source": [
    "merged_df.head()"
   ]
  },
  {
   "cell_type": "code",
   "execution_count": 114,
   "id": "80c4019d-d369-46cf-b733-03659a280fee",
   "metadata": {},
   "outputs": [],
   "source": [
    "def normalize(df, feature):\n",
    "    print(df[feature].mean())\n",
    "    df[feature] = (df[feature]-df[feature].mean())/df[feature].std()\n",
    "    # retur"
   ]
  },
  {
   "cell_type": "code",
   "execution_count": 115,
   "id": "54c337af-21dd-4e0b-8dab-369cdcdb8ebc",
   "metadata": {},
   "outputs": [
    {
     "name": "stdout",
     "output_type": "stream",
     "text": [
      "14561.372537313433\n",
      "9517.976119402985\n",
      "63362508.111601196\n",
      "2719.4805970149255\n",
      "13765.239402985075\n",
      "872.2531343283582\n",
      "1072.7671641791044\n",
      "109.71283582089552\n"
     ]
    }
   ],
   "source": [
    "# n df[feature].mean(), df[feature].std()\n",
    "normalize(merged_df, 'cast_total_facebook_likes')\n",
    "normalize(merged_df, 'actor_1_facebook_likes')\n",
    "normalize(merged_df, 'budget_x')\n",
    "normalize(merged_df, 'actor_2_facebook_likes')\n",
    "normalize(merged_df, 'movie_facebook_likes')\n",
    "normalize(merged_df, 'director_facebook_likes')\n",
    "normalize(merged_df, 'actor_3_facebook_likes')\n",
    "normalize(merged_df, 'duration')\n",
    "# normalize(merged_df, 'movie_year')"
   ]
  },
  {
   "cell_type": "code",
   "execution_count": 116,
   "id": "f54900bb-4ee8-4114-99d9-b13d73c35bb6",
   "metadata": {},
   "outputs": [
    {
     "name": "stdout",
     "output_type": "stream",
     "text": [
      "186238122.62846538\n"
     ]
    }
   ],
   "source": [
    "mean, std = merged_df['worldwide'].mean(), merged_df['worldwide'].std()\n",
    "normalize(merged_df, 'worldwide')"
   ]
  },
  {
   "cell_type": "code",
   "execution_count": 117,
   "id": "cba92e11-b052-42a7-a98d-aa6ad8043c77",
   "metadata": {},
   "outputs": [],
   "source": [
    "# merged_df.dropna(inplace=True)\n",
    "# merged_df['worldwide'] = np.log1p(merged_df['worldwide'])\n",
    "# merged_df['budget_x'] = np.log1p(merged_df['budget_x'])\n",
    "# merged_df = merged_df.drop(['budget_x', 'worldwide'], axis=1)"
   ]
  },
  {
   "cell_type": "code",
   "execution_count": 118,
   "id": "4fceb7c7-8018-475e-ad0a-53375c720e59",
   "metadata": {},
   "outputs": [
    {
     "data": {
      "text/plain": [
       "0    12.343415\n",
       "1     3.946822\n",
       "3     4.012153\n",
       "4     0.497327\n",
       "5     3.623781\n",
       "Name: worldwide, dtype: float64"
      ]
     },
     "execution_count": 118,
     "metadata": {},
     "output_type": "execute_result"
    }
   ],
   "source": [
    "merged_df.head().worldwide"
   ]
  },
  {
   "cell_type": "code",
   "execution_count": 119,
   "id": "a88e752c-51de-4925-bf77-f3742be63219",
   "metadata": {},
   "outputs": [
    {
     "data": {
      "text/html": [
       "<div>\n",
       "<style scoped>\n",
       "    .dataframe tbody tr th:only-of-type {\n",
       "        vertical-align: middle;\n",
       "    }\n",
       "\n",
       "    .dataframe tbody tr th {\n",
       "        vertical-align: top;\n",
       "    }\n",
       "\n",
       "    .dataframe thead th {\n",
       "        text-align: right;\n",
       "    }\n",
       "</style>\n",
       "<table border=\"1\" class=\"dataframe\">\n",
       "  <thead>\n",
       "    <tr style=\"text-align: right;\">\n",
       "      <th></th>\n",
       "      <th>duration</th>\n",
       "      <th>director_facebook_likes</th>\n",
       "      <th>actor_3_facebook_likes</th>\n",
       "      <th>actor_2_name</th>\n",
       "      <th>actor_1_facebook_likes</th>\n",
       "      <th>actor_1_name</th>\n",
       "      <th>cast_total_facebook_likes</th>\n",
       "      <th>actor_3_name</th>\n",
       "      <th>budget_x</th>\n",
       "      <th>actor_2_facebook_likes</th>\n",
       "      <th>...</th>\n",
       "      <th>Music</th>\n",
       "      <th>Musical</th>\n",
       "      <th>Mystery</th>\n",
       "      <th>News</th>\n",
       "      <th>Romance</th>\n",
       "      <th>Sci-Fi</th>\n",
       "      <th>Sport</th>\n",
       "      <th>Thriller</th>\n",
       "      <th>War</th>\n",
       "      <th>Western</th>\n",
       "    </tr>\n",
       "  </thead>\n",
       "  <tbody>\n",
       "    <tr>\n",
       "      <th>0</th>\n",
       "      <td>3.415162</td>\n",
       "      <td>-0.262591</td>\n",
       "      <td>-0.087463</td>\n",
       "      <td>Joel David Moore</td>\n",
       "      <td>-0.438793</td>\n",
       "      <td>CCH Pounder</td>\n",
       "      <td>-0.407342</td>\n",
       "      <td>Wes Studi</td>\n",
       "      <td>3.669535</td>\n",
       "      <td>-0.312258</td>\n",
       "      <td>...</td>\n",
       "      <td>0</td>\n",
       "      <td>0</td>\n",
       "      <td>0</td>\n",
       "      <td>0</td>\n",
       "      <td>0</td>\n",
       "      <td>1</td>\n",
       "      <td>0</td>\n",
       "      <td>0</td>\n",
       "      <td>0</td>\n",
       "      <td>0</td>\n",
       "    </tr>\n",
       "    <tr>\n",
       "      <th>1</th>\n",
       "      <td>2.965056</td>\n",
       "      <td>-0.093100</td>\n",
       "      <td>-0.029226</td>\n",
       "      <td>Orlando Bloom</td>\n",
       "      <td>1.570244</td>\n",
       "      <td>Johnny Depp</td>\n",
       "      <td>1.414928</td>\n",
       "      <td>Jack Davenport</td>\n",
       "      <td>5.194659</td>\n",
       "      <td>0.399282</td>\n",
       "      <td>...</td>\n",
       "      <td>0</td>\n",
       "      <td>0</td>\n",
       "      <td>0</td>\n",
       "      <td>0</td>\n",
       "      <td>0</td>\n",
       "      <td>0</td>\n",
       "      <td>0</td>\n",
       "      <td>0</td>\n",
       "      <td>0</td>\n",
       "      <td>0</td>\n",
       "    </tr>\n",
       "    <tr>\n",
       "      <th>3</th>\n",
       "      <td>2.714997</td>\n",
       "      <td>6.360482</td>\n",
       "      <td>8.806735</td>\n",
       "      <td>Christian Bale</td>\n",
       "      <td>0.900565</td>\n",
       "      <td>Tom Hardy</td>\n",
       "      <td>3.860857</td>\n",
       "      <td>Joseph Gordon-Levitt</td>\n",
       "      <td>3.627024</td>\n",
       "      <td>3.550788</td>\n",
       "      <td>...</td>\n",
       "      <td>0</td>\n",
       "      <td>0</td>\n",
       "      <td>0</td>\n",
       "      <td>0</td>\n",
       "      <td>0</td>\n",
       "      <td>0</td>\n",
       "      <td>0</td>\n",
       "      <td>0</td>\n",
       "      <td>0</td>\n",
       "      <td>0</td>\n",
       "    </tr>\n",
       "    <tr>\n",
       "      <th>4</th>\n",
       "      <td>1.114621</td>\n",
       "      <td>-0.119593</td>\n",
       "      <td>-0.217994</td>\n",
       "      <td>Samantha Morton</td>\n",
       "      <td>-0.457338</td>\n",
       "      <td>Daryl Sabara</td>\n",
       "      <td>-0.531337</td>\n",
       "      <td>Polly Walker</td>\n",
       "      <td>3.886243</td>\n",
       "      <td>-0.365484</td>\n",
       "      <td>...</td>\n",
       "      <td>0</td>\n",
       "      <td>0</td>\n",
       "      <td>0</td>\n",
       "      <td>0</td>\n",
       "      <td>0</td>\n",
       "      <td>1</td>\n",
       "      <td>0</td>\n",
       "      <td>0</td>\n",
       "      <td>0</td>\n",
       "      <td>0</td>\n",
       "    </tr>\n",
       "    <tr>\n",
       "      <th>5</th>\n",
       "      <td>2.314903</td>\n",
       "      <td>-0.262591</td>\n",
       "      <td>1.175678</td>\n",
       "      <td>James Franco</td>\n",
       "      <td>0.746024</td>\n",
       "      <td>J.K. Simmons</td>\n",
       "      <td>1.318823</td>\n",
       "      <td>Kirsten Dunst</td>\n",
       "      <td>4.312951</td>\n",
       "      <td>1.449784</td>\n",
       "      <td>...</td>\n",
       "      <td>0</td>\n",
       "      <td>0</td>\n",
       "      <td>0</td>\n",
       "      <td>0</td>\n",
       "      <td>0</td>\n",
       "      <td>1</td>\n",
       "      <td>0</td>\n",
       "      <td>0</td>\n",
       "      <td>0</td>\n",
       "      <td>0</td>\n",
       "    </tr>\n",
       "  </tbody>\n",
       "</table>\n",
       "<p>5 rows × 41 columns</p>\n",
       "</div>"
      ],
      "text/plain": [
       "   duration  director_facebook_likes  actor_3_facebook_likes  \\\n",
       "0  3.415162                -0.262591               -0.087463   \n",
       "1  2.965056                -0.093100               -0.029226   \n",
       "3  2.714997                 6.360482                8.806735   \n",
       "4  1.114621                -0.119593               -0.217994   \n",
       "5  2.314903                -0.262591                1.175678   \n",
       "\n",
       "       actor_2_name  actor_1_facebook_likes  actor_1_name  \\\n",
       "0  Joel David Moore               -0.438793   CCH Pounder   \n",
       "1     Orlando Bloom                1.570244   Johnny Depp   \n",
       "3    Christian Bale                0.900565     Tom Hardy   \n",
       "4   Samantha Morton               -0.457338  Daryl Sabara   \n",
       "5      James Franco                0.746024  J.K. Simmons   \n",
       "\n",
       "   cast_total_facebook_likes          actor_3_name  budget_x  \\\n",
       "0                  -0.407342             Wes Studi  3.669535   \n",
       "1                   1.414928        Jack Davenport  5.194659   \n",
       "3                   3.860857  Joseph Gordon-Levitt  3.627024   \n",
       "4                  -0.531337          Polly Walker  3.886243   \n",
       "5                   1.318823         Kirsten Dunst  4.312951   \n",
       "\n",
       "   actor_2_facebook_likes  ...  Music Musical Mystery News Romance Sci-Fi  \\\n",
       "0               -0.312258  ...      0       0       0    0       0      1   \n",
       "1                0.399282  ...      0       0       0    0       0      0   \n",
       "3                3.550788  ...      0       0       0    0       0      0   \n",
       "4               -0.365484  ...      0       0       0    0       0      1   \n",
       "5                1.449784  ...      0       0       0    0       0      1   \n",
       "\n",
       "  Sport  Thriller War  Western  \n",
       "0     0         0   0        0  \n",
       "1     0         0   0        0  \n",
       "3     0         0   0        0  \n",
       "4     0         0   0        0  \n",
       "5     0         0   0        0  \n",
       "\n",
       "[5 rows x 41 columns]"
      ]
     },
     "execution_count": 119,
     "metadata": {},
     "output_type": "execute_result"
    }
   ],
   "source": [
    "merged_df.head()"
   ]
  },
  {
   "cell_type": "code",
   "execution_count": 120,
   "id": "6c85e261-3cc3-4d0d-95a1-1f3ec3a7f4ed",
   "metadata": {},
   "outputs": [],
   "source": [
    "# import seaborn as sns\n",
    "# sns.heatmap(merged_df.corr(), cmap='YlGnBu', annot=True, linewidths = 0.2);"
   ]
  },
  {
   "cell_type": "code",
   "execution_count": 121,
   "id": "7791d28c-2035-4d9d-b2a9-78a0ae771293",
   "metadata": {},
   "outputs": [],
   "source": [
    "from sklearn import preprocessing\n",
    "def to_categorical(df, feature):\n",
    "    le = preprocessing.LabelEncoder()\n",
    "    le.fit(df[feature].unique())\n",
    "    feature_cat = le.transform(df[feature])\n",
    "    df.drop([feature], axis=1)\n",
    "    df[feature] = feature_cat\n",
    "    # return df"
   ]
  },
  {
   "cell_type": "code",
   "execution_count": 122,
   "id": "a4bd71f2-0cd3-4847-af42-795f6c97abdf",
   "metadata": {},
   "outputs": [],
   "source": [
    "def one_hot_encode(df, column):\n",
    "    \"\"\"\n",
    "    One hot encodes a column in a pandas DataFrame.\n",
    "    \n",
    "    Args:\n",
    "        df (pandas.DataFrame): The DataFrame to one hot encode.\n",
    "        column (str): The name of the column to one hot encode.\n",
    "        \n",
    "    Returns:\n",
    "        pandas.DataFrame: The one hot encoded DataFrame.\n",
    "    \"\"\"\n",
    "    # Get the unique values in the column\n",
    "    unique_values = df[column].unique()\n",
    "    \n",
    "    # Create a new DataFrame with one hot encoded columns\n",
    "    one_hot_df = pd.get_dummies(df[column], prefix=column)\n",
    "    \n",
    "    # Add the new columns to the original DataFrame\n",
    "    df = pd.concat([df, one_hot_df], axis=1)\n",
    "    \n",
    "    # Drop the original column from the DataFrame\n",
    "    df.drop(column, axis=1, inplace=True)\n",
    "    \n",
    "    return df\n"
   ]
  },
  {
   "cell_type": "code",
   "execution_count": 123,
   "id": "8b38d9f8-8271-40a4-be33-9e250a3b0683",
   "metadata": {},
   "outputs": [],
   "source": [
    "def de_normalize(y, mean, std):\n",
    "    y = (y * std) + mean\n",
    "    return y\n",
    "    "
   ]
  },
  {
   "cell_type": "code",
   "execution_count": 124,
   "id": "2df9e960-6dce-4e9a-afe2-32df1a27ec1a",
   "metadata": {},
   "outputs": [],
   "source": [
    "to_categorical(merged_df, 'director')\n",
    "to_categorical(merged_df, 'writer')\n",
    "to_categorical(merged_df, 'producer')\n",
    "to_categorical(merged_df, 'composer')\n",
    "to_categorical(merged_df, 'cinematographer')\n",
    "to_categorical(merged_df, 'main_actor_4')\n",
    "to_categorical(merged_df, 'actor_2_name')\n",
    "to_categorical(merged_df, 'actor_1_name')\n",
    "to_categorical(merged_df, 'actor_3_name')\n",
    "merged_df = one_hot_encode(merged_df, 'mpaa')\n",
    "\n",
    "merged_df.dropna(inplace=True)\n",
    "merged_df.to_csv('clean_data_noTrend.csv')\n",
    "# to_categorical(merged_df, 'mpaa')\n",
    "# to_categorical(merged_df, 'color')\n",
    "# to_categorical(merged_df, 'language')"
   ]
  },
  {
   "cell_type": "code",
   "execution_count": 125,
   "id": "5a0dde3a-c68f-454f-bf37-f0c12ea83fcf",
   "metadata": {},
   "outputs": [
    {
     "data": {
      "text/plain": [
       "1648"
      ]
     },
     "execution_count": 125,
     "metadata": {},
     "output_type": "execute_result"
    }
   ],
   "source": [
    "len(merged_df)"
   ]
  },
  {
   "cell_type": "code",
   "execution_count": 126,
   "id": "c962eee1-6d02-45d3-917c-a1431ef59b68",
   "metadata": {},
   "outputs": [],
   "source": [
    "# import category_encoders as ce\n",
    "# merged_df = one_hot_encode(merged_df, 'mpaa')\n",
    "# x = merged_df.loc[:, merged_df.columns != 'worldwide']\n",
    "# y = merged_df['worldwide']\n",
    "# encoder = ce.LeaveOneOutEncoder(cols=['director', 'writer', 'producer', 'composer', 'cinematographer', 'main_actor_4', 'actor_2_name', 'actor_1_name', 'actor_3_name'])\n",
    "# encoded_df = encoder.fit_transform(x, y)\n",
    "\n",
    "# encoded_df.dropna(inplace=True)"
   ]
  },
  {
   "cell_type": "code",
   "execution_count": 127,
   "id": "cf1c6fa7-e5cc-4970-8908-c3df33b6a6c2",
   "metadata": {},
   "outputs": [],
   "source": [
    "# encoded_df['worldwide'] = y"
   ]
  },
  {
   "cell_type": "code",
   "execution_count": 128,
   "id": "92328862-6926-4265-93e1-3e335f2459be",
   "metadata": {},
   "outputs": [],
   "source": [
    "# encoded_df.keys()"
   ]
  },
  {
   "cell_type": "code",
   "execution_count": 129,
   "id": "7892d4c2-2c19-448e-abdd-ce8ab63877e5",
   "metadata": {},
   "outputs": [],
   "source": [
    "def reverse_log_transformation(column):\n",
    "    column = np.exp(column)\n",
    "    return column"
   ]
  },
  {
   "cell_type": "code",
   "execution_count": 130,
   "id": "4e0c0e39-fa33-4510-833a-9f9db7a6578c",
   "metadata": {},
   "outputs": [],
   "source": [
    "# encoded_df.to_csv('clean_data_movieYear.csv', index=False)"
   ]
  },
  {
   "cell_type": "code",
   "execution_count": 133,
   "id": "89578eab-3ba9-494d-b17b-959e82cbfacc",
   "metadata": {
    "tags": []
   },
   "outputs": [
    {
     "name": "stdout",
     "output_type": "stream",
     "text": [
      "R squared: 0.61\n",
      "Mean Absolute Error: 4.1020529294273665e-07\n",
      "Mean Square Error: 3.9269678197292516e-07\n",
      "Root Mean Square Error: 6.266552337393546e-07\n",
      "                 Actual value  Predicted value\n",
      "Actual value          1.00000          0.74428\n",
      "Predicted value       0.74428          1.00000\n",
      "      Actual value  Predicted value\n",
      "1835     -0.753459        -0.710363\n",
      "1799     -0.410944        -0.680899\n",
      "1031     -0.136338        -0.392101\n",
      "1960     -0.589668        -0.954884\n",
      "1234     -0.426361        -0.084189\n"
     ]
    }
   ],
   "source": [
    "import numpy as np \n",
    "import pandas as pd \n",
    "from matplotlib import pyplot as plt \n",
    "import seaborn as sns \n",
    "from sklearn.metrics import r2_score\n",
    "\n",
    "\n",
    "x = merged_df.loc[:, merged_df.columns != 'worldwide']\n",
    "y = merged_df['worldwide']\n",
    "\n",
    "from sklearn.model_selection import train_test_split\n",
    "from sklearn.linear_model import LinearRegression\n",
    "x_train, x_test, y_train, y_test = train_test_split(x, y, test_size = 0.3, random_state = 100)\n",
    "# x_train, x_test, y_train, y_test = x.head(int(len(x) * 0.7)), x.tail(int(len(x) * 0.3)), y.head(int(len(y) * 0.7)), y.tail(int(len(y) * 0.3))\n",
    "mlr = LinearRegression()  \n",
    "mlr.fit(x_train, y_train)\n",
    "\n",
    "#Prediction of test set\n",
    "y_pred_mlr= mlr.predict(x_test)\n",
    "# plt.scatter(x_train, y_train,color='g') \n",
    "\n",
    "# plt.plot(x_test, y_pred_mlr,color='k') \n",
    "y_pred_mlr = de_normalize(y_pred_mlr, mean, std)\n",
    "y_test = de_normalize(y_test, mean, std)\n",
    "#Predicted values\n",
    "# print(\"Prediction for test set: {}\".format(y_pred_mlr))\n",
    "\n",
    "from sklearn import metrics\n",
    "meanAbErr = metrics.mean_absolute_error(y_test, y_pred_mlr)\n",
    "meanSqErr = metrics.mean_squared_error(y_test, y_pred_mlr)\n",
    "rootMeanSqErr = np.sqrt(metrics.mean_squared_error(y_test, y_pred_mlr))\n",
    "print('R squared: {:.2f}'.format(mlr.score(x, y)))\n",
    "print('Mean Absolute Error:', meanAbErr/1000000)\n",
    "print('Mean Square Error:', meanSqErr / 1000000)\n",
    "print('Root Mean Square Error:', rootMeanSqErr / 1000000)\n",
    "\n",
    "mlr_diff = pd.DataFrame({'Actual value': y_test, 'Predicted value': y_pred_mlr})\n",
    "print(mlr_diff.corr())\n",
    "print(mlr_diff.head())"
   ]
  },
  {
   "cell_type": "code",
   "execution_count": 100,
   "id": "ce771e08-0c64-4e9f-a403-8dcea3993b26",
   "metadata": {},
   "outputs": [
    {
     "name": "stdout",
     "output_type": "stream",
     "text": [
      "R squared: -0.82\n",
      "Mean Absolute Error: 55.4193836801508\n",
      "Mean Square Error: 6829980886.219811\n",
      "Root Mean Square Error: 82.64369840598744\n",
      "      Actual value  Predicted value\n",
      "1356  7.269829e+07        19.005145\n",
      "1357  1.839361e+08        18.343299\n",
      "1358  1.839361e+08        18.343299\n",
      "1359  1.055569e+08        16.721764\n",
      "1360  1.539993e+08        18.547829\n"
     ]
    },
    {
     "name": "stderr",
     "output_type": "stream",
     "text": [
      "/var/folders/bh/b3dbk3j96b72qw2kmjf9rqfw0000gn/T/ipykernel_64689/396780045.py:2: RuntimeWarning: overflow encountered in exp\n",
      "  column = np.exp(column)\n"
     ]
    }
   ],
   "source": [
    "from sklearn.preprocessing import PolynomialFeatures\n",
    "from sklearn.metrics import r2_score\n",
    "x_train, x_test, y_train, y_test = x.head(int(len(x) * 0.7)), x.tail(int(len(x) * 0.3)), y.head(int(len(y) * 0.7)), y.tail(int(len(y) * 0.3))\n",
    "poly_reg = PolynomialFeatures(degree=2)\n",
    "X_poly = poly_reg.fit_transform(x_train)\n",
    "pol_reg = LinearRegression()\n",
    "pol_reg.fit(X_poly, y_train)\n",
    "\n",
    "y_pred = pol_reg.predict(poly_reg.fit_transform(x_test))\n",
    "# y_pred = de_normalize(y_pred, mean, std)\n",
    "# y_test = de_normalize(y_test, mean, std)\n",
    "y_pred_mlr = reverse_log_transformation(y_pred_mlr)\n",
    "y_test = reverse_log_transformation(y_test)\n",
    "meanAbErr = metrics.mean_absolute_error(y_test, y_pred)\n",
    "meanSqErr = metrics.mean_squared_error(y_test, y_pred)\n",
    "rootMeanSqErr = np.sqrt(metrics.mean_squared_error(y_test, y_pred))\n",
    "# print('R squared: {:.2f}'.format(pol_reg.score(x,y)*100))\n",
    "print('R squared: {: .2f}'.format(r2_score(y_test, y_pred)))\n",
    "print('Mean Absolute Error:', meanAbErr / 1000000)\n",
    "print('Mean Square Error:', meanSqErr / 1000000)\n",
    "print('Root Mean Square Error:', rootMeanSqErr / 1000000)\n",
    "\n",
    "mlr_diff = pd.DataFrame({'Actual value': y_test, 'Predicted value': y_pred})\n",
    "print(mlr_diff.head())"
   ]
  },
  {
   "cell_type": "code",
   "execution_count": 31,
   "id": "594209a1-154a-493c-9286-a38226d43e76",
   "metadata": {},
   "outputs": [],
   "source": [
    "import numpy as np\n",
    "from sklearn.svm import SVR\n",
    "import matplotlib.pyplot as plt\n",
    "svr_lin = SVR(kernel=\"linear\")"
   ]
  },
  {
   "cell_type": "code",
   "execution_count": 32,
   "id": "e9a73e3b-c7b3-42d2-b73a-965dee79b005",
   "metadata": {},
   "outputs": [],
   "source": [
    "from sklearn.svm import LinearSVR\n",
    "from sklearn.pipeline import make_pipeline\n",
    "from sklearn.preprocessing import StandardScaler\n",
    "from sklearn.datasets import make_regression"
   ]
  },
  {
   "cell_type": "code",
   "execution_count": 33,
   "id": "b3d4e509-fdef-4092-af0a-b5ab3b600a04",
   "metadata": {},
   "outputs": [
    {
     "name": "stderr",
     "output_type": "stream",
     "text": [
      "/Users/minasmacbook/opt/anaconda3/envs/torch/lib/python3.9/site-packages/sklearn/svm/_base.py:1225: ConvergenceWarning: Liblinear failed to converge, increase the number of iterations.\n",
      "  warnings.warn(\n"
     ]
    },
    {
     "data": {
      "text/html": [
       "<style>#sk-container-id-1 {color: black;background-color: white;}#sk-container-id-1 pre{padding: 0;}#sk-container-id-1 div.sk-toggleable {background-color: white;}#sk-container-id-1 label.sk-toggleable__label {cursor: pointer;display: block;width: 100%;margin-bottom: 0;padding: 0.3em;box-sizing: border-box;text-align: center;}#sk-container-id-1 label.sk-toggleable__label-arrow:before {content: \"▸\";float: left;margin-right: 0.25em;color: #696969;}#sk-container-id-1 label.sk-toggleable__label-arrow:hover:before {color: black;}#sk-container-id-1 div.sk-estimator:hover label.sk-toggleable__label-arrow:before {color: black;}#sk-container-id-1 div.sk-toggleable__content {max-height: 0;max-width: 0;overflow: hidden;text-align: left;background-color: #f0f8ff;}#sk-container-id-1 div.sk-toggleable__content pre {margin: 0.2em;color: black;border-radius: 0.25em;background-color: #f0f8ff;}#sk-container-id-1 input.sk-toggleable__control:checked~div.sk-toggleable__content {max-height: 200px;max-width: 100%;overflow: auto;}#sk-container-id-1 input.sk-toggleable__control:checked~label.sk-toggleable__label-arrow:before {content: \"▾\";}#sk-container-id-1 div.sk-estimator input.sk-toggleable__control:checked~label.sk-toggleable__label {background-color: #d4ebff;}#sk-container-id-1 div.sk-label input.sk-toggleable__control:checked~label.sk-toggleable__label {background-color: #d4ebff;}#sk-container-id-1 input.sk-hidden--visually {border: 0;clip: rect(1px 1px 1px 1px);clip: rect(1px, 1px, 1px, 1px);height: 1px;margin: -1px;overflow: hidden;padding: 0;position: absolute;width: 1px;}#sk-container-id-1 div.sk-estimator {font-family: monospace;background-color: #f0f8ff;border: 1px dotted black;border-radius: 0.25em;box-sizing: border-box;margin-bottom: 0.5em;}#sk-container-id-1 div.sk-estimator:hover {background-color: #d4ebff;}#sk-container-id-1 div.sk-parallel-item::after {content: \"\";width: 100%;border-bottom: 1px solid gray;flex-grow: 1;}#sk-container-id-1 div.sk-label:hover label.sk-toggleable__label {background-color: #d4ebff;}#sk-container-id-1 div.sk-serial::before {content: \"\";position: absolute;border-left: 1px solid gray;box-sizing: border-box;top: 0;bottom: 0;left: 50%;z-index: 0;}#sk-container-id-1 div.sk-serial {display: flex;flex-direction: column;align-items: center;background-color: white;padding-right: 0.2em;padding-left: 0.2em;position: relative;}#sk-container-id-1 div.sk-item {position: relative;z-index: 1;}#sk-container-id-1 div.sk-parallel {display: flex;align-items: stretch;justify-content: center;background-color: white;position: relative;}#sk-container-id-1 div.sk-item::before, #sk-container-id-1 div.sk-parallel-item::before {content: \"\";position: absolute;border-left: 1px solid gray;box-sizing: border-box;top: 0;bottom: 0;left: 50%;z-index: -1;}#sk-container-id-1 div.sk-parallel-item {display: flex;flex-direction: column;z-index: 1;position: relative;background-color: white;}#sk-container-id-1 div.sk-parallel-item:first-child::after {align-self: flex-end;width: 50%;}#sk-container-id-1 div.sk-parallel-item:last-child::after {align-self: flex-start;width: 50%;}#sk-container-id-1 div.sk-parallel-item:only-child::after {width: 0;}#sk-container-id-1 div.sk-dashed-wrapped {border: 1px dashed gray;margin: 0 0.4em 0.5em 0.4em;box-sizing: border-box;padding-bottom: 0.4em;background-color: white;}#sk-container-id-1 div.sk-label label {font-family: monospace;font-weight: bold;display: inline-block;line-height: 1.2em;}#sk-container-id-1 div.sk-label-container {text-align: center;}#sk-container-id-1 div.sk-container {/* jupyter's `normalize.less` sets `[hidden] { display: none; }` but bootstrap.min.css set `[hidden] { display: none !important; }` so we also need the `!important` here to be able to override the default hidden behavior on the sphinx rendered scikit-learn.org. See: https://github.com/scikit-learn/scikit-learn/issues/21755 */display: inline-block !important;position: relative;}#sk-container-id-1 div.sk-text-repr-fallback {display: none;}</style><div id=\"sk-container-id-1\" class=\"sk-top-container\"><div class=\"sk-text-repr-fallback\"><pre>Pipeline(steps=[(&#x27;standardscaler&#x27;, StandardScaler()),\n",
       "                (&#x27;linearsvr&#x27;, LinearSVR(random_state=0, tol=1e-05))])</pre><b>In a Jupyter environment, please rerun this cell to show the HTML representation or trust the notebook. <br />On GitHub, the HTML representation is unable to render, please try loading this page with nbviewer.org.</b></div><div class=\"sk-container\" hidden><div class=\"sk-item sk-dashed-wrapped\"><div class=\"sk-label-container\"><div class=\"sk-label sk-toggleable\"><input class=\"sk-toggleable__control sk-hidden--visually\" id=\"sk-estimator-id-1\" type=\"checkbox\" ><label for=\"sk-estimator-id-1\" class=\"sk-toggleable__label sk-toggleable__label-arrow\">Pipeline</label><div class=\"sk-toggleable__content\"><pre>Pipeline(steps=[(&#x27;standardscaler&#x27;, StandardScaler()),\n",
       "                (&#x27;linearsvr&#x27;, LinearSVR(random_state=0, tol=1e-05))])</pre></div></div></div><div class=\"sk-serial\"><div class=\"sk-item\"><div class=\"sk-estimator sk-toggleable\"><input class=\"sk-toggleable__control sk-hidden--visually\" id=\"sk-estimator-id-2\" type=\"checkbox\" ><label for=\"sk-estimator-id-2\" class=\"sk-toggleable__label sk-toggleable__label-arrow\">StandardScaler</label><div class=\"sk-toggleable__content\"><pre>StandardScaler()</pre></div></div></div><div class=\"sk-item\"><div class=\"sk-estimator sk-toggleable\"><input class=\"sk-toggleable__control sk-hidden--visually\" id=\"sk-estimator-id-3\" type=\"checkbox\" ><label for=\"sk-estimator-id-3\" class=\"sk-toggleable__label sk-toggleable__label-arrow\">LinearSVR</label><div class=\"sk-toggleable__content\"><pre>LinearSVR(random_state=0, tol=1e-05)</pre></div></div></div></div></div></div></div>"
      ],
      "text/plain": [
       "Pipeline(steps=[('standardscaler', StandardScaler()),\n",
       "                ('linearsvr', LinearSVR(random_state=0, tol=1e-05))])"
      ]
     },
     "execution_count": 33,
     "metadata": {},
     "output_type": "execute_result"
    }
   ],
   "source": [
    "x_train, x_test, y_train, y_test = x.head(int(len(x) * 0.7)), x.tail(int(len(x) * 0.3)), y.head(int(len(y) * 0.7)), y.tail(int(len(y) * 0.3))\n",
    "regr = make_pipeline(StandardScaler(), LinearSVR(random_state=0, tol=1e-5))\n",
    "regr.fit(x_train, y_train)\n",
    "# Pipeline(steps=[('standardscaler', StandardScaler()),\n",
    "                # ('linearsvr', LinearSVR(random_state=0, tol=1e-05))])"
   ]
  },
  {
   "cell_type": "code",
   "execution_count": null,
   "id": "0b15d68f-1037-44de-a37b-64590e1ddcdb",
   "metadata": {},
   "outputs": [],
   "source": []
  },
  {
   "cell_type": "code",
   "execution_count": 34,
   "id": "513bb139-ecb4-4d55-bc8a-1136c89933a7",
   "metadata": {
    "collapsed": true,
    "jupyter": {
     "outputs_hidden": true
    },
    "tags": []
   },
   "outputs": [
    {
     "name": "stdout",
     "output_type": "stream",
     "text": [
      "[17.39126903 17.91178935 17.91178935 17.74599554 18.63882991 17.81058462\n",
      " 17.33250448 17.48372342 18.26975392 17.86855644 17.6627636  17.96104449\n",
      " 17.39323589 17.93314084 17.64913651 17.62720509 18.05365075 17.84600551\n",
      " 17.520891   17.49505354 18.17020736 17.98024579 17.57250662 17.8482542\n",
      " 17.78196629 17.44354305 17.77446054 17.31995082 18.23045345 17.50100588\n",
      " 17.69516993 17.97246465 18.51678284 18.33845742 17.46167403 17.89311653\n",
      " 17.76698513 17.21067296 17.96605253 17.91895528 17.7642982  18.41234155\n",
      " 17.34844403 17.5605226  17.22778254 17.38209654 17.63152249 17.72303678\n",
      " 17.62378557 18.1510111  17.85586126 17.36689169 17.26522463 17.28742726\n",
      " 17.73735089 18.05226312 17.49668213 17.08067581 17.40332666 17.38563803\n",
      " 17.85824678 17.80316302 17.81237597 17.36773411 17.77097954 17.69124187\n",
      " 17.87256447 17.78521504 17.82120007 17.56320071 17.83844508 17.89841118\n",
      " 17.61212079 17.93749548 17.62153347 17.48382965 17.48382965 17.37263722\n",
      " 17.61685714 17.32072908 17.93880097 17.69077786 17.90968003 17.43006017\n",
      " 18.37398181 17.20620068 18.03445613 17.40376745 17.19011531 17.39717092\n",
      " 16.99787814 17.70380062 17.94066986 17.80215211 17.60667745 17.54884888\n",
      " 17.600199   17.41375182 17.52210596 17.55149027 17.6280509  17.88716763\n",
      " 17.83915317 17.21739305 17.6890902  17.57133411 17.13282489 17.39780731\n",
      " 17.50973493 17.36541106 17.50634045 17.81674351 18.26251667 17.89957466\n",
      " 17.52946744 17.37761448 18.12999927 18.30335586 17.43712223 17.43712223\n",
      " 17.64755647 17.27182852 17.69906905 17.17111069 17.17111069 17.99890723\n",
      " 17.61381521 17.74764593 18.25647898 17.25342603 17.44101697 17.51657492\n",
      " 17.50602269 17.41786613 17.60755951 17.66553042 17.56985431 17.56281671\n",
      " 17.29469675 17.50344226 17.61483618 17.40331391 17.75237095 17.60242584\n",
      " 17.74556764 17.74556764 18.09421559 17.29712606 17.70374833 16.91389484\n",
      " 17.33608614 17.60389242 17.44908261 17.66215136 17.66215136 17.51339847\n",
      " 17.49423705 17.83117476 17.17657881 17.40269773 17.28364239 17.33700872\n",
      " 17.47844657 17.42015917 17.47744674 17.35090759 17.34647265 17.69151505\n",
      " 17.44342249 17.28686779 17.6475577  17.42346376 17.82303767 17.36601254\n",
      " 17.4261355  17.37046509 17.81714033 17.34499149 17.56956696 17.66728534\n",
      " 17.33772262 17.1191791  17.28271814 17.95445066 17.78662459 17.5354139\n",
      " 18.17425341 17.33971157 17.61659684 18.12810944 17.39568358 17.61599224\n",
      " 17.62969928 17.28210143 17.53042018 17.19354125 16.9837612  17.44765352\n",
      " 17.57387437 17.9026871  17.47705601 17.38714003 17.55731764 17.29189364\n",
      " 17.5108335  17.38623874 17.11649443 19.893947   18.24809879 17.28893572\n",
      " 17.23279186 17.30818266 17.6819122  17.30623436 17.31744227 17.60941406\n",
      " 17.31862915 16.94064786 17.82688225 16.77760234 17.39302009 17.69495934\n",
      " 17.18005392 17.52669669 17.24884916 16.77211168 17.01645122 17.3253885\n",
      " 17.3185314  17.05323186 17.46614295 17.2548671  17.12332008 17.51852178\n",
      " 17.43922365 17.34179958 17.17559997 17.2704534  17.4219279  17.34371911\n",
      " 17.19279028 17.19279028 17.21849996 17.34585782 17.50597792 17.4828623\n",
      " 16.99956471 19.06725465 18.03896774 16.87753036 17.39997923 16.97877854\n",
      " 17.35838664 17.54692652 17.03877676 17.24832499 17.49923525 16.85979494\n",
      " 17.23865571 17.26624368 17.00693765 16.86026088 16.57496208 17.21957607\n",
      " 17.40988354 18.02211974 17.69147088 17.42098797 17.32627176 17.189054\n",
      " 17.23817912 17.27028202 17.59664286 17.35846787 16.93141433 16.88788297\n",
      " 17.00379296 17.36554568 17.00183681 17.1449312  16.62055982 17.24113904\n",
      " 18.70772448 17.17626545 17.18604005 16.99051411 16.93581339 17.43278425\n",
      " 18.45658903 17.0882305  17.93040158 17.04529277 17.21802663 17.99576286\n",
      " 17.30587071 17.35337401 17.08136152 18.96285664 16.66257014 17.05475008\n",
      " 16.32383625 16.32383625 16.93485739 18.07684547 17.0528716  17.2174117\n",
      " 17.06691392 17.05916551 17.66536641 17.02099567 17.32985888 17.04323436\n",
      " 16.89087239 17.11246097 16.43345758 17.15811966 16.88141262 17.35835311\n",
      " 17.18252353 18.40518756 16.99183382 16.9235431  17.12435474 17.79714612\n",
      " 16.84908722 16.73457342 16.90644633 16.63601357 17.51547825 18.84954041\n",
      " 16.4963488  17.00037801 17.02368605 18.04614672 17.22815451 16.92138882\n",
      " 17.22655801 17.15920909 16.89344766 16.7342192  16.51715136 17.09826961\n",
      " 16.83274205 16.89813897 16.7393332  16.96707398 16.93104545 16.59329469\n",
      " 16.64144856 17.22630715 16.4666174  16.9907278  16.9355381  16.9355381\n",
      " 17.25943251 17.37990413 17.20118091 16.41977791 16.76459264 16.55502027\n",
      " 16.77871765 17.06965712 16.62257892 17.07019792 16.70328655 16.67360651\n",
      " 16.50285752 16.48179141 16.4111563  16.69789429 16.90309075 16.7991201\n",
      " 17.03283348 16.52523925 16.61173384 16.52054018 16.6022848  16.48695382\n",
      " 16.98073311 16.77692524 16.63001184 16.94774073 16.35553814 16.4365369\n",
      " 16.45405176 16.5186283  16.95689857 16.70490263 16.9084626  16.22880507\n",
      " 17.9869135  16.04413486 16.68824856 16.6544916  16.72996386 16.0598872\n",
      " 16.58070256 17.0004053  16.01260598 17.57160566 16.7023348  16.68624434\n",
      " 16.51939924 16.90941762 16.37371189 16.4247987  16.33822212 16.79688307\n",
      " 17.09683863 16.46182432 16.59131178 16.37414686 16.41200219 16.17970544\n",
      " 16.78871666 16.57994634 16.41844946 17.50959938 16.64421098 16.51877294\n",
      " 16.04330968 16.54496642 16.19337897 16.5434359  16.18038168 17.24431962\n",
      " 16.69400278 16.35941252 16.35579612 18.55685468 16.86403611 16.21177266\n",
      " 16.40281081 17.52391218 16.09235333 16.09314192 16.41159963 16.46502507\n",
      " 16.52323127 17.95961208 16.47280275 16.25228368 16.2608458  16.64562178\n",
      " 17.74903551 17.00979533 16.07648476 15.73416527 17.65391709 15.9658712\n",
      " 15.89517983 16.06449994 15.50923876 15.6759805  16.05892    17.28155593\n",
      " 17.40226174 15.73069058 16.11516803 15.40727518 15.11820786 16.19204449\n",
      " 15.68142508 15.49169053 15.5708168  15.71240919 16.2644484  15.62669575\n",
      " 15.5502507  14.76796311 15.37343812 15.39161042 16.35031133 15.27573794\n",
      " 15.18280275 16.30987675 15.36738114 16.81511594 14.62752188 14.40416107\n",
      " 15.38701521 14.79804221 12.06150048 10.26215116 18.30524053 14.37565509\n",
      " 13.95063045 13.82794457 16.74063155 13.13231538 13.20387746 14.45010398\n",
      " 11.37356157 11.59925571]\n"
     ]
    }
   ],
   "source": [
    "y_pred = regr.predict(x_test)\n",
    "print(y_pred)"
   ]
  },
  {
   "cell_type": "code",
   "execution_count": 36,
   "id": "f983f137-4c44-4de7-ab79-888c96fabf05",
   "metadata": {
    "collapsed": true,
    "jupyter": {
     "outputs_hidden": true
    },
    "tags": []
   },
   "outputs": [
    {
     "name": "stderr",
     "output_type": "stream",
     "text": [
      "/var/folders/bh/b3dbk3j96b72qw2kmjf9rqfw0000gn/T/ipykernel_64002/396780045.py:2: RuntimeWarning: overflow encountered in exp\n",
      "  column = np.exp(column)\n",
      "/Users/minasmacbook/opt/anaconda3/envs/torch/lib/python3.9/site-packages/pandas/core/arraylike.py:402: RuntimeWarning: overflow encountered in exp\n",
      "  result = getattr(ufunc, method)(*inputs, **kwargs)\n"
     ]
    },
    {
     "ename": "ValueError",
     "evalue": "Input contains infinity or a value too large for dtype('float64').",
     "output_type": "error",
     "traceback": [
      "\u001b[0;31m---------------------------------------------------------------------------\u001b[0m",
      "\u001b[0;31mValueError\u001b[0m                                Traceback (most recent call last)",
      "Cell \u001b[0;32mIn [36], line 5\u001b[0m\n\u001b[1;32m      3\u001b[0m y_pred \u001b[38;5;241m=\u001b[39m reverse_log_transformation(y_pred)\n\u001b[1;32m      4\u001b[0m y_test \u001b[38;5;241m=\u001b[39m reverse_log_transformation(y_test)\n\u001b[0;32m----> 5\u001b[0m meanAbErr \u001b[38;5;241m=\u001b[39m \u001b[43mmetrics\u001b[49m\u001b[38;5;241;43m.\u001b[39;49m\u001b[43mmean_absolute_error\u001b[49m\u001b[43m(\u001b[49m\u001b[43my_test\u001b[49m\u001b[43m,\u001b[49m\u001b[43m \u001b[49m\u001b[43my_pred\u001b[49m\u001b[43m)\u001b[49m\n\u001b[1;32m      6\u001b[0m meanSqErr \u001b[38;5;241m=\u001b[39m metrics\u001b[38;5;241m.\u001b[39mmean_squared_error(y_test, y_pred)\n\u001b[1;32m      7\u001b[0m rootMeanSqErr \u001b[38;5;241m=\u001b[39m np\u001b[38;5;241m.\u001b[39msqrt(metrics\u001b[38;5;241m.\u001b[39mmean_squared_error(y_test, y_pred))\n",
      "File \u001b[0;32m~/opt/anaconda3/envs/torch/lib/python3.9/site-packages/sklearn/metrics/_regression.py:196\u001b[0m, in \u001b[0;36mmean_absolute_error\u001b[0;34m(y_true, y_pred, sample_weight, multioutput)\u001b[0m\n\u001b[1;32m    141\u001b[0m \u001b[38;5;28;01mdef\u001b[39;00m \u001b[38;5;21mmean_absolute_error\u001b[39m(\n\u001b[1;32m    142\u001b[0m     y_true, y_pred, \u001b[38;5;241m*\u001b[39m, sample_weight\u001b[38;5;241m=\u001b[39m\u001b[38;5;28;01mNone\u001b[39;00m, multioutput\u001b[38;5;241m=\u001b[39m\u001b[38;5;124m\"\u001b[39m\u001b[38;5;124muniform_average\u001b[39m\u001b[38;5;124m\"\u001b[39m\n\u001b[1;32m    143\u001b[0m ):\n\u001b[1;32m    144\u001b[0m     \u001b[38;5;124;03m\"\"\"Mean absolute error regression loss.\u001b[39;00m\n\u001b[1;32m    145\u001b[0m \n\u001b[1;32m    146\u001b[0m \u001b[38;5;124;03m    Read more in the :ref:`User Guide <mean_absolute_error>`.\u001b[39;00m\n\u001b[0;32m   (...)\u001b[0m\n\u001b[1;32m    194\u001b[0m \u001b[38;5;124;03m    0.85...\u001b[39;00m\n\u001b[1;32m    195\u001b[0m \u001b[38;5;124;03m    \"\"\"\u001b[39;00m\n\u001b[0;32m--> 196\u001b[0m     y_type, y_true, y_pred, multioutput \u001b[38;5;241m=\u001b[39m \u001b[43m_check_reg_targets\u001b[49m\u001b[43m(\u001b[49m\n\u001b[1;32m    197\u001b[0m \u001b[43m        \u001b[49m\u001b[43my_true\u001b[49m\u001b[43m,\u001b[49m\u001b[43m \u001b[49m\u001b[43my_pred\u001b[49m\u001b[43m,\u001b[49m\u001b[43m \u001b[49m\u001b[43mmultioutput\u001b[49m\n\u001b[1;32m    198\u001b[0m \u001b[43m    \u001b[49m\u001b[43m)\u001b[49m\n\u001b[1;32m    199\u001b[0m     check_consistent_length(y_true, y_pred, sample_weight)\n\u001b[1;32m    200\u001b[0m     output_errors \u001b[38;5;241m=\u001b[39m np\u001b[38;5;241m.\u001b[39maverage(np\u001b[38;5;241m.\u001b[39mabs(y_pred \u001b[38;5;241m-\u001b[39m y_true), weights\u001b[38;5;241m=\u001b[39msample_weight, axis\u001b[38;5;241m=\u001b[39m\u001b[38;5;241m0\u001b[39m)\n",
      "File \u001b[0;32m~/opt/anaconda3/envs/torch/lib/python3.9/site-packages/sklearn/metrics/_regression.py:101\u001b[0m, in \u001b[0;36m_check_reg_targets\u001b[0;34m(y_true, y_pred, multioutput, dtype)\u001b[0m\n\u001b[1;32m     67\u001b[0m \u001b[38;5;124;03m\"\"\"Check that y_true and y_pred belong to the same regression task.\u001b[39;00m\n\u001b[1;32m     68\u001b[0m \n\u001b[1;32m     69\u001b[0m \u001b[38;5;124;03mParameters\u001b[39;00m\n\u001b[0;32m   (...)\u001b[0m\n\u001b[1;32m     98\u001b[0m \u001b[38;5;124;03m    correct keyword.\u001b[39;00m\n\u001b[1;32m     99\u001b[0m \u001b[38;5;124;03m\"\"\"\u001b[39;00m\n\u001b[1;32m    100\u001b[0m check_consistent_length(y_true, y_pred)\n\u001b[0;32m--> 101\u001b[0m y_true \u001b[38;5;241m=\u001b[39m \u001b[43mcheck_array\u001b[49m\u001b[43m(\u001b[49m\u001b[43my_true\u001b[49m\u001b[43m,\u001b[49m\u001b[43m \u001b[49m\u001b[43mensure_2d\u001b[49m\u001b[38;5;241;43m=\u001b[39;49m\u001b[38;5;28;43;01mFalse\u001b[39;49;00m\u001b[43m,\u001b[49m\u001b[43m \u001b[49m\u001b[43mdtype\u001b[49m\u001b[38;5;241;43m=\u001b[39;49m\u001b[43mdtype\u001b[49m\u001b[43m)\u001b[49m\n\u001b[1;32m    102\u001b[0m y_pred \u001b[38;5;241m=\u001b[39m check_array(y_pred, ensure_2d\u001b[38;5;241m=\u001b[39m\u001b[38;5;28;01mFalse\u001b[39;00m, dtype\u001b[38;5;241m=\u001b[39mdtype)\n\u001b[1;32m    104\u001b[0m \u001b[38;5;28;01mif\u001b[39;00m y_true\u001b[38;5;241m.\u001b[39mndim \u001b[38;5;241m==\u001b[39m \u001b[38;5;241m1\u001b[39m:\n",
      "File \u001b[0;32m~/opt/anaconda3/envs/torch/lib/python3.9/site-packages/sklearn/utils/validation.py:899\u001b[0m, in \u001b[0;36mcheck_array\u001b[0;34m(array, accept_sparse, accept_large_sparse, dtype, order, copy, force_all_finite, ensure_2d, allow_nd, ensure_min_samples, ensure_min_features, estimator, input_name)\u001b[0m\n\u001b[1;32m    893\u001b[0m         \u001b[38;5;28;01mraise\u001b[39;00m \u001b[38;5;167;01mValueError\u001b[39;00m(\n\u001b[1;32m    894\u001b[0m             \u001b[38;5;124m\"\u001b[39m\u001b[38;5;124mFound array with dim \u001b[39m\u001b[38;5;132;01m%d\u001b[39;00m\u001b[38;5;124m. \u001b[39m\u001b[38;5;132;01m%s\u001b[39;00m\u001b[38;5;124m expected <= 2.\u001b[39m\u001b[38;5;124m\"\u001b[39m\n\u001b[1;32m    895\u001b[0m             \u001b[38;5;241m%\u001b[39m (array\u001b[38;5;241m.\u001b[39mndim, estimator_name)\n\u001b[1;32m    896\u001b[0m         )\n\u001b[1;32m    898\u001b[0m     \u001b[38;5;28;01mif\u001b[39;00m force_all_finite:\n\u001b[0;32m--> 899\u001b[0m         \u001b[43m_assert_all_finite\u001b[49m\u001b[43m(\u001b[49m\n\u001b[1;32m    900\u001b[0m \u001b[43m            \u001b[49m\u001b[43marray\u001b[49m\u001b[43m,\u001b[49m\n\u001b[1;32m    901\u001b[0m \u001b[43m            \u001b[49m\u001b[43minput_name\u001b[49m\u001b[38;5;241;43m=\u001b[39;49m\u001b[43minput_name\u001b[49m\u001b[43m,\u001b[49m\n\u001b[1;32m    902\u001b[0m \u001b[43m            \u001b[49m\u001b[43mestimator_name\u001b[49m\u001b[38;5;241;43m=\u001b[39;49m\u001b[43mestimator_name\u001b[49m\u001b[43m,\u001b[49m\n\u001b[1;32m    903\u001b[0m \u001b[43m            \u001b[49m\u001b[43mallow_nan\u001b[49m\u001b[38;5;241;43m=\u001b[39;49m\u001b[43mforce_all_finite\u001b[49m\u001b[43m \u001b[49m\u001b[38;5;241;43m==\u001b[39;49m\u001b[43m \u001b[49m\u001b[38;5;124;43m\"\u001b[39;49m\u001b[38;5;124;43mallow-nan\u001b[39;49m\u001b[38;5;124;43m\"\u001b[39;49m\u001b[43m,\u001b[49m\n\u001b[1;32m    904\u001b[0m \u001b[43m        \u001b[49m\u001b[43m)\u001b[49m\n\u001b[1;32m    906\u001b[0m \u001b[38;5;28;01mif\u001b[39;00m ensure_min_samples \u001b[38;5;241m>\u001b[39m \u001b[38;5;241m0\u001b[39m:\n\u001b[1;32m    907\u001b[0m     n_samples \u001b[38;5;241m=\u001b[39m _num_samples(array)\n",
      "File \u001b[0;32m~/opt/anaconda3/envs/torch/lib/python3.9/site-packages/sklearn/utils/validation.py:146\u001b[0m, in \u001b[0;36m_assert_all_finite\u001b[0;34m(X, allow_nan, msg_dtype, estimator_name, input_name)\u001b[0m\n\u001b[1;32m    124\u001b[0m         \u001b[38;5;28;01mif\u001b[39;00m (\n\u001b[1;32m    125\u001b[0m             \u001b[38;5;129;01mnot\u001b[39;00m allow_nan\n\u001b[1;32m    126\u001b[0m             \u001b[38;5;129;01mand\u001b[39;00m estimator_name\n\u001b[0;32m   (...)\u001b[0m\n\u001b[1;32m    130\u001b[0m             \u001b[38;5;66;03m# Improve the error message on how to handle missing values in\u001b[39;00m\n\u001b[1;32m    131\u001b[0m             \u001b[38;5;66;03m# scikit-learn.\u001b[39;00m\n\u001b[1;32m    132\u001b[0m             msg_err \u001b[38;5;241m+\u001b[39m\u001b[38;5;241m=\u001b[39m (\n\u001b[1;32m    133\u001b[0m                 \u001b[38;5;124mf\u001b[39m\u001b[38;5;124m\"\u001b[39m\u001b[38;5;130;01m\\n\u001b[39;00m\u001b[38;5;132;01m{\u001b[39;00mestimator_name\u001b[38;5;132;01m}\u001b[39;00m\u001b[38;5;124m does not accept missing values\u001b[39m\u001b[38;5;124m\"\u001b[39m\n\u001b[1;32m    134\u001b[0m                 \u001b[38;5;124m\"\u001b[39m\u001b[38;5;124m encoded as NaN natively. For supervised learning, you might want\u001b[39m\u001b[38;5;124m\"\u001b[39m\n\u001b[0;32m   (...)\u001b[0m\n\u001b[1;32m    144\u001b[0m                 \u001b[38;5;124m\"\u001b[39m\u001b[38;5;124m#estimators-that-handle-nan-values\u001b[39m\u001b[38;5;124m\"\u001b[39m\n\u001b[1;32m    145\u001b[0m             )\n\u001b[0;32m--> 146\u001b[0m         \u001b[38;5;28;01mraise\u001b[39;00m \u001b[38;5;167;01mValueError\u001b[39;00m(msg_err)\n\u001b[1;32m    148\u001b[0m \u001b[38;5;66;03m# for object dtype data, we only check for NaNs (GH-13254)\u001b[39;00m\n\u001b[1;32m    149\u001b[0m \u001b[38;5;28;01melif\u001b[39;00m X\u001b[38;5;241m.\u001b[39mdtype \u001b[38;5;241m==\u001b[39m np\u001b[38;5;241m.\u001b[39mdtype(\u001b[38;5;124m\"\u001b[39m\u001b[38;5;124mobject\u001b[39m\u001b[38;5;124m\"\u001b[39m) \u001b[38;5;129;01mand\u001b[39;00m \u001b[38;5;129;01mnot\u001b[39;00m allow_nan:\n",
      "\u001b[0;31mValueError\u001b[0m: Input contains infinity or a value too large for dtype('float64')."
     ]
    }
   ],
   "source": [
    "# y_pred = de_normalize(y_pred, mean, std)\n",
    "# y_test = de_normalize(y_test, mean, std)\n",
    "y_pred = reverse_log_transformation(y_pred)\n",
    "y_test = reverse_log_transformation(y_test)\n",
    "meanAbErr = metrics.mean_absolute_error(y_test, y_pred)\n",
    "meanSqErr = metrics.mean_squared_error(y_test, y_pred)\n",
    "rootMeanSqErr = np.sqrt(metrics.mean_squared_error(y_test, y_pred))\n",
    "print('R squared: {:.2f}'.format(regr.score(x,y)*100))\n",
    "print('Mean Absolute Error:', meanAbErr / 1000000)\n",
    "print('Mean Square Error:', meanSqErr / 1000000)\n",
    "print('Root Mean Square Error:', rootMeanSqErr)\n",
    "\n",
    "mlr_diff = pd.DataFrame({'Actual value': y_test, 'Predicted value': y_pred})\n",
    "print(mlr_diff.head())"
   ]
  },
  {
   "cell_type": "code",
   "execution_count": 40,
   "id": "88e3bd3b-1beb-4cfe-8c09-d2ede3671fcf",
   "metadata": {},
   "outputs": [
    {
     "data": {
      "text/plain": [
       "159.72951717552237"
      ]
     },
     "execution_count": 40,
     "metadata": {},
     "output_type": "execute_result"
    }
   ],
   "source": [
    "mean / 1000000"
   ]
  },
  {
   "cell_type": "code",
   "execution_count": 41,
   "id": "d4e86624-4e8f-4b65-98ce-1d6e220b43d8",
   "metadata": {},
   "outputs": [
    {
     "data": {
      "text/plain": [
       "216871914.11672443"
      ]
     },
     "execution_count": 41,
     "metadata": {},
     "output_type": "execute_result"
    }
   ],
   "source": [
    "std"
   ]
  },
  {
   "cell_type": "code",
   "execution_count": null,
   "id": "7e348ede-deb2-40c1-a44c-2281da186bcf",
   "metadata": {},
   "outputs": [],
   "source": [
    "# import numpy as np\n",
    "# from sklearn.svm import SVR\n",
    "# import matplotlib.pyplot as plt\n",
    "# svr_poly = SVR(kernel=\"poly\", C=100, gamma=\"auto\", degree=3, epsilon=0.1, coef0=1)\n",
    "\n",
    "# # svr_poly = SVR(kernel=\"poly\", C=100, gamma=\"auto\", degree=3, epsilon=0.1, coef0=1)\n",
    "# svr_poly.fit(x_train, y_train)\n",
    "# y_pred = svr_poly.predict(x_test)\n",
    "# #Predicted values\n",
    "# print(\"Prediction for test set: {}\".format(y_pred))\n",
    "\n",
    "# from sklearn import metrics\n",
    "# meanAbErr = metrics.mean_absolute_error(y_test, y_pred)\n",
    "# meanSqErr = metrics.mean_squared_error(y_test, y_pred)\n",
    "# rootMeanSqErr = np.sqrt(metrics.mean_squared_error(y_test, y_pred))\n",
    "# print('R squared: {:.2f}'.format(svr_poly.score(x,y)*100))\n",
    "# print('Mean Absolute Error:', meanAbErr)\n",
    "# print('Mean Square Error:', meanSqErr)\n",
    "# print('Root Mean Square Error:', rootMeanSqErr)\n",
    "\n",
    "# mlr_diff = pd.DataFrame({'Actual value': y_test, 'Predicted value': y_pred})\n",
    "# print(mlr_diff.tail())"
   ]
  },
  {
   "cell_type": "code",
   "execution_count": 16,
   "id": "726e2084-19fa-4396-bf02-ba19bc65da52",
   "metadata": {},
   "outputs": [],
   "source": [
    "merged_df['cast_total_facebook_likes'] = np.log1p(merged_df['cast_total_facebook_likes'])\n",
    "merged_df['actor_1_facebook_likes'] = np.log1p(merged_df['actor_1_facebook_likes']) \n",
    "# normalize(merged_df, 'budget_x')\n",
    "merged_df['actor_2_facebook_likes'] = np.log1p(merged_df['actor_2_facebook_likes']) \n",
    "merged_df['movie_facebook_likes'] = np.log1p(merged_df['movie_facebook_likes']) \n",
    "merged_df['director_facebook_likes'] = np.log1p(merged_df['director_facebook_likes']) \n",
    "merged_df['actor_3_facebook_likes'] = np.log1p(merged_df['actor_3_facebook_likes']) "
   ]
  },
  {
   "cell_type": "code",
   "execution_count": 18,
   "id": "bbbf4834-0f9b-42c9-b72d-d414cd8f7a68",
   "metadata": {},
   "outputs": [
    {
     "name": "stdout",
     "output_type": "stream",
     "text": [
      "109.71283582089552\n"
     ]
    }
   ],
   "source": [
    "normalize(merged_df, 'duration')\n",
    "# normalize(merged_df, 'movie_year')"
   ]
  },
  {
   "cell_type": "code",
   "execution_count": 19,
   "id": "c56469b7-33c7-4197-bd54-652c23ded344",
   "metadata": {},
   "outputs": [
    {
     "data": {
      "text/html": [
       "<div>\n",
       "<style scoped>\n",
       "    .dataframe tbody tr th:only-of-type {\n",
       "        vertical-align: middle;\n",
       "    }\n",
       "\n",
       "    .dataframe tbody tr th {\n",
       "        vertical-align: top;\n",
       "    }\n",
       "\n",
       "    .dataframe thead th {\n",
       "        text-align: right;\n",
       "    }\n",
       "</style>\n",
       "<table border=\"1\" class=\"dataframe\">\n",
       "  <thead>\n",
       "    <tr style=\"text-align: right;\">\n",
       "      <th></th>\n",
       "      <th>duration</th>\n",
       "      <th>director_facebook_likes</th>\n",
       "      <th>actor_3_facebook_likes</th>\n",
       "      <th>actor_2_name</th>\n",
       "      <th>actor_1_facebook_likes</th>\n",
       "      <th>actor_1_name</th>\n",
       "      <th>cast_total_facebook_likes</th>\n",
       "      <th>actor_3_name</th>\n",
       "      <th>budget_x</th>\n",
       "      <th>actor_2_facebook_likes</th>\n",
       "      <th>...</th>\n",
       "      <th>Music</th>\n",
       "      <th>Musical</th>\n",
       "      <th>Mystery</th>\n",
       "      <th>News</th>\n",
       "      <th>Romance</th>\n",
       "      <th>Sci-Fi</th>\n",
       "      <th>Sport</th>\n",
       "      <th>Thriller</th>\n",
       "      <th>War</th>\n",
       "      <th>Western</th>\n",
       "    </tr>\n",
       "  </thead>\n",
       "  <tbody>\n",
       "    <tr>\n",
       "      <th>0</th>\n",
       "      <td>3.415162</td>\n",
       "      <td>0.000000</td>\n",
       "      <td>6.752270</td>\n",
       "      <td>Joel David Moore</td>\n",
       "      <td>6.908755</td>\n",
       "      <td>CCH Pounder</td>\n",
       "      <td>8.483636</td>\n",
       "      <td>Wes Studi</td>\n",
       "      <td>19.283571</td>\n",
       "      <td>6.842683</td>\n",
       "      <td>...</td>\n",
       "      <td>0</td>\n",
       "      <td>0</td>\n",
       "      <td>0</td>\n",
       "      <td>0</td>\n",
       "      <td>0</td>\n",
       "      <td>1</td>\n",
       "      <td>0</td>\n",
       "      <td>0</td>\n",
       "      <td>0</td>\n",
       "      <td>0</td>\n",
       "    </tr>\n",
       "    <tr>\n",
       "      <th>1</th>\n",
       "      <td>2.965056</td>\n",
       "      <td>6.335054</td>\n",
       "      <td>6.908755</td>\n",
       "      <td>Orlando Bloom</td>\n",
       "      <td>10.596660</td>\n",
       "      <td>Johnny Depp</td>\n",
       "      <td>10.786242</td>\n",
       "      <td>Jack Davenport</td>\n",
       "      <td>19.519293</td>\n",
       "      <td>8.517393</td>\n",
       "      <td>...</td>\n",
       "      <td>0</td>\n",
       "      <td>0</td>\n",
       "      <td>0</td>\n",
       "      <td>0</td>\n",
       "      <td>0</td>\n",
       "      <td>0</td>\n",
       "      <td>0</td>\n",
       "      <td>0</td>\n",
       "      <td>0</td>\n",
       "      <td>0</td>\n",
       "    </tr>\n",
       "    <tr>\n",
       "      <th>3</th>\n",
       "      <td>2.714997</td>\n",
       "      <td>9.998843</td>\n",
       "      <td>10.043293</td>\n",
       "      <td>Christian Bale</td>\n",
       "      <td>10.203629</td>\n",
       "      <td>Tom Hardy</td>\n",
       "      <td>11.578339</td>\n",
       "      <td>Joseph Gordon-Levitt</td>\n",
       "      <td>19.336971</td>\n",
       "      <td>10.043293</td>\n",
       "      <td>...</td>\n",
       "      <td>0</td>\n",
       "      <td>0</td>\n",
       "      <td>0</td>\n",
       "      <td>0</td>\n",
       "      <td>0</td>\n",
       "      <td>0</td>\n",
       "      <td>0</td>\n",
       "      <td>0</td>\n",
       "      <td>0</td>\n",
       "      <td>0</td>\n",
       "    </tr>\n",
       "    <tr>\n",
       "      <th>4</th>\n",
       "      <td>1.114621</td>\n",
       "      <td>6.165418</td>\n",
       "      <td>6.274762</td>\n",
       "      <td>Samantha Morton</td>\n",
       "      <td>6.463029</td>\n",
       "      <td>Daryl Sabara</td>\n",
       "      <td>7.535830</td>\n",
       "      <td>Polly Walker</td>\n",
       "      <td>19.390323</td>\n",
       "      <td>6.450470</td>\n",
       "      <td>...</td>\n",
       "      <td>0</td>\n",
       "      <td>0</td>\n",
       "      <td>0</td>\n",
       "      <td>0</td>\n",
       "      <td>0</td>\n",
       "      <td>1</td>\n",
       "      <td>0</td>\n",
       "      <td>0</td>\n",
       "      <td>0</td>\n",
       "      <td>0</td>\n",
       "    </tr>\n",
       "    <tr>\n",
       "      <th>5</th>\n",
       "      <td>2.314903</td>\n",
       "      <td>0.000000</td>\n",
       "      <td>8.294300</td>\n",
       "      <td>James Franco</td>\n",
       "      <td>10.085851</td>\n",
       "      <td>J.K. Simmons</td>\n",
       "      <td>10.737613</td>\n",
       "      <td>Kirsten Dunst</td>\n",
       "      <td>19.368470</td>\n",
       "      <td>9.305741</td>\n",
       "      <td>...</td>\n",
       "      <td>0</td>\n",
       "      <td>0</td>\n",
       "      <td>0</td>\n",
       "      <td>0</td>\n",
       "      <td>0</td>\n",
       "      <td>1</td>\n",
       "      <td>0</td>\n",
       "      <td>0</td>\n",
       "      <td>0</td>\n",
       "      <td>0</td>\n",
       "    </tr>\n",
       "  </tbody>\n",
       "</table>\n",
       "<p>5 rows × 42 columns</p>\n",
       "</div>"
      ],
      "text/plain": [
       "   duration  director_facebook_likes  actor_3_facebook_likes  \\\n",
       "0  3.415162                 0.000000                6.752270   \n",
       "1  2.965056                 6.335054                6.908755   \n",
       "3  2.714997                 9.998843               10.043293   \n",
       "4  1.114621                 6.165418                6.274762   \n",
       "5  2.314903                 0.000000                8.294300   \n",
       "\n",
       "       actor_2_name  actor_1_facebook_likes  actor_1_name  \\\n",
       "0  Joel David Moore                6.908755   CCH Pounder   \n",
       "1     Orlando Bloom               10.596660   Johnny Depp   \n",
       "3    Christian Bale               10.203629     Tom Hardy   \n",
       "4   Samantha Morton                6.463029  Daryl Sabara   \n",
       "5      James Franco               10.085851  J.K. Simmons   \n",
       "\n",
       "   cast_total_facebook_likes          actor_3_name   budget_x  \\\n",
       "0                   8.483636             Wes Studi  19.283571   \n",
       "1                  10.786242        Jack Davenport  19.519293   \n",
       "3                  11.578339  Joseph Gordon-Levitt  19.336971   \n",
       "4                   7.535830          Polly Walker  19.390323   \n",
       "5                  10.737613         Kirsten Dunst  19.368470   \n",
       "\n",
       "   actor_2_facebook_likes  ...  Music  Musical Mystery News Romance Sci-Fi  \\\n",
       "0                6.842683  ...      0        0       0    0       0      1   \n",
       "1                8.517393  ...      0        0       0    0       0      0   \n",
       "3               10.043293  ...      0        0       0    0       0      0   \n",
       "4                6.450470  ...      0        0       0    0       0      1   \n",
       "5                9.305741  ...      0        0       0    0       0      1   \n",
       "\n",
       "  Sport Thriller  War Western  \n",
       "0     0        0    0       0  \n",
       "1     0        0    0       0  \n",
       "3     0        0    0       0  \n",
       "4     0        0    0       0  \n",
       "5     0        0    0       0  \n",
       "\n",
       "[5 rows x 42 columns]"
      ]
     },
     "execution_count": 19,
     "metadata": {},
     "output_type": "execute_result"
    }
   ],
   "source": [
    "merged_df.head()"
   ]
  },
  {
   "cell_type": "code",
   "execution_count": null,
   "id": "e0135352-8bb9-4128-933b-c51e0ff64ce3",
   "metadata": {},
   "outputs": [],
   "source": []
  }
 ],
 "metadata": {
  "kernelspec": {
   "display_name": "Python 3 (ipykernel)",
   "language": "python",
   "name": "python3"
  },
  "language_info": {
   "codemirror_mode": {
    "name": "ipython",
    "version": 3
   },
   "file_extension": ".py",
   "mimetype": "text/x-python",
   "name": "python",
   "nbconvert_exporter": "python",
   "pygments_lexer": "ipython3",
   "version": "3.9.15"
  }
 },
 "nbformat": 4,
 "nbformat_minor": 5
}
