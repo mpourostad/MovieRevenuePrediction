{
  "nbformat": 4,
  "nbformat_minor": 0,
  "metadata": {
    "colab": {
      "provenance": [],
      "collapsed_sections": [
        "PiRz1EiASjnU"
      ]
    },
    "kernelspec": {
      "name": "python3",
      "display_name": "Python 3"
    },
    "language_info": {
      "name": "python"
    }
  },
  "cells": [
    {
      "cell_type": "markdown",
      "source": [
        "# Dataset"
      ],
      "metadata": {
        "id": "2MCArVnTFkJG"
      }
    },
    {
      "cell_type": "code",
      "source": [
        "import pandas as pd\n",
        "import numpy as np\n",
        "from scipy.stats import pearsonr\n",
        "cl_data = pd.read_csv(\"clean_data_Trends.csv\")"
      ],
      "metadata": {
        "id": "b8vWhULfZo-Z"
      },
      "execution_count": 92,
      "outputs": []
    },
    {
      "cell_type": "code",
      "source": [
        "cl_data.head()"
      ],
      "metadata": {
        "id": "mehxm0wjaVTX",
        "colab": {
          "base_uri": "https://localhost:8080/",
          "height": 0
        },
        "outputId": "97092aca-b353-4654-cacf-669c4bc2e896"
      },
      "execution_count": 93,
      "outputs": [
        {
          "output_type": "execute_result",
          "data": {
            "text/plain": [
              "   Unnamed: 0  duration  director_facebook_likes  actor_3_facebook_likes  \\\n",
              "0           0  3.415162                -0.262591               -0.087463   \n",
              "1           1  2.965056                -0.093100               -0.029226   \n",
              "2           3  2.714997                 6.360482                8.806735   \n",
              "3           4  1.114621                -0.119593               -0.217994   \n",
              "4           5  2.314903                -0.262591                1.175678   \n",
              "\n",
              "   actor_2_name  actor_1_facebook_likes  actor_1_name  \\\n",
              "0           501               -0.438793            94   \n",
              "1           794                1.570244           351   \n",
              "2           207                0.900565           657   \n",
              "3           900               -0.457338           166   \n",
              "4           441                0.746024           276   \n",
              "\n",
              "   cast_total_facebook_likes  actor_3_name  budget_x  ...  Sci-Fi  Sport  \\\n",
              "0                  -0.407342          1247  3.669535  ...       1      0   \n",
              "1                   1.414928           503  5.194659  ...       0      0   \n",
              "2                   3.860857           643  3.627024  ...       0      0   \n",
              "3                  -0.531337           977  3.886243  ...       1      0   \n",
              "4                   1.318823           715  4.312951  ...       1      0   \n",
              "\n",
              "   Thriller  War  Western  mpaa_G  mpaa_NC-17  mpaa_PG  mpaa_PG-13  mpaa_R  \n",
              "0         0    0        0       0           0        0           1       0  \n",
              "1         0    0        0       0           0        0           1       0  \n",
              "2         0    0        0       0           0        0           1       0  \n",
              "3         0    0        0       0           0        0           1       0  \n",
              "4         0    0        0       0           0        0           1       0  \n",
              "\n",
              "[5 rows x 47 columns]"
            ],
            "text/html": [
              "\n",
              "  <div id=\"df-c7c158a9-0231-44a8-b701-37edc5a8b930\">\n",
              "    <div class=\"colab-df-container\">\n",
              "      <div>\n",
              "<style scoped>\n",
              "    .dataframe tbody tr th:only-of-type {\n",
              "        vertical-align: middle;\n",
              "    }\n",
              "\n",
              "    .dataframe tbody tr th {\n",
              "        vertical-align: top;\n",
              "    }\n",
              "\n",
              "    .dataframe thead th {\n",
              "        text-align: right;\n",
              "    }\n",
              "</style>\n",
              "<table border=\"1\" class=\"dataframe\">\n",
              "  <thead>\n",
              "    <tr style=\"text-align: right;\">\n",
              "      <th></th>\n",
              "      <th>Unnamed: 0</th>\n",
              "      <th>duration</th>\n",
              "      <th>director_facebook_likes</th>\n",
              "      <th>actor_3_facebook_likes</th>\n",
              "      <th>actor_2_name</th>\n",
              "      <th>actor_1_facebook_likes</th>\n",
              "      <th>actor_1_name</th>\n",
              "      <th>cast_total_facebook_likes</th>\n",
              "      <th>actor_3_name</th>\n",
              "      <th>budget_x</th>\n",
              "      <th>...</th>\n",
              "      <th>Sci-Fi</th>\n",
              "      <th>Sport</th>\n",
              "      <th>Thriller</th>\n",
              "      <th>War</th>\n",
              "      <th>Western</th>\n",
              "      <th>mpaa_G</th>\n",
              "      <th>mpaa_NC-17</th>\n",
              "      <th>mpaa_PG</th>\n",
              "      <th>mpaa_PG-13</th>\n",
              "      <th>mpaa_R</th>\n",
              "    </tr>\n",
              "  </thead>\n",
              "  <tbody>\n",
              "    <tr>\n",
              "      <th>0</th>\n",
              "      <td>0</td>\n",
              "      <td>3.415162</td>\n",
              "      <td>-0.262591</td>\n",
              "      <td>-0.087463</td>\n",
              "      <td>501</td>\n",
              "      <td>-0.438793</td>\n",
              "      <td>94</td>\n",
              "      <td>-0.407342</td>\n",
              "      <td>1247</td>\n",
              "      <td>3.669535</td>\n",
              "      <td>...</td>\n",
              "      <td>1</td>\n",
              "      <td>0</td>\n",
              "      <td>0</td>\n",
              "      <td>0</td>\n",
              "      <td>0</td>\n",
              "      <td>0</td>\n",
              "      <td>0</td>\n",
              "      <td>0</td>\n",
              "      <td>1</td>\n",
              "      <td>0</td>\n",
              "    </tr>\n",
              "    <tr>\n",
              "      <th>1</th>\n",
              "      <td>1</td>\n",
              "      <td>2.965056</td>\n",
              "      <td>-0.093100</td>\n",
              "      <td>-0.029226</td>\n",
              "      <td>794</td>\n",
              "      <td>1.570244</td>\n",
              "      <td>351</td>\n",
              "      <td>1.414928</td>\n",
              "      <td>503</td>\n",
              "      <td>5.194659</td>\n",
              "      <td>...</td>\n",
              "      <td>0</td>\n",
              "      <td>0</td>\n",
              "      <td>0</td>\n",
              "      <td>0</td>\n",
              "      <td>0</td>\n",
              "      <td>0</td>\n",
              "      <td>0</td>\n",
              "      <td>0</td>\n",
              "      <td>1</td>\n",
              "      <td>0</td>\n",
              "    </tr>\n",
              "    <tr>\n",
              "      <th>2</th>\n",
              "      <td>3</td>\n",
              "      <td>2.714997</td>\n",
              "      <td>6.360482</td>\n",
              "      <td>8.806735</td>\n",
              "      <td>207</td>\n",
              "      <td>0.900565</td>\n",
              "      <td>657</td>\n",
              "      <td>3.860857</td>\n",
              "      <td>643</td>\n",
              "      <td>3.627024</td>\n",
              "      <td>...</td>\n",
              "      <td>0</td>\n",
              "      <td>0</td>\n",
              "      <td>0</td>\n",
              "      <td>0</td>\n",
              "      <td>0</td>\n",
              "      <td>0</td>\n",
              "      <td>0</td>\n",
              "      <td>0</td>\n",
              "      <td>1</td>\n",
              "      <td>0</td>\n",
              "    </tr>\n",
              "    <tr>\n",
              "      <th>3</th>\n",
              "      <td>4</td>\n",
              "      <td>1.114621</td>\n",
              "      <td>-0.119593</td>\n",
              "      <td>-0.217994</td>\n",
              "      <td>900</td>\n",
              "      <td>-0.457338</td>\n",
              "      <td>166</td>\n",
              "      <td>-0.531337</td>\n",
              "      <td>977</td>\n",
              "      <td>3.886243</td>\n",
              "      <td>...</td>\n",
              "      <td>1</td>\n",
              "      <td>0</td>\n",
              "      <td>0</td>\n",
              "      <td>0</td>\n",
              "      <td>0</td>\n",
              "      <td>0</td>\n",
              "      <td>0</td>\n",
              "      <td>0</td>\n",
              "      <td>1</td>\n",
              "      <td>0</td>\n",
              "    </tr>\n",
              "    <tr>\n",
              "      <th>4</th>\n",
              "      <td>5</td>\n",
              "      <td>2.314903</td>\n",
              "      <td>-0.262591</td>\n",
              "      <td>1.175678</td>\n",
              "      <td>441</td>\n",
              "      <td>0.746024</td>\n",
              "      <td>276</td>\n",
              "      <td>1.318823</td>\n",
              "      <td>715</td>\n",
              "      <td>4.312951</td>\n",
              "      <td>...</td>\n",
              "      <td>1</td>\n",
              "      <td>0</td>\n",
              "      <td>0</td>\n",
              "      <td>0</td>\n",
              "      <td>0</td>\n",
              "      <td>0</td>\n",
              "      <td>0</td>\n",
              "      <td>0</td>\n",
              "      <td>1</td>\n",
              "      <td>0</td>\n",
              "    </tr>\n",
              "  </tbody>\n",
              "</table>\n",
              "<p>5 rows × 47 columns</p>\n",
              "</div>\n",
              "      <button class=\"colab-df-convert\" onclick=\"convertToInteractive('df-c7c158a9-0231-44a8-b701-37edc5a8b930')\"\n",
              "              title=\"Convert this dataframe to an interactive table.\"\n",
              "              style=\"display:none;\">\n",
              "        \n",
              "  <svg xmlns=\"http://www.w3.org/2000/svg\" height=\"24px\"viewBox=\"0 0 24 24\"\n",
              "       width=\"24px\">\n",
              "    <path d=\"M0 0h24v24H0V0z\" fill=\"none\"/>\n",
              "    <path d=\"M18.56 5.44l.94 2.06.94-2.06 2.06-.94-2.06-.94-.94-2.06-.94 2.06-2.06.94zm-11 1L8.5 8.5l.94-2.06 2.06-.94-2.06-.94L8.5 2.5l-.94 2.06-2.06.94zm10 10l.94 2.06.94-2.06 2.06-.94-2.06-.94-.94-2.06-.94 2.06-2.06.94z\"/><path d=\"M17.41 7.96l-1.37-1.37c-.4-.4-.92-.59-1.43-.59-.52 0-1.04.2-1.43.59L10.3 9.45l-7.72 7.72c-.78.78-.78 2.05 0 2.83L4 21.41c.39.39.9.59 1.41.59.51 0 1.02-.2 1.41-.59l7.78-7.78 2.81-2.81c.8-.78.8-2.07 0-2.86zM5.41 20L4 18.59l7.72-7.72 1.47 1.35L5.41 20z\"/>\n",
              "  </svg>\n",
              "      </button>\n",
              "      \n",
              "  <style>\n",
              "    .colab-df-container {\n",
              "      display:flex;\n",
              "      flex-wrap:wrap;\n",
              "      gap: 12px;\n",
              "    }\n",
              "\n",
              "    .colab-df-convert {\n",
              "      background-color: #E8F0FE;\n",
              "      border: none;\n",
              "      border-radius: 50%;\n",
              "      cursor: pointer;\n",
              "      display: none;\n",
              "      fill: #1967D2;\n",
              "      height: 32px;\n",
              "      padding: 0 0 0 0;\n",
              "      width: 32px;\n",
              "    }\n",
              "\n",
              "    .colab-df-convert:hover {\n",
              "      background-color: #E2EBFA;\n",
              "      box-shadow: 0px 1px 2px rgba(60, 64, 67, 0.3), 0px 1px 3px 1px rgba(60, 64, 67, 0.15);\n",
              "      fill: #174EA6;\n",
              "    }\n",
              "\n",
              "    [theme=dark] .colab-df-convert {\n",
              "      background-color: #3B4455;\n",
              "      fill: #D2E3FC;\n",
              "    }\n",
              "\n",
              "    [theme=dark] .colab-df-convert:hover {\n",
              "      background-color: #434B5C;\n",
              "      box-shadow: 0px 1px 3px 1px rgba(0, 0, 0, 0.15);\n",
              "      filter: drop-shadow(0px 1px 2px rgba(0, 0, 0, 0.3));\n",
              "      fill: #FFFFFF;\n",
              "    }\n",
              "  </style>\n",
              "\n",
              "      <script>\n",
              "        const buttonEl =\n",
              "          document.querySelector('#df-c7c158a9-0231-44a8-b701-37edc5a8b930 button.colab-df-convert');\n",
              "        buttonEl.style.display =\n",
              "          google.colab.kernel.accessAllowed ? 'block' : 'none';\n",
              "\n",
              "        async function convertToInteractive(key) {\n",
              "          const element = document.querySelector('#df-c7c158a9-0231-44a8-b701-37edc5a8b930');\n",
              "          const dataTable =\n",
              "            await google.colab.kernel.invokeFunction('convertToInteractive',\n",
              "                                                     [key], {});\n",
              "          if (!dataTable) return;\n",
              "\n",
              "          const docLinkHtml = 'Like what you see? Visit the ' +\n",
              "            '<a target=\"_blank\" href=https://colab.research.google.com/notebooks/data_table.ipynb>data table notebook</a>'\n",
              "            + ' to learn more about interactive tables.';\n",
              "          element.innerHTML = '';\n",
              "          dataTable['output_type'] = 'display_data';\n",
              "          await google.colab.output.renderOutput(dataTable, element);\n",
              "          const docLink = document.createElement('div');\n",
              "          docLink.innerHTML = docLinkHtml;\n",
              "          element.appendChild(docLink);\n",
              "        }\n",
              "      </script>\n",
              "    </div>\n",
              "  </div>\n",
              "  "
            ]
          },
          "metadata": {},
          "execution_count": 93
        }
      ]
    },
    {
      "cell_type": "code",
      "source": [
        "cl_data = cl_data.iloc[: , 1:]"
      ],
      "metadata": {
        "id": "rEmlUNsvhGBV"
      },
      "execution_count": 94,
      "outputs": []
    },
    {
      "cell_type": "code",
      "source": [
        "cl_data.head()"
      ],
      "metadata": {
        "id": "6COVNI2khJ0z",
        "colab": {
          "base_uri": "https://localhost:8080/",
          "height": 0
        },
        "outputId": "8788825c-6f73-4bc3-e3ef-1ea55859109d"
      },
      "execution_count": 95,
      "outputs": [
        {
          "output_type": "execute_result",
          "data": {
            "text/plain": [
              "   duration  director_facebook_likes  actor_3_facebook_likes  actor_2_name  \\\n",
              "0  3.415162                -0.262591               -0.087463           501   \n",
              "1  2.965056                -0.093100               -0.029226           794   \n",
              "2  2.714997                 6.360482                8.806735           207   \n",
              "3  1.114621                -0.119593               -0.217994           900   \n",
              "4  2.314903                -0.262591                1.175678           441   \n",
              "\n",
              "   actor_1_facebook_likes  actor_1_name  cast_total_facebook_likes  \\\n",
              "0               -0.438793            94                  -0.407342   \n",
              "1                1.570244           351                   1.414928   \n",
              "2                0.900565           657                   3.860857   \n",
              "3               -0.457338           166                  -0.531337   \n",
              "4                0.746024           276                   1.318823   \n",
              "\n",
              "   actor_3_name  budget_x  actor_2_facebook_likes  ...  Sci-Fi  Sport  \\\n",
              "0          1247  3.669535               -0.312258  ...       1      0   \n",
              "1           503  5.194659                0.399282  ...       0      0   \n",
              "2           643  3.627024                3.550788  ...       0      0   \n",
              "3           977  3.886243               -0.365484  ...       1      0   \n",
              "4           715  4.312951                1.449784  ...       1      0   \n",
              "\n",
              "   Thriller  War  Western  mpaa_G  mpaa_NC-17  mpaa_PG  mpaa_PG-13  mpaa_R  \n",
              "0         0    0        0       0           0        0           1       0  \n",
              "1         0    0        0       0           0        0           1       0  \n",
              "2         0    0        0       0           0        0           1       0  \n",
              "3         0    0        0       0           0        0           1       0  \n",
              "4         0    0        0       0           0        0           1       0  \n",
              "\n",
              "[5 rows x 46 columns]"
            ],
            "text/html": [
              "\n",
              "  <div id=\"df-e49a2ecd-3d29-4eef-b6db-c55363aaf19c\">\n",
              "    <div class=\"colab-df-container\">\n",
              "      <div>\n",
              "<style scoped>\n",
              "    .dataframe tbody tr th:only-of-type {\n",
              "        vertical-align: middle;\n",
              "    }\n",
              "\n",
              "    .dataframe tbody tr th {\n",
              "        vertical-align: top;\n",
              "    }\n",
              "\n",
              "    .dataframe thead th {\n",
              "        text-align: right;\n",
              "    }\n",
              "</style>\n",
              "<table border=\"1\" class=\"dataframe\">\n",
              "  <thead>\n",
              "    <tr style=\"text-align: right;\">\n",
              "      <th></th>\n",
              "      <th>duration</th>\n",
              "      <th>director_facebook_likes</th>\n",
              "      <th>actor_3_facebook_likes</th>\n",
              "      <th>actor_2_name</th>\n",
              "      <th>actor_1_facebook_likes</th>\n",
              "      <th>actor_1_name</th>\n",
              "      <th>cast_total_facebook_likes</th>\n",
              "      <th>actor_3_name</th>\n",
              "      <th>budget_x</th>\n",
              "      <th>actor_2_facebook_likes</th>\n",
              "      <th>...</th>\n",
              "      <th>Sci-Fi</th>\n",
              "      <th>Sport</th>\n",
              "      <th>Thriller</th>\n",
              "      <th>War</th>\n",
              "      <th>Western</th>\n",
              "      <th>mpaa_G</th>\n",
              "      <th>mpaa_NC-17</th>\n",
              "      <th>mpaa_PG</th>\n",
              "      <th>mpaa_PG-13</th>\n",
              "      <th>mpaa_R</th>\n",
              "    </tr>\n",
              "  </thead>\n",
              "  <tbody>\n",
              "    <tr>\n",
              "      <th>0</th>\n",
              "      <td>3.415162</td>\n",
              "      <td>-0.262591</td>\n",
              "      <td>-0.087463</td>\n",
              "      <td>501</td>\n",
              "      <td>-0.438793</td>\n",
              "      <td>94</td>\n",
              "      <td>-0.407342</td>\n",
              "      <td>1247</td>\n",
              "      <td>3.669535</td>\n",
              "      <td>-0.312258</td>\n",
              "      <td>...</td>\n",
              "      <td>1</td>\n",
              "      <td>0</td>\n",
              "      <td>0</td>\n",
              "      <td>0</td>\n",
              "      <td>0</td>\n",
              "      <td>0</td>\n",
              "      <td>0</td>\n",
              "      <td>0</td>\n",
              "      <td>1</td>\n",
              "      <td>0</td>\n",
              "    </tr>\n",
              "    <tr>\n",
              "      <th>1</th>\n",
              "      <td>2.965056</td>\n",
              "      <td>-0.093100</td>\n",
              "      <td>-0.029226</td>\n",
              "      <td>794</td>\n",
              "      <td>1.570244</td>\n",
              "      <td>351</td>\n",
              "      <td>1.414928</td>\n",
              "      <td>503</td>\n",
              "      <td>5.194659</td>\n",
              "      <td>0.399282</td>\n",
              "      <td>...</td>\n",
              "      <td>0</td>\n",
              "      <td>0</td>\n",
              "      <td>0</td>\n",
              "      <td>0</td>\n",
              "      <td>0</td>\n",
              "      <td>0</td>\n",
              "      <td>0</td>\n",
              "      <td>0</td>\n",
              "      <td>1</td>\n",
              "      <td>0</td>\n",
              "    </tr>\n",
              "    <tr>\n",
              "      <th>2</th>\n",
              "      <td>2.714997</td>\n",
              "      <td>6.360482</td>\n",
              "      <td>8.806735</td>\n",
              "      <td>207</td>\n",
              "      <td>0.900565</td>\n",
              "      <td>657</td>\n",
              "      <td>3.860857</td>\n",
              "      <td>643</td>\n",
              "      <td>3.627024</td>\n",
              "      <td>3.550788</td>\n",
              "      <td>...</td>\n",
              "      <td>0</td>\n",
              "      <td>0</td>\n",
              "      <td>0</td>\n",
              "      <td>0</td>\n",
              "      <td>0</td>\n",
              "      <td>0</td>\n",
              "      <td>0</td>\n",
              "      <td>0</td>\n",
              "      <td>1</td>\n",
              "      <td>0</td>\n",
              "    </tr>\n",
              "    <tr>\n",
              "      <th>3</th>\n",
              "      <td>1.114621</td>\n",
              "      <td>-0.119593</td>\n",
              "      <td>-0.217994</td>\n",
              "      <td>900</td>\n",
              "      <td>-0.457338</td>\n",
              "      <td>166</td>\n",
              "      <td>-0.531337</td>\n",
              "      <td>977</td>\n",
              "      <td>3.886243</td>\n",
              "      <td>-0.365484</td>\n",
              "      <td>...</td>\n",
              "      <td>1</td>\n",
              "      <td>0</td>\n",
              "      <td>0</td>\n",
              "      <td>0</td>\n",
              "      <td>0</td>\n",
              "      <td>0</td>\n",
              "      <td>0</td>\n",
              "      <td>0</td>\n",
              "      <td>1</td>\n",
              "      <td>0</td>\n",
              "    </tr>\n",
              "    <tr>\n",
              "      <th>4</th>\n",
              "      <td>2.314903</td>\n",
              "      <td>-0.262591</td>\n",
              "      <td>1.175678</td>\n",
              "      <td>441</td>\n",
              "      <td>0.746024</td>\n",
              "      <td>276</td>\n",
              "      <td>1.318823</td>\n",
              "      <td>715</td>\n",
              "      <td>4.312951</td>\n",
              "      <td>1.449784</td>\n",
              "      <td>...</td>\n",
              "      <td>1</td>\n",
              "      <td>0</td>\n",
              "      <td>0</td>\n",
              "      <td>0</td>\n",
              "      <td>0</td>\n",
              "      <td>0</td>\n",
              "      <td>0</td>\n",
              "      <td>0</td>\n",
              "      <td>1</td>\n",
              "      <td>0</td>\n",
              "    </tr>\n",
              "  </tbody>\n",
              "</table>\n",
              "<p>5 rows × 46 columns</p>\n",
              "</div>\n",
              "      <button class=\"colab-df-convert\" onclick=\"convertToInteractive('df-e49a2ecd-3d29-4eef-b6db-c55363aaf19c')\"\n",
              "              title=\"Convert this dataframe to an interactive table.\"\n",
              "              style=\"display:none;\">\n",
              "        \n",
              "  <svg xmlns=\"http://www.w3.org/2000/svg\" height=\"24px\"viewBox=\"0 0 24 24\"\n",
              "       width=\"24px\">\n",
              "    <path d=\"M0 0h24v24H0V0z\" fill=\"none\"/>\n",
              "    <path d=\"M18.56 5.44l.94 2.06.94-2.06 2.06-.94-2.06-.94-.94-2.06-.94 2.06-2.06.94zm-11 1L8.5 8.5l.94-2.06 2.06-.94-2.06-.94L8.5 2.5l-.94 2.06-2.06.94zm10 10l.94 2.06.94-2.06 2.06-.94-2.06-.94-.94-2.06-.94 2.06-2.06.94z\"/><path d=\"M17.41 7.96l-1.37-1.37c-.4-.4-.92-.59-1.43-.59-.52 0-1.04.2-1.43.59L10.3 9.45l-7.72 7.72c-.78.78-.78 2.05 0 2.83L4 21.41c.39.39.9.59 1.41.59.51 0 1.02-.2 1.41-.59l7.78-7.78 2.81-2.81c.8-.78.8-2.07 0-2.86zM5.41 20L4 18.59l7.72-7.72 1.47 1.35L5.41 20z\"/>\n",
              "  </svg>\n",
              "      </button>\n",
              "      \n",
              "  <style>\n",
              "    .colab-df-container {\n",
              "      display:flex;\n",
              "      flex-wrap:wrap;\n",
              "      gap: 12px;\n",
              "    }\n",
              "\n",
              "    .colab-df-convert {\n",
              "      background-color: #E8F0FE;\n",
              "      border: none;\n",
              "      border-radius: 50%;\n",
              "      cursor: pointer;\n",
              "      display: none;\n",
              "      fill: #1967D2;\n",
              "      height: 32px;\n",
              "      padding: 0 0 0 0;\n",
              "      width: 32px;\n",
              "    }\n",
              "\n",
              "    .colab-df-convert:hover {\n",
              "      background-color: #E2EBFA;\n",
              "      box-shadow: 0px 1px 2px rgba(60, 64, 67, 0.3), 0px 1px 3px 1px rgba(60, 64, 67, 0.15);\n",
              "      fill: #174EA6;\n",
              "    }\n",
              "\n",
              "    [theme=dark] .colab-df-convert {\n",
              "      background-color: #3B4455;\n",
              "      fill: #D2E3FC;\n",
              "    }\n",
              "\n",
              "    [theme=dark] .colab-df-convert:hover {\n",
              "      background-color: #434B5C;\n",
              "      box-shadow: 0px 1px 3px 1px rgba(0, 0, 0, 0.15);\n",
              "      filter: drop-shadow(0px 1px 2px rgba(0, 0, 0, 0.3));\n",
              "      fill: #FFFFFF;\n",
              "    }\n",
              "  </style>\n",
              "\n",
              "      <script>\n",
              "        const buttonEl =\n",
              "          document.querySelector('#df-e49a2ecd-3d29-4eef-b6db-c55363aaf19c button.colab-df-convert');\n",
              "        buttonEl.style.display =\n",
              "          google.colab.kernel.accessAllowed ? 'block' : 'none';\n",
              "\n",
              "        async function convertToInteractive(key) {\n",
              "          const element = document.querySelector('#df-e49a2ecd-3d29-4eef-b6db-c55363aaf19c');\n",
              "          const dataTable =\n",
              "            await google.colab.kernel.invokeFunction('convertToInteractive',\n",
              "                                                     [key], {});\n",
              "          if (!dataTable) return;\n",
              "\n",
              "          const docLinkHtml = 'Like what you see? Visit the ' +\n",
              "            '<a target=\"_blank\" href=https://colab.research.google.com/notebooks/data_table.ipynb>data table notebook</a>'\n",
              "            + ' to learn more about interactive tables.';\n",
              "          element.innerHTML = '';\n",
              "          dataTable['output_type'] = 'display_data';\n",
              "          await google.colab.output.renderOutput(dataTable, element);\n",
              "          const docLink = document.createElement('div');\n",
              "          docLink.innerHTML = docLinkHtml;\n",
              "          element.appendChild(docLink);\n",
              "        }\n",
              "      </script>\n",
              "    </div>\n",
              "  </div>\n",
              "  "
            ]
          },
          "metadata": {},
          "execution_count": 95
        }
      ]
    },
    {
      "cell_type": "code",
      "source": [
        "df = cl_data # on cleaned dataset"
      ],
      "metadata": {
        "id": "WM4InRJybhG8"
      },
      "execution_count": 96,
      "outputs": []
    },
    {
      "cell_type": "code",
      "source": [
        "df.head()"
      ],
      "metadata": {
        "id": "uHgKb2-dGniX",
        "colab": {
          "base_uri": "https://localhost:8080/",
          "height": 0
        },
        "outputId": "16203317-0766-46f4-efc7-f23848f06dfc"
      },
      "execution_count": 97,
      "outputs": [
        {
          "output_type": "execute_result",
          "data": {
            "text/plain": [
              "   duration  director_facebook_likes  actor_3_facebook_likes  actor_2_name  \\\n",
              "0  3.415162                -0.262591               -0.087463           501   \n",
              "1  2.965056                -0.093100               -0.029226           794   \n",
              "2  2.714997                 6.360482                8.806735           207   \n",
              "3  1.114621                -0.119593               -0.217994           900   \n",
              "4  2.314903                -0.262591                1.175678           441   \n",
              "\n",
              "   actor_1_facebook_likes  actor_1_name  cast_total_facebook_likes  \\\n",
              "0               -0.438793            94                  -0.407342   \n",
              "1                1.570244           351                   1.414928   \n",
              "2                0.900565           657                   3.860857   \n",
              "3               -0.457338           166                  -0.531337   \n",
              "4                0.746024           276                   1.318823   \n",
              "\n",
              "   actor_3_name  budget_x  actor_2_facebook_likes  ...  Sci-Fi  Sport  \\\n",
              "0          1247  3.669535               -0.312258  ...       1      0   \n",
              "1           503  5.194659                0.399282  ...       0      0   \n",
              "2           643  3.627024                3.550788  ...       0      0   \n",
              "3           977  3.886243               -0.365484  ...       1      0   \n",
              "4           715  4.312951                1.449784  ...       1      0   \n",
              "\n",
              "   Thriller  War  Western  mpaa_G  mpaa_NC-17  mpaa_PG  mpaa_PG-13  mpaa_R  \n",
              "0         0    0        0       0           0        0           1       0  \n",
              "1         0    0        0       0           0        0           1       0  \n",
              "2         0    0        0       0           0        0           1       0  \n",
              "3         0    0        0       0           0        0           1       0  \n",
              "4         0    0        0       0           0        0           1       0  \n",
              "\n",
              "[5 rows x 46 columns]"
            ],
            "text/html": [
              "\n",
              "  <div id=\"df-de7faf14-c972-4d13-a2b5-5c847b0ef735\">\n",
              "    <div class=\"colab-df-container\">\n",
              "      <div>\n",
              "<style scoped>\n",
              "    .dataframe tbody tr th:only-of-type {\n",
              "        vertical-align: middle;\n",
              "    }\n",
              "\n",
              "    .dataframe tbody tr th {\n",
              "        vertical-align: top;\n",
              "    }\n",
              "\n",
              "    .dataframe thead th {\n",
              "        text-align: right;\n",
              "    }\n",
              "</style>\n",
              "<table border=\"1\" class=\"dataframe\">\n",
              "  <thead>\n",
              "    <tr style=\"text-align: right;\">\n",
              "      <th></th>\n",
              "      <th>duration</th>\n",
              "      <th>director_facebook_likes</th>\n",
              "      <th>actor_3_facebook_likes</th>\n",
              "      <th>actor_2_name</th>\n",
              "      <th>actor_1_facebook_likes</th>\n",
              "      <th>actor_1_name</th>\n",
              "      <th>cast_total_facebook_likes</th>\n",
              "      <th>actor_3_name</th>\n",
              "      <th>budget_x</th>\n",
              "      <th>actor_2_facebook_likes</th>\n",
              "      <th>...</th>\n",
              "      <th>Sci-Fi</th>\n",
              "      <th>Sport</th>\n",
              "      <th>Thriller</th>\n",
              "      <th>War</th>\n",
              "      <th>Western</th>\n",
              "      <th>mpaa_G</th>\n",
              "      <th>mpaa_NC-17</th>\n",
              "      <th>mpaa_PG</th>\n",
              "      <th>mpaa_PG-13</th>\n",
              "      <th>mpaa_R</th>\n",
              "    </tr>\n",
              "  </thead>\n",
              "  <tbody>\n",
              "    <tr>\n",
              "      <th>0</th>\n",
              "      <td>3.415162</td>\n",
              "      <td>-0.262591</td>\n",
              "      <td>-0.087463</td>\n",
              "      <td>501</td>\n",
              "      <td>-0.438793</td>\n",
              "      <td>94</td>\n",
              "      <td>-0.407342</td>\n",
              "      <td>1247</td>\n",
              "      <td>3.669535</td>\n",
              "      <td>-0.312258</td>\n",
              "      <td>...</td>\n",
              "      <td>1</td>\n",
              "      <td>0</td>\n",
              "      <td>0</td>\n",
              "      <td>0</td>\n",
              "      <td>0</td>\n",
              "      <td>0</td>\n",
              "      <td>0</td>\n",
              "      <td>0</td>\n",
              "      <td>1</td>\n",
              "      <td>0</td>\n",
              "    </tr>\n",
              "    <tr>\n",
              "      <th>1</th>\n",
              "      <td>2.965056</td>\n",
              "      <td>-0.093100</td>\n",
              "      <td>-0.029226</td>\n",
              "      <td>794</td>\n",
              "      <td>1.570244</td>\n",
              "      <td>351</td>\n",
              "      <td>1.414928</td>\n",
              "      <td>503</td>\n",
              "      <td>5.194659</td>\n",
              "      <td>0.399282</td>\n",
              "      <td>...</td>\n",
              "      <td>0</td>\n",
              "      <td>0</td>\n",
              "      <td>0</td>\n",
              "      <td>0</td>\n",
              "      <td>0</td>\n",
              "      <td>0</td>\n",
              "      <td>0</td>\n",
              "      <td>0</td>\n",
              "      <td>1</td>\n",
              "      <td>0</td>\n",
              "    </tr>\n",
              "    <tr>\n",
              "      <th>2</th>\n",
              "      <td>2.714997</td>\n",
              "      <td>6.360482</td>\n",
              "      <td>8.806735</td>\n",
              "      <td>207</td>\n",
              "      <td>0.900565</td>\n",
              "      <td>657</td>\n",
              "      <td>3.860857</td>\n",
              "      <td>643</td>\n",
              "      <td>3.627024</td>\n",
              "      <td>3.550788</td>\n",
              "      <td>...</td>\n",
              "      <td>0</td>\n",
              "      <td>0</td>\n",
              "      <td>0</td>\n",
              "      <td>0</td>\n",
              "      <td>0</td>\n",
              "      <td>0</td>\n",
              "      <td>0</td>\n",
              "      <td>0</td>\n",
              "      <td>1</td>\n",
              "      <td>0</td>\n",
              "    </tr>\n",
              "    <tr>\n",
              "      <th>3</th>\n",
              "      <td>1.114621</td>\n",
              "      <td>-0.119593</td>\n",
              "      <td>-0.217994</td>\n",
              "      <td>900</td>\n",
              "      <td>-0.457338</td>\n",
              "      <td>166</td>\n",
              "      <td>-0.531337</td>\n",
              "      <td>977</td>\n",
              "      <td>3.886243</td>\n",
              "      <td>-0.365484</td>\n",
              "      <td>...</td>\n",
              "      <td>1</td>\n",
              "      <td>0</td>\n",
              "      <td>0</td>\n",
              "      <td>0</td>\n",
              "      <td>0</td>\n",
              "      <td>0</td>\n",
              "      <td>0</td>\n",
              "      <td>0</td>\n",
              "      <td>1</td>\n",
              "      <td>0</td>\n",
              "    </tr>\n",
              "    <tr>\n",
              "      <th>4</th>\n",
              "      <td>2.314903</td>\n",
              "      <td>-0.262591</td>\n",
              "      <td>1.175678</td>\n",
              "      <td>441</td>\n",
              "      <td>0.746024</td>\n",
              "      <td>276</td>\n",
              "      <td>1.318823</td>\n",
              "      <td>715</td>\n",
              "      <td>4.312951</td>\n",
              "      <td>1.449784</td>\n",
              "      <td>...</td>\n",
              "      <td>1</td>\n",
              "      <td>0</td>\n",
              "      <td>0</td>\n",
              "      <td>0</td>\n",
              "      <td>0</td>\n",
              "      <td>0</td>\n",
              "      <td>0</td>\n",
              "      <td>0</td>\n",
              "      <td>1</td>\n",
              "      <td>0</td>\n",
              "    </tr>\n",
              "  </tbody>\n",
              "</table>\n",
              "<p>5 rows × 46 columns</p>\n",
              "</div>\n",
              "      <button class=\"colab-df-convert\" onclick=\"convertToInteractive('df-de7faf14-c972-4d13-a2b5-5c847b0ef735')\"\n",
              "              title=\"Convert this dataframe to an interactive table.\"\n",
              "              style=\"display:none;\">\n",
              "        \n",
              "  <svg xmlns=\"http://www.w3.org/2000/svg\" height=\"24px\"viewBox=\"0 0 24 24\"\n",
              "       width=\"24px\">\n",
              "    <path d=\"M0 0h24v24H0V0z\" fill=\"none\"/>\n",
              "    <path d=\"M18.56 5.44l.94 2.06.94-2.06 2.06-.94-2.06-.94-.94-2.06-.94 2.06-2.06.94zm-11 1L8.5 8.5l.94-2.06 2.06-.94-2.06-.94L8.5 2.5l-.94 2.06-2.06.94zm10 10l.94 2.06.94-2.06 2.06-.94-2.06-.94-.94-2.06-.94 2.06-2.06.94z\"/><path d=\"M17.41 7.96l-1.37-1.37c-.4-.4-.92-.59-1.43-.59-.52 0-1.04.2-1.43.59L10.3 9.45l-7.72 7.72c-.78.78-.78 2.05 0 2.83L4 21.41c.39.39.9.59 1.41.59.51 0 1.02-.2 1.41-.59l7.78-7.78 2.81-2.81c.8-.78.8-2.07 0-2.86zM5.41 20L4 18.59l7.72-7.72 1.47 1.35L5.41 20z\"/>\n",
              "  </svg>\n",
              "      </button>\n",
              "      \n",
              "  <style>\n",
              "    .colab-df-container {\n",
              "      display:flex;\n",
              "      flex-wrap:wrap;\n",
              "      gap: 12px;\n",
              "    }\n",
              "\n",
              "    .colab-df-convert {\n",
              "      background-color: #E8F0FE;\n",
              "      border: none;\n",
              "      border-radius: 50%;\n",
              "      cursor: pointer;\n",
              "      display: none;\n",
              "      fill: #1967D2;\n",
              "      height: 32px;\n",
              "      padding: 0 0 0 0;\n",
              "      width: 32px;\n",
              "    }\n",
              "\n",
              "    .colab-df-convert:hover {\n",
              "      background-color: #E2EBFA;\n",
              "      box-shadow: 0px 1px 2px rgba(60, 64, 67, 0.3), 0px 1px 3px 1px rgba(60, 64, 67, 0.15);\n",
              "      fill: #174EA6;\n",
              "    }\n",
              "\n",
              "    [theme=dark] .colab-df-convert {\n",
              "      background-color: #3B4455;\n",
              "      fill: #D2E3FC;\n",
              "    }\n",
              "\n",
              "    [theme=dark] .colab-df-convert:hover {\n",
              "      background-color: #434B5C;\n",
              "      box-shadow: 0px 1px 3px 1px rgba(0, 0, 0, 0.15);\n",
              "      filter: drop-shadow(0px 1px 2px rgba(0, 0, 0, 0.3));\n",
              "      fill: #FFFFFF;\n",
              "    }\n",
              "  </style>\n",
              "\n",
              "      <script>\n",
              "        const buttonEl =\n",
              "          document.querySelector('#df-de7faf14-c972-4d13-a2b5-5c847b0ef735 button.colab-df-convert');\n",
              "        buttonEl.style.display =\n",
              "          google.colab.kernel.accessAllowed ? 'block' : 'none';\n",
              "\n",
              "        async function convertToInteractive(key) {\n",
              "          const element = document.querySelector('#df-de7faf14-c972-4d13-a2b5-5c847b0ef735');\n",
              "          const dataTable =\n",
              "            await google.colab.kernel.invokeFunction('convertToInteractive',\n",
              "                                                     [key], {});\n",
              "          if (!dataTable) return;\n",
              "\n",
              "          const docLinkHtml = 'Like what you see? Visit the ' +\n",
              "            '<a target=\"_blank\" href=https://colab.research.google.com/notebooks/data_table.ipynb>data table notebook</a>'\n",
              "            + ' to learn more about interactive tables.';\n",
              "          element.innerHTML = '';\n",
              "          dataTable['output_type'] = 'display_data';\n",
              "          await google.colab.output.renderOutput(dataTable, element);\n",
              "          const docLink = document.createElement('div');\n",
              "          docLink.innerHTML = docLinkHtml;\n",
              "          element.appendChild(docLink);\n",
              "        }\n",
              "      </script>\n",
              "    </div>\n",
              "  </div>\n",
              "  "
            ]
          },
          "metadata": {},
          "execution_count": 97
        }
      ]
    },
    {
      "cell_type": "code",
      "source": [
        "# get the name of the column to be moved\n",
        "column_name = 'worldwide'\n",
        "# create a new dataframe with the desired column order\n",
        "df = df[[col for col in df.columns if col != column_name] + [column_name]]"
      ],
      "metadata": {
        "id": "M76lRuSFJKuL"
      },
      "execution_count": 98,
      "outputs": []
    },
    {
      "cell_type": "code",
      "source": [
        "df.head()"
      ],
      "metadata": {
        "id": "a-PH4xdSgVuO",
        "colab": {
          "base_uri": "https://localhost:8080/",
          "height": 0
        },
        "outputId": "d7d8e87d-e319-4a5e-9ddb-c5994cbe6ef5"
      },
      "execution_count": 99,
      "outputs": [
        {
          "output_type": "execute_result",
          "data": {
            "text/plain": [
              "   duration  director_facebook_likes  actor_3_facebook_likes  actor_2_name  \\\n",
              "0  3.415162                -0.262591               -0.087463           501   \n",
              "1  2.965056                -0.093100               -0.029226           794   \n",
              "2  2.714997                 6.360482                8.806735           207   \n",
              "3  1.114621                -0.119593               -0.217994           900   \n",
              "4  2.314903                -0.262591                1.175678           441   \n",
              "\n",
              "   actor_1_facebook_likes  actor_1_name  cast_total_facebook_likes  \\\n",
              "0               -0.438793            94                  -0.407342   \n",
              "1                1.570244           351                   1.414928   \n",
              "2                0.900565           657                   3.860857   \n",
              "3               -0.457338           166                  -0.531337   \n",
              "4                0.746024           276                   1.318823   \n",
              "\n",
              "   actor_3_name  budget_x  actor_2_facebook_likes  ...  Sport  Thriller  War  \\\n",
              "0          1247  3.669535               -0.312258  ...      0         0    0   \n",
              "1           503  5.194659                0.399282  ...      0         0    0   \n",
              "2           643  3.627024                3.550788  ...      0         0    0   \n",
              "3           977  3.886243               -0.365484  ...      0         0    0   \n",
              "4           715  4.312951                1.449784  ...      0         0    0   \n",
              "\n",
              "   Western  mpaa_G  mpaa_NC-17  mpaa_PG  mpaa_PG-13  mpaa_R  worldwide  \n",
              "0        0       0           0        0           1       0  12.343415  \n",
              "1        0       0           0        0           1       0   3.946822  \n",
              "2        0       0           0        0           1       0   4.012153  \n",
              "3        0       0           0        0           1       0   0.497327  \n",
              "4        0       0           0        0           1       0   3.623781  \n",
              "\n",
              "[5 rows x 46 columns]"
            ],
            "text/html": [
              "\n",
              "  <div id=\"df-ec014e9b-1051-4134-a1a9-c7f3137d0da2\">\n",
              "    <div class=\"colab-df-container\">\n",
              "      <div>\n",
              "<style scoped>\n",
              "    .dataframe tbody tr th:only-of-type {\n",
              "        vertical-align: middle;\n",
              "    }\n",
              "\n",
              "    .dataframe tbody tr th {\n",
              "        vertical-align: top;\n",
              "    }\n",
              "\n",
              "    .dataframe thead th {\n",
              "        text-align: right;\n",
              "    }\n",
              "</style>\n",
              "<table border=\"1\" class=\"dataframe\">\n",
              "  <thead>\n",
              "    <tr style=\"text-align: right;\">\n",
              "      <th></th>\n",
              "      <th>duration</th>\n",
              "      <th>director_facebook_likes</th>\n",
              "      <th>actor_3_facebook_likes</th>\n",
              "      <th>actor_2_name</th>\n",
              "      <th>actor_1_facebook_likes</th>\n",
              "      <th>actor_1_name</th>\n",
              "      <th>cast_total_facebook_likes</th>\n",
              "      <th>actor_3_name</th>\n",
              "      <th>budget_x</th>\n",
              "      <th>actor_2_facebook_likes</th>\n",
              "      <th>...</th>\n",
              "      <th>Sport</th>\n",
              "      <th>Thriller</th>\n",
              "      <th>War</th>\n",
              "      <th>Western</th>\n",
              "      <th>mpaa_G</th>\n",
              "      <th>mpaa_NC-17</th>\n",
              "      <th>mpaa_PG</th>\n",
              "      <th>mpaa_PG-13</th>\n",
              "      <th>mpaa_R</th>\n",
              "      <th>worldwide</th>\n",
              "    </tr>\n",
              "  </thead>\n",
              "  <tbody>\n",
              "    <tr>\n",
              "      <th>0</th>\n",
              "      <td>3.415162</td>\n",
              "      <td>-0.262591</td>\n",
              "      <td>-0.087463</td>\n",
              "      <td>501</td>\n",
              "      <td>-0.438793</td>\n",
              "      <td>94</td>\n",
              "      <td>-0.407342</td>\n",
              "      <td>1247</td>\n",
              "      <td>3.669535</td>\n",
              "      <td>-0.312258</td>\n",
              "      <td>...</td>\n",
              "      <td>0</td>\n",
              "      <td>0</td>\n",
              "      <td>0</td>\n",
              "      <td>0</td>\n",
              "      <td>0</td>\n",
              "      <td>0</td>\n",
              "      <td>0</td>\n",
              "      <td>1</td>\n",
              "      <td>0</td>\n",
              "      <td>12.343415</td>\n",
              "    </tr>\n",
              "    <tr>\n",
              "      <th>1</th>\n",
              "      <td>2.965056</td>\n",
              "      <td>-0.093100</td>\n",
              "      <td>-0.029226</td>\n",
              "      <td>794</td>\n",
              "      <td>1.570244</td>\n",
              "      <td>351</td>\n",
              "      <td>1.414928</td>\n",
              "      <td>503</td>\n",
              "      <td>5.194659</td>\n",
              "      <td>0.399282</td>\n",
              "      <td>...</td>\n",
              "      <td>0</td>\n",
              "      <td>0</td>\n",
              "      <td>0</td>\n",
              "      <td>0</td>\n",
              "      <td>0</td>\n",
              "      <td>0</td>\n",
              "      <td>0</td>\n",
              "      <td>1</td>\n",
              "      <td>0</td>\n",
              "      <td>3.946822</td>\n",
              "    </tr>\n",
              "    <tr>\n",
              "      <th>2</th>\n",
              "      <td>2.714997</td>\n",
              "      <td>6.360482</td>\n",
              "      <td>8.806735</td>\n",
              "      <td>207</td>\n",
              "      <td>0.900565</td>\n",
              "      <td>657</td>\n",
              "      <td>3.860857</td>\n",
              "      <td>643</td>\n",
              "      <td>3.627024</td>\n",
              "      <td>3.550788</td>\n",
              "      <td>...</td>\n",
              "      <td>0</td>\n",
              "      <td>0</td>\n",
              "      <td>0</td>\n",
              "      <td>0</td>\n",
              "      <td>0</td>\n",
              "      <td>0</td>\n",
              "      <td>0</td>\n",
              "      <td>1</td>\n",
              "      <td>0</td>\n",
              "      <td>4.012153</td>\n",
              "    </tr>\n",
              "    <tr>\n",
              "      <th>3</th>\n",
              "      <td>1.114621</td>\n",
              "      <td>-0.119593</td>\n",
              "      <td>-0.217994</td>\n",
              "      <td>900</td>\n",
              "      <td>-0.457338</td>\n",
              "      <td>166</td>\n",
              "      <td>-0.531337</td>\n",
              "      <td>977</td>\n",
              "      <td>3.886243</td>\n",
              "      <td>-0.365484</td>\n",
              "      <td>...</td>\n",
              "      <td>0</td>\n",
              "      <td>0</td>\n",
              "      <td>0</td>\n",
              "      <td>0</td>\n",
              "      <td>0</td>\n",
              "      <td>0</td>\n",
              "      <td>0</td>\n",
              "      <td>1</td>\n",
              "      <td>0</td>\n",
              "      <td>0.497327</td>\n",
              "    </tr>\n",
              "    <tr>\n",
              "      <th>4</th>\n",
              "      <td>2.314903</td>\n",
              "      <td>-0.262591</td>\n",
              "      <td>1.175678</td>\n",
              "      <td>441</td>\n",
              "      <td>0.746024</td>\n",
              "      <td>276</td>\n",
              "      <td>1.318823</td>\n",
              "      <td>715</td>\n",
              "      <td>4.312951</td>\n",
              "      <td>1.449784</td>\n",
              "      <td>...</td>\n",
              "      <td>0</td>\n",
              "      <td>0</td>\n",
              "      <td>0</td>\n",
              "      <td>0</td>\n",
              "      <td>0</td>\n",
              "      <td>0</td>\n",
              "      <td>0</td>\n",
              "      <td>1</td>\n",
              "      <td>0</td>\n",
              "      <td>3.623781</td>\n",
              "    </tr>\n",
              "  </tbody>\n",
              "</table>\n",
              "<p>5 rows × 46 columns</p>\n",
              "</div>\n",
              "      <button class=\"colab-df-convert\" onclick=\"convertToInteractive('df-ec014e9b-1051-4134-a1a9-c7f3137d0da2')\"\n",
              "              title=\"Convert this dataframe to an interactive table.\"\n",
              "              style=\"display:none;\">\n",
              "        \n",
              "  <svg xmlns=\"http://www.w3.org/2000/svg\" height=\"24px\"viewBox=\"0 0 24 24\"\n",
              "       width=\"24px\">\n",
              "    <path d=\"M0 0h24v24H0V0z\" fill=\"none\"/>\n",
              "    <path d=\"M18.56 5.44l.94 2.06.94-2.06 2.06-.94-2.06-.94-.94-2.06-.94 2.06-2.06.94zm-11 1L8.5 8.5l.94-2.06 2.06-.94-2.06-.94L8.5 2.5l-.94 2.06-2.06.94zm10 10l.94 2.06.94-2.06 2.06-.94-2.06-.94-.94-2.06-.94 2.06-2.06.94z\"/><path d=\"M17.41 7.96l-1.37-1.37c-.4-.4-.92-.59-1.43-.59-.52 0-1.04.2-1.43.59L10.3 9.45l-7.72 7.72c-.78.78-.78 2.05 0 2.83L4 21.41c.39.39.9.59 1.41.59.51 0 1.02-.2 1.41-.59l7.78-7.78 2.81-2.81c.8-.78.8-2.07 0-2.86zM5.41 20L4 18.59l7.72-7.72 1.47 1.35L5.41 20z\"/>\n",
              "  </svg>\n",
              "      </button>\n",
              "      \n",
              "  <style>\n",
              "    .colab-df-container {\n",
              "      display:flex;\n",
              "      flex-wrap:wrap;\n",
              "      gap: 12px;\n",
              "    }\n",
              "\n",
              "    .colab-df-convert {\n",
              "      background-color: #E8F0FE;\n",
              "      border: none;\n",
              "      border-radius: 50%;\n",
              "      cursor: pointer;\n",
              "      display: none;\n",
              "      fill: #1967D2;\n",
              "      height: 32px;\n",
              "      padding: 0 0 0 0;\n",
              "      width: 32px;\n",
              "    }\n",
              "\n",
              "    .colab-df-convert:hover {\n",
              "      background-color: #E2EBFA;\n",
              "      box-shadow: 0px 1px 2px rgba(60, 64, 67, 0.3), 0px 1px 3px 1px rgba(60, 64, 67, 0.15);\n",
              "      fill: #174EA6;\n",
              "    }\n",
              "\n",
              "    [theme=dark] .colab-df-convert {\n",
              "      background-color: #3B4455;\n",
              "      fill: #D2E3FC;\n",
              "    }\n",
              "\n",
              "    [theme=dark] .colab-df-convert:hover {\n",
              "      background-color: #434B5C;\n",
              "      box-shadow: 0px 1px 3px 1px rgba(0, 0, 0, 0.15);\n",
              "      filter: drop-shadow(0px 1px 2px rgba(0, 0, 0, 0.3));\n",
              "      fill: #FFFFFF;\n",
              "    }\n",
              "  </style>\n",
              "\n",
              "      <script>\n",
              "        const buttonEl =\n",
              "          document.querySelector('#df-ec014e9b-1051-4134-a1a9-c7f3137d0da2 button.colab-df-convert');\n",
              "        buttonEl.style.display =\n",
              "          google.colab.kernel.accessAllowed ? 'block' : 'none';\n",
              "\n",
              "        async function convertToInteractive(key) {\n",
              "          const element = document.querySelector('#df-ec014e9b-1051-4134-a1a9-c7f3137d0da2');\n",
              "          const dataTable =\n",
              "            await google.colab.kernel.invokeFunction('convertToInteractive',\n",
              "                                                     [key], {});\n",
              "          if (!dataTable) return;\n",
              "\n",
              "          const docLinkHtml = 'Like what you see? Visit the ' +\n",
              "            '<a target=\"_blank\" href=https://colab.research.google.com/notebooks/data_table.ipynb>data table notebook</a>'\n",
              "            + ' to learn more about interactive tables.';\n",
              "          element.innerHTML = '';\n",
              "          dataTable['output_type'] = 'display_data';\n",
              "          await google.colab.output.renderOutput(dataTable, element);\n",
              "          const docLink = document.createElement('div');\n",
              "          docLink.innerHTML = docLinkHtml;\n",
              "          element.appendChild(docLink);\n",
              "        }\n",
              "      </script>\n",
              "    </div>\n",
              "  </div>\n",
              "  "
            ]
          },
          "metadata": {},
          "execution_count": 99
        }
      ]
    },
    {
      "cell_type": "code",
      "source": [
        "df.shape"
      ],
      "metadata": {
        "id": "TY25-g9utQ29",
        "colab": {
          "base_uri": "https://localhost:8080/"
        },
        "outputId": "f9651c30-4500-46e9-d2dd-15cd60565d3c"
      },
      "execution_count": 100,
      "outputs": [
        {
          "output_type": "execute_result",
          "data": {
            "text/plain": [
              "(1648, 46)"
            ]
          },
          "metadata": {},
          "execution_count": 100
        }
      ]
    },
    {
      "cell_type": "code",
      "source": [
        "df.info()"
      ],
      "metadata": {
        "id": "8xJOaImht3p0",
        "colab": {
          "base_uri": "https://localhost:8080/"
        },
        "outputId": "4d887998-0327-456d-9079-ba3fd7108e21"
      },
      "execution_count": 101,
      "outputs": [
        {
          "output_type": "stream",
          "name": "stdout",
          "text": [
            "<class 'pandas.core.frame.DataFrame'>\n",
            "RangeIndex: 1648 entries, 0 to 1647\n",
            "Data columns (total 46 columns):\n",
            " #   Column                     Non-Null Count  Dtype  \n",
            "---  ------                     --------------  -----  \n",
            " 0   duration                   1648 non-null   float64\n",
            " 1   director_facebook_likes    1648 non-null   float64\n",
            " 2   actor_3_facebook_likes     1648 non-null   float64\n",
            " 3   actor_2_name               1648 non-null   int64  \n",
            " 4   actor_1_facebook_likes     1648 non-null   float64\n",
            " 5   actor_1_name               1648 non-null   int64  \n",
            " 6   cast_total_facebook_likes  1648 non-null   float64\n",
            " 7   actor_3_name               1648 non-null   int64  \n",
            " 8   budget_x                   1648 non-null   float64\n",
            " 9   actor_2_facebook_likes     1648 non-null   float64\n",
            " 10  movie_facebook_likes       1648 non-null   float64\n",
            " 11  before_premiere_trends     1648 non-null   float64\n",
            " 12  director                   1648 non-null   int64  \n",
            " 13  writer                     1648 non-null   int64  \n",
            " 14  producer                   1648 non-null   int64  \n",
            " 15  composer                   1648 non-null   int64  \n",
            " 16  cinematographer            1648 non-null   int64  \n",
            " 17  main_actor_4               1648 non-null   int64  \n",
            " 18  Action                     1648 non-null   int64  \n",
            " 19  Adventure                  1648 non-null   int64  \n",
            " 20  Animation                  1648 non-null   int64  \n",
            " 21  Biography                  1648 non-null   int64  \n",
            " 22  Comedy                     1648 non-null   int64  \n",
            " 23  Crime                      1648 non-null   int64  \n",
            " 24  Documentary                1648 non-null   int64  \n",
            " 25  Drama                      1648 non-null   int64  \n",
            " 26  Family                     1648 non-null   int64  \n",
            " 27  Fantasy                    1648 non-null   int64  \n",
            " 28  History                    1648 non-null   int64  \n",
            " 29  Horror                     1648 non-null   int64  \n",
            " 30  Music                      1648 non-null   int64  \n",
            " 31  Musical                    1648 non-null   int64  \n",
            " 32  Mystery                    1648 non-null   int64  \n",
            " 33  News                       1648 non-null   int64  \n",
            " 34  Romance                    1648 non-null   int64  \n",
            " 35  Sci-Fi                     1648 non-null   int64  \n",
            " 36  Sport                      1648 non-null   int64  \n",
            " 37  Thriller                   1648 non-null   int64  \n",
            " 38  War                        1648 non-null   int64  \n",
            " 39  Western                    1648 non-null   int64  \n",
            " 40  mpaa_G                     1648 non-null   int64  \n",
            " 41  mpaa_NC-17                 1648 non-null   int64  \n",
            " 42  mpaa_PG                    1648 non-null   int64  \n",
            " 43  mpaa_PG-13                 1648 non-null   int64  \n",
            " 44  mpaa_R                     1648 non-null   int64  \n",
            " 45  worldwide                  1648 non-null   float64\n",
            "dtypes: float64(10), int64(36)\n",
            "memory usage: 592.4 KB\n"
          ]
        }
      ]
    },
    {
      "cell_type": "code",
      "source": [
        "#df = df.drop('before_premiere_trends',axis = 1)\n",
        "#df = df.drop('movie_facebook_likes', axis = 1)"
      ],
      "metadata": {
        "id": "1UesyMmFGcW-"
      },
      "execution_count": 102,
      "outputs": []
    },
    {
      "cell_type": "code",
      "source": [
        "df.describe()"
      ],
      "metadata": {
        "id": "lqVK-BU9tQ56",
        "colab": {
          "base_uri": "https://localhost:8080/",
          "height": 0
        },
        "outputId": "6d02cbc6-dcaf-493d-92ee-3ab5957b1830"
      },
      "execution_count": 103,
      "outputs": [
        {
          "output_type": "execute_result",
          "data": {
            "text/plain": [
              "          duration  director_facebook_likes  actor_3_facebook_likes  \\\n",
              "count  1648.000000              1648.000000             1648.000000   \n",
              "mean      0.004286                 0.003645                0.004148   \n",
              "std       1.003074                 1.007729                1.007545   \n",
              "min      -2.336192                -0.262591               -0.430860   \n",
              "25%      -0.685803                -0.258376               -0.319608   \n",
              "50%      -0.185685                -0.241517               -0.218396   \n",
              "75%       0.514479                -0.186425               -0.109754   \n",
              "max       8.516362                 6.661531                8.806735   \n",
              "\n",
              "       actor_2_name  actor_1_facebook_likes  actor_1_name  \\\n",
              "count   1648.000000             1648.000000   1648.000000   \n",
              "mean     535.064320                0.004444    351.770024   \n",
              "std      315.738178                1.006481    199.810311   \n",
              "min        0.000000               -0.490307      0.000000   \n",
              "25%      258.750000               -0.442657    180.000000   \n",
              "50%      527.500000               -0.335765    352.500000   \n",
              "75%      815.250000                0.282400    523.250000   \n",
              "max     1080.000000               32.478500    691.000000   \n",
              "\n",
              "       cast_total_facebook_likes  actor_3_name      budget_x  \\\n",
              "count                1648.000000   1648.000000  1.648000e+03   \n",
              "mean                    0.005373    643.808252  1.103756e-15   \n",
              "std                     1.006471    371.684084  1.000000e+00   \n",
              "min                    -0.609770      0.000000 -1.103251e+00   \n",
              "25%                    -0.496527    318.750000 -7.236815e-01   \n",
              "50%                    -0.335127    646.000000 -3.518163e-01   \n",
              "75%                     0.227004    971.250000  4.493676e-01   \n",
              "max                    26.891375   1277.000000  5.194659e+00   \n",
              "\n",
              "       actor_2_facebook_likes  ...        Sport     Thriller          War  \\\n",
              "count             1648.000000  ...  1648.000000  1648.000000  1648.000000   \n",
              "mean                 0.005224  ...     0.037621     0.265170     0.022451   \n",
              "std                  1.006823  ...     0.190336     0.441558     0.148191   \n",
              "min                 -0.476137  ...     0.000000     0.000000     0.000000   \n",
              "25%                 -0.384174  ...     0.000000     0.000000     0.000000   \n",
              "50%                 -0.331518  ...     0.000000     0.000000     0.000000   \n",
              "75%                 -0.301053  ...     0.000000     1.000000     0.000000   \n",
              "max                 23.510330  ...     1.000000     1.000000     1.000000   \n",
              "\n",
              "           Western       mpaa_G   mpaa_NC-17      mpaa_PG   mpaa_PG-13  \\\n",
              "count  1648.000000  1648.000000  1648.000000  1648.000000  1648.000000   \n",
              "mean      0.006068     0.007888     0.000607     0.163228     0.441141   \n",
              "std       0.077684     0.088492     0.024633     0.369686     0.496674   \n",
              "min       0.000000     0.000000     0.000000     0.000000     0.000000   \n",
              "25%       0.000000     0.000000     0.000000     0.000000     0.000000   \n",
              "50%       0.000000     0.000000     0.000000     0.000000     0.000000   \n",
              "75%       0.000000     0.000000     0.000000     0.000000     1.000000   \n",
              "max       1.000000     1.000000     1.000000     1.000000     1.000000   \n",
              "\n",
              "            mpaa_R    worldwide  \n",
              "count  1648.000000  1648.000000  \n",
              "mean      0.367718     0.009758  \n",
              "std       0.482331     1.004983  \n",
              "min       0.000000    -0.755499  \n",
              "25%       0.000000    -0.580211  \n",
              "50%       0.000000    -0.346994  \n",
              "75%       1.000000     0.189103  \n",
              "max       1.000000    12.343415  \n",
              "\n",
              "[8 rows x 46 columns]"
            ],
            "text/html": [
              "\n",
              "  <div id=\"df-051ddf0b-d366-4534-a168-913245de2d6e\">\n",
              "    <div class=\"colab-df-container\">\n",
              "      <div>\n",
              "<style scoped>\n",
              "    .dataframe tbody tr th:only-of-type {\n",
              "        vertical-align: middle;\n",
              "    }\n",
              "\n",
              "    .dataframe tbody tr th {\n",
              "        vertical-align: top;\n",
              "    }\n",
              "\n",
              "    .dataframe thead th {\n",
              "        text-align: right;\n",
              "    }\n",
              "</style>\n",
              "<table border=\"1\" class=\"dataframe\">\n",
              "  <thead>\n",
              "    <tr style=\"text-align: right;\">\n",
              "      <th></th>\n",
              "      <th>duration</th>\n",
              "      <th>director_facebook_likes</th>\n",
              "      <th>actor_3_facebook_likes</th>\n",
              "      <th>actor_2_name</th>\n",
              "      <th>actor_1_facebook_likes</th>\n",
              "      <th>actor_1_name</th>\n",
              "      <th>cast_total_facebook_likes</th>\n",
              "      <th>actor_3_name</th>\n",
              "      <th>budget_x</th>\n",
              "      <th>actor_2_facebook_likes</th>\n",
              "      <th>...</th>\n",
              "      <th>Sport</th>\n",
              "      <th>Thriller</th>\n",
              "      <th>War</th>\n",
              "      <th>Western</th>\n",
              "      <th>mpaa_G</th>\n",
              "      <th>mpaa_NC-17</th>\n",
              "      <th>mpaa_PG</th>\n",
              "      <th>mpaa_PG-13</th>\n",
              "      <th>mpaa_R</th>\n",
              "      <th>worldwide</th>\n",
              "    </tr>\n",
              "  </thead>\n",
              "  <tbody>\n",
              "    <tr>\n",
              "      <th>count</th>\n",
              "      <td>1648.000000</td>\n",
              "      <td>1648.000000</td>\n",
              "      <td>1648.000000</td>\n",
              "      <td>1648.000000</td>\n",
              "      <td>1648.000000</td>\n",
              "      <td>1648.000000</td>\n",
              "      <td>1648.000000</td>\n",
              "      <td>1648.000000</td>\n",
              "      <td>1.648000e+03</td>\n",
              "      <td>1648.000000</td>\n",
              "      <td>...</td>\n",
              "      <td>1648.000000</td>\n",
              "      <td>1648.000000</td>\n",
              "      <td>1648.000000</td>\n",
              "      <td>1648.000000</td>\n",
              "      <td>1648.000000</td>\n",
              "      <td>1648.000000</td>\n",
              "      <td>1648.000000</td>\n",
              "      <td>1648.000000</td>\n",
              "      <td>1648.000000</td>\n",
              "      <td>1648.000000</td>\n",
              "    </tr>\n",
              "    <tr>\n",
              "      <th>mean</th>\n",
              "      <td>0.004286</td>\n",
              "      <td>0.003645</td>\n",
              "      <td>0.004148</td>\n",
              "      <td>535.064320</td>\n",
              "      <td>0.004444</td>\n",
              "      <td>351.770024</td>\n",
              "      <td>0.005373</td>\n",
              "      <td>643.808252</td>\n",
              "      <td>1.103756e-15</td>\n",
              "      <td>0.005224</td>\n",
              "      <td>...</td>\n",
              "      <td>0.037621</td>\n",
              "      <td>0.265170</td>\n",
              "      <td>0.022451</td>\n",
              "      <td>0.006068</td>\n",
              "      <td>0.007888</td>\n",
              "      <td>0.000607</td>\n",
              "      <td>0.163228</td>\n",
              "      <td>0.441141</td>\n",
              "      <td>0.367718</td>\n",
              "      <td>0.009758</td>\n",
              "    </tr>\n",
              "    <tr>\n",
              "      <th>std</th>\n",
              "      <td>1.003074</td>\n",
              "      <td>1.007729</td>\n",
              "      <td>1.007545</td>\n",
              "      <td>315.738178</td>\n",
              "      <td>1.006481</td>\n",
              "      <td>199.810311</td>\n",
              "      <td>1.006471</td>\n",
              "      <td>371.684084</td>\n",
              "      <td>1.000000e+00</td>\n",
              "      <td>1.006823</td>\n",
              "      <td>...</td>\n",
              "      <td>0.190336</td>\n",
              "      <td>0.441558</td>\n",
              "      <td>0.148191</td>\n",
              "      <td>0.077684</td>\n",
              "      <td>0.088492</td>\n",
              "      <td>0.024633</td>\n",
              "      <td>0.369686</td>\n",
              "      <td>0.496674</td>\n",
              "      <td>0.482331</td>\n",
              "      <td>1.004983</td>\n",
              "    </tr>\n",
              "    <tr>\n",
              "      <th>min</th>\n",
              "      <td>-2.336192</td>\n",
              "      <td>-0.262591</td>\n",
              "      <td>-0.430860</td>\n",
              "      <td>0.000000</td>\n",
              "      <td>-0.490307</td>\n",
              "      <td>0.000000</td>\n",
              "      <td>-0.609770</td>\n",
              "      <td>0.000000</td>\n",
              "      <td>-1.103251e+00</td>\n",
              "      <td>-0.476137</td>\n",
              "      <td>...</td>\n",
              "      <td>0.000000</td>\n",
              "      <td>0.000000</td>\n",
              "      <td>0.000000</td>\n",
              "      <td>0.000000</td>\n",
              "      <td>0.000000</td>\n",
              "      <td>0.000000</td>\n",
              "      <td>0.000000</td>\n",
              "      <td>0.000000</td>\n",
              "      <td>0.000000</td>\n",
              "      <td>-0.755499</td>\n",
              "    </tr>\n",
              "    <tr>\n",
              "      <th>25%</th>\n",
              "      <td>-0.685803</td>\n",
              "      <td>-0.258376</td>\n",
              "      <td>-0.319608</td>\n",
              "      <td>258.750000</td>\n",
              "      <td>-0.442657</td>\n",
              "      <td>180.000000</td>\n",
              "      <td>-0.496527</td>\n",
              "      <td>318.750000</td>\n",
              "      <td>-7.236815e-01</td>\n",
              "      <td>-0.384174</td>\n",
              "      <td>...</td>\n",
              "      <td>0.000000</td>\n",
              "      <td>0.000000</td>\n",
              "      <td>0.000000</td>\n",
              "      <td>0.000000</td>\n",
              "      <td>0.000000</td>\n",
              "      <td>0.000000</td>\n",
              "      <td>0.000000</td>\n",
              "      <td>0.000000</td>\n",
              "      <td>0.000000</td>\n",
              "      <td>-0.580211</td>\n",
              "    </tr>\n",
              "    <tr>\n",
              "      <th>50%</th>\n",
              "      <td>-0.185685</td>\n",
              "      <td>-0.241517</td>\n",
              "      <td>-0.218396</td>\n",
              "      <td>527.500000</td>\n",
              "      <td>-0.335765</td>\n",
              "      <td>352.500000</td>\n",
              "      <td>-0.335127</td>\n",
              "      <td>646.000000</td>\n",
              "      <td>-3.518163e-01</td>\n",
              "      <td>-0.331518</td>\n",
              "      <td>...</td>\n",
              "      <td>0.000000</td>\n",
              "      <td>0.000000</td>\n",
              "      <td>0.000000</td>\n",
              "      <td>0.000000</td>\n",
              "      <td>0.000000</td>\n",
              "      <td>0.000000</td>\n",
              "      <td>0.000000</td>\n",
              "      <td>0.000000</td>\n",
              "      <td>0.000000</td>\n",
              "      <td>-0.346994</td>\n",
              "    </tr>\n",
              "    <tr>\n",
              "      <th>75%</th>\n",
              "      <td>0.514479</td>\n",
              "      <td>-0.186425</td>\n",
              "      <td>-0.109754</td>\n",
              "      <td>815.250000</td>\n",
              "      <td>0.282400</td>\n",
              "      <td>523.250000</td>\n",
              "      <td>0.227004</td>\n",
              "      <td>971.250000</td>\n",
              "      <td>4.493676e-01</td>\n",
              "      <td>-0.301053</td>\n",
              "      <td>...</td>\n",
              "      <td>0.000000</td>\n",
              "      <td>1.000000</td>\n",
              "      <td>0.000000</td>\n",
              "      <td>0.000000</td>\n",
              "      <td>0.000000</td>\n",
              "      <td>0.000000</td>\n",
              "      <td>0.000000</td>\n",
              "      <td>1.000000</td>\n",
              "      <td>1.000000</td>\n",
              "      <td>0.189103</td>\n",
              "    </tr>\n",
              "    <tr>\n",
              "      <th>max</th>\n",
              "      <td>8.516362</td>\n",
              "      <td>6.661531</td>\n",
              "      <td>8.806735</td>\n",
              "      <td>1080.000000</td>\n",
              "      <td>32.478500</td>\n",
              "      <td>691.000000</td>\n",
              "      <td>26.891375</td>\n",
              "      <td>1277.000000</td>\n",
              "      <td>5.194659e+00</td>\n",
              "      <td>23.510330</td>\n",
              "      <td>...</td>\n",
              "      <td>1.000000</td>\n",
              "      <td>1.000000</td>\n",
              "      <td>1.000000</td>\n",
              "      <td>1.000000</td>\n",
              "      <td>1.000000</td>\n",
              "      <td>1.000000</td>\n",
              "      <td>1.000000</td>\n",
              "      <td>1.000000</td>\n",
              "      <td>1.000000</td>\n",
              "      <td>12.343415</td>\n",
              "    </tr>\n",
              "  </tbody>\n",
              "</table>\n",
              "<p>8 rows × 46 columns</p>\n",
              "</div>\n",
              "      <button class=\"colab-df-convert\" onclick=\"convertToInteractive('df-051ddf0b-d366-4534-a168-913245de2d6e')\"\n",
              "              title=\"Convert this dataframe to an interactive table.\"\n",
              "              style=\"display:none;\">\n",
              "        \n",
              "  <svg xmlns=\"http://www.w3.org/2000/svg\" height=\"24px\"viewBox=\"0 0 24 24\"\n",
              "       width=\"24px\">\n",
              "    <path d=\"M0 0h24v24H0V0z\" fill=\"none\"/>\n",
              "    <path d=\"M18.56 5.44l.94 2.06.94-2.06 2.06-.94-2.06-.94-.94-2.06-.94 2.06-2.06.94zm-11 1L8.5 8.5l.94-2.06 2.06-.94-2.06-.94L8.5 2.5l-.94 2.06-2.06.94zm10 10l.94 2.06.94-2.06 2.06-.94-2.06-.94-.94-2.06-.94 2.06-2.06.94z\"/><path d=\"M17.41 7.96l-1.37-1.37c-.4-.4-.92-.59-1.43-.59-.52 0-1.04.2-1.43.59L10.3 9.45l-7.72 7.72c-.78.78-.78 2.05 0 2.83L4 21.41c.39.39.9.59 1.41.59.51 0 1.02-.2 1.41-.59l7.78-7.78 2.81-2.81c.8-.78.8-2.07 0-2.86zM5.41 20L4 18.59l7.72-7.72 1.47 1.35L5.41 20z\"/>\n",
              "  </svg>\n",
              "      </button>\n",
              "      \n",
              "  <style>\n",
              "    .colab-df-container {\n",
              "      display:flex;\n",
              "      flex-wrap:wrap;\n",
              "      gap: 12px;\n",
              "    }\n",
              "\n",
              "    .colab-df-convert {\n",
              "      background-color: #E8F0FE;\n",
              "      border: none;\n",
              "      border-radius: 50%;\n",
              "      cursor: pointer;\n",
              "      display: none;\n",
              "      fill: #1967D2;\n",
              "      height: 32px;\n",
              "      padding: 0 0 0 0;\n",
              "      width: 32px;\n",
              "    }\n",
              "\n",
              "    .colab-df-convert:hover {\n",
              "      background-color: #E2EBFA;\n",
              "      box-shadow: 0px 1px 2px rgba(60, 64, 67, 0.3), 0px 1px 3px 1px rgba(60, 64, 67, 0.15);\n",
              "      fill: #174EA6;\n",
              "    }\n",
              "\n",
              "    [theme=dark] .colab-df-convert {\n",
              "      background-color: #3B4455;\n",
              "      fill: #D2E3FC;\n",
              "    }\n",
              "\n",
              "    [theme=dark] .colab-df-convert:hover {\n",
              "      background-color: #434B5C;\n",
              "      box-shadow: 0px 1px 3px 1px rgba(0, 0, 0, 0.15);\n",
              "      filter: drop-shadow(0px 1px 2px rgba(0, 0, 0, 0.3));\n",
              "      fill: #FFFFFF;\n",
              "    }\n",
              "  </style>\n",
              "\n",
              "      <script>\n",
              "        const buttonEl =\n",
              "          document.querySelector('#df-051ddf0b-d366-4534-a168-913245de2d6e button.colab-df-convert');\n",
              "        buttonEl.style.display =\n",
              "          google.colab.kernel.accessAllowed ? 'block' : 'none';\n",
              "\n",
              "        async function convertToInteractive(key) {\n",
              "          const element = document.querySelector('#df-051ddf0b-d366-4534-a168-913245de2d6e');\n",
              "          const dataTable =\n",
              "            await google.colab.kernel.invokeFunction('convertToInteractive',\n",
              "                                                     [key], {});\n",
              "          if (!dataTable) return;\n",
              "\n",
              "          const docLinkHtml = 'Like what you see? Visit the ' +\n",
              "            '<a target=\"_blank\" href=https://colab.research.google.com/notebooks/data_table.ipynb>data table notebook</a>'\n",
              "            + ' to learn more about interactive tables.';\n",
              "          element.innerHTML = '';\n",
              "          dataTable['output_type'] = 'display_data';\n",
              "          await google.colab.output.renderOutput(dataTable, element);\n",
              "          const docLink = document.createElement('div');\n",
              "          docLink.innerHTML = docLinkHtml;\n",
              "          element.appendChild(docLink);\n",
              "        }\n",
              "      </script>\n",
              "    </div>\n",
              "  </div>\n",
              "  "
            ]
          },
          "metadata": {},
          "execution_count": 103
        }
      ]
    },
    {
      "cell_type": "code",
      "source": [
        "#Finding Unique Values\n",
        "print(df.nunique())"
      ],
      "metadata": {
        "id": "hDWH3AVFtRtj",
        "colab": {
          "base_uri": "https://localhost:8080/"
        },
        "outputId": "26a7644b-2b5b-4c2e-97e3-07d310fcf06c"
      },
      "execution_count": 104,
      "outputs": [
        {
          "output_type": "stream",
          "name": "stdout",
          "text": [
            "duration                      115\n",
            "director_facebook_likes       304\n",
            "actor_3_facebook_likes        689\n",
            "actor_2_name                 1068\n",
            "actor_1_facebook_likes        376\n",
            "actor_1_name                  681\n",
            "cast_total_facebook_likes    1527\n",
            "actor_3_name                 1260\n",
            "budget_x                      894\n",
            "actor_2_facebook_likes        581\n",
            "movie_facebook_likes          306\n",
            "before_premiere_trends         74\n",
            "director                      852\n",
            "writer                       1123\n",
            "producer                      822\n",
            "composer                      408\n",
            "cinematographer               475\n",
            "main_actor_4                 1249\n",
            "Action                          2\n",
            "Adventure                       2\n",
            "Animation                       2\n",
            "Biography                       2\n",
            "Comedy                          2\n",
            "Crime                           2\n",
            "Documentary                     2\n",
            "Drama                           2\n",
            "Family                          2\n",
            "Fantasy                         2\n",
            "History                         2\n",
            "Horror                          2\n",
            "Music                           2\n",
            "Musical                         2\n",
            "Mystery                         2\n",
            "News                            1\n",
            "Romance                         2\n",
            "Sci-Fi                          2\n",
            "Sport                           2\n",
            "Thriller                        2\n",
            "War                             2\n",
            "Western                         2\n",
            "mpaa_G                          2\n",
            "mpaa_NC-17                      2\n",
            "mpaa_PG                         2\n",
            "mpaa_PG-13                      2\n",
            "mpaa_R                          2\n",
            "worldwide                    1589\n",
            "dtype: int64\n"
          ]
        }
      ]
    },
    {
      "cell_type": "markdown",
      "source": [
        "#Univariate Analysis"
      ],
      "metadata": {
        "id": "KitRmhgJE3uj"
      }
    },
    {
      "cell_type": "code",
      "source": [
        "import seaborn as sns"
      ],
      "metadata": {
        "id": "Sf4Y0Bd9ucJ0"
      },
      "execution_count": 14,
      "outputs": []
    },
    {
      "cell_type": "code",
      "source": [
        "# Univariate Analysis\n",
        "sns.distplot(df.duration, color=\"purple\");"
      ],
      "metadata": {
        "id": "2x2rSWSI4JZK",
        "colab": {
          "base_uri": "https://localhost:8080/",
          "height": 0
        },
        "outputId": "1e9fa14d-5324-4563-e873-c20a14f7a0b1"
      },
      "execution_count": 15,
      "outputs": [
        {
          "output_type": "stream",
          "name": "stderr",
          "text": [
            "<ipython-input-15-d3f3f74c1922>:2: UserWarning: \n",
            "\n",
            "`distplot` is a deprecated function and will be removed in seaborn v0.14.0.\n",
            "\n",
            "Please adapt your code to use either `displot` (a figure-level function with\n",
            "similar flexibility) or `histplot` (an axes-level function for histograms).\n",
            "\n",
            "For a guide to updating your code to use the new functions, please see\n",
            "https://gist.github.com/mwaskom/de44147ed2974457ad6372750bbe5751\n",
            "\n",
            "  sns.distplot(df.duration, color=\"purple\");\n"
          ]
        },
        {
          "output_type": "display_data",
          "data": {
            "text/plain": [
              "<Figure size 640x480 with 1 Axes>"
            ],
            "image/png": "[encoded data removed]"
          },
          "metadata": {}
        }
      ]
    },
    {
      "cell_type": "code",
      "source": [
        "# Univariate Analysis\n",
        "sns.distplot(df.director_facebook_likes, color=\"purple\");"
      ],
      "metadata": {
        "id": "m2v9B-JX4WH6",
        "colab": {
          "base_uri": "https://localhost:8080/",
          "height": 0
        },
        "outputId": "43d416f7-5efe-4d88-d914-6864ce514d25"
      },
      "execution_count": 16,
      "outputs": [
        {
          "output_type": "stream",
          "name": "stderr",
          "text": [
            "<ipython-input-16-79971e011ceb>:2: UserWarning: \n",
            "\n",
            "`distplot` is a deprecated function and will be removed in seaborn v0.14.0.\n",
            "\n",
            "Please adapt your code to use either `displot` (a figure-level function with\n",
            "similar flexibility) or `histplot` (an axes-level function for histograms).\n",
            "\n",
            "For a guide to updating your code to use the new functions, please see\n",
            "https://gist.github.com/mwaskom/de44147ed2974457ad6372750bbe5751\n",
            "\n",
            "  sns.distplot(df.director_facebook_likes, color=\"purple\");\n"
          ]
        },
        {
          "output_type": "display_data",
          "data": {
            "text/plain": [
              "<Figure size 640x480 with 1 Axes>"
            ],
            "image/png": "[encoded data removed]"
          },
          "metadata": {}
        }
      ]
    },
    {
      "cell_type": "code",
      "source": [
        "# Univariate Analysis\n",
        "sns.distplot(df.actor_3_facebook_likes, color=\"purple\");"
      ],
      "metadata": {
        "id": "BuxJtBT74WKl",
        "colab": {
          "base_uri": "https://localhost:8080/",
          "height": 0
        },
        "outputId": "e7b1f8eb-1297-43b8-de56-caa7ee92b0d7"
      },
      "execution_count": 17,
      "outputs": [
        {
          "output_type": "stream",
          "name": "stderr",
          "text": [
            "<ipython-input-17-9d1d30994635>:2: UserWarning: \n",
            "\n",
            "`distplot` is a deprecated function and will be removed in seaborn v0.14.0.\n",
            "\n",
            "Please adapt your code to use either `displot` (a figure-level function with\n",
            "similar flexibility) or `histplot` (an axes-level function for histograms).\n",
            "\n",
            "For a guide to updating your code to use the new functions, please see\n",
            "https://gist.github.com/mwaskom/de44147ed2974457ad6372750bbe5751\n",
            "\n",
            "  sns.distplot(df.actor_3_facebook_likes, color=\"purple\");\n"
          ]
        },
        {
          "output_type": "display_data",
          "data": {
            "text/plain": [
              "<Figure size 640x480 with 1 Axes>"
            ],
            "image/png": "[encoded data removed]"
          },
          "metadata": {}
        }
      ]
    },
    {
      "cell_type": "code",
      "source": [
        "# Univariate Analysis\n",
        "sns.distplot(df.actor_2_name, color=\"purple\");"
      ],
      "metadata": {
        "id": "ify3fwTL4WP3",
        "colab": {
          "base_uri": "https://localhost:8080/",
          "height": 0
        },
        "outputId": "7367ce6f-a227-4882-a59c-fd6aa4cce1e9"
      },
      "execution_count": 18,
      "outputs": [
        {
          "output_type": "stream",
          "name": "stderr",
          "text": [
            "<ipython-input-18-83d71106f857>:2: UserWarning: \n",
            "\n",
            "`distplot` is a deprecated function and will be removed in seaborn v0.14.0.\n",
            "\n",
            "Please adapt your code to use either `displot` (a figure-level function with\n",
            "similar flexibility) or `histplot` (an axes-level function for histograms).\n",
            "\n",
            "For a guide to updating your code to use the new functions, please see\n",
            "https://gist.github.com/mwaskom/de44147ed2974457ad6372750bbe5751\n",
            "\n",
            "  sns.distplot(df.actor_2_name, color=\"purple\");\n"
          ]
        },
        {
          "output_type": "display_data",
          "data": {
            "text/plain": [
              "<Figure size 640x480 with 1 Axes>"
            ],
            "image/png": "[encoded data removed]"
          },
          "metadata": {}
        }
      ]
    },
    {
      "cell_type": "code",
      "source": [
        "# Univariate Analysis\n",
        "sns.distplot(df.actor_1_facebook_likes, color=\"purple\");"
      ],
      "metadata": {
        "id": "mYujfHQV4WS-",
        "colab": {
          "base_uri": "https://localhost:8080/",
          "height": 0
        },
        "outputId": "fc0ab959-8c29-4cb6-e722-c9aae94ebd9b"
      },
      "execution_count": 19,
      "outputs": [
        {
          "output_type": "stream",
          "name": "stderr",
          "text": [
            "<ipython-input-19-ea6c4fef007c>:2: UserWarning: \n",
            "\n",
            "`distplot` is a deprecated function and will be removed in seaborn v0.14.0.\n",
            "\n",
            "Please adapt your code to use either `displot` (a figure-level function with\n",
            "similar flexibility) or `histplot` (an axes-level function for histograms).\n",
            "\n",
            "For a guide to updating your code to use the new functions, please see\n",
            "https://gist.github.com/mwaskom/de44147ed2974457ad6372750bbe5751\n",
            "\n",
            "  sns.distplot(df.actor_1_facebook_likes, color=\"purple\");\n"
          ]
        },
        {
          "output_type": "display_data",
          "data": {
            "text/plain": [
              "<Figure size 640x480 with 1 Axes>"
            ],
            "image/png": "[encoded data removed]"
          },
          "metadata": {}
        }
      ]
    },
    {
      "cell_type": "code",
      "source": [
        "# Univariate Analysis\n",
        "sns.distplot(df.actor_1_name, color=\"purple\");"
      ],
      "metadata": {
        "id": "663r-fIz4WVk",
        "colab": {
          "base_uri": "https://localhost:8080/",
          "height": 0
        },
        "outputId": "b939be2f-5971-499a-a05a-f1c9c089cc36"
      },
      "execution_count": 20,
      "outputs": [
        {
          "output_type": "stream",
          "name": "stderr",
          "text": [
            "<ipython-input-20-50d489d6a4a0>:2: UserWarning: \n",
            "\n",
            "`distplot` is a deprecated function and will be removed in seaborn v0.14.0.\n",
            "\n",
            "Please adapt your code to use either `displot` (a figure-level function with\n",
            "similar flexibility) or `histplot` (an axes-level function for histograms).\n",
            "\n",
            "For a guide to updating your code to use the new functions, please see\n",
            "https://gist.github.com/mwaskom/de44147ed2974457ad6372750bbe5751\n",
            "\n",
            "  sns.distplot(df.actor_1_name, color=\"purple\");\n"
          ]
        },
        {
          "output_type": "display_data",
          "data": {
            "text/plain": [
              "<Figure size 640x480 with 1 Axes>"
            ],
            "image/png": "[encoded data removed]"
          },
          "metadata": {}
        }
      ]
    },
    {
      "cell_type": "code",
      "source": [
        "# Univariate Analysis\n",
        "sns.displot(df.cast_total_facebook_likes, color=\"purple\");"
      ],
      "metadata": {
        "id": "dG9EoRvc4WYj",
        "colab": {
          "base_uri": "https://localhost:8080/",
          "height": 0
        },
        "outputId": "6b7715c7-8f5d-4c11-9583-b5edd62111a4"
      },
      "execution_count": 21,
      "outputs": [
        {
          "output_type": "display_data",
          "data": {
            "text/plain": [
              "<Figure size 500x500 with 1 Axes>"
            ],
            "image/png": "[encoded data removed]"
          },
          "metadata": {}
        }
      ]
    },
    {
      "cell_type": "code",
      "source": [
        "# Univariate Analysis\n",
        "sns.distplot(df.actor_3_name, color=\"purple\");"
      ],
      "metadata": {
        "id": "quR29tJA4WbE",
        "colab": {
          "base_uri": "https://localhost:8080/",
          "height": 0
        },
        "outputId": "51b825aa-af11-4937-fb21-a7584220a0ee"
      },
      "execution_count": 22,
      "outputs": [
        {
          "output_type": "stream",
          "name": "stderr",
          "text": [
            "<ipython-input-22-8c523e0b6f0d>:2: UserWarning: \n",
            "\n",
            "`distplot` is a deprecated function and will be removed in seaborn v0.14.0.\n",
            "\n",
            "Please adapt your code to use either `displot` (a figure-level function with\n",
            "similar flexibility) or `histplot` (an axes-level function for histograms).\n",
            "\n",
            "For a guide to updating your code to use the new functions, please see\n",
            "https://gist.github.com/mwaskom/de44147ed2974457ad6372750bbe5751\n",
            "\n",
            "  sns.distplot(df.actor_3_name, color=\"purple\");\n"
          ]
        },
        {
          "output_type": "display_data",
          "data": {
            "text/plain": [
              "<Figure size 640x480 with 1 Axes>"
            ],
            "image/png": "[encoded data removed]"
          },
          "metadata": {}
        }
      ]
    },
    {
      "cell_type": "code",
      "source": [
        "# Univariate Analysis\n",
        "sns.distplot(df.budget_x, color=\"purple\");"
      ],
      "metadata": {
        "id": "9WSqOenT7AkH",
        "colab": {
          "base_uri": "https://localhost:8080/",
          "height": 0
        },
        "outputId": "43a2f3df-53d7-47bf-e8bf-446e57d9147f"
      },
      "execution_count": 23,
      "outputs": [
        {
          "output_type": "stream",
          "name": "stderr",
          "text": [
            "<ipython-input-23-97e485147e4c>:2: UserWarning: \n",
            "\n",
            "`distplot` is a deprecated function and will be removed in seaborn v0.14.0.\n",
            "\n",
            "Please adapt your code to use either `displot` (a figure-level function with\n",
            "similar flexibility) or `histplot` (an axes-level function for histograms).\n",
            "\n",
            "For a guide to updating your code to use the new functions, please see\n",
            "https://gist.github.com/mwaskom/de44147ed2974457ad6372750bbe5751\n",
            "\n",
            "  sns.distplot(df.budget_x, color=\"purple\");\n"
          ]
        },
        {
          "output_type": "display_data",
          "data": {
            "text/plain": [
              "<Figure size 640x480 with 1 Axes>"
            ],
            "image/png": "[encoded data removed]"
          },
          "metadata": {}
        }
      ]
    },
    {
      "cell_type": "code",
      "source": [
        "# Univariate Analysis\n",
        "sns.distplot(df.actor_2_facebook_likes, color=\"purple\");"
      ],
      "metadata": {
        "id": "2cqO-BDQ7Amn",
        "colab": {
          "base_uri": "https://localhost:8080/",
          "height": 0
        },
        "outputId": "f0f7cf68-0cd2-4a0c-f383-e28abdb3dbdd"
      },
      "execution_count": 24,
      "outputs": [
        {
          "output_type": "stream",
          "name": "stderr",
          "text": [
            "<ipython-input-24-27b11360dbff>:2: UserWarning: \n",
            "\n",
            "`distplot` is a deprecated function and will be removed in seaborn v0.14.0.\n",
            "\n",
            "Please adapt your code to use either `displot` (a figure-level function with\n",
            "similar flexibility) or `histplot` (an axes-level function for histograms).\n",
            "\n",
            "For a guide to updating your code to use the new functions, please see\n",
            "https://gist.github.com/mwaskom/de44147ed2974457ad6372750bbe5751\n",
            "\n",
            "  sns.distplot(df.actor_2_facebook_likes, color=\"purple\");\n"
          ]
        },
        {
          "output_type": "display_data",
          "data": {
            "text/plain": [
              "<Figure size 640x480 with 1 Axes>"
            ],
            "image/png": "[encoded data removed]"
          },
          "metadata": {}
        }
      ]
    },
    {
      "cell_type": "code",
      "source": [
        "# Univariate Analysis\n",
        "#sns.distplot(df.movie_facebook_likes, color=\"purple\")"
      ],
      "metadata": {
        "id": "HXFSPioJ7ApP"
      },
      "execution_count": 25,
      "outputs": []
    },
    {
      "cell_type": "code",
      "source": [
        "# Univariate Analysis\n",
        "sns.distplot(df.director, color=\"purple\");"
      ],
      "metadata": {
        "id": "Ike8lM-D7Aum",
        "colab": {
          "base_uri": "https://localhost:8080/",
          "height": 0
        },
        "outputId": "47051f5a-c873-427f-e39e-5f9bec72dc19"
      },
      "execution_count": 26,
      "outputs": [
        {
          "output_type": "stream",
          "name": "stderr",
          "text": [
            "<ipython-input-26-6fa5e9e91a8e>:2: UserWarning: \n",
            "\n",
            "`distplot` is a deprecated function and will be removed in seaborn v0.14.0.\n",
            "\n",
            "Please adapt your code to use either `displot` (a figure-level function with\n",
            "similar flexibility) or `histplot` (an axes-level function for histograms).\n",
            "\n",
            "For a guide to updating your code to use the new functions, please see\n",
            "https://gist.github.com/mwaskom/de44147ed2974457ad6372750bbe5751\n",
            "\n",
            "  sns.distplot(df.director, color=\"purple\");\n"
          ]
        },
        {
          "output_type": "display_data",
          "data": {
            "text/plain": [
              "<Figure size 640x480 with 1 Axes>"
            ],
            "image/png": "[encoded data removed]"
          },
          "metadata": {}
        }
      ]
    },
    {
      "cell_type": "code",
      "source": [
        "# Univariate Analysis\n",
        "sns.distplot(df.writer, color=\"purple\");"
      ],
      "metadata": {
        "id": "B7zG7kKO7Axd",
        "colab": {
          "base_uri": "https://localhost:8080/",
          "height": 0
        },
        "outputId": "615e5ae9-cd93-4d90-8ed8-4a526ef01e11"
      },
      "execution_count": 27,
      "outputs": [
        {
          "output_type": "stream",
          "name": "stderr",
          "text": [
            "<ipython-input-27-1b0dbd0f0763>:2: UserWarning: \n",
            "\n",
            "`distplot` is a deprecated function and will be removed in seaborn v0.14.0.\n",
            "\n",
            "Please adapt your code to use either `displot` (a figure-level function with\n",
            "similar flexibility) or `histplot` (an axes-level function for histograms).\n",
            "\n",
            "For a guide to updating your code to use the new functions, please see\n",
            "https://gist.github.com/mwaskom/de44147ed2974457ad6372750bbe5751\n",
            "\n",
            "  sns.distplot(df.writer, color=\"purple\");\n"
          ]
        },
        {
          "output_type": "display_data",
          "data": {
            "text/plain": [
              "<Figure size 640x480 with 1 Axes>"
            ],
            "image/png": "[encoded data removed]"
          },
          "metadata": {}
        }
      ]
    },
    {
      "cell_type": "code",
      "source": [
        "# Univariate Analysis\n",
        "sns.distplot(df.producer, color=\"purple\");"
      ],
      "metadata": {
        "id": "Tgb88N2P7A0V",
        "colab": {
          "base_uri": "https://localhost:8080/",
          "height": 0
        },
        "outputId": "435c1a25-30ca-487e-c038-289dbdb46b79"
      },
      "execution_count": 28,
      "outputs": [
        {
          "output_type": "stream",
          "name": "stderr",
          "text": [
            "<ipython-input-28-603b610a11c4>:2: UserWarning: \n",
            "\n",
            "`distplot` is a deprecated function and will be removed in seaborn v0.14.0.\n",
            "\n",
            "Please adapt your code to use either `displot` (a figure-level function with\n",
            "similar flexibility) or `histplot` (an axes-level function for histograms).\n",
            "\n",
            "For a guide to updating your code to use the new functions, please see\n",
            "https://gist.github.com/mwaskom/de44147ed2974457ad6372750bbe5751\n",
            "\n",
            "  sns.distplot(df.producer, color=\"purple\");\n"
          ]
        },
        {
          "output_type": "display_data",
          "data": {
            "text/plain": [
              "<Figure size 640x480 with 1 Axes>"
            ],
            "image/png": "[encoded data removed]"
          },
          "metadata": {}
        }
      ]
    },
    {
      "cell_type": "code",
      "source": [
        "# Univariate Analysis\n",
        "sns.distplot(df.composer, color=\"purple\");"
      ],
      "metadata": {
        "id": "YUiPzyPf7A3L",
        "colab": {
          "base_uri": "https://localhost:8080/",
          "height": 0
        },
        "outputId": "937dd9a3-6db6-473a-f050-db0a0a6bec7d"
      },
      "execution_count": 29,
      "outputs": [
        {
          "output_type": "stream",
          "name": "stderr",
          "text": [
            "<ipython-input-29-9832c5c0fd2f>:2: UserWarning: \n",
            "\n",
            "`distplot` is a deprecated function and will be removed in seaborn v0.14.0.\n",
            "\n",
            "Please adapt your code to use either `displot` (a figure-level function with\n",
            "similar flexibility) or `histplot` (an axes-level function for histograms).\n",
            "\n",
            "For a guide to updating your code to use the new functions, please see\n",
            "https://gist.github.com/mwaskom/de44147ed2974457ad6372750bbe5751\n",
            "\n",
            "  sns.distplot(df.composer, color=\"purple\");\n"
          ]
        },
        {
          "output_type": "display_data",
          "data": {
            "text/plain": [
              "<Figure size 640x480 with 1 Axes>"
            ],
            "image/png": "[encoded data removed]"
          },
          "metadata": {}
        }
      ]
    },
    {
      "cell_type": "code",
      "source": [
        "# Univariate Analysis\n",
        "sns.distplot(df.cinematographer, color=\"purple\");"
      ],
      "metadata": {
        "id": "ELuOUoqB7A6K",
        "colab": {
          "base_uri": "https://localhost:8080/",
          "height": 0
        },
        "outputId": "24514fb8-b344-4684-c6d6-bd3d7157ebb9"
      },
      "execution_count": 30,
      "outputs": [
        {
          "output_type": "stream",
          "name": "stderr",
          "text": [
            "<ipython-input-30-3e605cc5a585>:2: UserWarning: \n",
            "\n",
            "`distplot` is a deprecated function and will be removed in seaborn v0.14.0.\n",
            "\n",
            "Please adapt your code to use either `displot` (a figure-level function with\n",
            "similar flexibility) or `histplot` (an axes-level function for histograms).\n",
            "\n",
            "For a guide to updating your code to use the new functions, please see\n",
            "https://gist.github.com/mwaskom/de44147ed2974457ad6372750bbe5751\n",
            "\n",
            "  sns.distplot(df.cinematographer, color=\"purple\");\n"
          ]
        },
        {
          "output_type": "display_data",
          "data": {
            "text/plain": [
              "<Figure size 640x480 with 1 Axes>"
            ],
            "image/png": "[encoded data removed]"
          },
          "metadata": {}
        }
      ]
    },
    {
      "cell_type": "code",
      "source": [
        "# Univariate Analysis\n",
        "sns.distplot(df.main_actor_4, color=\"purple\");"
      ],
      "metadata": {
        "id": "L9JI5KvO7A9i",
        "colab": {
          "base_uri": "https://localhost:8080/",
          "height": 0
        },
        "outputId": "d933ab34-c64a-4ece-8681-55a934bee388"
      },
      "execution_count": 31,
      "outputs": [
        {
          "output_type": "stream",
          "name": "stderr",
          "text": [
            "<ipython-input-31-a1b45426b15c>:2: UserWarning: \n",
            "\n",
            "`distplot` is a deprecated function and will be removed in seaborn v0.14.0.\n",
            "\n",
            "Please adapt your code to use either `displot` (a figure-level function with\n",
            "similar flexibility) or `histplot` (an axes-level function for histograms).\n",
            "\n",
            "For a guide to updating your code to use the new functions, please see\n",
            "https://gist.github.com/mwaskom/de44147ed2974457ad6372750bbe5751\n",
            "\n",
            "  sns.distplot(df.main_actor_4, color=\"purple\");\n"
          ]
        },
        {
          "output_type": "display_data",
          "data": {
            "text/plain": [
              "<Figure size 640x480 with 1 Axes>"
            ],
            "image/png": "[encoded data removed]"
          },
          "metadata": {}
        }
      ]
    },
    {
      "cell_type": "code",
      "source": [
        "# Univariate Analysis\n",
        "sns.distplot(df.director, color=\"purple\");"
      ],
      "metadata": {
        "id": "795GWf9a7BDc",
        "colab": {
          "base_uri": "https://localhost:8080/",
          "height": 0
        },
        "outputId": "2b35849f-4b49-4226-adb9-4fb57eb19495"
      },
      "execution_count": 32,
      "outputs": [
        {
          "output_type": "stream",
          "name": "stderr",
          "text": [
            "<ipython-input-32-6fa5e9e91a8e>:2: UserWarning: \n",
            "\n",
            "`distplot` is a deprecated function and will be removed in seaborn v0.14.0.\n",
            "\n",
            "Please adapt your code to use either `displot` (a figure-level function with\n",
            "similar flexibility) or `histplot` (an axes-level function for histograms).\n",
            "\n",
            "For a guide to updating your code to use the new functions, please see\n",
            "https://gist.github.com/mwaskom/de44147ed2974457ad6372750bbe5751\n",
            "\n",
            "  sns.distplot(df.director, color=\"purple\");\n"
          ]
        },
        {
          "output_type": "display_data",
          "data": {
            "text/plain": [
              "<Figure size 640x480 with 1 Axes>"
            ],
            "image/png": "[encoded data removed]"
          },
          "metadata": {}
        }
      ]
    },
    {
      "cell_type": "code",
      "source": [
        "df.columns = df.columns.str.replace('-', '_')"
      ],
      "metadata": {
        "id": "qoC4Le9K9Dx-"
      },
      "execution_count": 33,
      "outputs": []
    },
    {
      "cell_type": "code",
      "source": [
        "sns.distplot(df.worldwide, color=\"purple\");"
      ],
      "metadata": {
        "id": "cyyC_o8-9EnM",
        "colab": {
          "base_uri": "https://localhost:8080/",
          "height": 0
        },
        "outputId": "b52e36d8-0c1a-4bd5-8938-ca1a9a82e718"
      },
      "execution_count": 34,
      "outputs": [
        {
          "output_type": "stream",
          "name": "stderr",
          "text": [
            "<ipython-input-34-8ff659442eb2>:1: UserWarning: \n",
            "\n",
            "`distplot` is a deprecated function and will be removed in seaborn v0.14.0.\n",
            "\n",
            "Please adapt your code to use either `displot` (a figure-level function with\n",
            "similar flexibility) or `histplot` (an axes-level function for histograms).\n",
            "\n",
            "For a guide to updating your code to use the new functions, please see\n",
            "https://gist.github.com/mwaskom/de44147ed2974457ad6372750bbe5751\n",
            "\n",
            "  sns.distplot(df.worldwide, color=\"purple\");\n"
          ]
        },
        {
          "output_type": "display_data",
          "data": {
            "text/plain": [
              "<Figure size 640x480 with 1 Axes>"
            ],
            "image/png": "[encoded data removed]"
          },
          "metadata": {}
        }
      ]
    },
    {
      "cell_type": "markdown",
      "source": [
        "# Transformation of feature variables"
      ],
      "metadata": {
        "id": "rYKPvfsmKlUR"
      }
    },
    {
      "cell_type": "code",
      "source": [
        "from sklearn.preprocessing import PowerTransformer          \n",
        "#importing Power Transformer for transformation\n",
        "\n",
        "pt = PowerTransformer(method=\"yeo-johnson\", standardize=False)\n",
        "pt.fit(df[\"duration\"].values.reshape(-1, 1))\n",
        "temp = pt.transform(df[\"duration\"].values.reshape(-1, 1))\n",
        "\n",
        "sns.distplot(temp, color='blue');\n"
      ],
      "metadata": {
        "id": "iWXNSdgK-RtA",
        "colab": {
          "base_uri": "https://localhost:8080/",
          "height": 0
        },
        "outputId": "27d6d22e-ed99-472f-8b93-811498d42107"
      },
      "execution_count": 105,
      "outputs": [
        {
          "output_type": "stream",
          "name": "stderr",
          "text": [
            "<ipython-input-105-2b44d87282e0>:8: UserWarning: \n",
            "\n",
            "`distplot` is a deprecated function and will be removed in seaborn v0.14.0.\n",
            "\n",
            "Please adapt your code to use either `displot` (a figure-level function with\n",
            "similar flexibility) or `histplot` (an axes-level function for histograms).\n",
            "\n",
            "For a guide to updating your code to use the new functions, please see\n",
            "https://gist.github.com/mwaskom/de44147ed2974457ad6372750bbe5751\n",
            "\n",
            "  sns.distplot(temp, color='blue');\n"
          ]
        },
        {
          "output_type": "display_data",
          "data": {
            "text/plain": [
              "<Figure size 640x480 with 1 Axes>"
            ],
            "image/png": "[encoded data removed]"
          },
          "metadata": {}
        }
      ]
    },
    {
      "cell_type": "code",
      "source": [
        "from sklearn.preprocessing import PowerTransformer          \n",
        "#importing Power Transformer for transformation\n",
        "\n",
        "pt = PowerTransformer(method=\"yeo-johnson\", standardize=False)\n",
        "pt.fit(df[\"director_facebook_likes\"].values.reshape(-1, 1))\n",
        "temp = pt.transform(df[\"director_facebook_likes\"].values.reshape(-1, 1))\n",
        "\n",
        "sns.distplot(temp, color='blue');"
      ],
      "metadata": {
        "id": "FZMKZ6-b-Rvz",
        "colab": {
          "base_uri": "https://localhost:8080/",
          "height": 0
        },
        "outputId": "013ac401-9e6d-4c56-e738-870bd72850c1"
      },
      "execution_count": 106,
      "outputs": [
        {
          "output_type": "stream",
          "name": "stderr",
          "text": [
            "<ipython-input-106-d03f45d06798>:8: UserWarning: \n",
            "\n",
            "`distplot` is a deprecated function and will be removed in seaborn v0.14.0.\n",
            "\n",
            "Please adapt your code to use either `displot` (a figure-level function with\n",
            "similar flexibility) or `histplot` (an axes-level function for histograms).\n",
            "\n",
            "For a guide to updating your code to use the new functions, please see\n",
            "https://gist.github.com/mwaskom/de44147ed2974457ad6372750bbe5751\n",
            "\n",
            "  sns.distplot(temp, color='blue');\n"
          ]
        },
        {
          "output_type": "display_data",
          "data": {
            "text/plain": [
              "<Figure size 640x480 with 1 Axes>"
            ],
            "image/png": "[encoded data removed]"
          },
          "metadata": {}
        }
      ]
    },
    {
      "cell_type": "code",
      "source": [
        "from sklearn.preprocessing import PowerTransformer          \n",
        "#importing Power Transformer for transformation\n",
        "\n",
        "pt = PowerTransformer(method=\"yeo-johnson\", standardize=False)\n",
        "pt.fit(df[\"actor_3_facebook_likes\"].values.reshape(-1, 1))\n",
        "temp = pt.transform(df[\"actor_3_facebook_likes\"].values.reshape(-1, 1))\n",
        "\n",
        "sns.distplot(temp, color='blue');"
      ],
      "metadata": {
        "id": "pAIabfCn-RyR",
        "colab": {
          "base_uri": "https://localhost:8080/",
          "height": 0
        },
        "outputId": "ef51e145-df6a-4f34-8fcb-c87275d43f55"
      },
      "execution_count": 107,
      "outputs": [
        {
          "output_type": "stream",
          "name": "stderr",
          "text": [
            "<ipython-input-107-518e11cbc15d>:8: UserWarning: \n",
            "\n",
            "`distplot` is a deprecated function and will be removed in seaborn v0.14.0.\n",
            "\n",
            "Please adapt your code to use either `displot` (a figure-level function with\n",
            "similar flexibility) or `histplot` (an axes-level function for histograms).\n",
            "\n",
            "For a guide to updating your code to use the new functions, please see\n",
            "https://gist.github.com/mwaskom/de44147ed2974457ad6372750bbe5751\n",
            "\n",
            "  sns.distplot(temp, color='blue');\n"
          ]
        },
        {
          "output_type": "display_data",
          "data": {
            "text/plain": [
              "<Figure size 640x480 with 1 Axes>"
            ],
            "image/png": "[encoded data removed]"
          },
          "metadata": {}
        }
      ]
    },
    {
      "cell_type": "code",
      "source": [
        "from sklearn.preprocessing import PowerTransformer          \n",
        "#importing Power Transformer for transformation\n",
        "\n",
        "pt = PowerTransformer(method=\"yeo-johnson\", standardize=False)\n",
        "pt.fit(df[\"actor_1_facebook_likes\"].values.reshape(-1, 1))\n",
        "temp = pt.transform(df[\"actor_1_facebook_likes\"].values.reshape(-1, 1))\n",
        "\n",
        "sns.distplot(temp, color='blue');"
      ],
      "metadata": {
        "id": "Duwb5bb7-R05",
        "colab": {
          "base_uri": "https://localhost:8080/",
          "height": 0
        },
        "outputId": "9baf512e-a3f9-42c0-d341-a70c18064b72"
      },
      "execution_count": 108,
      "outputs": [
        {
          "output_type": "stream",
          "name": "stderr",
          "text": [
            "<ipython-input-108-f523e4a73c4c>:8: UserWarning: \n",
            "\n",
            "`distplot` is a deprecated function and will be removed in seaborn v0.14.0.\n",
            "\n",
            "Please adapt your code to use either `displot` (a figure-level function with\n",
            "similar flexibility) or `histplot` (an axes-level function for histograms).\n",
            "\n",
            "For a guide to updating your code to use the new functions, please see\n",
            "https://gist.github.com/mwaskom/de44147ed2974457ad6372750bbe5751\n",
            "\n",
            "  sns.distplot(temp, color='blue');\n"
          ]
        },
        {
          "output_type": "display_data",
          "data": {
            "text/plain": [
              "<Figure size 640x480 with 1 Axes>"
            ],
            "image/png": "[encoded data removed]"
          },
          "metadata": {}
        }
      ]
    },
    {
      "cell_type": "code",
      "source": [
        "from sklearn.preprocessing import PowerTransformer          \n",
        "#importing Power Transformer for transformation\n",
        "\n",
        "pt = PowerTransformer(method=\"yeo-johnson\", standardize=False)\n",
        "pt.fit(df[\"cast_total_facebook_likes\"].values.reshape(-1, 1))\n",
        "temp = pt.transform(df[\"cast_total_facebook_likes\"].values.reshape(-1, 1))\n",
        "\n",
        "sns.distplot(temp, color='blue');"
      ],
      "metadata": {
        "id": "WldMR6T--R3w",
        "colab": {
          "base_uri": "https://localhost:8080/",
          "height": 0
        },
        "outputId": "6bebead0-9d45-4fd9-db42-70deb63cead6"
      },
      "execution_count": 109,
      "outputs": [
        {
          "output_type": "stream",
          "name": "stderr",
          "text": [
            "<ipython-input-109-76419e459daa>:8: UserWarning: \n",
            "\n",
            "`distplot` is a deprecated function and will be removed in seaborn v0.14.0.\n",
            "\n",
            "Please adapt your code to use either `displot` (a figure-level function with\n",
            "similar flexibility) or `histplot` (an axes-level function for histograms).\n",
            "\n",
            "For a guide to updating your code to use the new functions, please see\n",
            "https://gist.github.com/mwaskom/de44147ed2974457ad6372750bbe5751\n",
            "\n",
            "  sns.distplot(temp, color='blue');\n"
          ]
        },
        {
          "output_type": "display_data",
          "data": {
            "text/plain": [
              "<Figure size 640x480 with 1 Axes>"
            ],
            "image/png": "[encoded data removed]"
          },
          "metadata": {}
        }
      ]
    },
    {
      "cell_type": "code",
      "source": [
        "from sklearn.preprocessing import PowerTransformer          \n",
        "#importing Power Transformer for transformation\n",
        "\n",
        "pt = PowerTransformer(method=\"yeo-johnson\", standardize=False)\n",
        "pt.fit(df[\"budget_x\"].values.reshape(-1, 1))\n",
        "temp = pt.transform(df[\"budget_x\"].values.reshape(-1, 1))\n",
        "\n",
        "sns.distplot(temp, color='blue');"
      ],
      "metadata": {
        "id": "QTI8JIDTQTh-",
        "colab": {
          "base_uri": "https://localhost:8080/",
          "height": 0
        },
        "outputId": "df967a06-f840-4a1c-92cc-5f8322ea996d"
      },
      "execution_count": 110,
      "outputs": [
        {
          "output_type": "stream",
          "name": "stderr",
          "text": [
            "<ipython-input-110-8223b6ae8810>:8: UserWarning: \n",
            "\n",
            "`distplot` is a deprecated function and will be removed in seaborn v0.14.0.\n",
            "\n",
            "Please adapt your code to use either `displot` (a figure-level function with\n",
            "similar flexibility) or `histplot` (an axes-level function for histograms).\n",
            "\n",
            "For a guide to updating your code to use the new functions, please see\n",
            "https://gist.github.com/mwaskom/de44147ed2974457ad6372750bbe5751\n",
            "\n",
            "  sns.distplot(temp, color='blue');\n"
          ]
        },
        {
          "output_type": "display_data",
          "data": {
            "text/plain": [
              "<Figure size 640x480 with 1 Axes>"
            ],
            "image/png": "[encoded data removed]"
          },
          "metadata": {}
        }
      ]
    },
    {
      "cell_type": "code",
      "source": [
        "from sklearn.preprocessing import PowerTransformer          \n",
        "#importing Power Transformer for transformation\n",
        "\n",
        "pt = PowerTransformer(method=\"yeo-johnson\", standardize=False)\n",
        "pt.fit(df[\"actor_2_facebook_likes\"].values.reshape(-1, 1))\n",
        "temp = pt.transform(df[\"actor_2_facebook_likes\"].values.reshape(-1, 1))\n",
        "\n",
        "sns.distplot(temp, color='blue');"
      ],
      "metadata": {
        "id": "JZDG9A0kQTku",
        "colab": {
          "base_uri": "https://localhost:8080/",
          "height": 0
        },
        "outputId": "23702cf6-a7c6-481b-e5f6-88709c054d6c"
      },
      "execution_count": 111,
      "outputs": [
        {
          "output_type": "stream",
          "name": "stderr",
          "text": [
            "<ipython-input-111-b070891dcd82>:8: UserWarning: \n",
            "\n",
            "`distplot` is a deprecated function and will be removed in seaborn v0.14.0.\n",
            "\n",
            "Please adapt your code to use either `displot` (a figure-level function with\n",
            "similar flexibility) or `histplot` (an axes-level function for histograms).\n",
            "\n",
            "For a guide to updating your code to use the new functions, please see\n",
            "https://gist.github.com/mwaskom/de44147ed2974457ad6372750bbe5751\n",
            "\n",
            "  sns.distplot(temp, color='blue');\n"
          ]
        },
        {
          "output_type": "display_data",
          "data": {
            "text/plain": [
              "<Figure size 640x480 with 1 Axes>"
            ],
            "image/png": "[encoded data removed]"
          },
          "metadata": {}
        }
      ]
    },
    {
      "cell_type": "code",
      "source": [
        "#from sklearn.preprocessing import PowerTransformer          \n",
        "#importing Power Transformer for transformation\n",
        "\n",
        "#pt = PowerTransformer(method=\"yeo-johnson\", standardize=False)\n",
        "#pt.fit(df[\"movie_facebook_likes\"].values.reshape(-1, 1))\n",
        "#temp = pt.transform(df[\"movie_facebook_likes\"].values.reshape(-1, 1))\n",
        "\n",
        "#sns.distplot(temp, color='blue');"
      ],
      "metadata": {
        "id": "HOL_vYlQQTnM"
      },
      "execution_count": 112,
      "outputs": []
    },
    {
      "cell_type": "markdown",
      "source": [
        "# Split"
      ],
      "metadata": {
        "id": "_0pOBkoQFAIr"
      }
    },
    {
      "cell_type": "code",
      "source": [
        "# now let's train a_df\n",
        "X = df.iloc[:, :-1].values\n",
        "y = df.iloc[:, -1].values"
      ],
      "metadata": {
        "id": "hin09Gq6kBFV"
      },
      "execution_count": 113,
      "outputs": []
    },
    {
      "cell_type": "code",
      "source": [
        "print(X[0])"
      ],
      "metadata": {
        "id": "9a2DO5ZPn8rd",
        "colab": {
          "base_uri": "https://localhost:8080/"
        },
        "outputId": "f67efa4a-d521-48b6-a56b-07187f9cf215"
      },
      "execution_count": 114,
      "outputs": [
        {
          "output_type": "stream",
          "name": "stdout",
          "text": [
            "[ 3.41516192e+00 -2.62590726e-01 -8.74628216e-02  5.01000000e+02\n",
            " -4.38792986e-01  9.40000000e+01 -4.07342260e-01  1.24700000e+03\n",
            "  3.66953461e+00 -3.12258376e-01  7.16687936e-01  4.19042715e+00\n",
            "  3.33000000e+02  4.48000000e+02  3.20000000e+02  1.69000000e+02\n",
            "  3.03000000e+02  8.93000000e+02  1.00000000e+00  1.00000000e+00\n",
            "  0.00000000e+00  0.00000000e+00  0.00000000e+00  0.00000000e+00\n",
            "  0.00000000e+00  0.00000000e+00  0.00000000e+00  1.00000000e+00\n",
            "  0.00000000e+00  0.00000000e+00  0.00000000e+00  0.00000000e+00\n",
            "  0.00000000e+00  0.00000000e+00  0.00000000e+00  1.00000000e+00\n",
            "  0.00000000e+00  0.00000000e+00  0.00000000e+00  0.00000000e+00\n",
            "  0.00000000e+00  0.00000000e+00  0.00000000e+00  1.00000000e+00\n",
            "  0.00000000e+00]\n"
          ]
        }
      ]
    },
    {
      "cell_type": "code",
      "source": [
        "print(y[0])"
      ],
      "metadata": {
        "id": "JnEDlgIUoAh5",
        "colab": {
          "base_uri": "https://localhost:8080/"
        },
        "outputId": "19b33d0a-5109-4f74-d0ca-440049d8071d"
      },
      "execution_count": 115,
      "outputs": [
        {
          "output_type": "stream",
          "name": "stdout",
          "text": [
            "12.343414827082986\n"
          ]
        }
      ]
    },
    {
      "cell_type": "code",
      "source": [
        "X.size"
      ],
      "metadata": {
        "id": "-um994HeoPx5",
        "colab": {
          "base_uri": "https://localhost:8080/"
        },
        "outputId": "90d30a59-0578-452c-df99-2ad321e70c91"
      },
      "execution_count": 116,
      "outputs": [
        {
          "output_type": "execute_result",
          "data": {
            "text/plain": [
              "74160"
            ]
          },
          "metadata": {},
          "execution_count": 116
        }
      ]
    },
    {
      "cell_type": "code",
      "source": [
        "y.size"
      ],
      "metadata": {
        "id": "HifiOeeEqel7",
        "colab": {
          "base_uri": "https://localhost:8080/"
        },
        "outputId": "1c719bb0-635f-4d91-db12-b32e5c817756"
      },
      "execution_count": 117,
      "outputs": [
        {
          "output_type": "execute_result",
          "data": {
            "text/plain": [
              "1648"
            ]
          },
          "metadata": {},
          "execution_count": 117
        }
      ]
    },
    {
      "cell_type": "code",
      "source": [
        "from sklearn.model_selection import train_test_split\n",
        "X_train, X_test, y_train, y_test = train_test_split(X, y, test_size = 1/3, random_state = 0)\n",
        "#X_train, X_test, y_train, y_test = X.head(int(len(X)*0.7)), X.tail(int(len(X)*0.3)),y.head(int(len(y)*0.7)), y.tail(int(len(y)*0.3))"
      ],
      "metadata": {
        "id": "A95kQ_m2spuE"
      },
      "execution_count": 118,
      "outputs": []
    },
    {
      "cell_type": "code",
      "source": [
        "from sklearn.preprocessing import StandardScaler\n",
        "sc = StandardScaler()\n",
        "X_train = sc.fit_transform(X_train)\n",
        "X_test = sc.transform(X_test)"
      ],
      "metadata": {
        "id": "mss4Bu5qTFvk"
      },
      "execution_count": 119,
      "outputs": []
    },
    {
      "cell_type": "markdown",
      "source": [
        "#LR"
      ],
      "metadata": {
        "id": "Cmw4fnRjn80c"
      }
    },
    {
      "cell_type": "code",
      "source": [
        "from sklearn.linear_model import LinearRegression\n",
        "regressor = LinearRegression()\n",
        "regressor.fit(X_train, y_train)"
      ],
      "metadata": {
        "id": "KlBKF0qqoBOU",
        "colab": {
          "base_uri": "https://localhost:8080/",
          "height": 0
        },
        "outputId": "44f759fa-89cc-4a80-cf9c-a68d4b6f0dad"
      },
      "execution_count": 120,
      "outputs": [
        {
          "output_type": "execute_result",
          "data": {
            "text/plain": [
              "LinearRegression()"
            ],
            "text/html": [
              "<style>#sk-container-id-5 {color: black;background-color: white;}#sk-container-id-5 pre{padding: 0;}#sk-container-id-5 div.sk-toggleable {background-color: white;}#sk-container-id-5 label.sk-toggleable__label {cursor: pointer;display: block;width: 100%;margin-bottom: 0;padding: 0.3em;box-sizing: border-box;text-align: center;}#sk-container-id-5 label.sk-toggleable__label-arrow:before {content: \"▸\";float: left;margin-right: 0.25em;color: #696969;}#sk-container-id-5 label.sk-toggleable__label-arrow:hover:before {color: black;}#sk-container-id-5 div.sk-estimator:hover label.sk-toggleable__label-arrow:before {color: black;}#sk-container-id-5 div.sk-toggleable__content {max-height: 0;max-width: 0;overflow: hidden;text-align: left;background-color: #f0f8ff;}#sk-container-id-5 div.sk-toggleable__content pre {margin: 0.2em;color: black;border-radius: 0.25em;background-color: #f0f8ff;}#sk-container-id-5 input.sk-toggleable__control:checked~div.sk-toggleable__content {max-height: 200px;max-width: 100%;overflow: auto;}#sk-container-id-5 input.sk-toggleable__control:checked~label.sk-toggleable__label-arrow:before {content: \"▾\";}#sk-container-id-5 div.sk-estimator input.sk-toggleable__control:checked~label.sk-toggleable__label {background-color: #d4ebff;}#sk-container-id-5 div.sk-label input.sk-toggleable__control:checked~label.sk-toggleable__label {background-color: #d4ebff;}#sk-container-id-5 input.sk-hidden--visually {border: 0;clip: rect(1px 1px 1px 1px);clip: rect(1px, 1px, 1px, 1px);height: 1px;margin: -1px;overflow: hidden;padding: 0;position: absolute;width: 1px;}#sk-container-id-5 div.sk-estimator {font-family: monospace;background-color: #f0f8ff;border: 1px dotted black;border-radius: 0.25em;box-sizing: border-box;margin-bottom: 0.5em;}#sk-container-id-5 div.sk-estimator:hover {background-color: #d4ebff;}#sk-container-id-5 div.sk-parallel-item::after {content: \"\";width: 100%;border-bottom: 1px solid gray;flex-grow: 1;}#sk-container-id-5 div.sk-label:hover label.sk-toggleable__label {background-color: #d4ebff;}#sk-container-id-5 div.sk-serial::before {content: \"\";position: absolute;border-left: 1px solid gray;box-sizing: border-box;top: 0;bottom: 0;left: 50%;z-index: 0;}#sk-container-id-5 div.sk-serial {display: flex;flex-direction: column;align-items: center;background-color: white;padding-right: 0.2em;padding-left: 0.2em;position: relative;}#sk-container-id-5 div.sk-item {position: relative;z-index: 1;}#sk-container-id-5 div.sk-parallel {display: flex;align-items: stretch;justify-content: center;background-color: white;position: relative;}#sk-container-id-5 div.sk-item::before, #sk-container-id-5 div.sk-parallel-item::before {content: \"\";position: absolute;border-left: 1px solid gray;box-sizing: border-box;top: 0;bottom: 0;left: 50%;z-index: -1;}#sk-container-id-5 div.sk-parallel-item {display: flex;flex-direction: column;z-index: 1;position: relative;background-color: white;}#sk-container-id-5 div.sk-parallel-item:first-child::after {align-self: flex-end;width: 50%;}#sk-container-id-5 div.sk-parallel-item:last-child::after {align-self: flex-start;width: 50%;}#sk-container-id-5 div.sk-parallel-item:only-child::after {width: 0;}#sk-container-id-5 div.sk-dashed-wrapped {border: 1px dashed gray;margin: 0 0.4em 0.5em 0.4em;box-sizing: border-box;padding-bottom: 0.4em;background-color: white;}#sk-container-id-5 div.sk-label label {font-family: monospace;font-weight: bold;display: inline-block;line-height: 1.2em;}#sk-container-id-5 div.sk-label-container {text-align: center;}#sk-container-id-5 div.sk-container {/* jupyter's `normalize.less` sets `[hidden] { display: none; }` but bootstrap.min.css set `[hidden] { display: none !important; }` so we also need the `!important` here to be able to override the default hidden behavior on the sphinx rendered scikit-learn.org. See: https://github.com/scikit-learn/scikit-learn/issues/21755 */display: inline-block !important;position: relative;}#sk-container-id-5 div.sk-text-repr-fallback {display: none;}</style><div id=\"sk-container-id-5\" class=\"sk-top-container\"><div class=\"sk-text-repr-fallback\"><pre>LinearRegression()</pre><b>In a Jupyter environment, please rerun this cell to show the HTML representation or trust the notebook. <br />On GitHub, the HTML representation is unable to render, please try loading this page with nbviewer.org.</b></div><div class=\"sk-container\" hidden><div class=\"sk-item\"><div class=\"sk-estimator sk-toggleable\"><input class=\"sk-toggleable__control sk-hidden--visually\" id=\"sk-estimator-id-5\" type=\"checkbox\" checked><label for=\"sk-estimator-id-5\" class=\"sk-toggleable__label sk-toggleable__label-arrow\">LinearRegression</label><div class=\"sk-toggleable__content\"><pre>LinearRegression()</pre></div></div></div></div></div>"
            ]
          },
          "metadata": {},
          "execution_count": 120
        }
      ]
    },
    {
      "cell_type": "code",
      "source": [
        "y_pred = regressor.predict(X_test)"
      ],
      "metadata": {
        "id": "2cLkgIt5oBna"
      },
      "execution_count": 121,
      "outputs": []
    },
    {
      "cell_type": "code",
      "source": [
        "corr, _ = pearsonr(y_test, y_pred)\n",
        "print('Pearsons Corelation: %3f' % corr)\n",
        "lr_pc = corr"
      ],
      "metadata": {
        "id": "xBv80Ff9mcze",
        "colab": {
          "base_uri": "https://localhost:8080/"
        },
        "outputId": "6b569a30-0e3f-44d6-f64d-80d1b43e27cf"
      },
      "execution_count": 122,
      "outputs": [
        {
          "output_type": "stream",
          "name": "stdout",
          "text": [
            "Pearsons Corelation: 0.762913\n"
          ]
        }
      ]
    },
    {
      "cell_type": "code",
      "source": [
        "from sklearn import metrics\n",
        "meanAbErr = metrics.mean_absolute_error(y_test, y_pred)\n",
        "meanSqErr = metrics.mean_squared_error(y_test, y_pred)\n",
        "rootMeanSqErr = np.sqrt(metrics.mean_squared_error(y_test, y_pred))\n",
        "#lr = regressor.metrics.r2_score(y_pred,y_test)*100\n",
        "print('R squared: {:.2f}'.format(metrics.r2_score(y_pred,y_test)*100))\n",
        "print('Mean Absolute Error:', meanAbErr)\n",
        "print('Mean Square Error:', meanSqErr)\n",
        "print('Root Mean Square Error:', rootMeanSqErr)"
      ],
      "metadata": {
        "colab": {
          "base_uri": "https://localhost:8080/"
        },
        "id": "6SmIsOn1ebq2",
        "outputId": "b08ba031-9624-4b19-8d20-436bb0b755e5"
      },
      "execution_count": 123,
      "outputs": [
        {
          "output_type": "stream",
          "name": "stdout",
          "text": [
            "R squared: 44.81\n",
            "Mean Absolute Error: 0.41626154159834816\n",
            "Mean Square Error: 0.41783821066781024\n",
            "Root Mean Square Error: 0.646404061456772\n"
          ]
        }
      ]
    },
    {
      "cell_type": "markdown",
      "source": [
        "#**SVR**"
      ],
      "metadata": {
        "id": "agxASBJnPWmD"
      }
    },
    {
      "cell_type": "code",
      "source": [
        "from sklearn.svm import SVR\n",
        "regressor = SVR(kernel = 'rbf')\n",
        "regressor.fit(X_train, y_train)"
      ],
      "metadata": {
        "id": "GHHeBIgYq5hi",
        "colab": {
          "base_uri": "https://localhost:8080/",
          "height": 0
        },
        "outputId": "53bb0a52-b8e0-41cf-cace-8405b74cd709"
      },
      "execution_count": 124,
      "outputs": [
        {
          "output_type": "execute_result",
          "data": {
            "text/plain": [
              "SVR()"
            ],
            "text/html": [
              "<style>#sk-container-id-6 {color: black;background-color: white;}#sk-container-id-6 pre{padding: 0;}#sk-container-id-6 div.sk-toggleable {background-color: white;}#sk-container-id-6 label.sk-toggleable__label {cursor: pointer;display: block;width: 100%;margin-bottom: 0;padding: 0.3em;box-sizing: border-box;text-align: center;}#sk-container-id-6 label.sk-toggleable__label-arrow:before {content: \"▸\";float: left;margin-right: 0.25em;color: #696969;}#sk-container-id-6 label.sk-toggleable__label-arrow:hover:before {color: black;}#sk-container-id-6 div.sk-estimator:hover label.sk-toggleable__label-arrow:before {color: black;}#sk-container-id-6 div.sk-toggleable__content {max-height: 0;max-width: 0;overflow: hidden;text-align: left;background-color: #f0f8ff;}#sk-container-id-6 div.sk-toggleable__content pre {margin: 0.2em;color: black;border-radius: 0.25em;background-color: #f0f8ff;}#sk-container-id-6 input.sk-toggleable__control:checked~div.sk-toggleable__content {max-height: 200px;max-width: 100%;overflow: auto;}#sk-container-id-6 input.sk-toggleable__control:checked~label.sk-toggleable__label-arrow:before {content: \"▾\";}#sk-container-id-6 div.sk-estimator input.sk-toggleable__control:checked~label.sk-toggleable__label {background-color: #d4ebff;}#sk-container-id-6 div.sk-label input.sk-toggleable__control:checked~label.sk-toggleable__label {background-color: #d4ebff;}#sk-container-id-6 input.sk-hidden--visually {border: 0;clip: rect(1px 1px 1px 1px);clip: rect(1px, 1px, 1px, 1px);height: 1px;margin: -1px;overflow: hidden;padding: 0;position: absolute;width: 1px;}#sk-container-id-6 div.sk-estimator {font-family: monospace;background-color: #f0f8ff;border: 1px dotted black;border-radius: 0.25em;box-sizing: border-box;margin-bottom: 0.5em;}#sk-container-id-6 div.sk-estimator:hover {background-color: #d4ebff;}#sk-container-id-6 div.sk-parallel-item::after {content: \"\";width: 100%;border-bottom: 1px solid gray;flex-grow: 1;}#sk-container-id-6 div.sk-label:hover label.sk-toggleable__label {background-color: #d4ebff;}#sk-container-id-6 div.sk-serial::before {content: \"\";position: absolute;border-left: 1px solid gray;box-sizing: border-box;top: 0;bottom: 0;left: 50%;z-index: 0;}#sk-container-id-6 div.sk-serial {display: flex;flex-direction: column;align-items: center;background-color: white;padding-right: 0.2em;padding-left: 0.2em;position: relative;}#sk-container-id-6 div.sk-item {position: relative;z-index: 1;}#sk-container-id-6 div.sk-parallel {display: flex;align-items: stretch;justify-content: center;background-color: white;position: relative;}#sk-container-id-6 div.sk-item::before, #sk-container-id-6 div.sk-parallel-item::before {content: \"\";position: absolute;border-left: 1px solid gray;box-sizing: border-box;top: 0;bottom: 0;left: 50%;z-index: -1;}#sk-container-id-6 div.sk-parallel-item {display: flex;flex-direction: column;z-index: 1;position: relative;background-color: white;}#sk-container-id-6 div.sk-parallel-item:first-child::after {align-self: flex-end;width: 50%;}#sk-container-id-6 div.sk-parallel-item:last-child::after {align-self: flex-start;width: 50%;}#sk-container-id-6 div.sk-parallel-item:only-child::after {width: 0;}#sk-container-id-6 div.sk-dashed-wrapped {border: 1px dashed gray;margin: 0 0.4em 0.5em 0.4em;box-sizing: border-box;padding-bottom: 0.4em;background-color: white;}#sk-container-id-6 div.sk-label label {font-family: monospace;font-weight: bold;display: inline-block;line-height: 1.2em;}#sk-container-id-6 div.sk-label-container {text-align: center;}#sk-container-id-6 div.sk-container {/* jupyter's `normalize.less` sets `[hidden] { display: none; }` but bootstrap.min.css set `[hidden] { display: none !important; }` so we also need the `!important` here to be able to override the default hidden behavior on the sphinx rendered scikit-learn.org. See: https://github.com/scikit-learn/scikit-learn/issues/21755 */display: inline-block !important;position: relative;}#sk-container-id-6 div.sk-text-repr-fallback {display: none;}</style><div id=\"sk-container-id-6\" class=\"sk-top-container\"><div class=\"sk-text-repr-fallback\"><pre>SVR()</pre><b>In a Jupyter environment, please rerun this cell to show the HTML representation or trust the notebook. <br />On GitHub, the HTML representation is unable to render, please try loading this page with nbviewer.org.</b></div><div class=\"sk-container\" hidden><div class=\"sk-item\"><div class=\"sk-estimator sk-toggleable\"><input class=\"sk-toggleable__control sk-hidden--visually\" id=\"sk-estimator-id-6\" type=\"checkbox\" checked><label for=\"sk-estimator-id-6\" class=\"sk-toggleable__label sk-toggleable__label-arrow\">SVR</label><div class=\"sk-toggleable__content\"><pre>SVR()</pre></div></div></div></div></div>"
            ]
          },
          "metadata": {},
          "execution_count": 124
        }
      ]
    },
    {
      "cell_type": "code",
      "source": [
        "y_pred = regressor.predict(X_test)"
      ],
      "metadata": {
        "id": "McSLTXDgszFC"
      },
      "execution_count": 125,
      "outputs": []
    },
    {
      "cell_type": "code",
      "source": [
        "corr, _ = pearsonr(y_test, y_pred)\n",
        "print('Pearsons Corelation: %3f' % corr)\n",
        "svr_pc = corr"
      ],
      "metadata": {
        "id": "OBRGsH9GnmXF",
        "colab": {
          "base_uri": "https://localhost:8080/"
        },
        "outputId": "a9912977-ff72-4e7a-e1c0-7f753b2dbc92"
      },
      "execution_count": 126,
      "outputs": [
        {
          "output_type": "stream",
          "name": "stdout",
          "text": [
            "Pearsons Corelation: 0.767691\n"
          ]
        }
      ]
    },
    {
      "cell_type": "markdown",
      "source": [
        "#**DT**"
      ],
      "metadata": {
        "id": "7CYY3GXCEQrI"
      }
    },
    {
      "cell_type": "code",
      "source": [
        "from sklearn.tree import DecisionTreeRegressor\n",
        "regressor = DecisionTreeRegressor(random_state = 0)\n",
        "regressor.fit(X_train, y_train)"
      ],
      "metadata": {
        "id": "Jtsv7dLOEUiV",
        "colab": {
          "base_uri": "https://localhost:8080/",
          "height": 0
        },
        "outputId": "07bb0706-f4f9-43a0-fb18-730fb7b52cd4"
      },
      "execution_count": 127,
      "outputs": [
        {
          "output_type": "execute_result",
          "data": {
            "text/plain": [
              "DecisionTreeRegressor(random_state=0)"
            ],
            "text/html": [
              "<style>#sk-container-id-7 {color: black;background-color: white;}#sk-container-id-7 pre{padding: 0;}#sk-container-id-7 div.sk-toggleable {background-color: white;}#sk-container-id-7 label.sk-toggleable__label {cursor: pointer;display: block;width: 100%;margin-bottom: 0;padding: 0.3em;box-sizing: border-box;text-align: center;}#sk-container-id-7 label.sk-toggleable__label-arrow:before {content: \"▸\";float: left;margin-right: 0.25em;color: #696969;}#sk-container-id-7 label.sk-toggleable__label-arrow:hover:before {color: black;}#sk-container-id-7 div.sk-estimator:hover label.sk-toggleable__label-arrow:before {color: black;}#sk-container-id-7 div.sk-toggleable__content {max-height: 0;max-width: 0;overflow: hidden;text-align: left;background-color: #f0f8ff;}#sk-container-id-7 div.sk-toggleable__content pre {margin: 0.2em;color: black;border-radius: 0.25em;background-color: #f0f8ff;}#sk-container-id-7 input.sk-toggleable__control:checked~div.sk-toggleable__content {max-height: 200px;max-width: 100%;overflow: auto;}#sk-container-id-7 input.sk-toggleable__control:checked~label.sk-toggleable__label-arrow:before {content: \"▾\";}#sk-container-id-7 div.sk-estimator input.sk-toggleable__control:checked~label.sk-toggleable__label {background-color: #d4ebff;}#sk-container-id-7 div.sk-label input.sk-toggleable__control:checked~label.sk-toggleable__label {background-color: #d4ebff;}#sk-container-id-7 input.sk-hidden--visually {border: 0;clip: rect(1px 1px 1px 1px);clip: rect(1px, 1px, 1px, 1px);height: 1px;margin: -1px;overflow: hidden;padding: 0;position: absolute;width: 1px;}#sk-container-id-7 div.sk-estimator {font-family: monospace;background-color: #f0f8ff;border: 1px dotted black;border-radius: 0.25em;box-sizing: border-box;margin-bottom: 0.5em;}#sk-container-id-7 div.sk-estimator:hover {background-color: #d4ebff;}#sk-container-id-7 div.sk-parallel-item::after {content: \"\";width: 100%;border-bottom: 1px solid gray;flex-grow: 1;}#sk-container-id-7 div.sk-label:hover label.sk-toggleable__label {background-color: #d4ebff;}#sk-container-id-7 div.sk-serial::before {content: \"\";position: absolute;border-left: 1px solid gray;box-sizing: border-box;top: 0;bottom: 0;left: 50%;z-index: 0;}#sk-container-id-7 div.sk-serial {display: flex;flex-direction: column;align-items: center;background-color: white;padding-right: 0.2em;padding-left: 0.2em;position: relative;}#sk-container-id-7 div.sk-item {position: relative;z-index: 1;}#sk-container-id-7 div.sk-parallel {display: flex;align-items: stretch;justify-content: center;background-color: white;position: relative;}#sk-container-id-7 div.sk-item::before, #sk-container-id-7 div.sk-parallel-item::before {content: \"\";position: absolute;border-left: 1px solid gray;box-sizing: border-box;top: 0;bottom: 0;left: 50%;z-index: -1;}#sk-container-id-7 div.sk-parallel-item {display: flex;flex-direction: column;z-index: 1;position: relative;background-color: white;}#sk-container-id-7 div.sk-parallel-item:first-child::after {align-self: flex-end;width: 50%;}#sk-container-id-7 div.sk-parallel-item:last-child::after {align-self: flex-start;width: 50%;}#sk-container-id-7 div.sk-parallel-item:only-child::after {width: 0;}#sk-container-id-7 div.sk-dashed-wrapped {border: 1px dashed gray;margin: 0 0.4em 0.5em 0.4em;box-sizing: border-box;padding-bottom: 0.4em;background-color: white;}#sk-container-id-7 div.sk-label label {font-family: monospace;font-weight: bold;display: inline-block;line-height: 1.2em;}#sk-container-id-7 div.sk-label-container {text-align: center;}#sk-container-id-7 div.sk-container {/* jupyter's `normalize.less` sets `[hidden] { display: none; }` but bootstrap.min.css set `[hidden] { display: none !important; }` so we also need the `!important` here to be able to override the default hidden behavior on the sphinx rendered scikit-learn.org. See: https://github.com/scikit-learn/scikit-learn/issues/21755 */display: inline-block !important;position: relative;}#sk-container-id-7 div.sk-text-repr-fallback {display: none;}</style><div id=\"sk-container-id-7\" class=\"sk-top-container\"><div class=\"sk-text-repr-fallback\"><pre>DecisionTreeRegressor(random_state=0)</pre><b>In a Jupyter environment, please rerun this cell to show the HTML representation or trust the notebook. <br />On GitHub, the HTML representation is unable to render, please try loading this page with nbviewer.org.</b></div><div class=\"sk-container\" hidden><div class=\"sk-item\"><div class=\"sk-estimator sk-toggleable\"><input class=\"sk-toggleable__control sk-hidden--visually\" id=\"sk-estimator-id-7\" type=\"checkbox\" checked><label for=\"sk-estimator-id-7\" class=\"sk-toggleable__label sk-toggleable__label-arrow\">DecisionTreeRegressor</label><div class=\"sk-toggleable__content\"><pre>DecisionTreeRegressor(random_state=0)</pre></div></div></div></div></div>"
            ]
          },
          "metadata": {},
          "execution_count": 127
        }
      ]
    },
    {
      "cell_type": "code",
      "source": [
        "y_pred = regressor.predict(X_test)"
      ],
      "metadata": {
        "id": "_M7_uQzzEUlP"
      },
      "execution_count": 128,
      "outputs": []
    },
    {
      "cell_type": "code",
      "source": [
        "corr, _ = pearsonr(y_test, y_pred)\n",
        "print('Pearsons Corelation: %3f' % corr)\n",
        "dt_pc = corr"
      ],
      "metadata": {
        "id": "6tETaZv_nzTc",
        "colab": {
          "base_uri": "https://localhost:8080/"
        },
        "outputId": "1a780a9d-6679-4f60-a05c-6d86d6c790f5"
      },
      "execution_count": 129,
      "outputs": [
        {
          "output_type": "stream",
          "name": "stdout",
          "text": [
            "Pearsons Corelation: 0.569344\n"
          ]
        }
      ]
    },
    {
      "cell_type": "markdown",
      "source": [
        "#**RF**"
      ],
      "metadata": {
        "id": "M_hx06pwNA9k"
      }
    },
    {
      "cell_type": "code",
      "source": [
        "from sklearn.ensemble import RandomForestRegressor\n",
        "regressor = RandomForestRegressor(n_estimators = 10, random_state = 0)\n",
        "regressor.fit(X_train, y_train)"
      ],
      "metadata": {
        "id": "F_nYZbexNEKq",
        "colab": {
          "base_uri": "https://localhost:8080/",
          "height": 74
        },
        "outputId": "0ecab160-54c6-47ba-a950-081b6a883256"
      },
      "execution_count": 147,
      "outputs": [
        {
          "output_type": "execute_result",
          "data": {
            "text/plain": [
              "RandomForestRegressor(n_estimators=10, random_state=0)"
            ],
            "text/html": [
              "<style>#sk-container-id-12 {color: black;background-color: white;}#sk-container-id-12 pre{padding: 0;}#sk-container-id-12 div.sk-toggleable {background-color: white;}#sk-container-id-12 label.sk-toggleable__label {cursor: pointer;display: block;width: 100%;margin-bottom: 0;padding: 0.3em;box-sizing: border-box;text-align: center;}#sk-container-id-12 label.sk-toggleable__label-arrow:before {content: \"▸\";float: left;margin-right: 0.25em;color: #696969;}#sk-container-id-12 label.sk-toggleable__label-arrow:hover:before {color: black;}#sk-container-id-12 div.sk-estimator:hover label.sk-toggleable__label-arrow:before {color: black;}#sk-container-id-12 div.sk-toggleable__content {max-height: 0;max-width: 0;overflow: hidden;text-align: left;background-color: #f0f8ff;}#sk-container-id-12 div.sk-toggleable__content pre {margin: 0.2em;color: black;border-radius: 0.25em;background-color: #f0f8ff;}#sk-container-id-12 input.sk-toggleable__control:checked~div.sk-toggleable__content {max-height: 200px;max-width: 100%;overflow: auto;}#sk-container-id-12 input.sk-toggleable__control:checked~label.sk-toggleable__label-arrow:before {content: \"▾\";}#sk-container-id-12 div.sk-estimator input.sk-toggleable__control:checked~label.sk-toggleable__label {background-color: #d4ebff;}#sk-container-id-12 div.sk-label input.sk-toggleable__control:checked~label.sk-toggleable__label {background-color: #d4ebff;}#sk-container-id-12 input.sk-hidden--visually {border: 0;clip: rect(1px 1px 1px 1px);clip: rect(1px, 1px, 1px, 1px);height: 1px;margin: -1px;overflow: hidden;padding: 0;position: absolute;width: 1px;}#sk-container-id-12 div.sk-estimator {font-family: monospace;background-color: #f0f8ff;border: 1px dotted black;border-radius: 0.25em;box-sizing: border-box;margin-bottom: 0.5em;}#sk-container-id-12 div.sk-estimator:hover {background-color: #d4ebff;}#sk-container-id-12 div.sk-parallel-item::after {content: \"\";width: 100%;border-bottom: 1px solid gray;flex-grow: 1;}#sk-container-id-12 div.sk-label:hover label.sk-toggleable__label {background-color: #d4ebff;}#sk-container-id-12 div.sk-serial::before {content: \"\";position: absolute;border-left: 1px solid gray;box-sizing: border-box;top: 0;bottom: 0;left: 50%;z-index: 0;}#sk-container-id-12 div.sk-serial {display: flex;flex-direction: column;align-items: center;background-color: white;padding-right: 0.2em;padding-left: 0.2em;position: relative;}#sk-container-id-12 div.sk-item {position: relative;z-index: 1;}#sk-container-id-12 div.sk-parallel {display: flex;align-items: stretch;justify-content: center;background-color: white;position: relative;}#sk-container-id-12 div.sk-item::before, #sk-container-id-12 div.sk-parallel-item::before {content: \"\";position: absolute;border-left: 1px solid gray;box-sizing: border-box;top: 0;bottom: 0;left: 50%;z-index: -1;}#sk-container-id-12 div.sk-parallel-item {display: flex;flex-direction: column;z-index: 1;position: relative;background-color: white;}#sk-container-id-12 div.sk-parallel-item:first-child::after {align-self: flex-end;width: 50%;}#sk-container-id-12 div.sk-parallel-item:last-child::after {align-self: flex-start;width: 50%;}#sk-container-id-12 div.sk-parallel-item:only-child::after {width: 0;}#sk-container-id-12 div.sk-dashed-wrapped {border: 1px dashed gray;margin: 0 0.4em 0.5em 0.4em;box-sizing: border-box;padding-bottom: 0.4em;background-color: white;}#sk-container-id-12 div.sk-label label {font-family: monospace;font-weight: bold;display: inline-block;line-height: 1.2em;}#sk-container-id-12 div.sk-label-container {text-align: center;}#sk-container-id-12 div.sk-container {/* jupyter's `normalize.less` sets `[hidden] { display: none; }` but bootstrap.min.css set `[hidden] { display: none !important; }` so we also need the `!important` here to be able to override the default hidden behavior on the sphinx rendered scikit-learn.org. See: https://github.com/scikit-learn/scikit-learn/issues/21755 */display: inline-block !important;position: relative;}#sk-container-id-12 div.sk-text-repr-fallback {display: none;}</style><div id=\"sk-container-id-12\" class=\"sk-top-container\"><div class=\"sk-text-repr-fallback\"><pre>RandomForestRegressor(n_estimators=10, random_state=0)</pre><b>In a Jupyter environment, please rerun this cell to show the HTML representation or trust the notebook. <br />On GitHub, the HTML representation is unable to render, please try loading this page with nbviewer.org.</b></div><div class=\"sk-container\" hidden><div class=\"sk-item\"><div class=\"sk-estimator sk-toggleable\"><input class=\"sk-toggleable__control sk-hidden--visually\" id=\"sk-estimator-id-12\" type=\"checkbox\" checked><label for=\"sk-estimator-id-12\" class=\"sk-toggleable__label sk-toggleable__label-arrow\">RandomForestRegressor</label><div class=\"sk-toggleable__content\"><pre>RandomForestRegressor(n_estimators=10, random_state=0)</pre></div></div></div></div></div>"
            ]
          },
          "metadata": {},
          "execution_count": 147
        }
      ]
    },
    {
      "cell_type": "code",
      "source": [
        "y_pred = regressor.predict(X_test)"
      ],
      "metadata": {
        "id": "nFcMnRAwNENb"
      },
      "execution_count": 148,
      "outputs": []
    },
    {
      "cell_type": "code",
      "source": [
        "corr, _ = pearsonr(y_test, y_pred)\n",
        "print('Pearsons Corelation: %3f' % corr)\n",
        "rf_pc = corr"
      ],
      "metadata": {
        "id": "1MdSY8Etn4or",
        "colab": {
          "base_uri": "https://localhost:8080/"
        },
        "outputId": "bb1173f5-2a70-4297-8724-dce8fd3b1536"
      },
      "execution_count": 149,
      "outputs": [
        {
          "output_type": "stream",
          "name": "stdout",
          "text": [
            "Pearsons Corelation: 0.782605\n"
          ]
        }
      ]
    },
    {
      "cell_type": "code",
      "source": [
        "from sklearn import metrics\n",
        "meanAbErr = metrics.mean_absolute_error(y_test, y_pred)\n",
        "meanSqErr = metrics.mean_squared_error(y_test, y_pred)\n",
        "rootMeanSqErr = np.sqrt(metrics.mean_squared_error(y_test, y_pred))\n",
        "#lr = regressor.metrics.r2_score(y_pred,y_test)*100\n",
        "print('R squared: {:.2f}'.format(metrics.r2_score(y_pred,y_test)*100))\n",
        "print('Mean Absolute Error:', meanAbErr)\n",
        "print('Mean Square Error:', meanSqErr)\n",
        "print('Root Mean Square Error:', rootMeanSqErr)"
      ],
      "metadata": {
        "colab": {
          "base_uri": "https://localhost:8080/"
        },
        "id": "-Pljfmv3er9l",
        "outputId": "01cca717-125c-4529-e1d8-bee7f67bcc04"
      },
      "execution_count": 150,
      "outputs": [
        {
          "output_type": "stream",
          "name": "stdout",
          "text": [
            "R squared: 50.31\n",
            "Mean Absolute Error: 0.3882095941278275\n",
            "Mean Square Error: 0.3886809331235893\n",
            "Root Mean Square Error: 0.623442806617888\n"
          ]
        }
      ]
    },
    {
      "cell_type": "markdown",
      "source": [
        "#**ANN**"
      ],
      "metadata": {
        "id": "IrNyNl9WuPgd"
      }
    },
    {
      "cell_type": "code",
      "source": [
        "from sklearn.preprocessing import StandardScaler\n",
        "sc = StandardScaler()\n",
        "X_train = sc.fit_transform(X_train)\n",
        "X_test = sc.transform(X_test)"
      ],
      "metadata": {
        "id": "opY4NEewtNLb"
      },
      "execution_count": 169,
      "outputs": []
    },
    {
      "cell_type": "code",
      "source": [
        "import tensorflow as tf"
      ],
      "metadata": {
        "id": "mgTpCUoarZF_"
      },
      "execution_count": 170,
      "outputs": []
    },
    {
      "cell_type": "code",
      "source": [
        "ann = tf.keras.models.Sequential()"
      ],
      "metadata": {
        "id": "uVjwkV5brgSN"
      },
      "execution_count": 171,
      "outputs": []
    },
    {
      "cell_type": "code",
      "source": [
        "ann.add(tf.keras.layers.Dense(units=6, activation='relu'))"
      ],
      "metadata": {
        "id": "h9SQv8gxrhYm"
      },
      "execution_count": 172,
      "outputs": []
    },
    {
      "cell_type": "code",
      "source": [
        "ann.add(tf.keras.layers.Dense(units=6, activation='relu'))"
      ],
      "metadata": {
        "id": "WcjcqEH8rhch"
      },
      "execution_count": 173,
      "outputs": []
    },
    {
      "cell_type": "code",
      "source": [
        "ann.add(tf.keras.layers.Dense(units=1, activation='linear'))"
      ],
      "metadata": {
        "id": "xTinxeOLrhgZ"
      },
      "execution_count": 174,
      "outputs": []
    },
    {
      "cell_type": "code",
      "source": [
        "ann.compile(optimizer = 'adam', loss = 'mean_squared_error')"
      ],
      "metadata": {
        "id": "HDENxWA3rhj9"
      },
      "execution_count": 175,
      "outputs": []
    },
    {
      "cell_type": "code",
      "source": [
        "ann.fit(X_train, y_train, batch_size = 16, epochs = 100)"
      ],
      "metadata": {
        "id": "ghtMn7vErhnk",
        "colab": {
          "base_uri": "https://localhost:8080/"
        },
        "outputId": "5e24fb47-ae20-4af1-f187-c82956c45307"
      },
      "execution_count": 176,
      "outputs": [
        {
          "output_type": "stream",
          "name": "stdout",
          "text": [
            "Epoch 1/100\n",
            "69/69 [==============================] - 1s 2ms/step - loss: 1.1175\n",
            "Epoch 2/100\n",
            "69/69 [==============================] - 0s 2ms/step - loss: 1.0097\n",
            "Epoch 3/100\n",
            "69/69 [==============================] - 0s 2ms/step - loss: 0.9562\n",
            "Epoch 4/100\n",
            "69/69 [==============================] - 0s 2ms/step - loss: 0.8954\n",
            "Epoch 5/100\n",
            "69/69 [==============================] - 0s 2ms/step - loss: 0.7956\n",
            "Epoch 6/100\n",
            "69/69 [==============================] - 0s 2ms/step - loss: 0.6860\n",
            "Epoch 7/100\n",
            "69/69 [==============================] - 0s 2ms/step - loss: 0.6010\n",
            "Epoch 8/100\n",
            "69/69 [==============================] - 0s 2ms/step - loss: 0.5424\n",
            "Epoch 9/100\n",
            "69/69 [==============================] - 0s 2ms/step - loss: 0.5023\n",
            "Epoch 10/100\n",
            "69/69 [==============================] - 0s 2ms/step - loss: 0.4736\n",
            "Epoch 11/100\n",
            "69/69 [==============================] - 0s 3ms/step - loss: 0.4544\n",
            "Epoch 12/100\n",
            "69/69 [==============================] - 0s 3ms/step - loss: 0.4384\n",
            "Epoch 13/100\n",
            "69/69 [==============================] - 0s 3ms/step - loss: 0.4253\n",
            "Epoch 14/100\n",
            "69/69 [==============================] - 0s 3ms/step - loss: 0.4115\n",
            "Epoch 15/100\n",
            "69/69 [==============================] - 0s 2ms/step - loss: 0.3968\n",
            "Epoch 16/100\n",
            "69/69 [==============================] - 0s 3ms/step - loss: 0.3898\n",
            "Epoch 17/100\n",
            "69/69 [==============================] - 0s 2ms/step - loss: 0.3801\n",
            "Epoch 18/100\n",
            "69/69 [==============================] - 0s 3ms/step - loss: 0.3730\n",
            "Epoch 19/100\n",
            "69/69 [==============================] - 0s 3ms/step - loss: 0.3645\n",
            "Epoch 20/100\n",
            "69/69 [==============================] - 0s 3ms/step - loss: 0.3576\n",
            "Epoch 21/100\n",
            "69/69 [==============================] - 0s 3ms/step - loss: 0.3517\n",
            "Epoch 22/100\n",
            "69/69 [==============================] - 0s 3ms/step - loss: 0.3499\n",
            "Epoch 23/100\n",
            "69/69 [==============================] - 0s 3ms/step - loss: 0.3431\n",
            "Epoch 24/100\n",
            "69/69 [==============================] - 0s 2ms/step - loss: 0.3379\n",
            "Epoch 25/100\n",
            "69/69 [==============================] - 0s 3ms/step - loss: 0.3349\n",
            "Epoch 26/100\n",
            "69/69 [==============================] - 0s 3ms/step - loss: 0.3317\n",
            "Epoch 27/100\n",
            "69/69 [==============================] - 0s 3ms/step - loss: 0.3304\n",
            "Epoch 28/100\n",
            "69/69 [==============================] - 0s 3ms/step - loss: 0.3234\n",
            "Epoch 29/100\n",
            "69/69 [==============================] - 0s 3ms/step - loss: 0.3179\n",
            "Epoch 30/100\n",
            "69/69 [==============================] - 0s 2ms/step - loss: 0.3143\n",
            "Epoch 31/100\n",
            "69/69 [==============================] - 0s 2ms/step - loss: 0.3127\n",
            "Epoch 32/100\n",
            "69/69 [==============================] - 0s 2ms/step - loss: 0.3096\n",
            "Epoch 33/100\n",
            "69/69 [==============================] - 0s 2ms/step - loss: 0.3049\n",
            "Epoch 34/100\n",
            "69/69 [==============================] - 0s 2ms/step - loss: 0.3044\n",
            "Epoch 35/100\n",
            "69/69 [==============================] - 0s 2ms/step - loss: 0.2980\n",
            "Epoch 36/100\n",
            "69/69 [==============================] - 0s 2ms/step - loss: 0.2957\n",
            "Epoch 37/100\n",
            "69/69 [==============================] - 0s 2ms/step - loss: 0.2937\n",
            "Epoch 38/100\n",
            "69/69 [==============================] - 0s 2ms/step - loss: 0.2949\n",
            "Epoch 39/100\n",
            "69/69 [==============================] - 0s 2ms/step - loss: 0.2909\n",
            "Epoch 40/100\n",
            "69/69 [==============================] - 0s 3ms/step - loss: 0.2865\n",
            "Epoch 41/100\n",
            "69/69 [==============================] - 0s 2ms/step - loss: 0.2849\n",
            "Epoch 42/100\n",
            "69/69 [==============================] - 0s 2ms/step - loss: 0.2846\n",
            "Epoch 43/100\n",
            "69/69 [==============================] - 0s 2ms/step - loss: 0.2802\n",
            "Epoch 44/100\n",
            "69/69 [==============================] - 0s 2ms/step - loss: 0.2810\n",
            "Epoch 45/100\n",
            "69/69 [==============================] - 0s 2ms/step - loss: 0.2788\n",
            "Epoch 46/100\n",
            "69/69 [==============================] - 0s 2ms/step - loss: 0.2766\n",
            "Epoch 47/100\n",
            "69/69 [==============================] - 0s 2ms/step - loss: 0.2717\n",
            "Epoch 48/100\n",
            "69/69 [==============================] - 0s 2ms/step - loss: 0.2713\n",
            "Epoch 49/100\n",
            "69/69 [==============================] - 0s 2ms/step - loss: 0.2691\n",
            "Epoch 50/100\n",
            "69/69 [==============================] - 0s 2ms/step - loss: 0.2666\n",
            "Epoch 51/100\n",
            "69/69 [==============================] - 0s 2ms/step - loss: 0.2647\n",
            "Epoch 52/100\n",
            "69/69 [==============================] - 0s 2ms/step - loss: 0.2647\n",
            "Epoch 53/100\n",
            "69/69 [==============================] - 0s 2ms/step - loss: 0.2593\n",
            "Epoch 54/100\n",
            "69/69 [==============================] - 0s 2ms/step - loss: 0.2622\n",
            "Epoch 55/100\n",
            "69/69 [==============================] - 0s 2ms/step - loss: 0.2584\n",
            "Epoch 56/100\n",
            "69/69 [==============================] - 0s 2ms/step - loss: 0.2554\n",
            "Epoch 57/100\n",
            "69/69 [==============================] - 0s 2ms/step - loss: 0.2550\n",
            "Epoch 58/100\n",
            "69/69 [==============================] - 0s 2ms/step - loss: 0.2545\n",
            "Epoch 59/100\n",
            "69/69 [==============================] - 0s 2ms/step - loss: 0.2500\n",
            "Epoch 60/100\n",
            "69/69 [==============================] - 0s 2ms/step - loss: 0.2518\n",
            "Epoch 61/100\n",
            "69/69 [==============================] - 0s 2ms/step - loss: 0.2482\n",
            "Epoch 62/100\n",
            "69/69 [==============================] - 0s 2ms/step - loss: 0.2464\n",
            "Epoch 63/100\n",
            "69/69 [==============================] - 0s 2ms/step - loss: 0.2454\n",
            "Epoch 64/100\n",
            "69/69 [==============================] - 0s 3ms/step - loss: 0.2405\n",
            "Epoch 65/100\n",
            "69/69 [==============================] - 0s 3ms/step - loss: 0.2444\n",
            "Epoch 66/100\n",
            "69/69 [==============================] - 0s 2ms/step - loss: 0.2420\n",
            "Epoch 67/100\n",
            "69/69 [==============================] - 0s 2ms/step - loss: 0.2404\n",
            "Epoch 68/100\n",
            "69/69 [==============================] - 0s 2ms/step - loss: 0.2377\n",
            "Epoch 69/100\n",
            "69/69 [==============================] - 0s 3ms/step - loss: 0.2379\n",
            "Epoch 70/100\n",
            "69/69 [==============================] - 0s 2ms/step - loss: 0.2344\n",
            "Epoch 71/100\n",
            "69/69 [==============================] - 0s 2ms/step - loss: 0.2417\n",
            "Epoch 72/100\n",
            "69/69 [==============================] - 0s 2ms/step - loss: 0.2342\n",
            "Epoch 73/100\n",
            "69/69 [==============================] - 0s 2ms/step - loss: 0.2325\n",
            "Epoch 74/100\n",
            "69/69 [==============================] - 0s 2ms/step - loss: 0.2307\n",
            "Epoch 75/100\n",
            "69/69 [==============================] - 0s 2ms/step - loss: 0.2293\n",
            "Epoch 76/100\n",
            "69/69 [==============================] - 0s 2ms/step - loss: 0.2262\n",
            "Epoch 77/100\n",
            "69/69 [==============================] - 0s 2ms/step - loss: 0.2290\n",
            "Epoch 78/100\n",
            "69/69 [==============================] - 0s 2ms/step - loss: 0.2255\n",
            "Epoch 79/100\n",
            "69/69 [==============================] - 0s 2ms/step - loss: 0.2250\n",
            "Epoch 80/100\n",
            "69/69 [==============================] - 0s 2ms/step - loss: 0.2224\n",
            "Epoch 81/100\n",
            "69/69 [==============================] - 0s 2ms/step - loss: 0.2207\n",
            "Epoch 82/100\n",
            "69/69 [==============================] - 0s 2ms/step - loss: 0.2184\n",
            "Epoch 83/100\n",
            "69/69 [==============================] - 0s 3ms/step - loss: 0.2196\n",
            "Epoch 84/100\n",
            "69/69 [==============================] - 0s 2ms/step - loss: 0.2195\n",
            "Epoch 85/100\n",
            "69/69 [==============================] - 0s 2ms/step - loss: 0.2173\n",
            "Epoch 86/100\n",
            "69/69 [==============================] - 0s 2ms/step - loss: 0.2142\n",
            "Epoch 87/100\n",
            "69/69 [==============================] - 0s 2ms/step - loss: 0.2156\n",
            "Epoch 88/100\n",
            "69/69 [==============================] - 0s 2ms/step - loss: 0.2138\n",
            "Epoch 89/100\n",
            "69/69 [==============================] - 0s 2ms/step - loss: 0.2141\n",
            "Epoch 90/100\n",
            "69/69 [==============================] - 0s 2ms/step - loss: 0.2117\n",
            "Epoch 91/100\n",
            "69/69 [==============================] - 0s 2ms/step - loss: 0.2111\n",
            "Epoch 92/100\n",
            "69/69 [==============================] - 0s 2ms/step - loss: 0.2098\n",
            "Epoch 93/100\n",
            "69/69 [==============================] - 0s 3ms/step - loss: 0.2062\n",
            "Epoch 94/100\n",
            "69/69 [==============================] - 0s 3ms/step - loss: 0.2059\n",
            "Epoch 95/100\n",
            "69/69 [==============================] - 0s 2ms/step - loss: 0.2095\n",
            "Epoch 96/100\n",
            "69/69 [==============================] - 0s 2ms/step - loss: 0.2050\n",
            "Epoch 97/100\n",
            "69/69 [==============================] - 0s 3ms/step - loss: 0.2064\n",
            "Epoch 98/100\n",
            "69/69 [==============================] - 0s 3ms/step - loss: 0.2036\n",
            "Epoch 99/100\n",
            "69/69 [==============================] - 0s 3ms/step - loss: 0.2036\n",
            "Epoch 100/100\n",
            "69/69 [==============================] - 0s 2ms/step - loss: 0.2043\n"
          ]
        },
        {
          "output_type": "execute_result",
          "data": {
            "text/plain": [
              "<keras.callbacks.History at 0x7faa2f7c6d40>"
            ]
          },
          "metadata": {},
          "execution_count": 176
        }
      ]
    },
    {
      "cell_type": "code",
      "source": [
        "y_pred = ann.predict(X_test)\n",
        "#y_pred = (y_pred > 0.5)\n",
        "print(np.concatenate((y_pred.reshape(len(y_pred),1), y_test.reshape(len(y_test),1)),1))"
      ],
      "metadata": {
        "id": "iOZbkEwOtZCH",
        "colab": {
          "base_uri": "https://localhost:8080/"
        },
        "outputId": "9d86228c-53e6-40e4-9515-166ffe2da55e"
      },
      "execution_count": 177,
      "outputs": [
        {
          "output_type": "stream",
          "name": "stdout",
          "text": [
            "18/18 [==============================] - 0s 2ms/step\n",
            "[[-0.39337975 -0.5386465 ]\n",
            " [-0.17641366 -0.3809845 ]\n",
            " [-0.5838989  -0.2231912 ]\n",
            " ...\n",
            " [-0.50473011 -0.67395279]\n",
            " [-0.209609   -0.31154453]\n",
            " [ 3.00629616  2.40065056]]\n"
          ]
        }
      ]
    },
    {
      "cell_type": "code",
      "source": [
        "y_test"
      ],
      "metadata": {
        "id": "JF5napDv_OIC",
        "colab": {
          "base_uri": "https://localhost:8080/"
        },
        "outputId": "4098f48e-8eef-46fc-9bc9-1c4511bcda2a"
      },
      "execution_count": 178,
      "outputs": [
        {
          "output_type": "execute_result",
          "data": {
            "text/plain": [
              "array([-5.38646502e-01, -3.80984496e-01, -2.23191196e-01,  2.44004584e+00,\n",
              "       -6.25583098e-01, -3.83831578e-01,  7.68388705e-02,  7.53488709e-02,\n",
              "       -5.47873110e-01, -4.87713862e-01,  3.35538709e-01,  1.00514097e-02,\n",
              "        3.00240286e-02, -4.54817850e-01, -6.71255128e-01, -2.97865453e-01,\n",
              "       -6.48721848e-01, -6.11460476e-01,  7.96787971e-02, -5.30553897e-01,\n",
              "        7.54192580e-01, -4.47916891e-01, -1.82578114e-01, -6.86315682e-01,\n",
              "        6.13380723e-03, -4.03861194e-01, -6.39944672e-01, -1.05867573e-01,\n",
              "       -5.87623133e-02,  3.43770601e+00,  2.69529421e-02,  4.81669594e-01,\n",
              "        1.15875983e-02, -4.33033824e-01, -1.51673836e-01,  6.94566254e-01,\n",
              "       -1.85931590e-01, -3.31207497e-01,  1.82608647e-01, -6.97080777e-01,\n",
              "        4.34029971e-01,  1.66872680e-01, -3.95566149e-01, -2.35078967e-02,\n",
              "        2.73190971e-02, -4.29552606e-01, -3.23299603e-01,  1.03198522e+00,\n",
              "       -6.62879176e-01,  1.51945462e+00, -4.89581986e-01,  5.94299418e+00,\n",
              "       -7.32245778e-01, -4.09256186e-01, -7.33413681e-01, -1.81185184e-01,\n",
              "       -7.14805162e-01, -4.70135316e-01,  4.38061953e-02, -5.89025296e-01,\n",
              "        1.19756104e+00, -7.44505211e-01,  2.58703769e+00,  2.72840780e-02,\n",
              "       -6.26150138e-01, -7.01182453e-01,  2.02739703e+00, -5.92915616e-01,\n",
              "       -2.15800018e-01, -6.29499130e-01, -2.03509588e-02,  9.95389849e-01,\n",
              "       -7.10996623e-01,  1.60474558e+00, -6.13070031e-01,  1.84782706e-01,\n",
              "        1.24744352e-01, -5.62520687e-01, -5.59321948e-01, -3.59867483e-01,\n",
              "       -7.51666398e-01, -7.39053129e-01,  7.58606986e-01, -4.15269971e-01,\n",
              "        1.93023543e+00, -3.67913923e-01, -3.09814028e-01,  8.43863075e-01,\n",
              "        9.37501250e-01,  5.43735622e-01, -4.63169965e-01, -6.61701597e-01,\n",
              "        2.61168856e-02,  2.24781175e-01, -6.24965489e-01, -4.42757865e-01,\n",
              "       -2.82326552e-01, -4.02602046e-01, -4.92869629e-01, -5.91172490e-01,\n",
              "       -7.30184424e-01, -2.84671246e-01, -7.18332695e-01,  1.68212005e-01,\n",
              "       -4.89797004e-01,  2.91630678e-01, -4.91173090e-01, -6.78231491e-01,\n",
              "       -7.54552327e-01, -3.27467563e-01, -5.42461616e-01, -3.96624485e-01,\n",
              "        3.62378108e+00,  1.96631414e+00, -2.23856702e-01, -3.65233981e-01,\n",
              "       -2.13563303e-01, -5.13468717e-01,  5.31817326e+00,  1.76524649e+00,\n",
              "        1.34763142e-01, -2.44341459e-01, -7.81521274e-02, -1.52973901e-01,\n",
              "       -6.83657707e-01, -4.72597313e-01, -7.26676827e-01, -2.12067264e-01,\n",
              "       -3.87434722e-01, -6.55045472e-01, -2.02918844e-01,  4.95314561e-01,\n",
              "        7.23073763e-01, -4.42795973e-01,  2.49183208e-01,  6.91869261e-01,\n",
              "       -5.09432618e-01, -4.58959599e-01, -4.19316477e-01, -1.60669497e-02,\n",
              "        1.19808026e+00, -4.43818438e-01, -5.46738522e-01,  7.29814667e-01,\n",
              "       -5.64410623e-01, -6.67299885e-01, -6.91654394e-01,  2.51375012e+00,\n",
              "       -3.84797544e-01, -7.81045342e-02, -3.46065635e-01, -7.40248027e-01,\n",
              "        6.63997175e-01,  3.93178009e-01,  1.08336426e+00,  1.51811692e-01,\n",
              "        3.71577745e-01,  1.31262352e-01, -4.86254591e-01, -7.04897636e-01,\n",
              "       -2.64305940e-02,  5.97407672e-02,  1.99643963e+00,  4.10445790e-01,\n",
              "        4.08146224e+00,  7.71111257e-01,  1.70407718e+00, -5.88382629e-01,\n",
              "       -3.49436527e-01, -1.11870388e-01,  6.03148334e-02, -3.12651783e-01,\n",
              "       -6.26058722e-01,  4.56277789e-01,  8.24460131e-01, -3.70779757e-01,\n",
              "        1.39613780e+00, -6.48606375e-01, -4.54797138e-01, -1.29477248e-01,\n",
              "       -4.00679997e-01, -6.46234008e-01, -3.04580048e-01, -6.74171730e-01,\n",
              "       -4.13269531e-01, -4.04187261e-01, -3.93440297e-01,  1.86909108e+00,\n",
              "       -6.51237741e-01, -2.27631363e-01,  1.52447528e-01, -7.28874159e-01,\n",
              "       -5.26731850e-01, -5.64063057e-01,  1.67576904e+00,  4.07935704e-01,\n",
              "       -6.74461697e-01, -5.61350158e-01, -6.15533749e-01, -2.89845326e-01,\n",
              "        1.87385121e+00, -4.43470105e-01,  3.14083116e-01,  2.24827234e-01,\n",
              "       -4.43623596e-01, -5.62621677e-01, -6.43849489e-01, -5.94717768e-01,\n",
              "       -4.26360820e-01,  3.62378108e+00, -3.34420990e-01, -5.58209253e-02,\n",
              "        5.13130749e-01, -2.17506663e-01, -6.87482042e-01, -6.84635009e-01,\n",
              "       -7.48642012e-01, -2.28594362e-01, -4.96624230e-01, -5.41423505e-01,\n",
              "       -4.76899599e-01,  7.58887756e-01, -6.17686224e-01, -7.49588403e-01,\n",
              "        3.31679293e-01,  6.72415221e-01,  3.20686419e-01, -2.67680777e-01,\n",
              "       -8.71680082e-02, -7.37944878e-01,  1.37515459e+00,  1.18034717e-01,\n",
              "       -3.98718188e-01,  1.74123066e+00, -2.09232635e-01,  7.53127381e-01,\n",
              "        2.92243526e-01, -7.37310588e-01,  9.12862443e-01, -6.60923122e-01,\n",
              "       -2.66806974e-01,  6.45987396e-01,  7.27123739e-01, -6.94031332e-01,\n",
              "       -4.20333969e-01, -5.08973383e-01, -3.73417418e-01,  6.55060136e-01,\n",
              "       -7.53458786e-01, -6.47119623e-01, -6.73618485e-01,  8.32015495e-01,\n",
              "       -6.02663551e-01, -5.70841757e-01, -5.55302466e-01, -7.52504655e-01,\n",
              "        1.35446371e+00,  2.42055293e+00, -7.52661616e-01,  2.26028722e-02,\n",
              "       -5.01323664e-01, -5.81173702e-01, -6.96440625e-01, -6.37371436e-01,\n",
              "       -2.79039729e-01, -6.79778813e-01, -4.23445797e-01, -5.55345996e-01,\n",
              "       -5.45273780e-01,  5.44504831e-01,  7.80833914e-01,  9.54725414e-02,\n",
              "        5.80888165e-01, -2.69112619e-01, -3.36798840e-01,  5.38260210e-01,\n",
              "       -7.13321417e-01, -6.04201180e-01,  5.55907260e-01, -7.55498564e-01,\n",
              "       -6.85057716e-02, -2.47268710e-01,  4.80197307e-01, -2.01767469e-01,\n",
              "       -3.83098959e-01,  2.31765528e-02, -5.48261564e-01, -5.38823919e-01,\n",
              "       -5.37123078e-01, -5.75088644e-03, -4.45784593e-01, -5.99683499e-01,\n",
              "       -2.83349880e-01, -3.23881426e-01,  2.10094958e-01, -5.95464739e-01,\n",
              "        1.64147901e-01,  2.05170201e-01,  1.03611385e+00, -2.83759647e-01,\n",
              "       -6.63852082e-01, -6.72080884e-01, -4.98571440e-02, -3.96474712e-01,\n",
              "       -1.44319203e-01, -6.49273968e-01, -6.24907891e-01, -6.96096802e-01,\n",
              "        1.56028383e+00,  1.22405702e+00,  1.15588868e+00, -6.45583016e-01,\n",
              "       -5.71359852e-01, -6.80409357e-01,  2.47426295e-01,  5.80627583e-01,\n",
              "       -2.53519816e-01,  4.30480816e+00,  1.74000081e-01, -4.12189972e-01,\n",
              "        2.04972385e+00, -9.79836427e-02, -3.74078139e-01,  8.24755460e-01,\n",
              "       -3.14655166e-01, -6.79375540e-01, -5.22259375e-01, -3.87131665e-01,\n",
              "       -3.06580440e-01, -5.78429274e-01, -4.72356075e-01,  3.95899505e+00,\n",
              "       -6.77545248e-01, -4.73047160e-01,  1.56362184e-02, -7.40248027e-01,\n",
              "       -6.59316063e-01, -5.79944434e-01, -6.01905423e-02, -6.19592711e-01,\n",
              "       -5.87656289e-01, -1.94017945e-01, -1.20368052e-02, -3.35497445e-02,\n",
              "        4.01215319e+00,  2.80547643e-01, -5.76653200e-01,  3.14134378e-01,\n",
              "       -2.64136092e-01,  1.20832622e+00, -6.81362631e-01, -2.10156815e-01,\n",
              "       -6.66605882e-01, -4.57263117e-01, -7.54531559e-01, -7.53160790e-01,\n",
              "       -6.14218115e-01, -6.06558737e-01, -7.26054729e-01,  1.06996868e+00,\n",
              "        2.06374465e+00,  4.77702984e+00, -6.92465051e-01,  1.11437566e+00,\n",
              "        7.99862175e-02, -5.48742802e-01, -7.27476184e-01,  3.94682218e+00,\n",
              "       -7.23049976e-01, -7.27590923e-02, -2.72496008e-01, -1.32395805e-01,\n",
              "        6.38177481e-01, -2.45894816e-01, -5.27022812e-01, -1.38252033e-01,\n",
              "       -3.24291984e-01, -3.90299829e-01, -4.54797138e-01, -5.68596389e-01,\n",
              "       -2.07429244e-01,  1.20165389e+00,  4.97707807e-01, -6.90528740e-01,\n",
              "       -6.89105824e-01, -6.23563435e-01,  4.74883556e-01,  2.07115414e-01,\n",
              "        2.57342670e-01,  5.99551291e-01,  6.91869261e-01, -7.07703436e-01,\n",
              "        5.94453974e-02, -4.59347452e-01,  2.06081459e-01,  4.40864145e+00,\n",
              "       -4.38739098e-01, -2.50973770e-01,  1.14357601e+00,  2.75483754e-01,\n",
              "       -2.56389815e-01,  2.70014333e-01, -2.94841838e-03, -3.83545421e-01,\n",
              "        7.50493368e-01, -2.76105216e-01,  5.50873519e-02,  5.94362286e-02,\n",
              "        7.38907271e-01,  3.61304201e-01, -1.75267438e-01, -3.96715954e-01,\n",
              "       -5.41489728e-01,  3.85261843e-01, -5.42979707e-01, -5.36747941e-01,\n",
              "       -6.64354324e-01, -3.75534556e-01, -3.49071533e-01, -5.26931989e-01,\n",
              "       -2.42397516e-01, -5.98294413e-01, -1.66389909e-01, -3.34524964e-01,\n",
              "       -3.70426545e-01, -4.06825218e-01, -3.37698258e-01, -7.06503753e-01,\n",
              "       -4.50230134e-01, -3.43797092e-01, -4.54864051e-01, -3.92027353e-01,\n",
              "       -3.79533456e-01, -5.71255529e-01, -4.70999857e-01, -6.31227055e-01,\n",
              "       -7.13035342e-01, -3.16408240e-01, -6.46292130e-01,  2.33659457e+00,\n",
              "       -5.16980144e-01, -6.48368701e-01, -1.84807766e-01, -7.48410715e-01,\n",
              "       -4.31540001e-01, -6.98201735e-01, -1.81100778e-01, -2.82994570e-01,\n",
              "        8.78337572e-02, -6.47999478e-01, -7.47334151e-01,  9.80893080e-02,\n",
              "       -7.50670231e-01, -4.97509183e-01, -2.46722982e-01, -7.36470221e-01,\n",
              "        4.14691918e-01, -4.05563537e-01,  4.80317711e-01,  1.07431994e-01,\n",
              "       -6.46781368e-01, -6.87937032e-01, -1.58933701e-01,  1.62134547e+00,\n",
              "        3.89295393e-01, -7.46989130e-01, -6.66004134e-01,  1.78279526e+00,\n",
              "       -7.38901854e-01, -2.31211088e-01, -5.33361552e-01, -6.47119623e-01,\n",
              "        6.40810961e-02,  7.78618443e-01, -3.51543470e-01, -4.88369619e-01,\n",
              "       -3.43383741e-01, -7.55228204e-01,  3.72353623e+00, -6.68310814e-01,\n",
              "       -4.86587505e-01, -6.81845906e-01,  1.32248102e+00, -1.10207013e-01,\n",
              "        1.57687658e+00, -5.77854896e-01,  1.60630896e-01, -4.43890976e-01,\n",
              "       -2.22926689e-01,  2.83321634e-01, -7.40865266e-01,  5.25877236e-01,\n",
              "       -4.78552169e-01, -5.80082295e-01, -1.05231785e-01, -1.31515175e-01,\n",
              "       -2.40642430e-01, -7.42080173e-01, -6.06357839e-01,  6.18691116e-01,\n",
              "       -4.41257630e-01,  4.06068616e+00, -5.54703872e-01, -4.84185870e-01,\n",
              "        5.64172172e-01, -1.41137198e-01,  7.17463396e-02, -2.43963825e-01,\n",
              "       -4.77184210e-02, -7.35218147e-01,  3.04461910e+00, -7.09070507e-01,\n",
              "       -4.71110565e-02,  5.91676496e-01, -7.50021191e-01,  8.51587674e-02,\n",
              "       -4.70846017e-01, -2.27223386e-01, -4.69869283e-01,  3.91539904e+00,\n",
              "        2.34141224e-01, -6.63199734e-01, -2.22776709e-01, -6.33515645e-01,\n",
              "       -5.61955302e-01, -4.23937693e-01,  1.72819564e-01,  2.43192729e+00,\n",
              "       -6.47055051e-01,  1.30928473e-01, -4.59673677e-01, -3.70584014e-01,\n",
              "       -5.48655096e-01, -2.64860292e-01, -6.28184948e-01,  1.20165389e+00,\n",
              "       -4.55170635e-01, -5.97449881e-01, -1.04611457e-01, -2.76509475e-01,\n",
              "       -7.00391019e-01, -2.36262662e-01, -6.81728470e-01,  1.46066357e+00,\n",
              "       -3.89968689e-01, -5.74603904e-01, -4.62090094e-01, -6.73952795e-01,\n",
              "       -3.11544527e-01,  2.40065056e+00])"
            ]
          },
          "metadata": {},
          "execution_count": 178
        }
      ]
    },
    {
      "cell_type": "code",
      "source": [
        "y_pred"
      ],
      "metadata": {
        "id": "kAEqVi2k_Obe",
        "colab": {
          "base_uri": "https://localhost:8080/"
        },
        "outputId": "e9567a46-21a0-499d-e984-11ceb2283a02"
      },
      "execution_count": 179,
      "outputs": [
        {
          "output_type": "execute_result",
          "data": {
            "text/plain": [
              "array([[-3.93379748e-01],\n",
              "       [-1.76413655e-01],\n",
              "       [-5.83898902e-01],\n",
              "       [ 1.18364263e+00],\n",
              "       [-1.35313511e-01],\n",
              "       [-3.48074913e-01],\n",
              "       [-3.41240138e-01],\n",
              "       [ 6.31843209e-01],\n",
              "       [-3.14678177e-02],\n",
              "       [-1.32777333e-01],\n",
              "       [-1.14107855e-01],\n",
              "       [-2.47552663e-01],\n",
              "       [-3.56620997e-01],\n",
              "       [ 3.66086960e-01],\n",
              "       [-4.52301383e-01],\n",
              "       [ 6.07795596e-01],\n",
              "       [-1.14446056e+00],\n",
              "       [-5.33117652e-01],\n",
              "       [ 2.23301053e-01],\n",
              "       [-5.78532994e-01],\n",
              "       [-2.40058452e-03],\n",
              "       [-4.37977403e-01],\n",
              "       [-3.23951781e-01],\n",
              "       [-5.00357389e-01],\n",
              "       [ 3.78829777e-01],\n",
              "       [-2.59330750e-01],\n",
              "       [-2.05360472e-01],\n",
              "       [-2.52285898e-01],\n",
              "       [-6.11534476e-01],\n",
              "       [ 1.42771864e+00],\n",
              "       [-4.21748757e-01],\n",
              "       [ 1.94755614e-01],\n",
              "       [-3.11400414e-01],\n",
              "       [-1.84774071e-01],\n",
              "       [-5.28799832e-01],\n",
              "       [-3.89631927e-01],\n",
              "       [-3.47187638e-01],\n",
              "       [-2.54641294e-01],\n",
              "       [-5.95196560e-02],\n",
              "       [-6.27102494e-01],\n",
              "       [-2.83889294e-01],\n",
              "       [ 4.40638512e-01],\n",
              "       [-3.21637690e-01],\n",
              "       [-1.88090801e-01],\n",
              "       [-2.57576779e-02],\n",
              "       [-3.55574340e-01],\n",
              "       [ 2.36457705e+00],\n",
              "       [-7.12562352e-03],\n",
              "       [-6.47109807e-01],\n",
              "       [ 1.82493091e+00],\n",
              "       [-6.43251598e-01],\n",
              "       [ 5.84778309e+00],\n",
              "       [-7.91036129e-01],\n",
              "       [-4.94093418e-01],\n",
              "       [-2.99569488e-01],\n",
              "       [-1.90352201e-01],\n",
              "       [-2.61589468e-01],\n",
              "       [-4.97688890e-01],\n",
              "       [ 4.34853956e-02],\n",
              "       [-3.42492044e-01],\n",
              "       [-8.97995606e-02],\n",
              "       [-5.20443439e-01],\n",
              "       [ 2.27775502e+00],\n",
              "       [-6.04202390e-01],\n",
              "       [-2.55641758e-01],\n",
              "       [-5.77245355e-01],\n",
              "       [ 1.16721117e+00],\n",
              "       [-1.03321815e+00],\n",
              "       [-5.12462080e-01],\n",
              "       [-4.07092810e-01],\n",
              "       [-1.73512220e-01],\n",
              "       [ 9.00516331e-01],\n",
              "       [-5.12965143e-01],\n",
              "       [ 6.27053022e-01],\n",
              "       [-4.64475453e-01],\n",
              "       [ 1.05393457e+00],\n",
              "       [-3.55574340e-01],\n",
              "       [-3.78301740e-01],\n",
              "       [-1.38204455e-01],\n",
              "       [-4.37179148e-01],\n",
              "       [-5.28641343e-01],\n",
              "       [-3.78267109e-01],\n",
              "       [ 4.85056520e-01],\n",
              "       [-4.34104621e-01],\n",
              "       [ 1.11883235e+00],\n",
              "       [-3.12719822e-01],\n",
              "       [-5.11525869e-01],\n",
              "       [ 1.32279038e+00],\n",
              "       [ 2.26186609e+00],\n",
              "       [ 1.97170138e-01],\n",
              "       [-1.58000559e-01],\n",
              "       [-1.36001754e+00],\n",
              "       [-3.62080038e-01],\n",
              "       [-3.73797774e-01],\n",
              "       [-5.73800445e-01],\n",
              "       [-4.83308494e-01],\n",
              "       [-4.18090761e-01],\n",
              "       [-1.62751466e-01],\n",
              "       [-1.61259532e-01],\n",
              "       [-4.10438180e-01],\n",
              "       [-1.96863770e-01],\n",
              "       [-3.44404072e-01],\n",
              "       [-3.71363640e-01],\n",
              "       [-4.15532589e-01],\n",
              "       [-4.41692591e-01],\n",
              "       [-1.15484245e-01],\n",
              "       [-4.40533578e-01],\n",
              "       [-4.11621481e-01],\n",
              "       [-5.24785042e-01],\n",
              "       [-2.65518546e-01],\n",
              "       [-3.09131503e-01],\n",
              "       [-5.33010602e-01],\n",
              "       [ 3.64395738e+00],\n",
              "       [ 7.84816146e-01],\n",
              "       [ 4.97669697e-01],\n",
              "       [-3.07559431e-01],\n",
              "       [ 1.34152675e+00],\n",
              "       [-2.44812608e-01],\n",
              "       [ 1.42133105e+00],\n",
              "       [ 2.22665596e+00],\n",
              "       [-1.84086636e-02],\n",
              "       [-3.88413370e-01],\n",
              "       [-5.75377941e-01],\n",
              "       [-4.78510141e-01],\n",
              "       [-4.59479034e-01],\n",
              "       [-2.95975268e-01],\n",
              "       [-4.25761938e-01],\n",
              "       [-1.10510401e-01],\n",
              "       [-3.42897654e-01],\n",
              "       [-4.37402800e-02],\n",
              "       [-2.57858157e-01],\n",
              "       [ 4.52201843e-01],\n",
              "       [ 1.01280725e+00],\n",
              "       [-4.22163844e-01],\n",
              "       [ 3.26538309e-02],\n",
              "       [ 1.26045370e+00],\n",
              "       [-1.65900081e-01],\n",
              "       [-3.08443069e-01],\n",
              "       [-2.34810710e-01],\n",
              "       [-3.35361093e-01],\n",
              "       [ 4.29581118e+00],\n",
              "       [-5.55471539e-01],\n",
              "       [-4.46532398e-01],\n",
              "       [ 9.92225528e-01],\n",
              "       [-7.03108430e-01],\n",
              "       [-6.55546606e-01],\n",
              "       [-3.58312488e-01],\n",
              "       [ 2.15732980e+00],\n",
              "       [-3.83028865e-01],\n",
              "       [-8.19995522e-01],\n",
              "       [-3.15215886e-01],\n",
              "       [-4.63738799e-01],\n",
              "       [ 8.67774367e-01],\n",
              "       [-1.97226182e-02],\n",
              "       [-1.43210053e-01],\n",
              "       [-2.52227038e-01],\n",
              "       [ 2.75848329e-01],\n",
              "       [ 8.68095696e-01],\n",
              "       [-3.55574340e-01],\n",
              "       [-3.54830980e-01],\n",
              "       [-3.55574340e-01],\n",
              "       [-3.99167299e-01],\n",
              "       [ 1.97838151e+00],\n",
              "       [-4.30061936e-01],\n",
              "       [ 4.47002411e+00],\n",
              "       [ 4.30817962e-01],\n",
              "       [ 4.89419401e-02],\n",
              "       [-4.13072646e-01],\n",
              "       [-6.72965720e-02],\n",
              "       [-6.07412532e-02],\n",
              "       [-2.41744757e-01],\n",
              "       [-4.48585808e-01],\n",
              "       [-5.41787148e-01],\n",
              "       [ 1.61815062e-02],\n",
              "       [ 1.99774981e+00],\n",
              "       [-2.66447604e-01],\n",
              "       [ 3.04122388e-01],\n",
              "       [-5.95240712e-01],\n",
              "       [-2.31882870e-01],\n",
              "       [-3.38850543e-02],\n",
              "       [-2.58065879e-01],\n",
              "       [-2.28749871e-01],\n",
              "       [ 1.00476079e-01],\n",
              "       [-2.29698002e-01],\n",
              "       [ 2.26665318e-01],\n",
              "       [-5.31038761e-01],\n",
              "       [-1.74024403e-02],\n",
              "       [ 2.22074032e+00],\n",
              "       [-3.89158726e-01],\n",
              "       [-3.72323453e-01],\n",
              "       [ 2.17485353e-02],\n",
              "       [-5.07007241e-01],\n",
              "       [-3.23264718e-01],\n",
              "       [-3.55955720e-01],\n",
              "       [ 1.67448294e+00],\n",
              "       [-4.14809674e-01],\n",
              "       [-2.28478760e-01],\n",
              "       [-5.80391169e-01],\n",
              "       [-2.83304036e-01],\n",
              "       [-1.75206006e-01],\n",
              "       [ 3.90960693e-01],\n",
              "       [-3.89278561e-01],\n",
              "       [ 1.19445813e+00],\n",
              "       [ 1.01071291e-01],\n",
              "       [-6.00282311e-01],\n",
              "       [-3.63455653e-01],\n",
              "       [-3.42562526e-01],\n",
              "       [-4.63666737e-01],\n",
              "       [ 2.74467051e-01],\n",
              "       [ 3.79082465e+00],\n",
              "       [ 8.85849357e-01],\n",
              "       [-1.36639923e-01],\n",
              "       [ 1.68884361e+00],\n",
              "       [-1.86912537e-01],\n",
              "       [-6.79484606e-01],\n",
              "       [-5.31079292e-01],\n",
              "       [-5.72187245e-01],\n",
              "       [ 2.95600295e-01],\n",
              "       [-4.37562346e-01],\n",
              "       [-4.55612242e-01],\n",
              "       [-3.05347517e-02],\n",
              "       [ 6.47003293e-01],\n",
              "       [-5.57023644e-01],\n",
              "       [-5.57312787e-01],\n",
              "       [-3.93696040e-01],\n",
              "       [-1.65571302e-01],\n",
              "       [-3.86839151e-01],\n",
              "       [-1.56474650e-01],\n",
              "       [-2.65447021e-01],\n",
              "       [-7.23007560e-01],\n",
              "       [ 1.82277417e+00],\n",
              "       [-4.64112759e-01],\n",
              "       [-3.74963254e-01],\n",
              "       [ 1.82699144e-01],\n",
              "       [ 4.71499175e-01],\n",
              "       [ 6.61810637e-01],\n",
              "       [-2.62888819e-01],\n",
              "       [-3.65489602e-01],\n",
              "       [ 6.87325716e-01],\n",
              "       [-4.80919361e-01],\n",
              "       [-5.78559697e-01],\n",
              "       [-3.55574340e-01],\n",
              "       [ 8.10199901e-02],\n",
              "       [-8.33988905e-01],\n",
              "       [-3.11806470e-01],\n",
              "       [-2.98891306e-01],\n",
              "       [-3.57834339e-01],\n",
              "       [-1.31966054e-01],\n",
              "       [-6.26805961e-01],\n",
              "       [-3.04151848e-02],\n",
              "       [-3.89685512e-01],\n",
              "       [ 9.25251245e-01],\n",
              "       [-6.47349000e-01],\n",
              "       [-2.88369238e-01],\n",
              "       [-5.47336459e-01],\n",
              "       [-7.79831052e-01],\n",
              "       [ 9.74032044e-01],\n",
              "       [ 1.50548816e-01],\n",
              "       [-6.01122737e-01],\n",
              "       [-4.44772899e-01],\n",
              "       [-1.25312597e-01],\n",
              "       [-4.80104923e-01],\n",
              "       [-3.67010415e-01],\n",
              "       [ 2.68981636e-01],\n",
              "       [ 8.20815563e-01],\n",
              "       [-2.79419303e-01],\n",
              "       [-4.16593432e-01],\n",
              "       [-5.01266479e-01],\n",
              "       [-2.57383168e-01],\n",
              "       [-8.77750665e-03],\n",
              "       [-2.52709061e-01],\n",
              "       [ 1.39059246e+00],\n",
              "       [ 8.85239124e-01],\n",
              "       [ 1.06729195e-02],\n",
              "       [ 4.41631556e-01],\n",
              "       [-6.25690147e-02],\n",
              "       [-5.64619064e-01],\n",
              "       [-6.06253803e-01],\n",
              "       [-5.16683698e-01],\n",
              "       [-4.64737415e-01],\n",
              "       [-4.84996200e-01],\n",
              "       [-3.43802691e-01],\n",
              "       [-4.25707966e-01],\n",
              "       [-2.84960777e-01],\n",
              "       [-1.54998600e-01],\n",
              "       [-2.82884240e-01],\n",
              "       [-3.91511172e-01],\n",
              "       [-1.22227289e-01],\n",
              "       [-3.50970626e-01],\n",
              "       [ 1.24832678e+00],\n",
              "       [-3.14584851e-01],\n",
              "       [-4.25184369e-01],\n",
              "       [ 1.20011747e+00],\n",
              "       [-3.91724586e-01],\n",
              "       [ 3.09479162e-02],\n",
              "       [-5.94673157e-01],\n",
              "       [ 2.19958901e-01],\n",
              "       [ 2.64960957e+00],\n",
              "       [ 6.20976925e-01],\n",
              "       [-3.55574340e-01],\n",
              "       [-6.05691433e-01],\n",
              "       [-4.58050907e-01],\n",
              "       [-3.01389769e-02],\n",
              "       [-4.63319495e-02],\n",
              "       [ 1.06949019e+00],\n",
              "       [-3.39299440e-01],\n",
              "       [-4.55064356e-01],\n",
              "       [-6.04248166e-01],\n",
              "       [-1.91629529e-01],\n",
              "       [ 1.29759645e+00],\n",
              "       [-2.46518031e-02],\n",
              "       [-2.49461949e-01],\n",
              "       [-4.66258347e-01],\n",
              "       [-4.16268229e-01],\n",
              "       [ 2.49563962e-01],\n",
              "       [ 2.17555642e+00],\n",
              "       [-2.94571102e-01],\n",
              "       [ 1.88349628e+00],\n",
              "       [ 5.08588493e-01],\n",
              "       [-3.85877311e-01],\n",
              "       [ 1.78960574e+00],\n",
              "       [-3.39043587e-01],\n",
              "       [-2.14442492e-01],\n",
              "       [ 3.53629023e-01],\n",
              "       [-1.61886871e-01],\n",
              "       [-5.92298627e-01],\n",
              "       [ 7.34259725e-01],\n",
              "       [-3.55574340e-01],\n",
              "       [-3.83389354e-01],\n",
              "       [-4.21344101e-01],\n",
              "       [-3.70708287e-01],\n",
              "       [ 2.54104376e+00],\n",
              "       [-6.94894671e-01],\n",
              "       [-3.25681686e-01],\n",
              "       [-6.67959824e-02],\n",
              "       [-4.66262877e-01],\n",
              "       [-5.62783241e-01],\n",
              "       [-4.65399265e-01],\n",
              "       [ 6.26671240e-02],\n",
              "       [-3.55574340e-01],\n",
              "       [-2.09309340e-01],\n",
              "       [-7.37285018e-01],\n",
              "       [-1.09329529e-01],\n",
              "       [ 2.06607342e-01],\n",
              "       [ 6.00220108e+00],\n",
              "       [-2.25653648e-01],\n",
              "       [-5.06880581e-01],\n",
              "       [-4.07948256e-01],\n",
              "       [-2.32847929e-01],\n",
              "       [-1.24998696e-01],\n",
              "       [-2.83852935e-01],\n",
              "       [-4.91442263e-01],\n",
              "       [-3.70091647e-01],\n",
              "       [-4.22572464e-01],\n",
              "       [-8.26731205e-01],\n",
              "       [-6.71312094e-01],\n",
              "       [-4.81415749e-01],\n",
              "       [-2.48462766e-01],\n",
              "       [-4.63672280e-01],\n",
              "       [ 2.00671506e+00],\n",
              "       [ 8.77236485e-01],\n",
              "       [ 3.60002160e+00],\n",
              "       [-4.96406555e-01],\n",
              "       [-1.84667468e-01],\n",
              "       [-1.73573732e-01],\n",
              "       [-4.47835088e-01],\n",
              "       [-8.74605060e-01],\n",
              "       [ 4.90081215e+00],\n",
              "       [-6.61037624e-01],\n",
              "       [-2.77414680e-01],\n",
              "       [-5.85238039e-01],\n",
              "       [ 2.93762207e-01],\n",
              "       [ 7.74258971e-01],\n",
              "       [-1.24000438e-01],\n",
              "       [-4.74399984e-01],\n",
              "       [-4.16789055e-01],\n",
              "       [-7.71025181e-01],\n",
              "       [-1.65714651e-01],\n",
              "       [ 1.25907838e-01],\n",
              "       [-4.15949285e-01],\n",
              "       [-1.39277995e-01],\n",
              "       [ 1.52115798e+00],\n",
              "       [ 6.78334117e-01],\n",
              "       [-6.12885833e-01],\n",
              "       [ 1.16446935e-01],\n",
              "       [-2.71680415e-01],\n",
              "       [-1.36630058e-01],\n",
              "       [ 5.23131967e-01],\n",
              "       [-2.49926269e-01],\n",
              "       [-3.87280881e-01],\n",
              "       [ 1.26045370e+00],\n",
              "       [-3.27843487e-01],\n",
              "       [-2.35185862e-01],\n",
              "       [-3.91336381e-01],\n",
              "       [-3.78268242e-01],\n",
              "       [ 2.68397760e+00],\n",
              "       [-7.21022248e-01],\n",
              "       [-4.44398224e-01],\n",
              "       [ 3.70324850e-01],\n",
              "       [ 4.16869044e-01],\n",
              "       [-4.31441009e-01],\n",
              "       [ 1.44470501e+00],\n",
              "       [-5.59361219e-01],\n",
              "       [-4.21817452e-01],\n",
              "       [ 2.76047468e-01],\n",
              "       [-3.77447605e-01],\n",
              "       [-1.41300678e-01],\n",
              "       [ 2.62485743e-01],\n",
              "       [ 2.16614425e-01],\n",
              "       [-2.10380405e-01],\n",
              "       [-2.78928399e-01],\n",
              "       [-4.65358555e-01],\n",
              "       [-7.03321934e-01],\n",
              "       [-4.06987146e-02],\n",
              "       [-4.37447071e-01],\n",
              "       [ 4.58270237e-02],\n",
              "       [-3.75070184e-01],\n",
              "       [-4.78632569e-01],\n",
              "       [-7.28916168e-01],\n",
              "       [-2.53254950e-01],\n",
              "       [-2.73773849e-01],\n",
              "       [-5.97901464e-01],\n",
              "       [-4.48470533e-01],\n",
              "       [-3.25763106e-01],\n",
              "       [-5.44821501e-01],\n",
              "       [ 2.04404920e-01],\n",
              "       [-4.22177702e-01],\n",
              "       [-6.10377014e-01],\n",
              "       [-4.87384439e-01],\n",
              "       [ 3.58829558e-01],\n",
              "       [-4.90761042e-01],\n",
              "       [-7.23946452e-01],\n",
              "       [-3.90304565e-01],\n",
              "       [-3.07151318e-01],\n",
              "       [-4.81239796e-01],\n",
              "       [-7.06711829e-01],\n",
              "       [-4.24329638e-01],\n",
              "       [-2.78354436e-03],\n",
              "       [-2.73625731e-01],\n",
              "       [ 9.41947341e-01],\n",
              "       [-1.42569900e-01],\n",
              "       [-9.08131242e-01],\n",
              "       [ 1.38081834e-02],\n",
              "       [-5.92231989e-01],\n",
              "       [-1.05157025e-01],\n",
              "       [-5.22800446e-01],\n",
              "       [-1.49141371e-01],\n",
              "       [ 4.75476027e-01],\n",
              "       [-2.94770896e-01],\n",
              "       [-3.13398898e-01],\n",
              "       [-6.29610181e-01],\n",
              "       [ 1.43442011e+00],\n",
              "       [-5.03504217e-01],\n",
              "       [-5.50422549e-01],\n",
              "       [-3.20981205e-01],\n",
              "       [-1.41909197e-02],\n",
              "       [-3.47156972e-01],\n",
              "       [-2.60816574e-01],\n",
              "       [ 1.95768237e+00],\n",
              "       [ 2.78295279e-01],\n",
              "       [-2.67140046e-02],\n",
              "       [-5.03221929e-01],\n",
              "       [-3.47124904e-01],\n",
              "       [ 2.33994198e+00],\n",
              "       [-4.78497684e-01],\n",
              "       [-1.10628080e+00],\n",
              "       [-2.55093753e-01],\n",
              "       [ 1.03968310e+00],\n",
              "       [-2.41970420e-01],\n",
              "       [-1.45493627e-01],\n",
              "       [-4.08160686e-01],\n",
              "       [-3.96608189e-02],\n",
              "       [-1.37441188e-01],\n",
              "       [-4.11082268e-01],\n",
              "       [ 2.76259452e-01],\n",
              "       [-4.02653843e-01],\n",
              "       [-4.04485583e-01],\n",
              "       [-4.33042526e-01],\n",
              "       [ 9.85110104e-01],\n",
              "       [-2.51302242e-01],\n",
              "       [-3.81881773e-01],\n",
              "       [-4.64238465e-01],\n",
              "       [ 1.42523229e+00],\n",
              "       [ 1.71368003e-01],\n",
              "       [ 3.08849072e+00],\n",
              "       [-4.33439106e-01],\n",
              "       [-3.55574340e-01],\n",
              "       [ 1.78541243e-01],\n",
              "       [-3.36056620e-01],\n",
              "       [-2.00241536e-01],\n",
              "       [-4.46349710e-01],\n",
              "       [ 2.03173727e-01],\n",
              "       [-1.57825768e-01],\n",
              "       [-4.72614646e-01],\n",
              "       [-3.61579731e-02],\n",
              "       [-2.61920840e-01],\n",
              "       [-4.04312104e-01],\n",
              "       [-1.59104228e-01],\n",
              "       [-4.60062742e-01],\n",
              "       [-2.19979882e-01],\n",
              "       [-5.13711870e-01],\n",
              "       [ 1.03426826e+00],\n",
              "       [-4.95961189e-01],\n",
              "       [-6.88382685e-01],\n",
              "       [ 1.06146371e+00],\n",
              "       [-2.19951719e-01],\n",
              "       [ 1.57713974e+00],\n",
              "       [-2.33228803e-01],\n",
              "       [-3.14029992e-01],\n",
              "       [-6.06893539e-01],\n",
              "       [ 2.70046139e+00],\n",
              "       [-4.74795580e-01],\n",
              "       [ 1.08669031e+00],\n",
              "       [ 6.52586401e-01],\n",
              "       [-5.40196359e-01],\n",
              "       [ 1.47225708e-03],\n",
              "       [ 2.31974244e-01],\n",
              "       [-4.39291477e-01],\n",
              "       [-1.61066130e-02],\n",
              "       [ 2.04479814e+00],\n",
              "       [ 1.09572232e+00],\n",
              "       [-3.34861398e-01],\n",
              "       [-2.91996002e-01],\n",
              "       [-5.25604844e-01],\n",
              "       [-4.61179614e-01],\n",
              "       [-5.25611043e-01],\n",
              "       [-1.78198934e-01],\n",
              "       [-5.59878707e-01],\n",
              "       [-3.89567345e-01],\n",
              "       [ 2.81672478e-01],\n",
              "       [-3.89361858e-01],\n",
              "       [-2.70857126e-01],\n",
              "       [-2.32022166e-01],\n",
              "       [-4.84099388e-01],\n",
              "       [-3.61961365e-01],\n",
              "       [ 1.52116692e+00],\n",
              "       [ 3.19184542e-01],\n",
              "       [-6.76283717e-01],\n",
              "       [ 6.94878578e-01],\n",
              "       [-3.11532617e-01],\n",
              "       [-5.21761894e-01],\n",
              "       [ 1.10156171e-01],\n",
              "       [-2.94043005e-01],\n",
              "       [-3.08289677e-01],\n",
              "       [-2.52418160e-01],\n",
              "       [-5.85503340e-01],\n",
              "       [ 1.08045869e-01],\n",
              "       [-5.04730105e-01],\n",
              "       [-2.09609002e-01],\n",
              "       [ 3.00629616e+00]], dtype=float32)"
            ]
          },
          "metadata": {},
          "execution_count": 179
        }
      ]
    },
    {
      "cell_type": "code",
      "source": [
        "y_pred = y_pred.reshape(1,len(y_pred))"
      ],
      "metadata": {
        "id": "ySzi5O95_s0K"
      },
      "execution_count": 180,
      "outputs": []
    },
    {
      "cell_type": "code",
      "source": [
        "y_pred"
      ],
      "metadata": {
        "colab": {
          "base_uri": "https://localhost:8080/"
        },
        "id": "SIQ61m9LiVLI",
        "outputId": "1b7e9873-c70c-4edb-de0f-7f79e3fb88aa"
      },
      "execution_count": 181,
      "outputs": [
        {
          "output_type": "execute_result",
          "data": {
            "text/plain": [
              "array([[-3.93379748e-01, -1.76413655e-01, -5.83898902e-01,\n",
              "         1.18364263e+00, -1.35313511e-01, -3.48074913e-01,\n",
              "        -3.41240138e-01,  6.31843209e-01, -3.14678177e-02,\n",
              "        -1.32777333e-01, -1.14107855e-01, -2.47552663e-01,\n",
              "        -3.56620997e-01,  3.66086960e-01, -4.52301383e-01,\n",
              "         6.07795596e-01, -1.14446056e+00, -5.33117652e-01,\n",
              "         2.23301053e-01, -5.78532994e-01, -2.40058452e-03,\n",
              "        -4.37977403e-01, -3.23951781e-01, -5.00357389e-01,\n",
              "         3.78829777e-01, -2.59330750e-01, -2.05360472e-01,\n",
              "        -2.52285898e-01, -6.11534476e-01,  1.42771864e+00,\n",
              "        -4.21748757e-01,  1.94755614e-01, -3.11400414e-01,\n",
              "        -1.84774071e-01, -5.28799832e-01, -3.89631927e-01,\n",
              "        -3.47187638e-01, -2.54641294e-01, -5.95196560e-02,\n",
              "        -6.27102494e-01, -2.83889294e-01,  4.40638512e-01,\n",
              "        -3.21637690e-01, -1.88090801e-01, -2.57576779e-02,\n",
              "        -3.55574340e-01,  2.36457705e+00, -7.12562352e-03,\n",
              "        -6.47109807e-01,  1.82493091e+00, -6.43251598e-01,\n",
              "         5.84778309e+00, -7.91036129e-01, -4.94093418e-01,\n",
              "        -2.99569488e-01, -1.90352201e-01, -2.61589468e-01,\n",
              "        -4.97688890e-01,  4.34853956e-02, -3.42492044e-01,\n",
              "        -8.97995606e-02, -5.20443439e-01,  2.27775502e+00,\n",
              "        -6.04202390e-01, -2.55641758e-01, -5.77245355e-01,\n",
              "         1.16721117e+00, -1.03321815e+00, -5.12462080e-01,\n",
              "        -4.07092810e-01, -1.73512220e-01,  9.00516331e-01,\n",
              "        -5.12965143e-01,  6.27053022e-01, -4.64475453e-01,\n",
              "         1.05393457e+00, -3.55574340e-01, -3.78301740e-01,\n",
              "        -1.38204455e-01, -4.37179148e-01, -5.28641343e-01,\n",
              "        -3.78267109e-01,  4.85056520e-01, -4.34104621e-01,\n",
              "         1.11883235e+00, -3.12719822e-01, -5.11525869e-01,\n",
              "         1.32279038e+00,  2.26186609e+00,  1.97170138e-01,\n",
              "        -1.58000559e-01, -1.36001754e+00, -3.62080038e-01,\n",
              "        -3.73797774e-01, -5.73800445e-01, -4.83308494e-01,\n",
              "        -4.18090761e-01, -1.62751466e-01, -1.61259532e-01,\n",
              "        -4.10438180e-01, -1.96863770e-01, -3.44404072e-01,\n",
              "        -3.71363640e-01, -4.15532589e-01, -4.41692591e-01,\n",
              "        -1.15484245e-01, -4.40533578e-01, -4.11621481e-01,\n",
              "        -5.24785042e-01, -2.65518546e-01, -3.09131503e-01,\n",
              "        -5.33010602e-01,  3.64395738e+00,  7.84816146e-01,\n",
              "         4.97669697e-01, -3.07559431e-01,  1.34152675e+00,\n",
              "        -2.44812608e-01,  1.42133105e+00,  2.22665596e+00,\n",
              "        -1.84086636e-02, -3.88413370e-01, -5.75377941e-01,\n",
              "        -4.78510141e-01, -4.59479034e-01, -2.95975268e-01,\n",
              "        -4.25761938e-01, -1.10510401e-01, -3.42897654e-01,\n",
              "        -4.37402800e-02, -2.57858157e-01,  4.52201843e-01,\n",
              "         1.01280725e+00, -4.22163844e-01,  3.26538309e-02,\n",
              "         1.26045370e+00, -1.65900081e-01, -3.08443069e-01,\n",
              "        -2.34810710e-01, -3.35361093e-01,  4.29581118e+00,\n",
              "        -5.55471539e-01, -4.46532398e-01,  9.92225528e-01,\n",
              "        -7.03108430e-01, -6.55546606e-01, -3.58312488e-01,\n",
              "         2.15732980e+00, -3.83028865e-01, -8.19995522e-01,\n",
              "        -3.15215886e-01, -4.63738799e-01,  8.67774367e-01,\n",
              "        -1.97226182e-02, -1.43210053e-01, -2.52227038e-01,\n",
              "         2.75848329e-01,  8.68095696e-01, -3.55574340e-01,\n",
              "        -3.54830980e-01, -3.55574340e-01, -3.99167299e-01,\n",
              "         1.97838151e+00, -4.30061936e-01,  4.47002411e+00,\n",
              "         4.30817962e-01,  4.89419401e-02, -4.13072646e-01,\n",
              "        -6.72965720e-02, -6.07412532e-02, -2.41744757e-01,\n",
              "        -4.48585808e-01, -5.41787148e-01,  1.61815062e-02,\n",
              "         1.99774981e+00, -2.66447604e-01,  3.04122388e-01,\n",
              "        -5.95240712e-01, -2.31882870e-01, -3.38850543e-02,\n",
              "        -2.58065879e-01, -2.28749871e-01,  1.00476079e-01,\n",
              "        -2.29698002e-01,  2.26665318e-01, -5.31038761e-01,\n",
              "        -1.74024403e-02,  2.22074032e+00, -3.89158726e-01,\n",
              "        -3.72323453e-01,  2.17485353e-02, -5.07007241e-01,\n",
              "        -3.23264718e-01, -3.55955720e-01,  1.67448294e+00,\n",
              "        -4.14809674e-01, -2.28478760e-01, -5.80391169e-01,\n",
              "        -2.83304036e-01, -1.75206006e-01,  3.90960693e-01,\n",
              "        -3.89278561e-01,  1.19445813e+00,  1.01071291e-01,\n",
              "        -6.00282311e-01, -3.63455653e-01, -3.42562526e-01,\n",
              "        -4.63666737e-01,  2.74467051e-01,  3.79082465e+00,\n",
              "         8.85849357e-01, -1.36639923e-01,  1.68884361e+00,\n",
              "        -1.86912537e-01, -6.79484606e-01, -5.31079292e-01,\n",
              "        -5.72187245e-01,  2.95600295e-01, -4.37562346e-01,\n",
              "        -4.55612242e-01, -3.05347517e-02,  6.47003293e-01,\n",
              "        -5.57023644e-01, -5.57312787e-01, -3.93696040e-01,\n",
              "        -1.65571302e-01, -3.86839151e-01, -1.56474650e-01,\n",
              "        -2.65447021e-01, -7.23007560e-01,  1.82277417e+00,\n",
              "        -4.64112759e-01, -3.74963254e-01,  1.82699144e-01,\n",
              "         4.71499175e-01,  6.61810637e-01, -2.62888819e-01,\n",
              "        -3.65489602e-01,  6.87325716e-01, -4.80919361e-01,\n",
              "        -5.78559697e-01, -3.55574340e-01,  8.10199901e-02,\n",
              "        -8.33988905e-01, -3.11806470e-01, -2.98891306e-01,\n",
              "        -3.57834339e-01, -1.31966054e-01, -6.26805961e-01,\n",
              "        -3.04151848e-02, -3.89685512e-01,  9.25251245e-01,\n",
              "        -6.47349000e-01, -2.88369238e-01, -5.47336459e-01,\n",
              "        -7.79831052e-01,  9.74032044e-01,  1.50548816e-01,\n",
              "        -6.01122737e-01, -4.44772899e-01, -1.25312597e-01,\n",
              "        -4.80104923e-01, -3.67010415e-01,  2.68981636e-01,\n",
              "         8.20815563e-01, -2.79419303e-01, -4.16593432e-01,\n",
              "        -5.01266479e-01, -2.57383168e-01, -8.77750665e-03,\n",
              "        -2.52709061e-01,  1.39059246e+00,  8.85239124e-01,\n",
              "         1.06729195e-02,  4.41631556e-01, -6.25690147e-02,\n",
              "        -5.64619064e-01, -6.06253803e-01, -5.16683698e-01,\n",
              "        -4.64737415e-01, -4.84996200e-01, -3.43802691e-01,\n",
              "        -4.25707966e-01, -2.84960777e-01, -1.54998600e-01,\n",
              "        -2.82884240e-01, -3.91511172e-01, -1.22227289e-01,\n",
              "        -3.50970626e-01,  1.24832678e+00, -3.14584851e-01,\n",
              "        -4.25184369e-01,  1.20011747e+00, -3.91724586e-01,\n",
              "         3.09479162e-02, -5.94673157e-01,  2.19958901e-01,\n",
              "         2.64960957e+00,  6.20976925e-01, -3.55574340e-01,\n",
              "        -6.05691433e-01, -4.58050907e-01, -3.01389769e-02,\n",
              "        -4.63319495e-02,  1.06949019e+00, -3.39299440e-01,\n",
              "        -4.55064356e-01, -6.04248166e-01, -1.91629529e-01,\n",
              "         1.29759645e+00, -2.46518031e-02, -2.49461949e-01,\n",
              "        -4.66258347e-01, -4.16268229e-01,  2.49563962e-01,\n",
              "         2.17555642e+00, -2.94571102e-01,  1.88349628e+00,\n",
              "         5.08588493e-01, -3.85877311e-01,  1.78960574e+00,\n",
              "        -3.39043587e-01, -2.14442492e-01,  3.53629023e-01,\n",
              "        -1.61886871e-01, -5.92298627e-01,  7.34259725e-01,\n",
              "        -3.55574340e-01, -3.83389354e-01, -4.21344101e-01,\n",
              "        -3.70708287e-01,  2.54104376e+00, -6.94894671e-01,\n",
              "        -3.25681686e-01, -6.67959824e-02, -4.66262877e-01,\n",
              "        -5.62783241e-01, -4.65399265e-01,  6.26671240e-02,\n",
              "        -3.55574340e-01, -2.09309340e-01, -7.37285018e-01,\n",
              "        -1.09329529e-01,  2.06607342e-01,  6.00220108e+00,\n",
              "        -2.25653648e-01, -5.06880581e-01, -4.07948256e-01,\n",
              "        -2.32847929e-01, -1.24998696e-01, -2.83852935e-01,\n",
              "        -4.91442263e-01, -3.70091647e-01, -4.22572464e-01,\n",
              "        -8.26731205e-01, -6.71312094e-01, -4.81415749e-01,\n",
              "        -2.48462766e-01, -4.63672280e-01,  2.00671506e+00,\n",
              "         8.77236485e-01,  3.60002160e+00, -4.96406555e-01,\n",
              "        -1.84667468e-01, -1.73573732e-01, -4.47835088e-01,\n",
              "        -8.74605060e-01,  4.90081215e+00, -6.61037624e-01,\n",
              "        -2.77414680e-01, -5.85238039e-01,  2.93762207e-01,\n",
              "         7.74258971e-01, -1.24000438e-01, -4.74399984e-01,\n",
              "        -4.16789055e-01, -7.71025181e-01, -1.65714651e-01,\n",
              "         1.25907838e-01, -4.15949285e-01, -1.39277995e-01,\n",
              "         1.52115798e+00,  6.78334117e-01, -6.12885833e-01,\n",
              "         1.16446935e-01, -2.71680415e-01, -1.36630058e-01,\n",
              "         5.23131967e-01, -2.49926269e-01, -3.87280881e-01,\n",
              "         1.26045370e+00, -3.27843487e-01, -2.35185862e-01,\n",
              "        -3.91336381e-01, -3.78268242e-01,  2.68397760e+00,\n",
              "        -7.21022248e-01, -4.44398224e-01,  3.70324850e-01,\n",
              "         4.16869044e-01, -4.31441009e-01,  1.44470501e+00,\n",
              "        -5.59361219e-01, -4.21817452e-01,  2.76047468e-01,\n",
              "        -3.77447605e-01, -1.41300678e-01,  2.62485743e-01,\n",
              "         2.16614425e-01, -2.10380405e-01, -2.78928399e-01,\n",
              "        -4.65358555e-01, -7.03321934e-01, -4.06987146e-02,\n",
              "        -4.37447071e-01,  4.58270237e-02, -3.75070184e-01,\n",
              "        -4.78632569e-01, -7.28916168e-01, -2.53254950e-01,\n",
              "        -2.73773849e-01, -5.97901464e-01, -4.48470533e-01,\n",
              "        -3.25763106e-01, -5.44821501e-01,  2.04404920e-01,\n",
              "        -4.22177702e-01, -6.10377014e-01, -4.87384439e-01,\n",
              "         3.58829558e-01, -4.90761042e-01, -7.23946452e-01,\n",
              "        -3.90304565e-01, -3.07151318e-01, -4.81239796e-01,\n",
              "        -7.06711829e-01, -4.24329638e-01, -2.78354436e-03,\n",
              "        -2.73625731e-01,  9.41947341e-01, -1.42569900e-01,\n",
              "        -9.08131242e-01,  1.38081834e-02, -5.92231989e-01,\n",
              "        -1.05157025e-01, -5.22800446e-01, -1.49141371e-01,\n",
              "         4.75476027e-01, -2.94770896e-01, -3.13398898e-01,\n",
              "        -6.29610181e-01,  1.43442011e+00, -5.03504217e-01,\n",
              "        -5.50422549e-01, -3.20981205e-01, -1.41909197e-02,\n",
              "        -3.47156972e-01, -2.60816574e-01,  1.95768237e+00,\n",
              "         2.78295279e-01, -2.67140046e-02, -5.03221929e-01,\n",
              "        -3.47124904e-01,  2.33994198e+00, -4.78497684e-01,\n",
              "        -1.10628080e+00, -2.55093753e-01,  1.03968310e+00,\n",
              "        -2.41970420e-01, -1.45493627e-01, -4.08160686e-01,\n",
              "        -3.96608189e-02, -1.37441188e-01, -4.11082268e-01,\n",
              "         2.76259452e-01, -4.02653843e-01, -4.04485583e-01,\n",
              "        -4.33042526e-01,  9.85110104e-01, -2.51302242e-01,\n",
              "        -3.81881773e-01, -4.64238465e-01,  1.42523229e+00,\n",
              "         1.71368003e-01,  3.08849072e+00, -4.33439106e-01,\n",
              "        -3.55574340e-01,  1.78541243e-01, -3.36056620e-01,\n",
              "        -2.00241536e-01, -4.46349710e-01,  2.03173727e-01,\n",
              "        -1.57825768e-01, -4.72614646e-01, -3.61579731e-02,\n",
              "        -2.61920840e-01, -4.04312104e-01, -1.59104228e-01,\n",
              "        -4.60062742e-01, -2.19979882e-01, -5.13711870e-01,\n",
              "         1.03426826e+00, -4.95961189e-01, -6.88382685e-01,\n",
              "         1.06146371e+00, -2.19951719e-01,  1.57713974e+00,\n",
              "        -2.33228803e-01, -3.14029992e-01, -6.06893539e-01,\n",
              "         2.70046139e+00, -4.74795580e-01,  1.08669031e+00,\n",
              "         6.52586401e-01, -5.40196359e-01,  1.47225708e-03,\n",
              "         2.31974244e-01, -4.39291477e-01, -1.61066130e-02,\n",
              "         2.04479814e+00,  1.09572232e+00, -3.34861398e-01,\n",
              "        -2.91996002e-01, -5.25604844e-01, -4.61179614e-01,\n",
              "        -5.25611043e-01, -1.78198934e-01, -5.59878707e-01,\n",
              "        -3.89567345e-01,  2.81672478e-01, -3.89361858e-01,\n",
              "        -2.70857126e-01, -2.32022166e-01, -4.84099388e-01,\n",
              "        -3.61961365e-01,  1.52116692e+00,  3.19184542e-01,\n",
              "        -6.76283717e-01,  6.94878578e-01, -3.11532617e-01,\n",
              "        -5.21761894e-01,  1.10156171e-01, -2.94043005e-01,\n",
              "        -3.08289677e-01, -2.52418160e-01, -5.85503340e-01,\n",
              "         1.08045869e-01, -5.04730105e-01, -2.09609002e-01,\n",
              "         3.00629616e+00]], dtype=float32)"
            ]
          },
          "metadata": {},
          "execution_count": 181
        }
      ]
    },
    {
      "cell_type": "code",
      "source": [
        "mlr_diff = pd.DataFrame({'Actual value': y_test, 'Predicted value': y_pred[0]})\n",
        "print(mlr_diff.corr())\n",
        "a = mlr_diff.corr()"
      ],
      "metadata": {
        "id": "OqgZOMnv_BQY",
        "colab": {
          "base_uri": "https://localhost:8080/"
        },
        "outputId": "5db6f433-1034-433f-a68f-49bca1c3b09f"
      },
      "execution_count": 182,
      "outputs": [
        {
          "output_type": "stream",
          "name": "stdout",
          "text": [
            "                 Actual value  Predicted value\n",
            "Actual value         1.000000         0.772276\n",
            "Predicted value      0.772276         1.000000\n"
          ]
        }
      ]
    },
    {
      "cell_type": "code",
      "source": [
        "correlation_value = a.loc['Actual value', 'Predicted value']\n",
        "print(correlation_value)\n",
        "ann_pc = correlation_value"
      ],
      "metadata": {
        "colab": {
          "base_uri": "https://localhost:8080/"
        },
        "id": "Og6aCM60jD93",
        "outputId": "f00705af-949e-46b0-d36a-7ed5e4cb3be4"
      },
      "execution_count": 183,
      "outputs": [
        {
          "output_type": "stream",
          "name": "stdout",
          "text": [
            "0.7722763452728019\n"
          ]
        }
      ]
    },
    {
      "cell_type": "markdown",
      "source": [
        "#Model Selection"
      ],
      "metadata": {
        "id": "60ANO940zULa"
      }
    },
    {
      "cell_type": "code",
      "source": [
        "model_names=[]\n",
        "model_names.append('Linear Regr')\n",
        "model_names.append('SVM')\n",
        "model_names.append('Dec-Tree')\n",
        "model_names.append('Ran-Forest')\n",
        "model_names.append('ANN')"
      ],
      "metadata": {
        "id": "v4eVaXpn03-O"
      },
      "execution_count": 184,
      "outputs": []
    },
    {
      "cell_type": "code",
      "source": [
        "results = []\n",
        "results.append(lr_pc)\n",
        "results.append(svr_pc)\n",
        "results.append(dt_pc)\n",
        "results.append(rf_pc)\n",
        "results.append(ann_pc)"
      ],
      "metadata": {
        "id": "Fjygj13P1ILy"
      },
      "execution_count": 185,
      "outputs": []
    },
    {
      "cell_type": "code",
      "source": [
        "import matplotlib.pyplot as plt\n",
        "\n",
        "# Define custom colors for each bar\n",
        "colors = ['orange', 'brown', 'cyan', 'indigo', 'purple']\n",
        "\n",
        "# Create a bar chart of the accuracy scores for each model\n",
        "plt.bar(model_names, results, color = colors)\n",
        "\n",
        "# Add labels and title to the chart\n",
        "plt.xlabel('Model')\n",
        "plt.ylabel('Pearson')\n",
        "plt.title('Pearson Corelation for different models')\n",
        "\n",
        "# Adjust the y-axis limits and ticks\n",
        "plt.ylim(0.55, 0.8)  # Set the desired lower and upper limits of the y-axis\n",
        "plt.yticks([0.55, 0.6, 0.71, 0.72, 0.73, 0.74, 0.75, 0.76, 0.77, 0.78, 0.79, 0.8])  # Set the desired tick positions on the y-axis\n",
        "\n",
        "# Show the chart\n",
        "plt.show()"
      ],
      "metadata": {
        "id": "lgQZR7TC5aj6",
        "colab": {
          "base_uri": "https://localhost:8080/",
          "height": 472
        },
        "outputId": "a346059c-9da8-4a4e-f1de-3dba86aae0ec"
      },
      "execution_count": 186,
      "outputs": [
        {
          "output_type": "display_data",
          "data": {
            "text/plain": [
              "<Figure size 640x480 with 1 Axes>"
            ],
            "image/png": "[encoded data removed]"
          },
          "metadata": {}
        }
      ]
    }
  ]
}