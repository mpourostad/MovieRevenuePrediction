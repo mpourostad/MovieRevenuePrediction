{
 "cells": [
  {
   "cell_type": "code",
   "execution_count": 42,
   "id": "345dcd4b-627a-48f7-a557-1b323e4b77e2",
   "metadata": {},
   "outputs": [],
   "source": [
    "import pandas as pd\n",
    "\n",
    "imdb_df = pd.read_csv(\"./MovieData/movie_metadata 2.csv\")"
   ]
  },
  {
   "cell_type": "code",
   "execution_count": 43,
   "id": "d9ea5841-8ef7-40e2-8dba-792043f33044",
   "metadata": {},
   "outputs": [
    {
     "data": {
      "text/html": [
       "<div>\n",
       "<style scoped>\n",
       "    .dataframe tbody tr th:only-of-type {\n",
       "        vertical-align: middle;\n",
       "    }\n",
       "\n",
       "    .dataframe tbody tr th {\n",
       "        vertical-align: top;\n",
       "    }\n",
       "\n",
       "    .dataframe thead th {\n",
       "        text-align: right;\n",
       "    }\n",
       "</style>\n",
       "<table border=\"1\" class=\"dataframe\">\n",
       "  <thead>\n",
       "    <tr style=\"text-align: right;\">\n",
       "      <th></th>\n",
       "      <th>color</th>\n",
       "      <th>director_name</th>\n",
       "      <th>num_critic_for_reviews</th>\n",
       "      <th>duration</th>\n",
       "      <th>director_facebook_likes</th>\n",
       "      <th>actor_3_facebook_likes</th>\n",
       "      <th>actor_2_name</th>\n",
       "      <th>actor_1_facebook_likes</th>\n",
       "      <th>gross</th>\n",
       "      <th>genres</th>\n",
       "      <th>...</th>\n",
       "      <th>num_user_for_reviews</th>\n",
       "      <th>language</th>\n",
       "      <th>country</th>\n",
       "      <th>content_rating</th>\n",
       "      <th>budget</th>\n",
       "      <th>title_year</th>\n",
       "      <th>actor_2_facebook_likes</th>\n",
       "      <th>imdb_score</th>\n",
       "      <th>aspect_ratio</th>\n",
       "      <th>movie_facebook_likes</th>\n",
       "    </tr>\n",
       "  </thead>\n",
       "  <tbody>\n",
       "    <tr>\n",
       "      <th>0</th>\n",
       "      <td>Color</td>\n",
       "      <td>James Cameron</td>\n",
       "      <td>723.0</td>\n",
       "      <td>178.0</td>\n",
       "      <td>0.0</td>\n",
       "      <td>855.0</td>\n",
       "      <td>Joel David Moore</td>\n",
       "      <td>1000.0</td>\n",
       "      <td>760505847.0</td>\n",
       "      <td>Action|Adventure|Fantasy|Sci-Fi</td>\n",
       "      <td>...</td>\n",
       "      <td>3054.0</td>\n",
       "      <td>English</td>\n",
       "      <td>USA</td>\n",
       "      <td>PG-13</td>\n",
       "      <td>237000000.0</td>\n",
       "      <td>2009.0</td>\n",
       "      <td>936.0</td>\n",
       "      <td>7.9</td>\n",
       "      <td>1.78</td>\n",
       "      <td>33000</td>\n",
       "    </tr>\n",
       "    <tr>\n",
       "      <th>1</th>\n",
       "      <td>Color</td>\n",
       "      <td>Gore Verbinski</td>\n",
       "      <td>302.0</td>\n",
       "      <td>169.0</td>\n",
       "      <td>563.0</td>\n",
       "      <td>1000.0</td>\n",
       "      <td>Orlando Bloom</td>\n",
       "      <td>40000.0</td>\n",
       "      <td>309404152.0</td>\n",
       "      <td>Action|Adventure|Fantasy</td>\n",
       "      <td>...</td>\n",
       "      <td>1238.0</td>\n",
       "      <td>English</td>\n",
       "      <td>USA</td>\n",
       "      <td>PG-13</td>\n",
       "      <td>300000000.0</td>\n",
       "      <td>2007.0</td>\n",
       "      <td>5000.0</td>\n",
       "      <td>7.1</td>\n",
       "      <td>2.35</td>\n",
       "      <td>0</td>\n",
       "    </tr>\n",
       "    <tr>\n",
       "      <th>2</th>\n",
       "      <td>Color</td>\n",
       "      <td>Sam Mendes</td>\n",
       "      <td>602.0</td>\n",
       "      <td>148.0</td>\n",
       "      <td>0.0</td>\n",
       "      <td>161.0</td>\n",
       "      <td>Rory Kinnear</td>\n",
       "      <td>11000.0</td>\n",
       "      <td>200074175.0</td>\n",
       "      <td>Action|Adventure|Thriller</td>\n",
       "      <td>...</td>\n",
       "      <td>994.0</td>\n",
       "      <td>English</td>\n",
       "      <td>UK</td>\n",
       "      <td>PG-13</td>\n",
       "      <td>245000000.0</td>\n",
       "      <td>2015.0</td>\n",
       "      <td>393.0</td>\n",
       "      <td>6.8</td>\n",
       "      <td>2.35</td>\n",
       "      <td>85000</td>\n",
       "    </tr>\n",
       "    <tr>\n",
       "      <th>3</th>\n",
       "      <td>Color</td>\n",
       "      <td>Christopher Nolan</td>\n",
       "      <td>813.0</td>\n",
       "      <td>164.0</td>\n",
       "      <td>22000.0</td>\n",
       "      <td>23000.0</td>\n",
       "      <td>Christian Bale</td>\n",
       "      <td>27000.0</td>\n",
       "      <td>448130642.0</td>\n",
       "      <td>Action|Thriller</td>\n",
       "      <td>...</td>\n",
       "      <td>2701.0</td>\n",
       "      <td>English</td>\n",
       "      <td>USA</td>\n",
       "      <td>PG-13</td>\n",
       "      <td>250000000.0</td>\n",
       "      <td>2012.0</td>\n",
       "      <td>23000.0</td>\n",
       "      <td>8.5</td>\n",
       "      <td>2.35</td>\n",
       "      <td>164000</td>\n",
       "    </tr>\n",
       "    <tr>\n",
       "      <th>4</th>\n",
       "      <td>NaN</td>\n",
       "      <td>Doug Walker</td>\n",
       "      <td>NaN</td>\n",
       "      <td>NaN</td>\n",
       "      <td>131.0</td>\n",
       "      <td>NaN</td>\n",
       "      <td>Rob Walker</td>\n",
       "      <td>131.0</td>\n",
       "      <td>NaN</td>\n",
       "      <td>Documentary</td>\n",
       "      <td>...</td>\n",
       "      <td>NaN</td>\n",
       "      <td>NaN</td>\n",
       "      <td>NaN</td>\n",
       "      <td>NaN</td>\n",
       "      <td>NaN</td>\n",
       "      <td>NaN</td>\n",
       "      <td>12.0</td>\n",
       "      <td>7.1</td>\n",
       "      <td>NaN</td>\n",
       "      <td>0</td>\n",
       "    </tr>\n",
       "  </tbody>\n",
       "</table>\n",
       "<p>5 rows × 28 columns</p>\n",
       "</div>"
      ],
      "text/plain": [
       "   color      director_name  num_critic_for_reviews  duration  \\\n",
       "0  Color      James Cameron                   723.0     178.0   \n",
       "1  Color     Gore Verbinski                   302.0     169.0   \n",
       "2  Color         Sam Mendes                   602.0     148.0   \n",
       "3  Color  Christopher Nolan                   813.0     164.0   \n",
       "4    NaN        Doug Walker                     NaN       NaN   \n",
       "\n",
       "   director_facebook_likes  actor_3_facebook_likes      actor_2_name  \\\n",
       "0                      0.0                   855.0  Joel David Moore   \n",
       "1                    563.0                  1000.0     Orlando Bloom   \n",
       "2                      0.0                   161.0      Rory Kinnear   \n",
       "3                  22000.0                 23000.0    Christian Bale   \n",
       "4                    131.0                     NaN        Rob Walker   \n",
       "\n",
       "   actor_1_facebook_likes        gross                           genres  ...  \\\n",
       "0                  1000.0  760505847.0  Action|Adventure|Fantasy|Sci-Fi  ...   \n",
       "1                 40000.0  309404152.0         Action|Adventure|Fantasy  ...   \n",
       "2                 11000.0  200074175.0        Action|Adventure|Thriller  ...   \n",
       "3                 27000.0  448130642.0                  Action|Thriller  ...   \n",
       "4                   131.0          NaN                      Documentary  ...   \n",
       "\n",
       "  num_user_for_reviews language  country  content_rating       budget  \\\n",
       "0               3054.0  English      USA           PG-13  237000000.0   \n",
       "1               1238.0  English      USA           PG-13  300000000.0   \n",
       "2                994.0  English       UK           PG-13  245000000.0   \n",
       "3               2701.0  English      USA           PG-13  250000000.0   \n",
       "4                  NaN      NaN      NaN             NaN          NaN   \n",
       "\n",
       "   title_year actor_2_facebook_likes imdb_score  aspect_ratio  \\\n",
       "0      2009.0                  936.0        7.9          1.78   \n",
       "1      2007.0                 5000.0        7.1          2.35   \n",
       "2      2015.0                  393.0        6.8          2.35   \n",
       "3      2012.0                23000.0        8.5          2.35   \n",
       "4         NaN                   12.0        7.1           NaN   \n",
       "\n",
       "  movie_facebook_likes  \n",
       "0                33000  \n",
       "1                    0  \n",
       "2                85000  \n",
       "3               164000  \n",
       "4                    0  \n",
       "\n",
       "[5 rows x 28 columns]"
      ]
     },
     "execution_count": 43,
     "metadata": {},
     "output_type": "execute_result"
    }
   ],
   "source": [
    "imdb_df.head()"
   ]
  },
  {
   "cell_type": "code",
   "execution_count": 44,
   "id": "9fe2e896-1557-437a-9da4-e2a74f45681c",
   "metadata": {},
   "outputs": [
    {
     "data": {
      "text/plain": [
       "Index(['color', 'director_name', 'num_critic_for_reviews', 'duration',\n",
       "       'director_facebook_likes', 'actor_3_facebook_likes', 'actor_2_name',\n",
       "       'actor_1_facebook_likes', 'gross', 'genres', 'actor_1_name',\n",
       "       'movie_title', 'num_voted_users', 'cast_total_facebook_likes',\n",
       "       'actor_3_name', 'facenumber_in_poster', 'plot_keywords',\n",
       "       'movie_imdb_link', 'num_user_for_reviews', 'language', 'country',\n",
       "       'content_rating', 'budget', 'title_year', 'actor_2_facebook_likes',\n",
       "       'imdb_score', 'aspect_ratio', 'movie_facebook_likes'],\n",
       "      dtype='object')"
      ]
     },
     "execution_count": 44,
     "metadata": {},
     "output_type": "execute_result"
    }
   ],
   "source": [
    "imdb_df.keys()"
   ]
  },
  {
   "cell_type": "code",
   "execution_count": 140,
   "id": "17af3f3e-3370-4729-ad43-e00e6f5f98d5",
   "metadata": {},
   "outputs": [
    {
     "data": {
      "text/plain": [
       "2016.0"
      ]
     },
     "execution_count": 140,
     "metadata": {},
     "output_type": "execute_result"
    }
   ],
   "source": [
    "imdb_df['title_year'].max()"
   ]
  },
  {
   "cell_type": "code",
   "execution_count": 45,
   "id": "860ada49-6ae0-4760-949a-71f5867047ce",
   "metadata": {},
   "outputs": [],
   "source": [
    "df_movie_imdb_link = imdb_df['movie_imdb_link']"
   ]
  },
  {
   "cell_type": "code",
   "execution_count": 46,
   "id": "b62f5580-5e30-4613-9fba-f6b259c7961a",
   "metadata": {},
   "outputs": [],
   "source": [
    "movi_list = df_movie_imdb_link.to_list()"
   ]
  },
  {
   "cell_type": "code",
   "execution_count": 47,
   "id": "d383f583-a961-4b08-8d41-a6f91977a1c9",
   "metadata": {
    "tags": []
   },
   "outputs": [
    {
     "data": {
      "text/plain": [
       "0       http://www.imdb.com/title/tt0499549/?ref_=fn_t...\n",
       "1       http://www.imdb.com/title/tt0449088/?ref_=fn_t...\n",
       "2       http://www.imdb.com/title/tt2379713/?ref_=fn_t...\n",
       "3       http://www.imdb.com/title/tt1345836/?ref_=fn_t...\n",
       "4       http://www.imdb.com/title/tt5289954/?ref_=fn_t...\n",
       "                              ...                        \n",
       "5038    http://www.imdb.com/title/tt3000844/?ref_=fn_t...\n",
       "5039    http://www.imdb.com/title/tt2071645/?ref_=fn_t...\n",
       "5040    http://www.imdb.com/title/tt2107644/?ref_=fn_t...\n",
       "5041    http://www.imdb.com/title/tt2070597/?ref_=fn_t...\n",
       "5042    http://www.imdb.com/title/tt0378407/?ref_=fn_t...\n",
       "Name: movie_imdb_link, Length: 5043, dtype: object"
      ]
     },
     "execution_count": 47,
     "metadata": {},
     "output_type": "execute_result"
    }
   ],
   "source": [
    "df_movie_imdb_link"
   ]
  },
  {
   "cell_type": "code",
   "execution_count": 48,
   "id": "ee08b82b-0f27-4015-afd3-30ce7993aa57",
   "metadata": {
    "tags": []
   },
   "outputs": [],
   "source": [
    "box_office = pd.read_csv(\"./MovieData/boxofficemojo_dataset/Mojo_budget_data.csv\")"
   ]
  },
  {
   "cell_type": "code",
   "execution_count": 49,
   "id": "f32111b2-44c6-4a2f-ae97-04bccbe12ef9",
   "metadata": {},
   "outputs": [
    {
     "data": {
      "text/html": [
       "<div>\n",
       "<style scoped>\n",
       "    .dataframe tbody tr th:only-of-type {\n",
       "        vertical-align: middle;\n",
       "    }\n",
       "\n",
       "    .dataframe tbody tr th {\n",
       "        vertical-align: top;\n",
       "    }\n",
       "\n",
       "    .dataframe thead th {\n",
       "        text-align: right;\n",
       "    }\n",
       "</style>\n",
       "<table border=\"1\" class=\"dataframe\">\n",
       "  <thead>\n",
       "    <tr style=\"text-align: right;\">\n",
       "      <th></th>\n",
       "      <th>movie_id</th>\n",
       "      <th>movie_title</th>\n",
       "      <th>movie_year</th>\n",
       "      <th>director</th>\n",
       "      <th>writer</th>\n",
       "      <th>producer</th>\n",
       "      <th>composer</th>\n",
       "      <th>cinematographer</th>\n",
       "      <th>main_actor_1</th>\n",
       "      <th>main_actor_2</th>\n",
       "      <th>...</th>\n",
       "      <th>domestic</th>\n",
       "      <th>international</th>\n",
       "      <th>worldwide</th>\n",
       "      <th>mpaa</th>\n",
       "      <th>run_time</th>\n",
       "      <th>genre_1</th>\n",
       "      <th>genre_2</th>\n",
       "      <th>genre_3</th>\n",
       "      <th>genre_4</th>\n",
       "      <th>link</th>\n",
       "    </tr>\n",
       "  </thead>\n",
       "  <tbody>\n",
       "    <tr>\n",
       "      <th>0</th>\n",
       "      <td>tt0118589</td>\n",
       "      <td>Glitter</td>\n",
       "      <td>2001</td>\n",
       "      <td>Vondie Curtis-Hall</td>\n",
       "      <td>Cheryl L. West</td>\n",
       "      <td>Laurence Mark</td>\n",
       "      <td>Terence Blanchard</td>\n",
       "      <td>Geoffrey Simpson</td>\n",
       "      <td>Mariah Carey</td>\n",
       "      <td>Eric Benét</td>\n",
       "      <td>...</td>\n",
       "      <td>4274407</td>\n",
       "      <td>997259</td>\n",
       "      <td>5271666</td>\n",
       "      <td>PG-13</td>\n",
       "      <td>1 hr 44 min</td>\n",
       "      <td>Drama</td>\n",
       "      <td>Music</td>\n",
       "      <td>Romance</td>\n",
       "      <td>NaN</td>\n",
       "      <td>https://www.boxofficemojo.com/title/tt0118589/...</td>\n",
       "    </tr>\n",
       "    <tr>\n",
       "      <th>1</th>\n",
       "      <td>tt0120630</td>\n",
       "      <td>Chicken Run</td>\n",
       "      <td>2000</td>\n",
       "      <td>Peter Lord</td>\n",
       "      <td>Peter Lord</td>\n",
       "      <td>Peter Lord</td>\n",
       "      <td>Harry Gregson-Williams</td>\n",
       "      <td>Simon Jacobs</td>\n",
       "      <td>Mel Gibson</td>\n",
       "      <td>Julia Sawalha</td>\n",
       "      <td>...</td>\n",
       "      <td>106834564</td>\n",
       "      <td>118000000</td>\n",
       "      <td>224834564</td>\n",
       "      <td>NaN</td>\n",
       "      <td>1 hr 24 min</td>\n",
       "      <td>Adventure</td>\n",
       "      <td>Animation</td>\n",
       "      <td>Comedy</td>\n",
       "      <td>Drama</td>\n",
       "      <td>https://www.boxofficemojo.com/title/tt0120630/...</td>\n",
       "    </tr>\n",
       "    <tr>\n",
       "      <th>2</th>\n",
       "      <td>tt0120667</td>\n",
       "      <td>Fantastic Four</td>\n",
       "      <td>2005</td>\n",
       "      <td>Tim Story</td>\n",
       "      <td>Mark Frost</td>\n",
       "      <td>Avi Arad</td>\n",
       "      <td>John Ottman</td>\n",
       "      <td>Oliver Wood</td>\n",
       "      <td>Ioan Gruffudd</td>\n",
       "      <td>Michael Chiklis</td>\n",
       "      <td>...</td>\n",
       "      <td>154696080</td>\n",
       "      <td>178839854</td>\n",
       "      <td>333535934</td>\n",
       "      <td>PG-13</td>\n",
       "      <td>1 hr 46 min</td>\n",
       "      <td>Action</td>\n",
       "      <td>Adventure</td>\n",
       "      <td>Family</td>\n",
       "      <td>Fantasy</td>\n",
       "      <td>https://www.boxofficemojo.com/title/tt0120667/...</td>\n",
       "    </tr>\n",
       "    <tr>\n",
       "      <th>3</th>\n",
       "      <td>tt0120679</td>\n",
       "      <td>Frida</td>\n",
       "      <td>2002</td>\n",
       "      <td>Julie Taymor</td>\n",
       "      <td>Hayden Herrera</td>\n",
       "      <td>Lindsay Flickinger</td>\n",
       "      <td>Elliot Goldenthal</td>\n",
       "      <td>Rodrigo Prieto</td>\n",
       "      <td>Salma Hayek</td>\n",
       "      <td>Alfred Molina</td>\n",
       "      <td>...</td>\n",
       "      <td>25885000</td>\n",
       "      <td>30413474</td>\n",
       "      <td>56298474</td>\n",
       "      <td>R</td>\n",
       "      <td>2 hr 3 min</td>\n",
       "      <td>Biography</td>\n",
       "      <td>Drama</td>\n",
       "      <td>Romance</td>\n",
       "      <td>NaN</td>\n",
       "      <td>https://www.boxofficemojo.com/title/tt0120679/...</td>\n",
       "    </tr>\n",
       "    <tr>\n",
       "      <th>4</th>\n",
       "      <td>tt0120681</td>\n",
       "      <td>From Hell</td>\n",
       "      <td>2001</td>\n",
       "      <td>Albert Hughes</td>\n",
       "      <td>Alan Moore</td>\n",
       "      <td>Jane Hamsher</td>\n",
       "      <td>Trevor Jones</td>\n",
       "      <td>Peter Deming</td>\n",
       "      <td>Johnny Depp</td>\n",
       "      <td>Heather Graham</td>\n",
       "      <td>...</td>\n",
       "      <td>31602566</td>\n",
       "      <td>42955549</td>\n",
       "      <td>74558115</td>\n",
       "      <td>R</td>\n",
       "      <td>2 hr 2 min</td>\n",
       "      <td>Horror</td>\n",
       "      <td>Mystery</td>\n",
       "      <td>Thriller</td>\n",
       "      <td>NaN</td>\n",
       "      <td>https://www.boxofficemojo.com/title/tt0120681/...</td>\n",
       "    </tr>\n",
       "  </tbody>\n",
       "</table>\n",
       "<p>5 rows × 23 columns</p>\n",
       "</div>"
      ],
      "text/plain": [
       "    movie_id     movie_title  movie_year            director          writer  \\\n",
       "0  tt0118589         Glitter        2001  Vondie Curtis-Hall  Cheryl L. West   \n",
       "1  tt0120630     Chicken Run        2000          Peter Lord      Peter Lord   \n",
       "2  tt0120667  Fantastic Four        2005           Tim Story      Mark Frost   \n",
       "3  tt0120679           Frida        2002        Julie Taymor  Hayden Herrera   \n",
       "4  tt0120681       From Hell        2001       Albert Hughes      Alan Moore   \n",
       "\n",
       "             producer                composer   cinematographer  \\\n",
       "0       Laurence Mark       Terence Blanchard  Geoffrey Simpson   \n",
       "1          Peter Lord  Harry Gregson-Williams      Simon Jacobs   \n",
       "2            Avi Arad             John Ottman       Oliver Wood   \n",
       "3  Lindsay Flickinger       Elliot Goldenthal    Rodrigo Prieto   \n",
       "4        Jane Hamsher            Trevor Jones      Peter Deming   \n",
       "\n",
       "    main_actor_1     main_actor_2  ...   domestic international  worldwide  \\\n",
       "0   Mariah Carey       Eric Benét  ...    4274407        997259    5271666   \n",
       "1     Mel Gibson    Julia Sawalha  ...  106834564     118000000  224834564   \n",
       "2  Ioan Gruffudd  Michael Chiklis  ...  154696080     178839854  333535934   \n",
       "3    Salma Hayek    Alfred Molina  ...   25885000      30413474   56298474   \n",
       "4    Johnny Depp   Heather Graham  ...   31602566      42955549   74558115   \n",
       "\n",
       "    mpaa     run_time    genre_1    genre_2   genre_3  genre_4  \\\n",
       "0  PG-13  1 hr 44 min      Drama      Music   Romance      NaN   \n",
       "1    NaN  1 hr 24 min  Adventure  Animation    Comedy    Drama   \n",
       "2  PG-13  1 hr 46 min     Action  Adventure    Family  Fantasy   \n",
       "3      R   2 hr 3 min  Biography      Drama   Romance      NaN   \n",
       "4      R   2 hr 2 min     Horror    Mystery  Thriller      NaN   \n",
       "\n",
       "                                                link  \n",
       "0  https://www.boxofficemojo.com/title/tt0118589/...  \n",
       "1  https://www.boxofficemojo.com/title/tt0120630/...  \n",
       "2  https://www.boxofficemojo.com/title/tt0120667/...  \n",
       "3  https://www.boxofficemojo.com/title/tt0120679/...  \n",
       "4  https://www.boxofficemojo.com/title/tt0120681/...  \n",
       "\n",
       "[5 rows x 23 columns]"
      ]
     },
     "execution_count": 49,
     "metadata": {},
     "output_type": "execute_result"
    }
   ],
   "source": [
    "box_office.head()"
   ]
  },
  {
   "cell_type": "code",
   "execution_count": 50,
   "id": "030dc2f9-519a-4553-9af7-1123b9ee27e6",
   "metadata": {},
   "outputs": [
    {
     "data": {
      "text/plain": [
       "Index(['movie_id', 'movie_title', 'movie_year', 'director', 'writer',\n",
       "       'producer', 'composer', 'cinematographer', 'main_actor_1',\n",
       "       'main_actor_2', 'main_actor_3', 'main_actor_4', 'budget', 'domestic',\n",
       "       'international', 'worldwide', 'mpaa', 'run_time', 'genre_1', 'genre_2',\n",
       "       'genre_3', 'genre_4', 'link'],\n",
       "      dtype='object')"
      ]
     },
     "execution_count": 50,
     "metadata": {},
     "output_type": "execute_result"
    }
   ],
   "source": [
    "box_office.keys()"
   ]
  },
  {
   "cell_type": "code",
   "execution_count": 51,
   "id": "0995e9c5-4bef-4ddc-9890-8ca2962b84df",
   "metadata": {},
   "outputs": [],
   "source": [
    "imdb_df[\"movie_id\"] = imdb_df.movie_imdb_link.str[26:35]\n"
   ]
  },
  {
   "cell_type": "code",
   "execution_count": 52,
   "id": "499371a2-5c9c-4bd9-99a9-4363a5321c2f",
   "metadata": {},
   "outputs": [
    {
     "data": {
      "text/plain": [
       "0    tt0499549\n",
       "1    tt0449088\n",
       "2    tt2379713\n",
       "3    tt1345836\n",
       "4    tt5289954\n",
       "Name: movie_id, dtype: object"
      ]
     },
     "execution_count": 52,
     "metadata": {},
     "output_type": "execute_result"
    }
   ],
   "source": [
    "imdb_df[\"movie_id\"].head()\n",
    "        "
   ]
  },
  {
   "cell_type": "code",
   "execution_count": 193,
   "id": "cd4ed0db-d77c-47de-a72e-f0d27c500cac",
   "metadata": {},
   "outputs": [],
   "source": [
    "merged_df = pd.merge(imdb_df, box_office, on='movie_id')"
   ]
  },
  {
   "cell_type": "code",
   "execution_count": 194,
   "id": "aa4890a4-d066-4afb-ae5b-cb207ad257f9",
   "metadata": {
    "tags": []
   },
   "outputs": [
    {
     "data": {
      "text/html": [
       "<div>\n",
       "<style scoped>\n",
       "    .dataframe tbody tr th:only-of-type {\n",
       "        vertical-align: middle;\n",
       "    }\n",
       "\n",
       "    .dataframe tbody tr th {\n",
       "        vertical-align: top;\n",
       "    }\n",
       "\n",
       "    .dataframe thead th {\n",
       "        text-align: right;\n",
       "    }\n",
       "</style>\n",
       "<table border=\"1\" class=\"dataframe\">\n",
       "  <thead>\n",
       "    <tr style=\"text-align: right;\">\n",
       "      <th></th>\n",
       "      <th>color</th>\n",
       "      <th>director_name</th>\n",
       "      <th>num_critic_for_reviews</th>\n",
       "      <th>duration</th>\n",
       "      <th>director_facebook_likes</th>\n",
       "      <th>actor_3_facebook_likes</th>\n",
       "      <th>actor_2_name</th>\n",
       "      <th>actor_1_facebook_likes</th>\n",
       "      <th>gross</th>\n",
       "      <th>genres</th>\n",
       "      <th>...</th>\n",
       "      <th>domestic</th>\n",
       "      <th>international</th>\n",
       "      <th>worldwide</th>\n",
       "      <th>mpaa</th>\n",
       "      <th>run_time</th>\n",
       "      <th>genre_1</th>\n",
       "      <th>genre_2</th>\n",
       "      <th>genre_3</th>\n",
       "      <th>genre_4</th>\n",
       "      <th>link</th>\n",
       "    </tr>\n",
       "  </thead>\n",
       "  <tbody>\n",
       "    <tr>\n",
       "      <th>0</th>\n",
       "      <td>Color</td>\n",
       "      <td>James Cameron</td>\n",
       "      <td>723.0</td>\n",
       "      <td>178.0</td>\n",
       "      <td>0.0</td>\n",
       "      <td>855.0</td>\n",
       "      <td>Joel David Moore</td>\n",
       "      <td>1000.0</td>\n",
       "      <td>760505847.0</td>\n",
       "      <td>Action|Adventure|Fantasy|Sci-Fi</td>\n",
       "      <td>...</td>\n",
       "      <td>760507625</td>\n",
       "      <td>2029931375</td>\n",
       "      <td>2790439000</td>\n",
       "      <td>PG-13</td>\n",
       "      <td>2 hr 42 min</td>\n",
       "      <td>Action</td>\n",
       "      <td>Adventure</td>\n",
       "      <td>Fantasy</td>\n",
       "      <td>Sci-Fi</td>\n",
       "      <td>https://www.boxofficemojo.com/title/tt0499549/...</td>\n",
       "    </tr>\n",
       "    <tr>\n",
       "      <th>1</th>\n",
       "      <td>Color</td>\n",
       "      <td>Gore Verbinski</td>\n",
       "      <td>302.0</td>\n",
       "      <td>169.0</td>\n",
       "      <td>563.0</td>\n",
       "      <td>1000.0</td>\n",
       "      <td>Orlando Bloom</td>\n",
       "      <td>40000.0</td>\n",
       "      <td>309404152.0</td>\n",
       "      <td>Action|Adventure|Fantasy</td>\n",
       "      <td>...</td>\n",
       "      <td>309420425</td>\n",
       "      <td>651576067</td>\n",
       "      <td>960996492</td>\n",
       "      <td>PG-13</td>\n",
       "      <td>2 hr 49 min</td>\n",
       "      <td>Action</td>\n",
       "      <td>Adventure</td>\n",
       "      <td>Fantasy</td>\n",
       "      <td>NaN</td>\n",
       "      <td>https://www.boxofficemojo.com/title/tt0449088/...</td>\n",
       "    </tr>\n",
       "    <tr>\n",
       "      <th>2</th>\n",
       "      <td>Color</td>\n",
       "      <td>Sam Mendes</td>\n",
       "      <td>602.0</td>\n",
       "      <td>148.0</td>\n",
       "      <td>0.0</td>\n",
       "      <td>161.0</td>\n",
       "      <td>Rory Kinnear</td>\n",
       "      <td>11000.0</td>\n",
       "      <td>200074175.0</td>\n",
       "      <td>Action|Adventure|Thriller</td>\n",
       "      <td>...</td>\n",
       "      <td>200074609</td>\n",
       "      <td>680600000</td>\n",
       "      <td>880674609</td>\n",
       "      <td>PG-13</td>\n",
       "      <td>2 hr 28 min</td>\n",
       "      <td>Action</td>\n",
       "      <td>Adventure</td>\n",
       "      <td>Thriller</td>\n",
       "      <td>NaN</td>\n",
       "      <td>https://www.boxofficemojo.com/title/tt2379713/...</td>\n",
       "    </tr>\n",
       "    <tr>\n",
       "      <th>3</th>\n",
       "      <td>Color</td>\n",
       "      <td>Christopher Nolan</td>\n",
       "      <td>813.0</td>\n",
       "      <td>164.0</td>\n",
       "      <td>22000.0</td>\n",
       "      <td>23000.0</td>\n",
       "      <td>Christian Bale</td>\n",
       "      <td>27000.0</td>\n",
       "      <td>448130642.0</td>\n",
       "      <td>Action|Thriller</td>\n",
       "      <td>...</td>\n",
       "      <td>448139099</td>\n",
       "      <td>632902188</td>\n",
       "      <td>1081041287</td>\n",
       "      <td>PG-13</td>\n",
       "      <td>2 hr 44 min</td>\n",
       "      <td>Action</td>\n",
       "      <td>Adventure</td>\n",
       "      <td>NaN</td>\n",
       "      <td>NaN</td>\n",
       "      <td>https://www.boxofficemojo.com/title/tt1345836/...</td>\n",
       "    </tr>\n",
       "    <tr>\n",
       "      <th>4</th>\n",
       "      <td>Color</td>\n",
       "      <td>Andrew Stanton</td>\n",
       "      <td>462.0</td>\n",
       "      <td>132.0</td>\n",
       "      <td>475.0</td>\n",
       "      <td>530.0</td>\n",
       "      <td>Samantha Morton</td>\n",
       "      <td>640.0</td>\n",
       "      <td>73058679.0</td>\n",
       "      <td>Action|Adventure|Sci-Fi</td>\n",
       "      <td>...</td>\n",
       "      <td>73078100</td>\n",
       "      <td>211061000</td>\n",
       "      <td>284139100</td>\n",
       "      <td>PG-13</td>\n",
       "      <td>2 hr 12 min</td>\n",
       "      <td>Action</td>\n",
       "      <td>Adventure</td>\n",
       "      <td>Sci-Fi</td>\n",
       "      <td>NaN</td>\n",
       "      <td>https://www.boxofficemojo.com/title/tt0401729/...</td>\n",
       "    </tr>\n",
       "  </tbody>\n",
       "</table>\n",
       "<p>5 rows × 51 columns</p>\n",
       "</div>"
      ],
      "text/plain": [
       "   color      director_name  num_critic_for_reviews  duration  \\\n",
       "0  Color      James Cameron                   723.0     178.0   \n",
       "1  Color     Gore Verbinski                   302.0     169.0   \n",
       "2  Color         Sam Mendes                   602.0     148.0   \n",
       "3  Color  Christopher Nolan                   813.0     164.0   \n",
       "4  Color     Andrew Stanton                   462.0     132.0   \n",
       "\n",
       "   director_facebook_likes  actor_3_facebook_likes      actor_2_name  \\\n",
       "0                      0.0                   855.0  Joel David Moore   \n",
       "1                    563.0                  1000.0     Orlando Bloom   \n",
       "2                      0.0                   161.0      Rory Kinnear   \n",
       "3                  22000.0                 23000.0    Christian Bale   \n",
       "4                    475.0                   530.0   Samantha Morton   \n",
       "\n",
       "   actor_1_facebook_likes        gross                           genres  ...  \\\n",
       "0                  1000.0  760505847.0  Action|Adventure|Fantasy|Sci-Fi  ...   \n",
       "1                 40000.0  309404152.0         Action|Adventure|Fantasy  ...   \n",
       "2                 11000.0  200074175.0        Action|Adventure|Thriller  ...   \n",
       "3                 27000.0  448130642.0                  Action|Thriller  ...   \n",
       "4                   640.0   73058679.0          Action|Adventure|Sci-Fi  ...   \n",
       "\n",
       "    domestic international   worldwide   mpaa     run_time  genre_1  \\\n",
       "0  760507625    2029931375  2790439000  PG-13  2 hr 42 min   Action   \n",
       "1  309420425     651576067   960996492  PG-13  2 hr 49 min   Action   \n",
       "2  200074609     680600000   880674609  PG-13  2 hr 28 min   Action   \n",
       "3  448139099     632902188  1081041287  PG-13  2 hr 44 min   Action   \n",
       "4   73078100     211061000   284139100  PG-13  2 hr 12 min   Action   \n",
       "\n",
       "     genre_2   genre_3  genre_4  \\\n",
       "0  Adventure   Fantasy   Sci-Fi   \n",
       "1  Adventure   Fantasy      NaN   \n",
       "2  Adventure  Thriller      NaN   \n",
       "3  Adventure       NaN      NaN   \n",
       "4  Adventure    Sci-Fi      NaN   \n",
       "\n",
       "                                                link  \n",
       "0  https://www.boxofficemojo.com/title/tt0499549/...  \n",
       "1  https://www.boxofficemojo.com/title/tt0449088/...  \n",
       "2  https://www.boxofficemojo.com/title/tt2379713/...  \n",
       "3  https://www.boxofficemojo.com/title/tt1345836/...  \n",
       "4  https://www.boxofficemojo.com/title/tt0401729/...  \n",
       "\n",
       "[5 rows x 51 columns]"
      ]
     },
     "execution_count": 194,
     "metadata": {},
     "output_type": "execute_result"
    }
   ],
   "source": [
    "merged_df.head()"
   ]
  },
  {
   "cell_type": "code",
   "execution_count": 195,
   "id": "b277e5d4-4f89-43f0-9d67-9085e0bb3270",
   "metadata": {},
   "outputs": [
    {
     "data": {
      "text/plain": [
       "1986"
      ]
     },
     "execution_count": 195,
     "metadata": {},
     "output_type": "execute_result"
    }
   ],
   "source": [
    "len(merged_df)"
   ]
  },
  {
   "cell_type": "code",
   "execution_count": 196,
   "id": "16ca15ab-befc-46ab-b6ff-9aa04a4d8cfa",
   "metadata": {},
   "outputs": [
    {
     "data": {
      "text/plain": [
       "2016"
      ]
     },
     "execution_count": 196,
     "metadata": {},
     "output_type": "execute_result"
    }
   ],
   "source": [
    "merged_df['movie_year'].max()"
   ]
  },
  {
   "cell_type": "code",
   "execution_count": 197,
   "id": "5badf61e-730d-4d93-b7c7-dad6148c1d22",
   "metadata": {},
   "outputs": [
    {
     "data": {
      "text/plain": [
       "5043"
      ]
     },
     "execution_count": 197,
     "metadata": {},
     "output_type": "execute_result"
    }
   ],
   "source": [
    "len(imdb_df)"
   ]
  },
  {
   "cell_type": "code",
   "execution_count": 198,
   "id": "ab86b07d-c8f4-443f-8321-306c4d511500",
   "metadata": {},
   "outputs": [],
   "source": [
    "mask = merged_df.country.str.contains('USA')\n",
    "# mask = ~merged_df['country'].str.contains('USA')\n",
    "# print(merged_df[mask].country)\n",
    "# use the boolean mask to drop the rows that don't contain 'hello'\n",
    "\n",
    "merged_df = merged_df.drop(index=merged_df[~mask].index)"
   ]
  },
  {
   "cell_type": "code",
   "execution_count": 199,
   "id": "bf20563f-ab48-4f63-94a9-4ee6141556b0",
   "metadata": {},
   "outputs": [
    {
     "data": {
      "text/plain": [
       "1675"
      ]
     },
     "execution_count": 199,
     "metadata": {},
     "output_type": "execute_result"
    }
   ],
   "source": [
    "len(merged_df)"
   ]
  },
  {
   "cell_type": "code",
   "execution_count": 200,
   "id": "efedaefd-c088-4fd9-8101-bdb47967bb89",
   "metadata": {},
   "outputs": [
    {
     "data": {
      "text/plain": [
       "Index(['color', 'director_name', 'num_critic_for_reviews', 'duration',\n",
       "       'director_facebook_likes', 'actor_3_facebook_likes', 'actor_2_name',\n",
       "       'actor_1_facebook_likes', 'gross', 'genres', 'actor_1_name',\n",
       "       'movie_title_x', 'num_voted_users', 'cast_total_facebook_likes',\n",
       "       'actor_3_name', 'facenumber_in_poster', 'plot_keywords',\n",
       "       'movie_imdb_link', 'num_user_for_reviews', 'language', 'country',\n",
       "       'content_rating', 'budget_x', 'title_year', 'actor_2_facebook_likes',\n",
       "       'imdb_score', 'aspect_ratio', 'movie_facebook_likes', 'movie_id',\n",
       "       'movie_title_y', 'movie_year', 'director', 'writer', 'producer',\n",
       "       'composer', 'cinematographer', 'main_actor_1', 'main_actor_2',\n",
       "       'main_actor_3', 'main_actor_4', 'budget_y', 'domestic', 'international',\n",
       "       'worldwide', 'mpaa', 'run_time', 'genre_1', 'genre_2', 'genre_3',\n",
       "       'genre_4', 'link'],\n",
       "      dtype='object')"
      ]
     },
     "execution_count": 200,
     "metadata": {},
     "output_type": "execute_result"
    }
   ],
   "source": [
    "merged_df.keys()"
   ]
  },
  {
   "cell_type": "code",
   "execution_count": 201,
   "id": "cbb6fbed-e809-4ae9-b4e9-b642829f3cb4",
   "metadata": {},
   "outputs": [],
   "source": [
    "# removing duplicates and urelated attributes\n",
    "merged_df = merged_df.drop(['run_time', 'budget_y', 'director_name', 'genres', 'link', 'movie_imdb_link', 'num_voted_users', 'movie_title_y', 'num_critic_for_reviews', 'content_rating', 'country'], axis=1)"
   ]
  },
  {
   "cell_type": "code",
   "execution_count": 202,
   "id": "cdec6b60-0dec-48af-b7b7-9c132a8adcd3",
   "metadata": {},
   "outputs": [],
   "source": [
    "merged_df = merged_df.drop('title_year', axis=1)"
   ]
  },
  {
   "cell_type": "code",
   "execution_count": 203,
   "id": "1645b8a2-2524-43c9-bbf4-4610aee98a26",
   "metadata": {},
   "outputs": [],
   "source": [
    "# make sure all the movies have at least 1 genre\n",
    "merged_df = merged_df[merged_df['genre_1'].notna()]"
   ]
  },
  {
   "cell_type": "code",
   "execution_count": 204,
   "id": "68412f19-4264-448b-8bdb-8edb33903577",
   "metadata": {},
   "outputs": [
    {
     "data": {
      "text/plain": [
       "1675"
      ]
     },
     "execution_count": 204,
     "metadata": {},
     "output_type": "execute_result"
    }
   ],
   "source": [
    "len(merged_df)"
   ]
  },
  {
   "cell_type": "code",
   "execution_count": 205,
   "id": "a09dcb7f-9860-4346-a7a5-6fe81f0a9c6d",
   "metadata": {},
   "outputs": [
    {
     "data": {
      "text/plain": [
       "2016"
      ]
     },
     "execution_count": 205,
     "metadata": {},
     "output_type": "execute_result"
    }
   ],
   "source": [
    "merged_df['movie_year'].max()"
   ]
  },
  {
   "cell_type": "code",
   "execution_count": 206,
   "id": "8658eb52-c99f-4ffe-93e3-3410975d00fc",
   "metadata": {},
   "outputs": [
    {
     "data": {
      "text/plain": [
       "2000"
      ]
     },
     "execution_count": 206,
     "metadata": {},
     "output_type": "execute_result"
    }
   ],
   "source": [
    "merged_df['movie_year'].min()"
   ]
  },
  {
   "cell_type": "code",
   "execution_count": 207,
   "id": "8bb2da65-2676-452c-a490-bec777dd0eaf",
   "metadata": {},
   "outputs": [
    {
     "data": {
      "text/html": [
       "<div>\n",
       "<style scoped>\n",
       "    .dataframe tbody tr th:only-of-type {\n",
       "        vertical-align: middle;\n",
       "    }\n",
       "\n",
       "    .dataframe tbody tr th {\n",
       "        vertical-align: top;\n",
       "    }\n",
       "\n",
       "    .dataframe thead th {\n",
       "        text-align: right;\n",
       "    }\n",
       "</style>\n",
       "<table border=\"1\" class=\"dataframe\">\n",
       "  <thead>\n",
       "    <tr style=\"text-align: right;\">\n",
       "      <th></th>\n",
       "      <th>budget_x</th>\n",
       "      <th>movie_year</th>\n",
       "    </tr>\n",
       "  </thead>\n",
       "  <tbody>\n",
       "    <tr>\n",
       "      <th>0</th>\n",
       "      <td>237000000.0</td>\n",
       "      <td>2009</td>\n",
       "    </tr>\n",
       "    <tr>\n",
       "      <th>1</th>\n",
       "      <td>300000000.0</td>\n",
       "      <td>2007</td>\n",
       "    </tr>\n",
       "    <tr>\n",
       "      <th>3</th>\n",
       "      <td>250000000.0</td>\n",
       "      <td>2012</td>\n",
       "    </tr>\n",
       "    <tr>\n",
       "      <th>4</th>\n",
       "      <td>263700000.0</td>\n",
       "      <td>2012</td>\n",
       "    </tr>\n",
       "    <tr>\n",
       "      <th>5</th>\n",
       "      <td>258000000.0</td>\n",
       "      <td>2007</td>\n",
       "    </tr>\n",
       "  </tbody>\n",
       "</table>\n",
       "</div>"
      ],
      "text/plain": [
       "      budget_x  movie_year\n",
       "0  237000000.0        2009\n",
       "1  300000000.0        2007\n",
       "3  250000000.0        2012\n",
       "4  263700000.0        2012\n",
       "5  258000000.0        2007"
      ]
     },
     "execution_count": 207,
     "metadata": {},
     "output_type": "execute_result"
    }
   ],
   "source": [
    "merged_df[['budget_x', 'movie_year']].head()"
   ]
  },
  {
   "cell_type": "code",
   "execution_count": 208,
   "id": "d1a0d368-d998-484b-a287-dfccd004e9bb",
   "metadata": {
    "tags": []
   },
   "outputs": [],
   "source": [
    "# The dollar had an average inflation rate of 2.10% per year between 2000 and 2016. Source: https://www.officialdata.org/2000-dollars-in-2016?amount=3900#:~:text=The%20dollar%20had%20an%20average,Labor%20Statistics%20consumer%20price%20index.\n",
    "inflation = 1.021\n",
    "for index, row in merged_df.iterrows():\n",
    "    power = row['movie_year'] - 2000\n",
    "    merged_df.at[index, 'budget_x'] = row['budget_x'] * (inflation ** power)\n",
    "    merged_df.at[index, 'worldwide'] = row['worldwide'] * (inflation ** power)\n",
    "    merged_df.at[index, 'domestic']= row['domestic'] * (inflation ** power)"
   ]
  },
  {
   "cell_type": "code",
   "execution_count": 209,
   "id": "3b013ffa-77ee-4f99-9ae8-ed6b845a6a4a",
   "metadata": {},
   "outputs": [
    {
     "data": {
      "text/html": [
       "<div>\n",
       "<style scoped>\n",
       "    .dataframe tbody tr th:only-of-type {\n",
       "        vertical-align: middle;\n",
       "    }\n",
       "\n",
       "    .dataframe tbody tr th {\n",
       "        vertical-align: top;\n",
       "    }\n",
       "\n",
       "    .dataframe thead th {\n",
       "        text-align: right;\n",
       "    }\n",
       "</style>\n",
       "<table border=\"1\" class=\"dataframe\">\n",
       "  <thead>\n",
       "    <tr style=\"text-align: right;\">\n",
       "      <th></th>\n",
       "      <th>budget_x</th>\n",
       "      <th>movie_year</th>\n",
       "    </tr>\n",
       "  </thead>\n",
       "  <tbody>\n",
       "    <tr>\n",
       "      <th>0</th>\n",
       "      <td>2.857459e+08</td>\n",
       "      <td>2009</td>\n",
       "    </tr>\n",
       "    <tr>\n",
       "      <th>1</th>\n",
       "      <td>3.469776e+08</td>\n",
       "      <td>2007</td>\n",
       "    </tr>\n",
       "    <tr>\n",
       "      <th>3</th>\n",
       "      <td>3.208108e+08</td>\n",
       "      <td>2012</td>\n",
       "    </tr>\n",
       "    <tr>\n",
       "      <th>4</th>\n",
       "      <td>3.383912e+08</td>\n",
       "      <td>2012</td>\n",
       "    </tr>\n",
       "    <tr>\n",
       "      <th>5</th>\n",
       "      <td>2.984007e+08</td>\n",
       "      <td>2007</td>\n",
       "    </tr>\n",
       "  </tbody>\n",
       "</table>\n",
       "</div>"
      ],
      "text/plain": [
       "       budget_x  movie_year\n",
       "0  2.857459e+08        2009\n",
       "1  3.469776e+08        2007\n",
       "3  3.208108e+08        2012\n",
       "4  3.383912e+08        2012\n",
       "5  2.984007e+08        2007"
      ]
     },
     "execution_count": 209,
     "metadata": {},
     "output_type": "execute_result"
    }
   ],
   "source": [
    "merged_df[['budget_x', 'movie_year']].head()"
   ]
  },
  {
   "cell_type": "code",
   "execution_count": null,
   "id": "c81b8c84-c445-4807-ba02-f14ca7922b0a",
   "metadata": {},
   "outputs": [],
   "source": []
  }
 ],
 "metadata": {
  "kernelspec": {
   "display_name": "Python 3 (ipykernel)",
   "language": "python",
   "name": "python3"
  },
  "language_info": {
   "codemirror_mode": {
    "name": "ipython",
    "version": 3
   },
   "file_extension": ".py",
   "mimetype": "text/x-python",
   "name": "python",
   "nbconvert_exporter": "python",
   "pygments_lexer": "ipython3",
   "version": "3.9.15"
  }
 },
 "nbformat": 4,
 "nbformat_minor": 5
}
