{
 "cells": [
  {
   "cell_type": "code",
   "execution_count": 1138,
   "id": "345dcd4b-627a-48f7-a557-1b323e4b77e2",
   "metadata": {},
   "outputs": [],
   "source": [
    "import pandas as pd\n",
    "import numpy as np\n",
    "imdb_df = pd.read_csv(\"./MovieData/movie_metadata 2.csv\")"
   ]
  },
  {
   "cell_type": "code",
   "execution_count": 1139,
   "id": "d9ea5841-8ef7-40e2-8dba-792043f33044",
   "metadata": {},
   "outputs": [
    {
     "data": {
      "text/html": [
       "<div>\n",
       "<style scoped>\n",
       "    .dataframe tbody tr th:only-of-type {\n",
       "        vertical-align: middle;\n",
       "    }\n",
       "\n",
       "    .dataframe tbody tr th {\n",
       "        vertical-align: top;\n",
       "    }\n",
       "\n",
       "    .dataframe thead th {\n",
       "        text-align: right;\n",
       "    }\n",
       "</style>\n",
       "<table border=\"1\" class=\"dataframe\">\n",
       "  <thead>\n",
       "    <tr style=\"text-align: right;\">\n",
       "      <th></th>\n",
       "      <th>color</th>\n",
       "      <th>director_name</th>\n",
       "      <th>num_critic_for_reviews</th>\n",
       "      <th>duration</th>\n",
       "      <th>director_facebook_likes</th>\n",
       "      <th>actor_3_facebook_likes</th>\n",
       "      <th>actor_2_name</th>\n",
       "      <th>actor_1_facebook_likes</th>\n",
       "      <th>gross</th>\n",
       "      <th>genres</th>\n",
       "      <th>...</th>\n",
       "      <th>num_user_for_reviews</th>\n",
       "      <th>language</th>\n",
       "      <th>country</th>\n",
       "      <th>content_rating</th>\n",
       "      <th>budget</th>\n",
       "      <th>title_year</th>\n",
       "      <th>actor_2_facebook_likes</th>\n",
       "      <th>imdb_score</th>\n",
       "      <th>aspect_ratio</th>\n",
       "      <th>movie_facebook_likes</th>\n",
       "    </tr>\n",
       "  </thead>\n",
       "  <tbody>\n",
       "    <tr>\n",
       "      <th>0</th>\n",
       "      <td>Color</td>\n",
       "      <td>James Cameron</td>\n",
       "      <td>723.0</td>\n",
       "      <td>178.0</td>\n",
       "      <td>0.0</td>\n",
       "      <td>855.0</td>\n",
       "      <td>Joel David Moore</td>\n",
       "      <td>1000.0</td>\n",
       "      <td>760505847.0</td>\n",
       "      <td>Action|Adventure|Fantasy|Sci-Fi</td>\n",
       "      <td>...</td>\n",
       "      <td>3054.0</td>\n",
       "      <td>English</td>\n",
       "      <td>USA</td>\n",
       "      <td>PG-13</td>\n",
       "      <td>237000000.0</td>\n",
       "      <td>2009.0</td>\n",
       "      <td>936.0</td>\n",
       "      <td>7.9</td>\n",
       "      <td>1.78</td>\n",
       "      <td>33000</td>\n",
       "    </tr>\n",
       "    <tr>\n",
       "      <th>1</th>\n",
       "      <td>Color</td>\n",
       "      <td>Gore Verbinski</td>\n",
       "      <td>302.0</td>\n",
       "      <td>169.0</td>\n",
       "      <td>563.0</td>\n",
       "      <td>1000.0</td>\n",
       "      <td>Orlando Bloom</td>\n",
       "      <td>40000.0</td>\n",
       "      <td>309404152.0</td>\n",
       "      <td>Action|Adventure|Fantasy</td>\n",
       "      <td>...</td>\n",
       "      <td>1238.0</td>\n",
       "      <td>English</td>\n",
       "      <td>USA</td>\n",
       "      <td>PG-13</td>\n",
       "      <td>300000000.0</td>\n",
       "      <td>2007.0</td>\n",
       "      <td>5000.0</td>\n",
       "      <td>7.1</td>\n",
       "      <td>2.35</td>\n",
       "      <td>0</td>\n",
       "    </tr>\n",
       "    <tr>\n",
       "      <th>2</th>\n",
       "      <td>Color</td>\n",
       "      <td>Sam Mendes</td>\n",
       "      <td>602.0</td>\n",
       "      <td>148.0</td>\n",
       "      <td>0.0</td>\n",
       "      <td>161.0</td>\n",
       "      <td>Rory Kinnear</td>\n",
       "      <td>11000.0</td>\n",
       "      <td>200074175.0</td>\n",
       "      <td>Action|Adventure|Thriller</td>\n",
       "      <td>...</td>\n",
       "      <td>994.0</td>\n",
       "      <td>English</td>\n",
       "      <td>UK</td>\n",
       "      <td>PG-13</td>\n",
       "      <td>245000000.0</td>\n",
       "      <td>2015.0</td>\n",
       "      <td>393.0</td>\n",
       "      <td>6.8</td>\n",
       "      <td>2.35</td>\n",
       "      <td>85000</td>\n",
       "    </tr>\n",
       "    <tr>\n",
       "      <th>3</th>\n",
       "      <td>Color</td>\n",
       "      <td>Christopher Nolan</td>\n",
       "      <td>813.0</td>\n",
       "      <td>164.0</td>\n",
       "      <td>22000.0</td>\n",
       "      <td>23000.0</td>\n",
       "      <td>Christian Bale</td>\n",
       "      <td>27000.0</td>\n",
       "      <td>448130642.0</td>\n",
       "      <td>Action|Thriller</td>\n",
       "      <td>...</td>\n",
       "      <td>2701.0</td>\n",
       "      <td>English</td>\n",
       "      <td>USA</td>\n",
       "      <td>PG-13</td>\n",
       "      <td>250000000.0</td>\n",
       "      <td>2012.0</td>\n",
       "      <td>23000.0</td>\n",
       "      <td>8.5</td>\n",
       "      <td>2.35</td>\n",
       "      <td>164000</td>\n",
       "    </tr>\n",
       "    <tr>\n",
       "      <th>4</th>\n",
       "      <td>NaN</td>\n",
       "      <td>Doug Walker</td>\n",
       "      <td>NaN</td>\n",
       "      <td>NaN</td>\n",
       "      <td>131.0</td>\n",
       "      <td>NaN</td>\n",
       "      <td>Rob Walker</td>\n",
       "      <td>131.0</td>\n",
       "      <td>NaN</td>\n",
       "      <td>Documentary</td>\n",
       "      <td>...</td>\n",
       "      <td>NaN</td>\n",
       "      <td>NaN</td>\n",
       "      <td>NaN</td>\n",
       "      <td>NaN</td>\n",
       "      <td>NaN</td>\n",
       "      <td>NaN</td>\n",
       "      <td>12.0</td>\n",
       "      <td>7.1</td>\n",
       "      <td>NaN</td>\n",
       "      <td>0</td>\n",
       "    </tr>\n",
       "  </tbody>\n",
       "</table>\n",
       "<p>5 rows × 28 columns</p>\n",
       "</div>"
      ],
      "text/plain": [
       "   color      director_name  num_critic_for_reviews  duration  \\\n",
       "0  Color      James Cameron                   723.0     178.0   \n",
       "1  Color     Gore Verbinski                   302.0     169.0   \n",
       "2  Color         Sam Mendes                   602.0     148.0   \n",
       "3  Color  Christopher Nolan                   813.0     164.0   \n",
       "4    NaN        Doug Walker                     NaN       NaN   \n",
       "\n",
       "   director_facebook_likes  actor_3_facebook_likes      actor_2_name  \\\n",
       "0                      0.0                   855.0  Joel David Moore   \n",
       "1                    563.0                  1000.0     Orlando Bloom   \n",
       "2                      0.0                   161.0      Rory Kinnear   \n",
       "3                  22000.0                 23000.0    Christian Bale   \n",
       "4                    131.0                     NaN        Rob Walker   \n",
       "\n",
       "   actor_1_facebook_likes        gross                           genres  ...  \\\n",
       "0                  1000.0  760505847.0  Action|Adventure|Fantasy|Sci-Fi  ...   \n",
       "1                 40000.0  309404152.0         Action|Adventure|Fantasy  ...   \n",
       "2                 11000.0  200074175.0        Action|Adventure|Thriller  ...   \n",
       "3                 27000.0  448130642.0                  Action|Thriller  ...   \n",
       "4                   131.0          NaN                      Documentary  ...   \n",
       "\n",
       "  num_user_for_reviews language  country  content_rating       budget  \\\n",
       "0               3054.0  English      USA           PG-13  237000000.0   \n",
       "1               1238.0  English      USA           PG-13  300000000.0   \n",
       "2                994.0  English       UK           PG-13  245000000.0   \n",
       "3               2701.0  English      USA           PG-13  250000000.0   \n",
       "4                  NaN      NaN      NaN             NaN          NaN   \n",
       "\n",
       "   title_year actor_2_facebook_likes imdb_score  aspect_ratio  \\\n",
       "0      2009.0                  936.0        7.9          1.78   \n",
       "1      2007.0                 5000.0        7.1          2.35   \n",
       "2      2015.0                  393.0        6.8          2.35   \n",
       "3      2012.0                23000.0        8.5          2.35   \n",
       "4         NaN                   12.0        7.1           NaN   \n",
       "\n",
       "  movie_facebook_likes  \n",
       "0                33000  \n",
       "1                    0  \n",
       "2                85000  \n",
       "3               164000  \n",
       "4                    0  \n",
       "\n",
       "[5 rows x 28 columns]"
      ]
     },
     "execution_count": 1139,
     "metadata": {},
     "output_type": "execute_result"
    }
   ],
   "source": [
    "imdb_df.head()"
   ]
  },
  {
   "cell_type": "code",
   "execution_count": 1140,
   "id": "9fe2e896-1557-437a-9da4-e2a74f45681c",
   "metadata": {},
   "outputs": [
    {
     "data": {
      "text/plain": [
       "Index(['color', 'director_name', 'num_critic_for_reviews', 'duration',\n",
       "       'director_facebook_likes', 'actor_3_facebook_likes', 'actor_2_name',\n",
       "       'actor_1_facebook_likes', 'gross', 'genres', 'actor_1_name',\n",
       "       'movie_title', 'num_voted_users', 'cast_total_facebook_likes',\n",
       "       'actor_3_name', 'facenumber_in_poster', 'plot_keywords',\n",
       "       'movie_imdb_link', 'num_user_for_reviews', 'language', 'country',\n",
       "       'content_rating', 'budget', 'title_year', 'actor_2_facebook_likes',\n",
       "       'imdb_score', 'aspect_ratio', 'movie_facebook_likes'],\n",
       "      dtype='object')"
      ]
     },
     "execution_count": 1140,
     "metadata": {},
     "output_type": "execute_result"
    }
   ],
   "source": [
    "imdb_df.keys()"
   ]
  },
  {
   "cell_type": "code",
   "execution_count": 1141,
   "id": "17af3f3e-3370-4729-ad43-e00e6f5f98d5",
   "metadata": {},
   "outputs": [
    {
     "data": {
      "text/plain": [
       "2016.0"
      ]
     },
     "execution_count": 1141,
     "metadata": {},
     "output_type": "execute_result"
    }
   ],
   "source": [
    "imdb_df['title_year'].max()"
   ]
  },
  {
   "cell_type": "code",
   "execution_count": 1142,
   "id": "860ada49-6ae0-4760-949a-71f5867047ce",
   "metadata": {},
   "outputs": [],
   "source": [
    "df_movie_imdb_link = imdb_df['movie_imdb_link']"
   ]
  },
  {
   "cell_type": "code",
   "execution_count": 1143,
   "id": "b62f5580-5e30-4613-9fba-f6b259c7961a",
   "metadata": {},
   "outputs": [],
   "source": [
    "movi_list = df_movie_imdb_link.to_list()"
   ]
  },
  {
   "cell_type": "code",
   "execution_count": 1144,
   "id": "d383f583-a961-4b08-8d41-a6f91977a1c9",
   "metadata": {
    "tags": []
   },
   "outputs": [
    {
     "data": {
      "text/plain": [
       "0       http://www.imdb.com/title/tt0499549/?ref_=fn_t...\n",
       "1       http://www.imdb.com/title/tt0449088/?ref_=fn_t...\n",
       "2       http://www.imdb.com/title/tt2379713/?ref_=fn_t...\n",
       "3       http://www.imdb.com/title/tt1345836/?ref_=fn_t...\n",
       "4       http://www.imdb.com/title/tt5289954/?ref_=fn_t...\n",
       "                              ...                        \n",
       "5038    http://www.imdb.com/title/tt3000844/?ref_=fn_t...\n",
       "5039    http://www.imdb.com/title/tt2071645/?ref_=fn_t...\n",
       "5040    http://www.imdb.com/title/tt2107644/?ref_=fn_t...\n",
       "5041    http://www.imdb.com/title/tt2070597/?ref_=fn_t...\n",
       "5042    http://www.imdb.com/title/tt0378407/?ref_=fn_t...\n",
       "Name: movie_imdb_link, Length: 5043, dtype: object"
      ]
     },
     "execution_count": 1144,
     "metadata": {},
     "output_type": "execute_result"
    }
   ],
   "source": [
    "df_movie_imdb_link"
   ]
  },
  {
   "cell_type": "code",
   "execution_count": 1145,
   "id": "ee08b82b-0f27-4015-afd3-30ce7993aa57",
   "metadata": {
    "tags": []
   },
   "outputs": [],
   "source": [
    "box_office = pd.read_csv(\"./MovieData/boxofficemojo_dataset/Mojo_budget_data.csv\")"
   ]
  },
  {
   "cell_type": "code",
   "execution_count": 1146,
   "id": "030dc2f9-519a-4553-9af7-1123b9ee27e6",
   "metadata": {},
   "outputs": [
    {
     "data": {
      "text/plain": [
       "Index(['movie_id', 'movie_title', 'movie_year', 'director', 'writer',\n",
       "       'producer', 'composer', 'cinematographer', 'main_actor_1',\n",
       "       'main_actor_2', 'main_actor_3', 'main_actor_4', 'budget', 'domestic',\n",
       "       'international', 'worldwide', 'mpaa', 'run_time', 'genre_1', 'genre_2',\n",
       "       'genre_3', 'genre_4', 'link'],\n",
       "      dtype='object')"
      ]
     },
     "execution_count": 1146,
     "metadata": {},
     "output_type": "execute_result"
    }
   ],
   "source": [
    "box_office.keys()"
   ]
  },
  {
   "cell_type": "code",
   "execution_count": 1147,
   "id": "0995e9c5-4bef-4ddc-9890-8ca2962b84df",
   "metadata": {},
   "outputs": [],
   "source": [
    "imdb_df[\"movie_id\"] = imdb_df.movie_imdb_link.str[26:35]\n"
   ]
  },
  {
   "cell_type": "code",
   "execution_count": 1148,
   "id": "499371a2-5c9c-4bd9-99a9-4363a5321c2f",
   "metadata": {},
   "outputs": [
    {
     "data": {
      "text/plain": [
       "0    tt0499549\n",
       "1    tt0449088\n",
       "2    tt2379713\n",
       "3    tt1345836\n",
       "4    tt5289954\n",
       "Name: movie_id, dtype: object"
      ]
     },
     "execution_count": 1148,
     "metadata": {},
     "output_type": "execute_result"
    }
   ],
   "source": [
    "imdb_df[\"movie_id\"].head()        "
   ]
  },
  {
   "cell_type": "code",
   "execution_count": 1149,
   "id": "cd4ed0db-d77c-47de-a72e-f0d27c500cac",
   "metadata": {},
   "outputs": [],
   "source": [
    "merged_df = pd.merge(imdb_df, box_office, on='movie_id')"
   ]
  },
  {
   "cell_type": "code",
   "execution_count": 1150,
   "id": "ab86b07d-c8f4-443f-8321-306c4d511500",
   "metadata": {},
   "outputs": [],
   "source": [
    "mask = merged_df.country.str.contains('USA')\n",
    "merged_df = merged_df.drop(index=merged_df[~mask].index)"
   ]
  },
  {
   "cell_type": "code",
   "execution_count": 1151,
   "id": "6bfe2ac1-fcbf-4c67-a023-6d339dda1cd4",
   "metadata": {},
   "outputs": [],
   "source": [
    "merged_df = merged_df.drop(['main_actor_2', 'main_actor_3', 'main_actor_1', 'facenumber_in_poster'], axis=1)\n",
    "# removing duplicates and urelated attributes\n",
    "merged_df = merged_df.drop(['run_time', 'budget_y', 'director_name', 'title_year', 'link', 'movie_imdb_link', 'genres', 'num_voted_users', 'movie_title_y', 'num_critic_for_reviews', 'content_rating', 'country', 'aspect_ratio'], axis=1)\n",
    "\n",
    "# merged_df = merged_df.drop(['genre_4', 'genre_3'], axis=1)"
   ]
  },
  {
   "cell_type": "code",
   "execution_count": 1152,
   "id": "c1a2d480-4ab4-4339-b189-c06e98dd9f6a",
   "metadata": {},
   "outputs": [
    {
     "data": {
      "text/plain": [
       "137"
      ]
     },
     "execution_count": 1152,
     "metadata": {},
     "output_type": "execute_result"
    }
   ],
   "source": [
    "merged_df['genre_2'].isna().sum()"
   ]
  },
  {
   "cell_type": "code",
   "execution_count": 1153,
   "id": "8658eb52-c99f-4ffe-93e3-3410975d00fc",
   "metadata": {},
   "outputs": [
    {
     "data": {
      "text/plain": [
       "2000"
      ]
     },
     "execution_count": 1153,
     "metadata": {},
     "output_type": "execute_result"
    }
   ],
   "source": [
    "merged_df['movie_year'].min()"
   ]
  },
  {
   "cell_type": "code",
   "execution_count": 1154,
   "id": "8bb2da65-2676-452c-a490-bec777dd0eaf",
   "metadata": {},
   "outputs": [
    {
     "data": {
      "text/html": [
       "<div>\n",
       "<style scoped>\n",
       "    .dataframe tbody tr th:only-of-type {\n",
       "        vertical-align: middle;\n",
       "    }\n",
       "\n",
       "    .dataframe tbody tr th {\n",
       "        vertical-align: top;\n",
       "    }\n",
       "\n",
       "    .dataframe thead th {\n",
       "        text-align: right;\n",
       "    }\n",
       "</style>\n",
       "<table border=\"1\" class=\"dataframe\">\n",
       "  <thead>\n",
       "    <tr style=\"text-align: right;\">\n",
       "      <th></th>\n",
       "      <th>budget_x</th>\n",
       "      <th>movie_year</th>\n",
       "    </tr>\n",
       "  </thead>\n",
       "  <tbody>\n",
       "    <tr>\n",
       "      <th>0</th>\n",
       "      <td>237000000.0</td>\n",
       "      <td>2009</td>\n",
       "    </tr>\n",
       "    <tr>\n",
       "      <th>1</th>\n",
       "      <td>300000000.0</td>\n",
       "      <td>2007</td>\n",
       "    </tr>\n",
       "    <tr>\n",
       "      <th>3</th>\n",
       "      <td>250000000.0</td>\n",
       "      <td>2012</td>\n",
       "    </tr>\n",
       "    <tr>\n",
       "      <th>4</th>\n",
       "      <td>263700000.0</td>\n",
       "      <td>2012</td>\n",
       "    </tr>\n",
       "    <tr>\n",
       "      <th>5</th>\n",
       "      <td>258000000.0</td>\n",
       "      <td>2007</td>\n",
       "    </tr>\n",
       "  </tbody>\n",
       "</table>\n",
       "</div>"
      ],
      "text/plain": [
       "      budget_x  movie_year\n",
       "0  237000000.0        2009\n",
       "1  300000000.0        2007\n",
       "3  250000000.0        2012\n",
       "4  263700000.0        2012\n",
       "5  258000000.0        2007"
      ]
     },
     "execution_count": 1154,
     "metadata": {},
     "output_type": "execute_result"
    }
   ],
   "source": [
    "merged_df[['budget_x', 'movie_year']].head()"
   ]
  },
  {
   "cell_type": "code",
   "execution_count": 1155,
   "id": "d1a0d368-d998-484b-a287-dfccd004e9bb",
   "metadata": {
    "tags": []
   },
   "outputs": [],
   "source": [
    "# The dollar had an average inflation rate of 2.10% per year between 2000 and 2016. Source: https://www.officialdata.org/2000-dollars-in-2016?amount=3900#:~:text=The%20dollar%20had%20an%20average,Labor%20Statistics%20consumer%20price%20index.\n",
    "inflation = 1.021\n",
    "for index, row in merged_df.iterrows():\n",
    "    power = row['movie_year'] - 2000\n",
    "    merged_df.at[index, 'budget_x'] = row['budget_x'] * (inflation ** power)\n",
    "    merged_df.at[index, 'worldwide'] = row['worldwide'] * (inflation ** power)\n",
    "    merged_df.at[index, 'domestic']= row['domestic'] * (inflation ** power)\n",
    "    merged_df.at[index, 'international']= row['international'] * (inflation ** power)\n",
    "    merged_df.at[index, 'gross']= row['gross'] * (inflation ** power)"
   ]
  },
  {
   "cell_type": "code",
   "execution_count": 1156,
   "id": "3b013ffa-77ee-4f99-9ae8-ed6b845a6a4a",
   "metadata": {},
   "outputs": [
    {
     "data": {
      "text/html": [
       "<div>\n",
       "<style scoped>\n",
       "    .dataframe tbody tr th:only-of-type {\n",
       "        vertical-align: middle;\n",
       "    }\n",
       "\n",
       "    .dataframe tbody tr th {\n",
       "        vertical-align: top;\n",
       "    }\n",
       "\n",
       "    .dataframe thead th {\n",
       "        text-align: right;\n",
       "    }\n",
       "</style>\n",
       "<table border=\"1\" class=\"dataframe\">\n",
       "  <thead>\n",
       "    <tr style=\"text-align: right;\">\n",
       "      <th></th>\n",
       "      <th>budget_x</th>\n",
       "      <th>movie_year</th>\n",
       "    </tr>\n",
       "  </thead>\n",
       "  <tbody>\n",
       "    <tr>\n",
       "      <th>0</th>\n",
       "      <td>2.857459e+08</td>\n",
       "      <td>2009</td>\n",
       "    </tr>\n",
       "    <tr>\n",
       "      <th>1</th>\n",
       "      <td>3.469776e+08</td>\n",
       "      <td>2007</td>\n",
       "    </tr>\n",
       "    <tr>\n",
       "      <th>3</th>\n",
       "      <td>3.208108e+08</td>\n",
       "      <td>2012</td>\n",
       "    </tr>\n",
       "    <tr>\n",
       "      <th>4</th>\n",
       "      <td>3.383912e+08</td>\n",
       "      <td>2012</td>\n",
       "    </tr>\n",
       "    <tr>\n",
       "      <th>5</th>\n",
       "      <td>2.984007e+08</td>\n",
       "      <td>2007</td>\n",
       "    </tr>\n",
       "  </tbody>\n",
       "</table>\n",
       "</div>"
      ],
      "text/plain": [
       "       budget_x  movie_year\n",
       "0  2.857459e+08        2009\n",
       "1  3.469776e+08        2007\n",
       "3  3.208108e+08        2012\n",
       "4  3.383912e+08        2012\n",
       "5  2.984007e+08        2007"
      ]
     },
     "execution_count": 1156,
     "metadata": {},
     "output_type": "execute_result"
    }
   ],
   "source": [
    "merged_df[['budget_x', 'movie_year']].head()"
   ]
  },
  {
   "cell_type": "code",
   "execution_count": 1157,
   "id": "8b6748ec-50f2-4e92-8eb5-9507fa02ac13",
   "metadata": {},
   "outputs": [],
   "source": [
    "genre_1 = merged_df['genre_1'].unique()\n",
    "genre_2 = merged_df['genre_2'].unique()\n",
    "genre_3 = merged_df['genre_3'].unique()\n",
    "genre_4 = merged_df['genre_4'].unique()\n",
    "\n",
    "\n",
    "genres = np.concatenate((genre_1, genre_2, genre_3, genre_4), axis=0)\n",
    "\n",
    "genres = genres[~pd.isna(genres)]\n",
    "genres = np.unique(genres)\n",
    "\n",
    "for g in genres:\n",
    "    merged_df.insert(len(merged_df.columns), g, 0)\n",
    "\n",
    "for item, row in merged_df.iterrows():\n",
    "    for genre in genres:\n",
    "        if genre == row['genre_1']:\n",
    "            merged_df.at[item, genre] = 1\n",
    "        if genre == row['genre_2']:\n",
    "            merged_df.at[item, genre] = 1\n",
    "        if genre == row['genre_3']:\n",
    "            merged_df.at[item, genre] = 1\n",
    "        if genre == row['genre_4']:\n",
    "            merged_df.at[item, genre] = 1"
   ]
  },
  {
   "cell_type": "code",
   "execution_count": 1158,
   "id": "f8b364f7-914a-447a-b2e0-d9fc0bf905b6",
   "metadata": {},
   "outputs": [
    {
     "data": {
      "text/html": [
       "<div>\n",
       "<style scoped>\n",
       "    .dataframe tbody tr th:only-of-type {\n",
       "        vertical-align: middle;\n",
       "    }\n",
       "\n",
       "    .dataframe tbody tr th {\n",
       "        vertical-align: top;\n",
       "    }\n",
       "\n",
       "    .dataframe thead th {\n",
       "        text-align: right;\n",
       "    }\n",
       "</style>\n",
       "<table border=\"1\" class=\"dataframe\">\n",
       "  <thead>\n",
       "    <tr style=\"text-align: right;\">\n",
       "      <th></th>\n",
       "      <th>color</th>\n",
       "      <th>duration</th>\n",
       "      <th>director_facebook_likes</th>\n",
       "      <th>actor_3_facebook_likes</th>\n",
       "      <th>actor_2_name</th>\n",
       "      <th>actor_1_facebook_likes</th>\n",
       "      <th>gross</th>\n",
       "      <th>actor_1_name</th>\n",
       "      <th>movie_title_x</th>\n",
       "      <th>cast_total_facebook_likes</th>\n",
       "      <th>...</th>\n",
       "      <th>Music</th>\n",
       "      <th>Musical</th>\n",
       "      <th>Mystery</th>\n",
       "      <th>News</th>\n",
       "      <th>Romance</th>\n",
       "      <th>Sci-Fi</th>\n",
       "      <th>Sport</th>\n",
       "      <th>Thriller</th>\n",
       "      <th>War</th>\n",
       "      <th>Western</th>\n",
       "    </tr>\n",
       "  </thead>\n",
       "  <tbody>\n",
       "    <tr>\n",
       "      <th>0</th>\n",
       "      <td>Color</td>\n",
       "      <td>178.0</td>\n",
       "      <td>0.0</td>\n",
       "      <td>855.0</td>\n",
       "      <td>Joel David Moore</td>\n",
       "      <td>1000.0</td>\n",
       "      <td>9.169259e+08</td>\n",
       "      <td>CCH Pounder</td>\n",
       "      <td>Avatar</td>\n",
       "      <td>4834</td>\n",
       "      <td>...</td>\n",
       "      <td>0</td>\n",
       "      <td>0</td>\n",
       "      <td>0</td>\n",
       "      <td>0</td>\n",
       "      <td>0</td>\n",
       "      <td>1</td>\n",
       "      <td>0</td>\n",
       "      <td>0</td>\n",
       "      <td>0</td>\n",
       "      <td>0</td>\n",
       "    </tr>\n",
       "    <tr>\n",
       "      <th>1</th>\n",
       "      <td>Color</td>\n",
       "      <td>169.0</td>\n",
       "      <td>563.0</td>\n",
       "      <td>1000.0</td>\n",
       "      <td>Orlando Bloom</td>\n",
       "      <td>40000.0</td>\n",
       "      <td>3.578544e+08</td>\n",
       "      <td>Johnny Depp</td>\n",
       "      <td>Pirates of the Caribbean: At World's End</td>\n",
       "      <td>48350</td>\n",
       "      <td>...</td>\n",
       "      <td>0</td>\n",
       "      <td>0</td>\n",
       "      <td>0</td>\n",
       "      <td>0</td>\n",
       "      <td>0</td>\n",
       "      <td>0</td>\n",
       "      <td>0</td>\n",
       "      <td>0</td>\n",
       "      <td>0</td>\n",
       "      <td>0</td>\n",
       "    </tr>\n",
       "    <tr>\n",
       "      <th>3</th>\n",
       "      <td>Color</td>\n",
       "      <td>164.0</td>\n",
       "      <td>22000.0</td>\n",
       "      <td>23000.0</td>\n",
       "      <td>Christian Bale</td>\n",
       "      <td>27000.0</td>\n",
       "      <td>5.750605e+08</td>\n",
       "      <td>Tom Hardy</td>\n",
       "      <td>The Dark Knight Rises</td>\n",
       "      <td>106759</td>\n",
       "      <td>...</td>\n",
       "      <td>0</td>\n",
       "      <td>0</td>\n",
       "      <td>0</td>\n",
       "      <td>0</td>\n",
       "      <td>0</td>\n",
       "      <td>0</td>\n",
       "      <td>0</td>\n",
       "      <td>0</td>\n",
       "      <td>0</td>\n",
       "      <td>0</td>\n",
       "    </tr>\n",
       "    <tr>\n",
       "      <th>4</th>\n",
       "      <td>Color</td>\n",
       "      <td>132.0</td>\n",
       "      <td>475.0</td>\n",
       "      <td>530.0</td>\n",
       "      <td>Samantha Morton</td>\n",
       "      <td>640.0</td>\n",
       "      <td>9.375204e+07</td>\n",
       "      <td>Daryl Sabara</td>\n",
       "      <td>John Carter</td>\n",
       "      <td>1873</td>\n",
       "      <td>...</td>\n",
       "      <td>0</td>\n",
       "      <td>0</td>\n",
       "      <td>0</td>\n",
       "      <td>0</td>\n",
       "      <td>0</td>\n",
       "      <td>1</td>\n",
       "      <td>0</td>\n",
       "      <td>0</td>\n",
       "      <td>0</td>\n",
       "      <td>0</td>\n",
       "    </tr>\n",
       "    <tr>\n",
       "      <th>5</th>\n",
       "      <td>Color</td>\n",
       "      <td>156.0</td>\n",
       "      <td>0.0</td>\n",
       "      <td>4000.0</td>\n",
       "      <td>James Franco</td>\n",
       "      <td>24000.0</td>\n",
       "      <td>3.892283e+08</td>\n",
       "      <td>J.K. Simmons</td>\n",
       "      <td>Spider-Man 3</td>\n",
       "      <td>46055</td>\n",
       "      <td>...</td>\n",
       "      <td>0</td>\n",
       "      <td>0</td>\n",
       "      <td>0</td>\n",
       "      <td>0</td>\n",
       "      <td>0</td>\n",
       "      <td>1</td>\n",
       "      <td>0</td>\n",
       "      <td>0</td>\n",
       "      <td>0</td>\n",
       "      <td>0</td>\n",
       "    </tr>\n",
       "  </tbody>\n",
       "</table>\n",
       "<p>5 rows × 56 columns</p>\n",
       "</div>"
      ],
      "text/plain": [
       "   color  duration  director_facebook_likes  actor_3_facebook_likes  \\\n",
       "0  Color     178.0                      0.0                   855.0   \n",
       "1  Color     169.0                    563.0                  1000.0   \n",
       "3  Color     164.0                  22000.0                 23000.0   \n",
       "4  Color     132.0                    475.0                   530.0   \n",
       "5  Color     156.0                      0.0                  4000.0   \n",
       "\n",
       "       actor_2_name  actor_1_facebook_likes         gross  actor_1_name  \\\n",
       "0  Joel David Moore                  1000.0  9.169259e+08   CCH Pounder   \n",
       "1     Orlando Bloom                 40000.0  3.578544e+08   Johnny Depp   \n",
       "3    Christian Bale                 27000.0  5.750605e+08     Tom Hardy   \n",
       "4   Samantha Morton                   640.0  9.375204e+07  Daryl Sabara   \n",
       "5      James Franco                 24000.0  3.892283e+08  J.K. Simmons   \n",
       "\n",
       "                               movie_title_x  cast_total_facebook_likes  ...  \\\n",
       "0                                    Avatar                        4834  ...   \n",
       "1  Pirates of the Caribbean: At World's End                       48350  ...   \n",
       "3                     The Dark Knight Rises                      106759  ...   \n",
       "4                               John Carter                        1873  ...   \n",
       "5                              Spider-Man 3                       46055  ...   \n",
       "\n",
       "  Music Musical  Mystery News  Romance  Sci-Fi  Sport  Thriller War  Western  \n",
       "0     0       0        0    0        0       1      0         0   0        0  \n",
       "1     0       0        0    0        0       0      0         0   0        0  \n",
       "3     0       0        0    0        0       0      0         0   0        0  \n",
       "4     0       0        0    0        0       1      0         0   0        0  \n",
       "5     0       0        0    0        0       1      0         0   0        0  \n",
       "\n",
       "[5 rows x 56 columns]"
      ]
     },
     "execution_count": 1158,
     "metadata": {},
     "output_type": "execute_result"
    }
   ],
   "source": [
    "merged_df.head()"
   ]
  },
  {
   "cell_type": "code",
   "execution_count": 1134,
   "id": "64ed3b1e-77ce-4b4b-9503-d22dd1e66cf4",
   "metadata": {},
   "outputs": [
    {
     "data": {
      "text/plain": [
       "array(['Action', 'Adventure', 'Animation', 'Biography', 'Comedy', 'Crime',\n",
       "       'Documentary', 'Drama', 'Family', 'Fantasy', 'History', 'Horror',\n",
       "       'Music', 'Musical', 'Mystery', 'News', 'Romance', 'Sci-Fi',\n",
       "       'Sport', 'Thriller', 'War', 'Western'], dtype=object)"
      ]
     },
     "execution_count": 1134,
     "metadata": {},
     "output_type": "execute_result"
    }
   ],
   "source": [
    "genres"
   ]
  },
  {
   "cell_type": "code",
   "execution_count": 1135,
   "id": "7d1cea4f-bf6f-4df2-8f14-d2a676dd7a38",
   "metadata": {},
   "outputs": [],
   "source": [
    "def normalize(df, feature):\n",
    "    df[feature] = (df[feature]-df[feature].mean())/df[feature].std()\n",
    "    # return df[feature].mean(), df[feature].std()"
   ]
  },
  {
   "cell_type": "code",
   "execution_count": 1136,
   "id": "8226f6d9-f6e3-4e4b-b2dd-30b5e138b96d",
   "metadata": {},
   "outputs": [
    {
     "data": {
      "text/plain": [
       "1675"
      ]
     },
     "execution_count": 1136,
     "metadata": {},
     "output_type": "execute_result"
    }
   ],
   "source": [
    "len(merged_df)"
   ]
  },
  {
   "cell_type": "code",
   "execution_count": 1159,
   "id": "ce749750-f86b-427b-8c85-d9e7c2f8c604",
   "metadata": {},
   "outputs": [],
   "source": [
    "# normalize(merged_df, 'domestic')\n",
    "# normalize(merged_df, 'international')\n",
    "# normalize(merged_df, 'worldwide')\n",
    "# normalize(merged_df, 'gross')\n",
    "normalize(merged_df, 'cast_total_facebook_likes')\n",
    "normalize(merged_df, 'actor_1_facebook_likes')\n",
    "normalize(merged_df, 'budget_x')\n",
    "normalize(merged_df, 'actor_2_facebook_likes')\n",
    "normalize(merged_df, 'movie_facebook_likes')\n",
    "normalize(merged_df, 'director_facebook_likes')\n",
    "normalize(merged_df, 'actor_3_facebook_likes')"
   ]
  },
  {
   "cell_type": "code",
   "execution_count": 1160,
   "id": "be004e74-b9ec-42b6-9d47-92566afc6cfa",
   "metadata": {},
   "outputs": [],
   "source": [
    "normalize(merged_df, 'duration')"
   ]
  },
  {
   "cell_type": "code",
   "execution_count": 1171,
   "id": "95af73ef-4333-4ad6-919f-1a85266d1eed",
   "metadata": {},
   "outputs": [],
   "source": [
    "merged_df = merged_df.drop(['movie_year', 'movie_id', 'movie_title_x', 'num_user_for_reviews', 'plot_keywords'], axis=1)\n",
    "merged_df = merged_df.drop(['domestic', 'international'], axis=1)\n",
    "merged_df = merged_df.drop(['genre_2', 'genre_1', 'genre_3', 'genre_4'], axis=1)\n",
    "merged_df = merged_df.drop(['gross'], axis=1)\n",
    "merged_df = merged_df.drop(['imdb_score'], axis=1)"
   ]
  },
  {
   "cell_type": "code",
   "execution_count": 1163,
   "id": "f54900bb-4ee8-4114-99d9-b13d73c35bb6",
   "metadata": {},
   "outputs": [],
   "source": [
    "mean_rev, std_rev = df['worldwide'].mean(), df['worldwide'].std()\n",
    "normalize(merged_df, 'worldwide')"
   ]
  },
  {
   "cell_type": "code",
   "execution_count": 1112,
   "id": "6c85e261-3cc3-4d0d-95a1-1f3ec3a7f4ed",
   "metadata": {},
   "outputs": [],
   "source": [
    "# import seaborn as sns\n",
    "# sns.heatmap(merged_df.corr(), cmap='YlGnBu', annot=True, linewidths = 0.2);"
   ]
  },
  {
   "cell_type": "code",
   "execution_count": 1164,
   "id": "7791d28c-2035-4d9d-b2a9-78a0ae771293",
   "metadata": {},
   "outputs": [],
   "source": [
    "from sklearn import preprocessing\n",
    "def to_categorical(df, feature):\n",
    "    le = preprocessing.LabelEncoder()\n",
    "    le.fit(df[feature].unique())\n",
    "    feature_cat = le.transform(df[feature])\n",
    "    df.drop([feature], axis=1)\n",
    "    df[feature] = feature_cat\n",
    "    # return df"
   ]
  },
  {
   "cell_type": "code",
   "execution_count": 1165,
   "id": "3fe362ec-644e-4d21-9f9a-12df50221905",
   "metadata": {},
   "outputs": [],
   "source": [
    "to_categorical(merged_df, 'director')\n",
    "to_categorical(merged_df, 'writer')\n",
    "to_categorical(merged_df, 'producer')\n",
    "to_categorical(merged_df, 'composer')\n",
    "to_categorical(merged_df, 'cinematographer')\n",
    "to_categorical(merged_df, 'main_actor_4')\n",
    "to_categorical(merged_df, 'actor_2_name')\n",
    "to_categorical(merged_df, 'actor_1_name')\n",
    "to_categorical(merged_df, 'actor_3_name')\n",
    "to_categorical(merged_df, 'mpaa')\n",
    "to_categorical(merged_df, 'color')\n",
    "to_categorical(merged_df, 'language')"
   ]
  },
  {
   "cell_type": "code",
   "execution_count": 1174,
   "id": "cf1c6fa7-e5cc-4970-8908-c3df33b6a6c2",
   "metadata": {},
   "outputs": [],
   "source": [
    "merged_df.dropna(inplace=True)"
   ]
  },
  {
   "cell_type": "code",
   "execution_count": 1175,
   "id": "2f8717ac-249d-42cc-8385-3d5bf58c8e5d",
   "metadata": {},
   "outputs": [],
   "source": [
    "# drop_list = ['worldwide', 'cast_total_facebook_likes', 'actor_1_facebook_likes', 'budget_x', 'actor_2_facebook_likes', 'movie_facebook_likes', 'director_facebook_likes', 'actor_3_facebook_likes', 'worldwide_normalized']\n",
    "for i in drop_list:\n",
    "    x = merged_df.loc[:, merged_df.columns != 'worldwide']\n",
    "y = merged_df['worldwide']"
   ]
  },
  {
   "cell_type": "code",
   "execution_count": 1176,
   "id": "ecb5321b-c097-46aa-bf89-b7fcd5c35051",
   "metadata": {},
   "outputs": [
    {
     "data": {
      "text/html": [
       "<style>#sk-container-id-5 {color: black;background-color: white;}#sk-container-id-5 pre{padding: 0;}#sk-container-id-5 div.sk-toggleable {background-color: white;}#sk-container-id-5 label.sk-toggleable__label {cursor: pointer;display: block;width: 100%;margin-bottom: 0;padding: 0.3em;box-sizing: border-box;text-align: center;}#sk-container-id-5 label.sk-toggleable__label-arrow:before {content: \"▸\";float: left;margin-right: 0.25em;color: #696969;}#sk-container-id-5 label.sk-toggleable__label-arrow:hover:before {color: black;}#sk-container-id-5 div.sk-estimator:hover label.sk-toggleable__label-arrow:before {color: black;}#sk-container-id-5 div.sk-toggleable__content {max-height: 0;max-width: 0;overflow: hidden;text-align: left;background-color: #f0f8ff;}#sk-container-id-5 div.sk-toggleable__content pre {margin: 0.2em;color: black;border-radius: 0.25em;background-color: #f0f8ff;}#sk-container-id-5 input.sk-toggleable__control:checked~div.sk-toggleable__content {max-height: 200px;max-width: 100%;overflow: auto;}#sk-container-id-5 input.sk-toggleable__control:checked~label.sk-toggleable__label-arrow:before {content: \"▾\";}#sk-container-id-5 div.sk-estimator input.sk-toggleable__control:checked~label.sk-toggleable__label {background-color: #d4ebff;}#sk-container-id-5 div.sk-label input.sk-toggleable__control:checked~label.sk-toggleable__label {background-color: #d4ebff;}#sk-container-id-5 input.sk-hidden--visually {border: 0;clip: rect(1px 1px 1px 1px);clip: rect(1px, 1px, 1px, 1px);height: 1px;margin: -1px;overflow: hidden;padding: 0;position: absolute;width: 1px;}#sk-container-id-5 div.sk-estimator {font-family: monospace;background-color: #f0f8ff;border: 1px dotted black;border-radius: 0.25em;box-sizing: border-box;margin-bottom: 0.5em;}#sk-container-id-5 div.sk-estimator:hover {background-color: #d4ebff;}#sk-container-id-5 div.sk-parallel-item::after {content: \"\";width: 100%;border-bottom: 1px solid gray;flex-grow: 1;}#sk-container-id-5 div.sk-label:hover label.sk-toggleable__label {background-color: #d4ebff;}#sk-container-id-5 div.sk-serial::before {content: \"\";position: absolute;border-left: 1px solid gray;box-sizing: border-box;top: 0;bottom: 0;left: 50%;z-index: 0;}#sk-container-id-5 div.sk-serial {display: flex;flex-direction: column;align-items: center;background-color: white;padding-right: 0.2em;padding-left: 0.2em;position: relative;}#sk-container-id-5 div.sk-item {position: relative;z-index: 1;}#sk-container-id-5 div.sk-parallel {display: flex;align-items: stretch;justify-content: center;background-color: white;position: relative;}#sk-container-id-5 div.sk-item::before, #sk-container-id-5 div.sk-parallel-item::before {content: \"\";position: absolute;border-left: 1px solid gray;box-sizing: border-box;top: 0;bottom: 0;left: 50%;z-index: -1;}#sk-container-id-5 div.sk-parallel-item {display: flex;flex-direction: column;z-index: 1;position: relative;background-color: white;}#sk-container-id-5 div.sk-parallel-item:first-child::after {align-self: flex-end;width: 50%;}#sk-container-id-5 div.sk-parallel-item:last-child::after {align-self: flex-start;width: 50%;}#sk-container-id-5 div.sk-parallel-item:only-child::after {width: 0;}#sk-container-id-5 div.sk-dashed-wrapped {border: 1px dashed gray;margin: 0 0.4em 0.5em 0.4em;box-sizing: border-box;padding-bottom: 0.4em;background-color: white;}#sk-container-id-5 div.sk-label label {font-family: monospace;font-weight: bold;display: inline-block;line-height: 1.2em;}#sk-container-id-5 div.sk-label-container {text-align: center;}#sk-container-id-5 div.sk-container {/* jupyter's `normalize.less` sets `[hidden] { display: none; }` but bootstrap.min.css set `[hidden] { display: none !important; }` so we also need the `!important` here to be able to override the default hidden behavior on the sphinx rendered scikit-learn.org. See: https://github.com/scikit-learn/scikit-learn/issues/21755 */display: inline-block !important;position: relative;}#sk-container-id-5 div.sk-text-repr-fallback {display: none;}</style><div id=\"sk-container-id-5\" class=\"sk-top-container\"><div class=\"sk-text-repr-fallback\"><pre>LinearRegression()</pre><b>In a Jupyter environment, please rerun this cell to show the HTML representation or trust the notebook. <br />On GitHub, the HTML representation is unable to render, please try loading this page with nbviewer.org.</b></div><div class=\"sk-container\" hidden><div class=\"sk-item\"><div class=\"sk-estimator sk-toggleable\"><input class=\"sk-toggleable__control sk-hidden--visually\" id=\"sk-estimator-id-5\" type=\"checkbox\" checked><label for=\"sk-estimator-id-5\" class=\"sk-toggleable__label sk-toggleable__label-arrow\">LinearRegression</label><div class=\"sk-toggleable__content\"><pre>LinearRegression()</pre></div></div></div></div></div>"
      ],
      "text/plain": [
       "LinearRegression()"
      ]
     },
     "execution_count": 1176,
     "metadata": {},
     "output_type": "execute_result"
    }
   ],
   "source": [
    "from sklearn.model_selection import train_test_split\n",
    "from sklearn.linear_model import LinearRegression\n",
    "x_train, x_test, y_train, y_test = train_test_split(x, y, test_size = 0.3, random_state = 100)\n",
    "mlr = LinearRegression()  \n",
    "mlr.fit(x_train, y_train)"
   ]
  },
  {
   "cell_type": "code",
   "execution_count": 1181,
   "id": "46aff388-a4c6-48ae-b0cd-a126b3e5f5f2",
   "metadata": {
    "tags": []
   },
   "outputs": [
    {
     "name": "stdout",
     "output_type": "stream",
     "text": [
      "Prediction for test set: [-6.96514927e-01 -6.11727579e-01 -2.61289544e-01 -9.12192917e-01\n",
      " -1.00485243e-01  1.78581161e-01  4.88628671e-01 -5.35927172e-01\n",
      " -6.27946929e-01  1.20016144e-01  3.80196403e-01 -4.35102026e-01\n",
      "  7.02897727e-01 -4.72791340e-01 -5.52926918e-01  1.13555730e-01\n",
      " -2.00950921e-01 -8.87577828e-01  1.06416713e+00 -1.61814650e-01\n",
      "  1.13934101e+00 -1.95538097e-01  1.48752574e+00 -4.34541278e-01\n",
      " -7.48291675e-01  3.19910588e-01  7.81226746e-02  7.98576267e-01\n",
      " -6.68581099e-02 -4.76772529e-02 -2.24040556e-01 -5.87181889e-01\n",
      " -5.94186007e-01  1.29119219e-01  4.22471435e-01  1.96506772e+00\n",
      " -2.96849559e-01 -5.05573498e-01  1.65053224e-02  7.83034035e-02\n",
      " -4.02265699e-01 -6.05491283e-01 -1.93868860e-01  9.20053317e-01\n",
      "  2.89817062e-01 -2.84660024e-02 -6.30826500e-01  4.46826524e-01\n",
      "  8.17296721e-01  1.04620371e-01  1.37514497e+00  1.82275576e-01\n",
      "  3.97269583e-01  2.76327495e+00  1.97339317e-01 -3.43991343e-01\n",
      "  6.29755145e-01 -7.48432787e-01  4.98101467e-01  6.96634245e-01\n",
      " -2.59102990e-01  2.16693484e-01 -7.15240732e-01 -1.95581243e-01\n",
      "  5.04677321e-01 -6.59446527e-01  4.05422930e-01 -1.11762509e+00\n",
      " -6.10158865e-01  7.14085687e-01  6.54509430e-01 -6.02046059e-01\n",
      " -5.14486258e-01 -7.94133013e-01 -2.86499588e-01 -3.34807378e-01\n",
      " -4.50940806e-01  8.88568616e-01 -2.04697990e-01  1.60294384e+00\n",
      "  3.19110933e-01  6.67219895e-01  1.64607596e-01  3.08694566e+00\n",
      " -7.35097123e-01 -5.78512971e-01 -6.90446596e-01  1.41739933e-02\n",
      " -3.71250144e-01 -7.83963693e-01 -7.31240908e-02 -5.06336701e-01\n",
      "  6.39799580e-01  1.99136888e-01 -2.84966298e-01  1.60751336e-01\n",
      "  1.63274498e+00 -6.02660073e-01  2.04941227e+00 -8.84416264e-01\n",
      " -4.96785156e-01  1.04949165e+00 -4.22191354e-01 -7.97703022e-01\n",
      "  6.05292081e-01 -4.65041939e-01  1.59556076e-01  7.69811779e-01\n",
      " -5.46341378e-01 -3.58909878e-01  1.28096693e+00 -5.85941505e-01\n",
      "  6.22587069e-02 -8.25325510e-01 -6.11287377e-01 -3.37197365e-01\n",
      " -5.31158525e-01  8.34695179e-01 -5.99771370e-01  1.76574069e+00\n",
      " -1.17424413e-01 -6.12590248e-01 -5.57929996e-01  6.08238076e-01\n",
      " -4.98437216e-01 -4.72426579e-01  1.09018857e+00 -6.66768677e-01\n",
      "  1.09533911e+00 -2.13131862e-01 -3.72696142e-01 -5.65555511e-01\n",
      "  8.79991941e-01 -5.41666182e-01  1.02734297e-01 -1.91882149e-01\n",
      "  4.29154017e-01 -7.66403977e-01 -2.52676929e-01 -2.46472471e-01\n",
      " -3.04744920e-01 -4.43289206e-01 -2.18300979e-02  1.05387639e-01\n",
      " -3.05282974e-01  6.00992947e-02 -1.58483096e-01 -2.35490144e-01\n",
      " -6.38238544e-01  5.76831434e-01 -3.78003901e-01 -3.75420065e-01\n",
      " -6.89894858e-01  3.21689119e-01 -3.48876130e-01  1.13594007e-01\n",
      " -7.09899148e-02  9.52614031e-01  3.31287148e-01  7.25797765e-01\n",
      " -2.61178167e-01 -1.81371515e-01 -4.53045529e-01 -2.56829807e-02\n",
      "  5.91305587e-02  2.79770030e-01 -8.64350790e-01 -9.13927599e-01\n",
      "  5.21733502e-01  2.28497452e+00 -4.01062630e-02 -7.53624772e-01\n",
      " -3.59437192e-01 -4.87935816e-01 -3.28632031e-01 -5.28906922e-01\n",
      "  5.73531069e-01 -1.36862148e-01 -2.57438039e-01 -8.48597240e-01\n",
      " -1.26230669e-03 -6.90446596e-01 -7.72141045e-01  6.75681997e-01\n",
      " -1.42545728e-01  2.72229306e-01  1.51765142e+00  2.76327495e+00\n",
      "  1.22260093e+00  1.77445927e+00 -3.41411532e-01 -3.55366916e-01\n",
      "  1.11888293e+00 -2.58839726e-01 -9.21966785e-02  2.09261865e-01\n",
      " -1.80981263e-01 -7.32024744e-01  2.09273936e-01 -1.93022109e-01\n",
      "  2.62518909e-01 -6.31146365e-01 -7.34298432e-01  1.89188353e-01\n",
      "  9.23018974e-01  5.40218038e-01 -2.43200594e-01 -2.84267967e-01\n",
      " -4.64856333e-01 -1.04836413e-01 -7.32160825e-01 -4.26448889e-02\n",
      " -4.45745275e-01 -4.03409073e-01 -6.78009771e-01  1.44065663e+00\n",
      "  1.21346700e+00 -3.53804489e-01 -1.44831480e-01 -8.05874480e-01\n",
      "  5.77664143e-01 -1.94952545e-01 -5.10817734e-01  6.76368665e-02\n",
      " -6.51827378e-01  5.12422700e-01  2.14576162e-01 -2.75220500e-01\n",
      "  1.08164836e+00 -6.34267275e-01 -2.20775681e-01 -2.57946327e-01\n",
      "  1.12267781e+00 -5.65725284e-01  2.36485736e+00 -5.20046084e-01\n",
      " -1.13739780e-01  3.96992048e-01 -4.94880211e-01 -6.64731777e-01\n",
      " -2.14422967e-02 -6.28737081e-02  1.17891477e+00 -2.14088810e-01\n",
      " -6.38068424e-01 -5.13664232e-01  2.57603496e+00 -3.47799633e-01\n",
      "  1.68953988e+00  4.71019965e-01  4.96138806e-01 -2.07411524e-01\n",
      "  1.31374310e+00  3.95246975e+00  3.22133673e-01 -5.10440022e-01\n",
      " -8.31781198e-01  5.28595792e-01 -7.24780332e-01 -2.15172995e-01\n",
      " -2.44189058e-01 -8.24494890e-02  4.95816605e-02 -4.77648264e-01\n",
      "  3.93640505e-01 -4.74860041e-01  2.34526004e-01 -1.55553620e-02\n",
      " -5.81506032e-01 -2.15999857e-01 -1.74736173e-01 -3.30998283e-01\n",
      "  1.42545849e+00 -6.09942232e-01 -7.93334536e-01  1.03557769e-01\n",
      " -9.17689177e-01 -1.66263149e-01 -4.13667668e-01 -2.86963932e-01\n",
      " -3.10508688e-01  1.31722086e+00  1.19668383e+00 -1.48024378e-01\n",
      "  1.27167705e+00  6.32194956e-01 -5.11268790e-01 -6.69584817e-01\n",
      "  2.30380504e+00 -2.04244885e-04 -5.29966394e-01 -5.14743304e-01\n",
      " -4.25702919e-01  6.70862503e-01  1.96262133e+00 -1.11337108e-01\n",
      " -3.88763412e-01  2.11117915e+00  3.07796032e-01 -4.08121189e-01\n",
      " -2.99616404e-01  1.48698922e-01 -3.78414857e-01 -6.81490397e-01\n",
      " -2.22841166e-01  9.76173300e-01  1.64083652e+00  3.84710561e-01\n",
      " -4.26357373e-01 -3.16328294e-01 -7.55825461e-01 -3.90922050e-01\n",
      "  1.62765023e+00  1.29359763e-01 -4.17995494e-01 -3.89896566e-01\n",
      " -1.44364971e-01 -4.50087661e-01 -6.33546718e-01  1.63981369e-01\n",
      " -5.59859929e-01 -5.31548210e-01  4.34191546e-01 -4.96782471e-01\n",
      "  3.13174648e-01  2.05533540e+00 -4.80884417e-01 -5.03440191e-01\n",
      " -4.36602321e-01 -1.09316255e+00 -2.90908768e-01 -8.34682807e-01\n",
      "  2.48134272e-01  1.31563664e+00  1.06796400e-01 -1.71290117e-01\n",
      " -3.87618013e-01 -1.44170859e-01 -3.07352432e-01 -2.42203989e-01\n",
      " -2.64658570e-01 -3.46415914e-01 -3.91264818e-01 -1.00644383e-01\n",
      "  5.79480125e-01  1.21537370e+00 -1.28278295e-01 -4.90305852e-02\n",
      " -6.73275827e-01 -5.69556231e-01 -5.08531014e-01  8.56763948e-01\n",
      " -6.64690717e-01 -4.22575541e-01 -6.42788446e-01 -5.92809834e-01\n",
      " -2.02782883e-01 -8.57596659e-01  4.42160123e-01 -5.50796832e-01\n",
      "  9.00533561e-01  1.50840893e-01 -5.75223107e-01 -1.93629639e-01\n",
      " -4.94447861e-01 -7.03074463e-01 -1.73304766e-01 -1.30030030e-01\n",
      " -2.79040711e-01 -3.40327750e-01 -1.34693612e-01 -7.19289273e-01\n",
      " -4.22800255e-01 -5.16551083e-01  4.63080227e-02 -4.85470973e-01\n",
      " -5.14316255e-01 -1.86711462e-01  8.36050489e-01 -2.93332672e-01\n",
      "  4.87570794e-02 -6.60984418e-01  5.03152332e-01 -8.94413413e-02\n",
      " -4.74262518e-01 -4.30063628e-01 -5.91534015e-01  5.50757013e-01\n",
      "  7.22392941e-01  1.07186515e-01 -5.45066411e-01 -2.78843399e-01\n",
      "  1.40273904e+00 -3.57643423e-01 -5.42347670e-01  1.32299803e-01\n",
      "  5.08332442e-01 -7.68532691e-01 -5.40170587e-01 -2.09951034e-01\n",
      " -3.27075404e-01  1.27911761e+00  2.32431901e+00 -4.94205550e-01\n",
      " -5.73815909e-01  4.36265360e-01 -7.72244346e-01 -3.34797873e-01\n",
      "  1.89317745e+00 -2.85350105e-01 -5.21335585e-01 -4.68752315e-01\n",
      " -3.05282974e-01 -4.27330303e-01  2.09497142e+00 -4.77447123e-01\n",
      "  5.81522607e-01 -3.49188491e-01  1.47715234e+00 -6.55176740e-01\n",
      " -5.22372424e-01 -1.49983986e-01 -4.75579082e-01 -1.57651208e-01\n",
      "  1.85093225e+00 -4.63428789e-01 -5.17902938e-01 -6.69200939e-01\n",
      " -2.22206665e-01 -8.30512587e-01  7.88783713e-01 -6.04575786e-01\n",
      " -3.99861339e-01 -3.69161549e-01 -5.29451137e-01 -1.68124776e-01\n",
      " -2.26860075e-01 -2.56906019e-01 -3.07913293e-01 -8.84677812e-01\n",
      " -3.52122969e-01  4.14559439e-01 -3.24578225e-01  2.20687323e+00\n",
      "  4.88859386e-01 -4.98073944e-01 -7.64739901e-01 -3.90546407e-01\n",
      "  2.11281694e-01 -6.24661984e-01  1.90857452e+00  2.46748263e-02\n",
      "  5.94259102e-01 -9.12947573e-01 -3.69366970e-01 -6.71103533e-01\n",
      " -5.92232026e-01  1.95943124e+00 -3.22421350e-01  1.39907752e+00\n",
      "  2.63354712e+00 -7.40998108e-01 -5.81075495e-01 -3.34083889e-01\n",
      " -3.71080472e-01  1.88058591e+00 -1.68613452e-01  1.91336667e-01\n",
      " -5.79683857e-01  7.85009137e-01  9.59965580e-01  1.40589599e+00\n",
      " -3.28195228e-01  9.85285431e-01 -2.72451282e-01 -1.74460860e-01\n",
      " -3.62915048e-01 -5.99903586e-01 -6.17482632e-01 -1.51353078e-01\n",
      " -2.06736780e-01 -5.01340862e-01 -5.33850858e-01  9.12241088e-01\n",
      " -3.11795181e-01  2.49774898e+00 -3.42550784e-01 -3.61093809e-01\n",
      "  6.64293925e-01 -8.57493199e-01 -4.30162517e-01  1.36104100e+00\n",
      "  5.23559928e-01 -4.35508402e-01 -7.43751955e-01]\n"
     ]
    }
   ],
   "source": [
    "#Prediction of test set\n",
    "y_pred_mlr= mlr.predict(x_test)\n",
    "#Predicted values\n",
    "print(\"Prediction for test set: {}\".format(y_pred_mlr))"
   ]
  },
  {
   "cell_type": "code",
   "execution_count": 1182,
   "id": "025e6775-dda3-448e-9502-97065eef2ffc",
   "metadata": {},
   "outputs": [
    {
     "name": "stdout",
     "output_type": "stream",
     "text": [
      "R squared: 64.64\n",
      "Mean Absolute Error: 0.37663412903469595\n",
      "Mean Square Error: 0.35383159106835627\n",
      "Root Mean Square Error: 0.5948374492820339\n"
     ]
    }
   ],
   "source": [
    "from sklearn import metrics\n",
    "meanAbErr = metrics.mean_absolute_error(y_test, y_pred_mlr)\n",
    "meanSqErr = metrics.mean_squared_error(y_test, y_pred_mlr)\n",
    "rootMeanSqErr = np.sqrt(metrics.mean_squared_error(y_test, y_pred_mlr))\n",
    "print('R squared: {:.2f}'.format(mlr.score(x,y)*100))\n",
    "print('Mean Absolute Error:', meanAbErr)\n",
    "print('Mean Square Error:', meanSqErr)\n",
    "print('Root Mean Square Error:', rootMeanSqErr)"
   ]
  },
  {
   "cell_type": "code",
   "execution_count": 1183,
   "id": "18d2b050-334a-42fb-b793-dba075b8e2a8",
   "metadata": {},
   "outputs": [
    {
     "data": {
      "text/html": [
       "<div>\n",
       "<style scoped>\n",
       "    .dataframe tbody tr th:only-of-type {\n",
       "        vertical-align: middle;\n",
       "    }\n",
       "\n",
       "    .dataframe tbody tr th {\n",
       "        vertical-align: top;\n",
       "    }\n",
       "\n",
       "    .dataframe thead th {\n",
       "        text-align: right;\n",
       "    }\n",
       "</style>\n",
       "<table border=\"1\" class=\"dataframe\">\n",
       "  <thead>\n",
       "    <tr style=\"text-align: right;\">\n",
       "      <th></th>\n",
       "      <th>Actual value</th>\n",
       "      <th>Predicted value</th>\n",
       "    </tr>\n",
       "  </thead>\n",
       "  <tbody>\n",
       "    <tr>\n",
       "      <th>1835</th>\n",
       "      <td>-0.709269</td>\n",
       "      <td>-0.696515</td>\n",
       "    </tr>\n",
       "    <tr>\n",
       "      <th>1799</th>\n",
       "      <td>-0.370525</td>\n",
       "      <td>-0.611728</td>\n",
       "    </tr>\n",
       "    <tr>\n",
       "      <th>1031</th>\n",
       "      <td>-0.046411</td>\n",
       "      <td>-0.261290</td>\n",
       "    </tr>\n",
       "    <tr>\n",
       "      <th>1960</th>\n",
       "      <td>-0.577758</td>\n",
       "      <td>-0.912193</td>\n",
       "    </tr>\n",
       "    <tr>\n",
       "      <th>1234</th>\n",
       "      <td>-0.477775</td>\n",
       "      <td>-0.100485</td>\n",
       "    </tr>\n",
       "  </tbody>\n",
       "</table>\n",
       "</div>"
      ],
      "text/plain": [
       "      Actual value  Predicted value\n",
       "1835     -0.709269        -0.696515\n",
       "1799     -0.370525        -0.611728\n",
       "1031     -0.046411        -0.261290\n",
       "1960     -0.577758        -0.912193\n",
       "1234     -0.477775        -0.100485"
      ]
     },
     "execution_count": 1183,
     "metadata": {},
     "output_type": "execute_result"
    }
   ],
   "source": [
    "mlr_diff = pd.DataFrame({'Actual value': y_test, 'Predicted value': y_pred_mlr})\n",
    "mlr_diff.head()"
   ]
  },
  {
   "cell_type": "code",
   "execution_count": 937,
   "id": "9fc667c8-cb1a-4224-a75a-8447f854da21",
   "metadata": {},
   "outputs": [
    {
     "data": {
      "text/plain": [
       "195333821.53679413"
      ]
     },
     "execution_count": 937,
     "metadata": {},
     "output_type": "execute_result"
    }
   ],
   "source": [
    "merged_df['worldwide'].mean()"
   ]
  }
 ],
 "metadata": {
  "kernelspec": {
   "display_name": "Python 3 (ipykernel)",
   "language": "python",
   "name": "python3"
  },
  "language_info": {
   "codemirror_mode": {
    "name": "ipython",
    "version": 3
   },
   "file_extension": ".py",
   "mimetype": "text/x-python",
   "name": "python",
   "nbconvert_exporter": "python",
   "pygments_lexer": "ipython3",
   "version": "3.9.15"
  }
 },
 "nbformat": 4,
 "nbformat_minor": 5
}
