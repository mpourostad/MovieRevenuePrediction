{
 "cells": [
  {
   "cell_type": "code",
   "execution_count": 20,
   "id": "f3876870",
   "metadata": {},
   "outputs": [],
   "source": [
    "import pandas as pd\n",
    "import numpy as np\n",
    "data = pd.read_csv(\"./cleaned_dataset.csv\")"
   ]
  },
  {
   "cell_type": "code",
   "execution_count": 21,
   "id": "ad242be4",
   "metadata": {},
   "outputs": [],
   "source": [
    "from sklearn.feature_selection import SelectKBest, chi2, f_classif, mutual_info_classif"
   ]
  },
  {
   "cell_type": "code",
   "execution_count": 22,
   "id": "8f1b25e3",
   "metadata": {},
   "outputs": [],
   "source": [
    "target = 'worldwide'\n",
    "# Separate features and target\n",
    "X = data.drop(target, axis=1)\n",
    "y = data[target]"
   ]
  },
  {
   "cell_type": "code",
   "execution_count": 32,
   "id": "63b73e24",
   "metadata": {},
   "outputs": [],
   "source": [
    "from sklearn.ensemble import RandomForestRegressor\n",
    "\n",
    "def selection_top_K_rf(k):\n",
    "    # Train a Random Forest model\n",
    "    rf = RandomForestRegressor(n_estimators=100, random_state=42)\n",
    "    rf.fit(X, y)\n",
    "\n",
    "    # Get feature importances and sort them in descending order\n",
    "    feature_importances = pd.Series(rf.feature_importances_, index=X.columns)\n",
    "    feature_importances = feature_importances.sort_values(ascending=False)\n",
    "    print(\"Ranked features:\\n\", feature_importances)\n",
    "\n",
    "    selected_features = feature_importances.nlargest(k).index\n",
    "\n",
    "    # Print the selected features\n",
    "#     print(\"\\nSelected features:\", list(selected_features))\n",
    "    return X[list(selected_features)]\n",
    "    "
   ]
  },
  {
   "cell_type": "code",
   "execution_count": 43,
   "id": "6239ea03",
   "metadata": {},
   "outputs": [
    {
     "name": "stdout",
     "output_type": "stream",
     "text": [
      "Ranked features:\n",
      " budget_x                     0.476234\n",
      "duration                     0.071018\n",
      "movie_facebook_likes         0.070424\n",
      "actor_3_name                 0.042093\n",
      "actor_3_facebook_likes       0.036529\n",
      "producer                     0.030277\n",
      "cinematographer              0.028529\n",
      "actor_1_name                 0.028055\n",
      "cast_total_facebook_likes    0.025967\n",
      "actor_2_facebook_likes       0.025862\n",
      "main_actor_4                 0.021417\n",
      "writer                       0.019563\n",
      "director                     0.018828\n",
      "composer                     0.018310\n",
      "director_facebook_likes      0.017571\n",
      "actor_1_facebook_likes       0.016109\n",
      "actor_2_name                 0.013525\n",
      "Adventure                    0.006817\n",
      "Animation                    0.005679\n",
      "mpaa                         0.005630\n",
      "Drama                        0.003083\n",
      "Fantasy                      0.003001\n",
      "Sci-Fi                       0.002302\n",
      "Musical                      0.002086\n",
      "Action                       0.001997\n",
      "Comedy                       0.001810\n",
      "Thriller                     0.001540\n",
      "Mystery                      0.000994\n",
      "Romance                      0.000968\n",
      "Family                       0.000965\n",
      "Crime                        0.000872\n",
      "Biography                    0.000502\n",
      "Music                        0.000331\n",
      "History                      0.000239\n",
      "color                        0.000237\n",
      "Horror                       0.000178\n",
      "War                          0.000163\n",
      "Sport                        0.000157\n",
      "Western                      0.000123\n",
      "language                     0.000013\n",
      "dtype: float64\n"
     ]
    }
   ],
   "source": [
    "df_filtered_top_k = selection_top_K_rf(20)\n",
    "df_filtered_top_k.to_csv('movie_top_20_features_random_forest.csv')"
   ]
  },
  {
   "cell_type": "code",
   "execution_count": 36,
   "id": "dffde780",
   "metadata": {},
   "outputs": [],
   "source": [
    "## FORWARD SELECTION\n",
    "from sklearn.linear_model import LinearRegression\n",
    "from sklearn.model_selection import cross_val_score\n",
    "\n",
    "def forward_selection(k):\n",
    "    # Forward selection\n",
    "#     k = 3  # Number of features to select\n",
    "    selected_features = []\n",
    "    remaining_features = list(X.columns)\n",
    "    best_score = -np.inf\n",
    "\n",
    "    for i in range(k):\n",
    "        scores = []\n",
    "        for feature in remaining_features:\n",
    "            candidate_features = selected_features + [feature]\n",
    "            model = LinearRegression()\n",
    "            score = np.mean(cross_val_score(model, X[candidate_features], y, cv=5))\n",
    "            scores.append((score, feature))\n",
    "\n",
    "        max_score, best_feature = max(scores, key=lambda x: x[0])\n",
    "        if max_score > best_score:\n",
    "            best_score = max_score\n",
    "            selected_features.append(best_feature)\n",
    "            remaining_features.remove(best_feature)\n",
    "        else:\n",
    "            break\n",
    "    print(selected_features)\n",
    "    return X[list(selected_features)]\n",
    "\n"
   ]
  },
  {
   "cell_type": "code",
   "execution_count": 45,
   "id": "0570f295",
   "metadata": {},
   "outputs": [
    {
     "name": "stdout",
     "output_type": "stream",
     "text": [
      "['budget_x', 'movie_facebook_likes', 'War', 'actor_3_facebook_likes', 'Drama', 'Action', 'cast_total_facebook_likes', 'cinematographer', 'mpaa', 'composer']\n"
     ]
    }
   ],
   "source": [
    "forward_selection_top_k = forward_selection(20)\n",
    "forward_selection_top_k.to_csv('movie_top_20_features_forward_selection.csv')"
   ]
  },
  {
   "cell_type": "code",
   "execution_count": 69,
   "id": "ffa06839",
   "metadata": {},
   "outputs": [],
   "source": [
    "## PCA feature extraction\n",
    "from sklearn.decomposition import PCA\n",
    "from sklearn.preprocessing import StandardScaler\n",
    "\n",
    "def PCA_topk(k):\n",
    "\n",
    "    scaler = StandardScaler()\n",
    "    X_scaled = scaler.fit_transform(X)\n",
    "    # Apply PCA\n",
    "    pca = PCA(n_components=k)\n",
    "    X_pca = pca.fit_transform(X_scaled)\n",
    "\n",
    "    # Print the explained variance ratio\n",
    "    print(\"Explained variance ratio:\", pca.explained_variance_ratio_)\n",
    "    print(\"Total pca explained variance ratio: \" + str(np.sum(pca.explained_variance_ratio_)))\n",
    "\n",
    "    # Convert the PCA features to a DataFrame\n",
    "    X_pca_df = pd.DataFrame(X_pca, columns=[f'PC{i+1}' for i in range(k)])\n",
    "    print(\"\\nPCA features:\\n\", X_pca_df)\n",
    "    return X_pca_df\n",
    "\n",
    "\n",
    "def select_n_components_pca(X, min_explained_variance=0.95, max_n_components=None):\n",
    "    scaler = StandardScaler()\n",
    "    X_scaled = scaler.fit_transform(X)\n",
    "    \n",
    "    if max_n_components is None:\n",
    "        max_n_components = X_scaled.shape[1]\n",
    "    \n",
    "    for n_components in range(1, max_n_components + 1):\n",
    "        pca = PCA(n_components=n_components)\n",
    "        pca.fit(X_scaled)\n",
    "        explained_variance = np.sum(pca.explained_variance_ratio_)\n",
    "#         print(\"Total pca explained variance ratio: \" + str(explained_variance))\n",
    "        \n",
    "        if explained_variance >= min_explained_variance:\n",
    "            \n",
    "            return n_components\n",
    "    return max_n_components"
   ]
  },
  {
   "cell_type": "code",
   "execution_count": 72,
   "id": "490fc198",
   "metadata": {},
   "outputs": [
    {
     "name": "stdout",
     "output_type": "stream",
     "text": [
      "Best number of n_components: 33\n",
      "\n",
      "\n",
      "Explained variance ratio: [0.09358793 0.08381232 0.06170242 0.05281869 0.03921347 0.0353663\n",
      " 0.03314483 0.032474   0.03113107 0.02925178 0.027917   0.0277049\n",
      " 0.02696581 0.02682506 0.02573544 0.0252641  0.0246973  0.02424298\n",
      " 0.02264085 0.02109007 0.02057138 0.02009106 0.01994568 0.01772651\n",
      " 0.01712843 0.01686927 0.01619037 0.01581269 0.01464657 0.01298353\n",
      " 0.01273594 0.01191182 0.01155672]\n",
      "Total pca explained variance ratio: 0.9537563073611698\n",
      "\n",
      "PCA features:\n",
      "           PC1       PC2       PC3       PC4       PC5       PC6       PC7  \\\n",
      "0    1.814842  1.776478 -2.891774 -2.799604 -1.493521  1.412760  0.232862   \n",
      "1    3.724712  2.340243 -0.790350 -1.615667 -0.526416 -0.176052  1.678845   \n",
      "2    9.408334  2.102616  2.533374 -0.863711  0.556569  1.349779 -1.737072   \n",
      "3    1.186898  1.670752 -3.033047 -2.242103 -1.663696  0.977912 -1.182994   \n",
      "4    3.528630  1.281801 -1.179892 -1.015578 -0.856827 -0.205374  0.927110   \n",
      "..        ...       ...       ...       ...       ...       ...       ...   \n",
      "815 -2.563077  2.277167  2.010377  0.258360 -0.061281  0.360622  0.238077   \n",
      "816 -2.300551  3.755774  0.913287  0.807982  2.186793 -0.729147  0.734634   \n",
      "817 -0.076722 -3.681954 -0.332115  1.076589  2.182065  2.583157 -1.059988   \n",
      "818  0.816895 -1.554817  2.752542 -1.092793  1.827451  0.679923 -2.865271   \n",
      "819  0.496884 -0.924278  2.035745  0.173967 -0.771272  0.063128 -0.400543   \n",
      "\n",
      "          PC8       PC9      PC10  ...      PC24      PC25      PC26  \\\n",
      "0    0.333134 -0.182829  0.254491  ... -0.999619  1.349466 -0.035349   \n",
      "1   -0.399937  1.130080 -0.976439  ... -1.609033  1.744537  1.236664   \n",
      "2    2.214031 -1.466273  1.728358  ...  0.987349  0.022515 -2.083486   \n",
      "3    0.122557 -1.073237 -1.044393  ... -1.292965  0.966291  0.472051   \n",
      "4    0.595637  1.188910  0.396595  ... -2.926895  0.461777  0.579198   \n",
      "..        ...       ...       ...  ...       ...       ...       ...   \n",
      "815  0.243423 -0.419435  0.470969  ... -0.822896  0.827882  0.633632   \n",
      "816 -0.628949  0.015170  2.139675  ...  1.102574 -1.053852  0.509040   \n",
      "817  2.026381 -1.938912 -0.139982  ... -0.496026  0.744806 -0.907516   \n",
      "818  0.560044 -0.028965  1.701489  ... -1.813714 -0.144576 -0.184955   \n",
      "819  0.613579  0.653179 -0.736342  ... -0.049718 -1.125544  1.074849   \n",
      "\n",
      "         PC27      PC28      PC29      PC30      PC31      PC32      PC33  \n",
      "0   -1.287737 -0.013296  0.188212  0.599416 -0.866149 -0.631800 -0.258000  \n",
      "1   -2.114242 -1.451853 -0.854656  0.464769 -0.438386  0.160784 -0.777362  \n",
      "2    0.153141  0.205190 -1.620857 -2.229606 -1.314104  0.912105 -0.116326  \n",
      "3   -0.327875 -0.013328 -0.032080  0.030528 -0.388294 -0.804635 -0.081876  \n",
      "4   -0.754321  0.881332  0.247556 -0.076053 -1.582214 -0.815852  0.013366  \n",
      "..        ...       ...       ...       ...       ...       ...       ...  \n",
      "815  1.253374  0.524870  0.400114  1.130213 -0.905404  1.228022  1.603567  \n",
      "816 -0.538893  0.304899 -0.539961 -0.968854 -0.002025  0.366627  0.254629  \n",
      "817  0.276677 -1.777138  0.023343 -0.229603  0.391637 -0.394778 -0.048471  \n",
      "818  0.844708 -0.995539 -2.163378 -0.019478  1.703241 -1.028111  0.695197  \n",
      "819 -0.431803 -0.048899  0.550156  0.695075  1.161786  0.759829  1.020020  \n",
      "\n",
      "[820 rows x 33 columns]\n"
     ]
    }
   ],
   "source": [
    "print(\"Best number of n_components: \" + str(select_n_components_pca(X)) + \"\\n\\n\")\n",
    "\n",
    "X_pca_df = PCA_topk(33)\n",
    "\n",
    "X_pca_df.to_csv(\"movie_33_features_PCA.csv\")"
   ]
  },
  {
   "cell_type": "code",
   "execution_count": null,
   "id": "db88ab09",
   "metadata": {},
   "outputs": [],
   "source": []
  }
 ],
 "metadata": {
  "kernelspec": {
   "display_name": "Python 3",
   "language": "python",
   "name": "python3"
  },
  "language_info": {
   "codemirror_mode": {
    "name": "ipython",
    "version": 3
   },
   "file_extension": ".py",
   "mimetype": "text/x-python",
   "name": "python",
   "nbconvert_exporter": "python",
   "pygments_lexer": "ipython3",
   "version": "3.8.8"
  }
 },
 "nbformat": 4,
 "nbformat_minor": 5
}
