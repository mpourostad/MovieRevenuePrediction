{
 "cells": [
  {
   "cell_type": "code",
   "execution_count": 43,
   "id": "f3876870",
   "metadata": {},
   "outputs": [],
   "source": [
    "import pandas as pd\n",
    "import numpy as np\n",
    "data = pd.read_csv(\"./clean_data_movieYear.csv\")"
   ]
  },
  {
   "cell_type": "code",
   "execution_count": 44,
   "id": "ad242be4",
   "metadata": {},
   "outputs": [],
   "source": [
    "from sklearn.feature_selection import SelectKBest, chi2, f_classif, mutual_info_classif"
   ]
  },
  {
   "cell_type": "code",
   "execution_count": 45,
   "id": "8f1b25e3",
   "metadata": {},
   "outputs": [],
   "source": [
    "target = 'worldwide'\n",
    "# Separate features and target\n",
    "X = data.drop(target, axis=1)\n",
    "y = data[target]"
   ]
  },
  {
   "cell_type": "code",
   "execution_count": 41,
   "id": "63b73e24",
   "metadata": {},
   "outputs": [],
   "source": [
    "from sklearn.ensemble import RandomForestRegressor\n",
    "\n",
    "def selection_top_K_rf(k):\n",
    "    # Train a Random Forest model\n",
    "    rf = RandomForestRegressor(n_estimators=100, random_state=42)\n",
    "    rf.fit(X, y)\n",
    "\n",
    "    # Get feature importances and sort them in descending order\n",
    "    feature_importances = pd.Series(rf.feature_importances_, index=X.columns)\n",
    "    feature_importances = feature_importances.sort_values(ascending=False)\n",
    "    print(\"Ranked features:\\n\", feature_importances)\n",
    "\n",
    "    selected_features = feature_importances.nlargest(k).index\n",
    "\n",
    "    # Print the selected features\n",
    "#     print(\"\\nSelected features:\", list(selected_features))\n",
    "    return X[list(selected_features)]\n",
    "    "
   ]
  },
  {
   "cell_type": "code",
   "execution_count": 42,
   "id": "6239ea03",
   "metadata": {
    "tags": []
   },
   "outputs": [
    {
     "name": "stdout",
     "output_type": "stream",
     "text": [
      "Ranked features:\n",
      " budget_x                     5.014775e-01\n",
      "movie_facebook_likes         8.334132e-02\n",
      "producer                     4.552092e-02\n",
      "director                     3.607235e-02\n",
      "duration                     2.873918e-02\n",
      "composer                     2.750718e-02\n",
      "movie_year                   2.577489e-02\n",
      "cinematographer              2.526525e-02\n",
      "actor_1_name                 2.426645e-02\n",
      "director_facebook_likes      2.303906e-02\n",
      "cast_total_facebook_likes    2.178750e-02\n",
      "actor_2_facebook_likes       1.974810e-02\n",
      "writer                       1.798451e-02\n",
      "actor_3_facebook_likes       1.647799e-02\n",
      "actor_2_name                 1.445740e-02\n",
      "actor_1_facebook_likes       1.252528e-02\n",
      "actor_3_name                 1.199768e-02\n",
      "main_actor_4                 1.150857e-02\n",
      "Mystery                      4.265040e-03\n",
      "Horror                       4.176167e-03\n",
      "Drama                        3.975196e-03\n",
      "Biography                    3.860317e-03\n",
      "Thriller                     3.611810e-03\n",
      "Comedy                       3.578190e-03\n",
      "Romance                      3.130899e-03\n",
      "mpaa_R                       2.646291e-03\n",
      "History                      2.485324e-03\n",
      "Documentary                  1.917775e-03\n",
      "Music                        1.870248e-03\n",
      "Crime                        1.797747e-03\n",
      "Action                       1.674627e-03\n",
      "Adventure                    1.645485e-03\n",
      "Animation                    1.643415e-03\n",
      "mpaa_PG-13                   1.638204e-03\n",
      "Fantasy                      1.546750e-03\n",
      "War                          1.479114e-03\n",
      "mpaa_PG                      1.210613e-03\n",
      "Family                       1.169773e-03\n",
      "Sport                        1.083741e-03\n",
      "Sci-Fi                       9.987092e-04\n",
      "Western                      4.516512e-04\n",
      "Musical                      3.893646e-04\n",
      "mpaa_G                       2.623652e-04\n",
      "mpaa_NC-17                   5.504488e-08\n",
      "News                         0.000000e+00\n",
      "dtype: float64\n"
     ]
    },
    {
     "name": "stderr",
     "output_type": "stream",
     "text": [
      "/var/folders/bh/b3dbk3j96b72qw2kmjf9rqfw0000gn/T/ipykernel_64434/3194545307.py:2: SettingWithCopyWarning: \n",
      "A value is trying to be set on a copy of a slice from a DataFrame.\n",
      "Try using .loc[row_indexer,col_indexer] = value instead\n",
      "\n",
      "See the caveats in the documentation: https://pandas.pydata.org/pandas-docs/stable/user_guide/indexing.html#returning-a-view-versus-a-copy\n",
      "  df_filtered_top_k[target] = y\n"
     ]
    }
   ],
   "source": [
    "df_filtered_top_k = selection_top_K_rf(10)\n",
    "df_filtered_top_k[target] = y\n",
    "df_filtered_top_k.to_csv('movie_top_10_features_random_forest.csv')"
   ]
  },
  {
   "cell_type": "code",
   "execution_count": 29,
   "id": "dffde780",
   "metadata": {},
   "outputs": [],
   "source": [
    "## FORWARD SELECTION\n",
    "from sklearn.linear_model import LinearRegression\n",
    "from sklearn.model_selection import cross_val_score\n",
    "\n",
    "def forward_selection(k):\n",
    "    # Forward selection\n",
    "#     k = 3  # Number of features to select\n",
    "    selected_features = []\n",
    "    remaining_features = list(X.columns)\n",
    "    best_score = -np.inf\n",
    "\n",
    "    for i in range(k):\n",
    "        scores = []\n",
    "        for feature in remaining_features:\n",
    "            candidate_features = selected_features + [feature]\n",
    "            model = LinearRegression()\n",
    "            score = np.mean(cross_val_score(model, X[candidate_features], y, cv=5))\n",
    "            scores.append((score, feature))\n",
    "\n",
    "        max_score, best_feature = max(scores, key=lambda x: x[0])\n",
    "        if max_score > best_score:\n",
    "            best_score = max_score\n",
    "            selected_features.append(best_feature)\n",
    "            remaining_features.remove(best_feature)\n",
    "        else:\n",
    "            break\n",
    "    print(selected_features)\n",
    "    return X[list(selected_features)]\n",
    "\n"
   ]
  },
  {
   "cell_type": "code",
   "execution_count": 31,
   "id": "0570f295",
   "metadata": {},
   "outputs": [
    {
     "name": "stdout",
     "output_type": "stream",
     "text": [
      "['budget_x', 'movie_facebook_likes', 'director', 'producer', 'Drama', 'actor_3_name', 'Animation', 'actor_2_name', 'composer', 'actor_1_name', 'cinematographer', 'Crime', 'main_actor_4', 'Western', 'actor_2_facebook_likes', 'actor_1_facebook_likes']\n"
     ]
    },
    {
     "name": "stderr",
     "output_type": "stream",
     "text": [
      "/var/folders/bh/b3dbk3j96b72qw2kmjf9rqfw0000gn/T/ipykernel_64434/3226607676.py:2: SettingWithCopyWarning: \n",
      "A value is trying to be set on a copy of a slice from a DataFrame.\n",
      "Try using .loc[row_indexer,col_indexer] = value instead\n",
      "\n",
      "See the caveats in the documentation: https://pandas.pydata.org/pandas-docs/stable/user_guide/indexing.html#returning-a-view-versus-a-copy\n",
      "  forward_selection_top_k[target] = y\n"
     ]
    }
   ],
   "source": [
    "forward_selection_top_k = forward_selection(20)\n",
    "forward_selection_top_k[target] = y\n",
    "forward_selection_top_k.to_csv('movie_top_20_features_forward_selection.csv')"
   ]
  },
  {
   "cell_type": "code",
   "execution_count": 8,
   "id": "ffa06839",
   "metadata": {},
   "outputs": [],
   "source": [
    "## PCA feature extraction\n",
    "from sklearn.decomposition import PCA\n",
    "from sklearn.preprocessing import StandardScaler\n",
    "\n",
    "def PCA_topk(k):\n",
    "\n",
    "    scaler = StandardScaler()\n",
    "    X_scaled = scaler.fit_transform(X)\n",
    "    # Apply PCA\n",
    "    pca = PCA(n_components=k)\n",
    "    X_pca = pca.fit_transform(X_scaled)\n",
    "\n",
    "    # Print the explained variance ratio\n",
    "    print(\"Explained variance ratio:\", pca.explained_variance_ratio_)\n",
    "    print(\"Total pca explained variance ratio: \" + str(np.sum(pca.explained_variance_ratio_)))\n",
    "\n",
    "    # Convert the PCA features to a DataFrame\n",
    "    X_pca_df = pd.DataFrame(X_pca, columns=[f'PC{i+1}' for i in range(k)])\n",
    "    print(\"\\nPCA features:\\n\", X_pca_df)\n",
    "    return X_pca_df\n",
    "\n",
    "\n",
    "def select_n_components_pca(X, min_explained_variance=0.95, max_n_components=None):\n",
    "    scaler = StandardScaler()\n",
    "    X_scaled = scaler.fit_transform(X)\n",
    "    \n",
    "    if max_n_components is None:\n",
    "        max_n_components = X_scaled.shape[1]\n",
    "    \n",
    "    for n_components in range(1, max_n_components + 1):\n",
    "        pca = PCA(n_components=n_components)\n",
    "        pca.fit(X_scaled)\n",
    "        explained_variance = np.sum(pca.explained_variance_ratio_)\n",
    "#         print(\"Total pca explained variance ratio: \" + str(explained_variance))\n",
    "        \n",
    "        if explained_variance >= min_explained_variance:\n",
    "            \n",
    "            return n_components\n",
    "    return max_n_components"
   ]
  },
  {
   "cell_type": "code",
   "execution_count": 9,
   "id": "490fc198",
   "metadata": {},
   "outputs": [
    {
     "name": "stdout",
     "output_type": "stream",
     "text": [
      "Best number of n_components: 33\n",
      "\n",
      "\n",
      "Explained variance ratio: [0.09981045 0.08518346 0.06238873 0.05325513 0.03826354 0.03450454\n",
      " 0.03242393 0.03169554 0.03037209 0.02861556 0.02734949 0.02708487\n",
      " 0.026479   0.02617257 0.02516799 0.02468903 0.02430663 0.02365174\n",
      " 0.0224019  0.02078311 0.02007168 0.01981134 0.01947987 0.01837068\n",
      " 0.01697019 0.01645921 0.01637367 0.0154827  0.01467574 0.01276863\n",
      " 0.01266677 0.01162149 0.01129535]\n",
      "Total pca explained variance ratio: 0.950646617294324\n",
      "\n",
      "PCA features:\n",
      "           PC1       PC2       PC3       PC4       PC5       PC6       PC7  \\\n",
      "0    3.418088 -1.270470 -3.042267 -1.937114 -1.526693  1.405934  0.180697   \n",
      "1    5.001858 -0.676549 -0.582073 -1.198566 -0.534209 -0.170420  1.684263   \n",
      "2    9.157315  2.573989  3.438634 -0.778412  0.533007  1.338758 -1.694820   \n",
      "3    2.791529 -1.449460 -3.141223 -1.399874 -1.696261  0.967209 -1.224623   \n",
      "4    4.356266  0.170318 -1.006869 -0.604168 -0.862799 -0.201518  0.966824   \n",
      "..        ...       ...       ...       ...       ...       ...       ...   \n",
      "815 -2.086673 -2.789872  2.350560  0.046823 -0.067604  0.357644  0.195699   \n",
      "816 -1.234247 -3.974674  1.738856  1.021456  2.165363 -0.739148  0.567749   \n",
      "817 -2.149319  3.398257 -0.525505  0.937206  2.194680  2.584295 -0.931219   \n",
      "818 -0.765671  2.133091  2.545601 -1.513338  1.804751  0.661787 -2.926224   \n",
      "819 -0.795788  1.439506  2.158020 -0.121324 -0.775769  0.060350 -0.394319   \n",
      "\n",
      "          PC8       PC9      PC10  ...      PC24      PC25      PC26  \\\n",
      "0    0.299705 -0.186051  0.208914  ...  0.682074  0.391417  0.077591   \n",
      "1   -0.467007  1.131274 -1.042929  ...  1.927628  0.685313  1.294344   \n",
      "2    2.272296 -1.469559  1.634480  ... -0.727453  0.736128 -2.105748   \n",
      "3    0.166658 -1.070757 -1.036836  ...  1.438208 -0.094633  0.586929   \n",
      "4    0.555606  1.187122  0.325932  ...  1.952602 -1.545049  0.698762   \n",
      "..        ...       ...       ...  ...       ...       ...       ...   \n",
      "815  0.209706 -0.424459  0.521260  ... -0.027136 -0.510408  0.863507   \n",
      "816 -0.718096  0.003679  2.183381  ... -1.223729  0.012629  0.339872   \n",
      "817  2.088658 -1.935828 -0.263397  ...  0.451928  0.181141 -0.805962   \n",
      "818  0.664925 -0.030618  1.705164  ...  0.519056 -1.440836 -0.095193   \n",
      "819  0.623855  0.651906 -0.656620  ... -0.876940 -0.918121  0.957309   \n",
      "\n",
      "         PC27      PC28      PC29      PC30      PC31      PC32      PC33  \n",
      "0    0.492566  0.620902 -0.956403 -0.291367  0.582798 -0.609161 -0.006300  \n",
      "1   -0.230062 -0.460342 -0.746213  0.532026  0.473452  0.180840 -0.529253  \n",
      "2   -0.032717 -0.020983  1.607065 -0.644235 -2.261460  0.935003  0.098208  \n",
      "3    0.633662  0.186801 -0.228401 -0.248727  0.019711 -0.800029 -0.042613  \n",
      "4    0.700517  1.224076 -0.432501 -1.315646 -0.127389 -0.797939  0.142863  \n",
      "..        ...       ...       ...       ...       ...       ...       ...  \n",
      "815  1.745993  0.172575 -0.051663 -0.778999  1.101185  1.251140  1.734341  \n",
      "816 -1.189712  0.402221  0.316946  0.453678 -0.957228  0.379280  0.382182  \n",
      "817  0.702573 -1.639804 -0.634091  0.719136 -0.206652 -0.388489  0.055451  \n",
      "818  0.762197 -1.236094  1.378731  2.511305  0.063730 -1.021287  0.802158  \n",
      "819 -0.811696  0.169341 -0.804835  1.081121  0.736124  0.752850  0.903559  \n",
      "\n",
      "[820 rows x 33 columns]\n"
     ]
    }
   ],
   "source": [
    "print(\"Best number of n_components: \" + str(select_n_components_pca(X)) + \"\\n\\n\")\n",
    "\n",
    "X_pca_df = PCA_topk(33)\n",
    "\n",
    "X_pca_df.to_csv(\"movie_33_features_PCA.csv\")"
   ]
  },
  {
   "cell_type": "code",
   "execution_count": 21,
   "id": "db88ab09",
   "metadata": {},
   "outputs": [
    {
     "data": {
      "text/plain": [
       "1648"
      ]
     },
     "execution_count": 21,
     "metadata": {},
     "output_type": "execute_result"
    }
   ],
   "source": [
    "len(df_filtered_top_k)"
   ]
  },
  {
   "cell_type": "code",
   "execution_count": 23,
   "id": "64ed59ce-262d-4ad0-b108-e3f2b9069a5f",
   "metadata": {},
   "outputs": [
    {
     "data": {
      "text/plain": [
       "Index(['budget_x', 'movie_facebook_likes', 'director', 'producer', 'duration',\n",
       "       'composer', 'cinematographer', 'actor_1_name',\n",
       "       'director_facebook_likes', 'actor_2_facebook_likes',\n",
       "       'cast_total_facebook_likes', 'writer', 'actor_3_facebook_likes',\n",
       "       'actor_2_name', 'actor_1_facebook_likes', 'main_actor_4',\n",
       "       'actor_3_name', 'Horror', 'Mystery', 'Biography', 'worldwide'],\n",
       "      dtype='object')"
      ]
     },
     "execution_count": 23,
     "metadata": {},
     "output_type": "execute_result"
    }
   ],
   "source": [
    "df_filtered_top_k.keys()"
   ]
  },
  {
   "cell_type": "code",
   "execution_count": null,
   "id": "795ff5b3-dcdb-4473-8af4-09f9a54bfa86",
   "metadata": {},
   "outputs": [],
   "source": []
  }
 ],
 "metadata": {
  "kernelspec": {
   "display_name": "Python 3 (ipykernel)",
   "language": "python",
   "name": "python3"
  },
  "language_info": {
   "codemirror_mode": {
    "name": "ipython",
    "version": 3
   },
   "file_extension": ".py",
   "mimetype": "text/x-python",
   "name": "python",
   "nbconvert_exporter": "python",
   "pygments_lexer": "ipython3",
   "version": "3.9.15"
  }
 },
 "nbformat": 4,
 "nbformat_minor": 5
}
